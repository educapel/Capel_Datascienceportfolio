{
  "cells": [
    {
      "cell_type": "markdown",
      "metadata": {
        "id": "DjwSCEnHiSkX"
      },
      "source": [
        "The malware industry remains a well-organized and well-funded market dedicated to circumventing traditional security measures. Once a computer is infected with malware, criminals can harm consumers and businesses in many ways. For this reason, this problem becomes a Data science problem, where the objective is to predict if the computers are going to get infected or not, thus saving the company a cost that is not exclusively monetary and that can reach much more. In this way, as Data Science Juniors we find ourselves with a Classification problem (Supervised Learning), where our target is going to be the variable 'HasDetections'.\n",
        "\n",
        "In order to maintain explainability throughout the project, a Decision Tree has been used, where through the variables used in the dataset, it performs a weighting of the entropy reduction (metric used in this case) with the obtaining of the maximum number of observations. In this case, the variable Census_TotalPhysicalRAM separates the data set between 11% and 89%, while slightly reducing entropy, as a result of maximizing the information gain(IG).\n",
        "\n",
        "It should be noted when interpreting the results of our model that the target is distributed in a 50/50 proportion, so when interpreting the average result of hits, it must be taken into account since a result close to 50%, would be showing us that our model does not predict well.\n",
        "\n",
        "\n",
        "The data corresponds to the Microsoft Malware Prediction Kaggle competition, although in this case the train set has been used to carry out the project. Due to this and the amount of data, it has been decided to carry out a K_fold instead of dividing the dataset.\n"
      ]
    },
    {
      "cell_type": "markdown",
      "metadata": {
        "id": "EWkin5NsEgs-"
      },
      "source": [
        "#Importing"
      ]
    },
    {
      "cell_type": "code",
      "execution_count": null,
      "metadata": {
        "id": "F0PY25sC76Le"
      },
      "outputs": [],
      "source": [
        "import pandas as pd\n",
        "import numpy as np\n",
        "\n",
        "import matplotlib.pyplot as plt\n",
        "import seaborn as sns\n",
        "\n",
        "\n",
        "import missingno as msno\n",
        "\n",
        "from sklearn.pipeline import Pipeline\n",
        "from sklearn.impute import SimpleImputer\n",
        "from sklearn.preprocessing import OneHotEncoder\n",
        "from sklearn.compose import ColumnTransformer\n",
        "from sklearn.tree import DecisionTreeClassifier\n",
        "from sklearn.ensemble import RandomForestClassifier\n",
        "\n",
        "\n",
        "\n",
        "from sklearn import model_selection\n",
        "from sklearn import metrics\n",
        "from sklearn.model_selection import train_test_split, KFold\n",
        "\n",
        "from sklearn.tree import export_graphviz\n",
        "from sklearn.metrics import accuracy_score\n",
        "import graphviz"
      ]
    },
    {
      "cell_type": "code",
      "execution_count": null,
      "metadata": {
        "colab": {
          "base_uri": "https://localhost:8080/"
        },
        "id": "j9nULeFp6rxS",
        "outputId": "d0b872f8-fa47-4fd4-8685-8e83c8ac517b"
      },
      "outputs": [
        {
          "output_type": "stream",
          "name": "stdout",
          "text": [
            "Drive already mounted at /content/drive; to attempt to forcibly remount, call drive.mount(\"/content/drive\", force_remount=True).\n"
          ]
        }
      ],
      "source": [
        "from google.colab import drive\n",
        "drive.mount('/content/drive')"
      ]
    },
    {
      "cell_type": "code",
      "execution_count": null,
      "metadata": {
        "id": "NwCpHb6a7y4-",
        "colab": {
          "base_uri": "https://localhost:8080/"
        },
        "outputId": "3339c895-25a8-48fd-ec5f-5887d15776ef"
      },
      "outputs": [
        {
          "output_type": "stream",
          "name": "stderr",
          "text": [
            "/usr/local/lib/python3.8/dist-packages/IPython/core/interactiveshell.py:3326: DtypeWarning: Columns (29,42) have mixed types.Specify dtype option on import or set low_memory=False.\n",
            "  exec(code_obj, self.user_global_ns, self.user_ns)\n"
          ]
        }
      ],
      "source": [
        "\n",
        "df = pd.read_csv('/content/drive/MyDrive/Machine learning/Malware prediction/sample_mmp.csv')"
      ]
    },
    {
      "cell_type": "code",
      "execution_count": null,
      "metadata": {
        "id": "q-cExoPPJ6rf"
      },
      "outputs": [],
      "source": [
        " #!pip install -U scikit-learn "
      ]
    },
    {
      "cell_type": "markdown",
      "metadata": {
        "id": "VspOi9sn8J2l"
      },
      "source": [
        "#1. Data understanding"
      ]
    },
    {
      "cell_type": "markdown",
      "metadata": {
        "id": "09dQsYzn8CNe"
      },
      "source": [
        "### 1.1 Data size"
      ]
    },
    {
      "cell_type": "code",
      "execution_count": null,
      "metadata": {
        "colab": {
          "base_uri": "https://localhost:8080/"
        },
        "id": "AyEkR1FI8T76",
        "outputId": "31a54e1c-8190-451b-9d87-d8bbb2e53ddd"
      },
      "outputs": [
        {
          "output_type": "stream",
          "name": "stdout",
          "text": [
            "<class 'pandas.core.frame.DataFrame'>\n",
            "RangeIndex: 500000 entries, 0 to 499999\n",
            "Columns: 84 entries, Unnamed: 0 to HasDetections\n",
            "dtypes: float64(36), int64(18), object(30)\n",
            "memory usage: 320.4+ MB\n"
          ]
        }
      ],
      "source": [
        "df.info(verbose = False)"
      ]
    },
    {
      "cell_type": "markdown",
      "metadata": {
        "id": "yikjqr6f8izL"
      },
      "source": [
        "In this dataframe it can be seen that it is made up of 500,000 rows, with 84 columns where 54 are variables containing numerical data and 30 are variables with categorical data type."
      ]
    },
    {
      "cell_type": "markdown",
      "metadata": {
        "id": "tMaoexOV9G5A"
      },
      "source": [
        "### 1.2 Visualizacion directa de los datos"
      ]
    },
    {
      "cell_type": "code",
      "execution_count": null,
      "metadata": {
        "colab": {
          "base_uri": "https://localhost:8080/"
        },
        "id": "3ubPEz039i82",
        "outputId": "6af6a990-7d4c-4bc8-91cb-e6302f8a235c"
      },
      "outputs": [
        {
          "output_type": "execute_result",
          "data": {
            "text/plain": [
              "Index(['Unnamed: 0', 'MachineIdentifier', 'ProductName', 'EngineVersion',\n",
              "       'AppVersion', 'AvSigVersion', 'IsBeta', 'RtpStateBitfield',\n",
              "       'IsSxsPassiveMode', 'DefaultBrowsersIdentifier',\n",
              "       'AVProductStatesIdentifier', 'AVProductsInstalled', 'AVProductsEnabled',\n",
              "       'HasTpm', 'CountryIdentifier', 'CityIdentifier',\n",
              "       'OrganizationIdentifier', 'GeoNameIdentifier',\n",
              "       'LocaleEnglishNameIdentifier', 'Platform', 'Processor', 'OsVer',\n",
              "       'OsBuild', 'OsSuite', 'OsPlatformSubRelease', 'OsBuildLab',\n",
              "       'SkuEdition', 'IsProtected', 'AutoSampleOptIn', 'PuaMode', 'SMode',\n",
              "       'IeVerIdentifier', 'SmartScreen', 'Firewall', 'UacLuaenable',\n",
              "       'Census_MDC2FormFactor', 'Census_DeviceFamily',\n",
              "       'Census_OEMNameIdentifier', 'Census_OEMModelIdentifier',\n",
              "       'Census_ProcessorCoreCount', 'Census_ProcessorManufacturerIdentifier',\n",
              "       'Census_ProcessorModelIdentifier', 'Census_ProcessorClass',\n",
              "       'Census_PrimaryDiskTotalCapacity', 'Census_PrimaryDiskTypeName',\n",
              "       'Census_SystemVolumeTotalCapacity', 'Census_HasOpticalDiskDrive',\n",
              "       'Census_TotalPhysicalRAM', 'Census_ChassisTypeName',\n",
              "       'Census_InternalPrimaryDiagonalDisplaySizeInInches',\n",
              "       'Census_InternalPrimaryDisplayResolutionHorizontal',\n",
              "       'Census_InternalPrimaryDisplayResolutionVertical',\n",
              "       'Census_PowerPlatformRoleName', 'Census_InternalBatteryType',\n",
              "       'Census_InternalBatteryNumberOfCharges', 'Census_OSVersion',\n",
              "       'Census_OSArchitecture', 'Census_OSBranch', 'Census_OSBuildNumber',\n",
              "       'Census_OSBuildRevision', 'Census_OSEdition', 'Census_OSSkuName',\n",
              "       'Census_OSInstallTypeName', 'Census_OSInstallLanguageIdentifier',\n",
              "       'Census_OSUILocaleIdentifier', 'Census_OSWUAutoUpdateOptionsName',\n",
              "       'Census_IsPortableOperatingSystem', 'Census_GenuineStateName',\n",
              "       'Census_ActivationChannel', 'Census_IsFlightingInternal',\n",
              "       'Census_IsFlightsDisabled', 'Census_FlightRing',\n",
              "       'Census_ThresholdOptIn', 'Census_FirmwareManufacturerIdentifier',\n",
              "       'Census_FirmwareVersionIdentifier', 'Census_IsSecureBootEnabled',\n",
              "       'Census_IsWIMBootEnabled', 'Census_IsVirtualDevice',\n",
              "       'Census_IsTouchEnabled', 'Census_IsPenCapable',\n",
              "       'Census_IsAlwaysOnAlwaysConnectedCapable', 'Wdft_IsGamer',\n",
              "       'Wdft_RegionIdentifier', 'HasDetections'],\n",
              "      dtype='object')"
            ]
          },
          "metadata": {},
          "execution_count": 11
        }
      ],
      "source": [
        "df.columns"
      ]
    },
    {
      "cell_type": "code",
      "execution_count": null,
      "metadata": {
        "colab": {
          "base_uri": "https://localhost:8080/"
        },
        "id": "NTAENpUJ9qsv",
        "outputId": "26d70099-f341-4e69-b4b6-e4c72872a5d6"
      },
      "outputs": [
        {
          "output_type": "execute_result",
          "data": {
            "text/plain": [
              "                                                                        0  \\\n",
              "Unnamed: 0                                                        8427007   \n",
              "MachineIdentifier                        f1cd864e97bae82bdf96523e1a539121   \n",
              "ProductName                                                  win8defender   \n",
              "EngineVersion                                                 1.1.15100.1   \n",
              "AppVersion                                                4.18.1807.18075   \n",
              "...                                                                   ...   \n",
              "Census_IsPenCapable                                                     0   \n",
              "Census_IsAlwaysOnAlwaysConnectedCapable                               0.0   \n",
              "Wdft_IsGamer                                                          0.0   \n",
              "Wdft_RegionIdentifier                                                11.0   \n",
              "HasDetections                                                           1   \n",
              "\n",
              "                                                                        1  \\\n",
              "Unnamed: 0                                                        8829090   \n",
              "MachineIdentifier                        fd5ba6f5b75325ec0423a6c67cc75942   \n",
              "ProductName                                                  win8defender   \n",
              "EngineVersion                                                 1.1.15100.1   \n",
              "AppVersion                                                4.18.1807.18075   \n",
              "...                                                                   ...   \n",
              "Census_IsPenCapable                                                     0   \n",
              "Census_IsAlwaysOnAlwaysConnectedCapable                               0.0   \n",
              "Wdft_IsGamer                                                          1.0   \n",
              "Wdft_RegionIdentifier                                                 3.0   \n",
              "HasDetections                                                           0   \n",
              "\n",
              "                                                                        2  \\\n",
              "Unnamed: 0                                                        2731904   \n",
              "MachineIdentifier                        4e628391e7cc7c482fb3286f486dbd25   \n",
              "ProductName                                                  win8defender   \n",
              "EngineVersion                                                 1.1.15100.1   \n",
              "AppVersion                                                 4.9.10586.1106   \n",
              "...                                                                   ...   \n",
              "Census_IsPenCapable                                                     1   \n",
              "Census_IsAlwaysOnAlwaysConnectedCapable                               0.0   \n",
              "Wdft_IsGamer                                                          0.0   \n",
              "Wdft_RegionIdentifier                                                15.0   \n",
              "HasDetections                                                           0   \n",
              "\n",
              "                                                                        3  \\\n",
              "Unnamed: 0                                                        1359513   \n",
              "MachineIdentifier                        270a2e9d028144a4df12a9e3da79fba5   \n",
              "ProductName                                                  win8defender   \n",
              "EngineVersion                                                 1.1.15200.1   \n",
              "AppVersion                                                4.18.1807.18075   \n",
              "...                                                                   ...   \n",
              "Census_IsPenCapable                                                     0   \n",
              "Census_IsAlwaysOnAlwaysConnectedCapable                               0.0   \n",
              "Wdft_IsGamer                                                          0.0   \n",
              "Wdft_RegionIdentifier                                                15.0   \n",
              "HasDetections                                                           1   \n",
              "\n",
              "                                                                        4  \n",
              "Unnamed: 0                                                         236059  \n",
              "MachineIdentifier                        06ca8fa8d32c2abdc5b3577d676b3269  \n",
              "ProductName                                                  win8defender  \n",
              "EngineVersion                                                 1.1.15200.1  \n",
              "AppVersion                                                4.18.1807.18075  \n",
              "...                                                                   ...  \n",
              "Census_IsPenCapable                                                     0  \n",
              "Census_IsAlwaysOnAlwaysConnectedCapable                               0.0  \n",
              "Wdft_IsGamer                                                          1.0  \n",
              "Wdft_RegionIdentifier                                                13.0  \n",
              "HasDetections                                                           1  \n",
              "\n",
              "[84 rows x 5 columns]"
            ],
            "text/html": [
              "\n",
              "  <div id=\"df-10673ed2-a43d-42c0-bbc6-55e1bd6e2b31\">\n",
              "    <div class=\"colab-df-container\">\n",
              "      <div>\n",
              "<style scoped>\n",
              "    .dataframe tbody tr th:only-of-type {\n",
              "        vertical-align: middle;\n",
              "    }\n",
              "\n",
              "    .dataframe tbody tr th {\n",
              "        vertical-align: top;\n",
              "    }\n",
              "\n",
              "    .dataframe thead th {\n",
              "        text-align: right;\n",
              "    }\n",
              "</style>\n",
              "<table border=\"1\" class=\"dataframe\">\n",
              "  <thead>\n",
              "    <tr style=\"text-align: right;\">\n",
              "      <th></th>\n",
              "      <th>0</th>\n",
              "      <th>1</th>\n",
              "      <th>2</th>\n",
              "      <th>3</th>\n",
              "      <th>4</th>\n",
              "    </tr>\n",
              "  </thead>\n",
              "  <tbody>\n",
              "    <tr>\n",
              "      <th>Unnamed: 0</th>\n",
              "      <td>8427007</td>\n",
              "      <td>8829090</td>\n",
              "      <td>2731904</td>\n",
              "      <td>1359513</td>\n",
              "      <td>236059</td>\n",
              "    </tr>\n",
              "    <tr>\n",
              "      <th>MachineIdentifier</th>\n",
              "      <td>f1cd864e97bae82bdf96523e1a539121</td>\n",
              "      <td>fd5ba6f5b75325ec0423a6c67cc75942</td>\n",
              "      <td>4e628391e7cc7c482fb3286f486dbd25</td>\n",
              "      <td>270a2e9d028144a4df12a9e3da79fba5</td>\n",
              "      <td>06ca8fa8d32c2abdc5b3577d676b3269</td>\n",
              "    </tr>\n",
              "    <tr>\n",
              "      <th>ProductName</th>\n",
              "      <td>win8defender</td>\n",
              "      <td>win8defender</td>\n",
              "      <td>win8defender</td>\n",
              "      <td>win8defender</td>\n",
              "      <td>win8defender</td>\n",
              "    </tr>\n",
              "    <tr>\n",
              "      <th>EngineVersion</th>\n",
              "      <td>1.1.15100.1</td>\n",
              "      <td>1.1.15100.1</td>\n",
              "      <td>1.1.15100.1</td>\n",
              "      <td>1.1.15200.1</td>\n",
              "      <td>1.1.15200.1</td>\n",
              "    </tr>\n",
              "    <tr>\n",
              "      <th>AppVersion</th>\n",
              "      <td>4.18.1807.18075</td>\n",
              "      <td>4.18.1807.18075</td>\n",
              "      <td>4.9.10586.1106</td>\n",
              "      <td>4.18.1807.18075</td>\n",
              "      <td>4.18.1807.18075</td>\n",
              "    </tr>\n",
              "    <tr>\n",
              "      <th>...</th>\n",
              "      <td>...</td>\n",
              "      <td>...</td>\n",
              "      <td>...</td>\n",
              "      <td>...</td>\n",
              "      <td>...</td>\n",
              "    </tr>\n",
              "    <tr>\n",
              "      <th>Census_IsPenCapable</th>\n",
              "      <td>0</td>\n",
              "      <td>0</td>\n",
              "      <td>1</td>\n",
              "      <td>0</td>\n",
              "      <td>0</td>\n",
              "    </tr>\n",
              "    <tr>\n",
              "      <th>Census_IsAlwaysOnAlwaysConnectedCapable</th>\n",
              "      <td>0.0</td>\n",
              "      <td>0.0</td>\n",
              "      <td>0.0</td>\n",
              "      <td>0.0</td>\n",
              "      <td>0.0</td>\n",
              "    </tr>\n",
              "    <tr>\n",
              "      <th>Wdft_IsGamer</th>\n",
              "      <td>0.0</td>\n",
              "      <td>1.0</td>\n",
              "      <td>0.0</td>\n",
              "      <td>0.0</td>\n",
              "      <td>1.0</td>\n",
              "    </tr>\n",
              "    <tr>\n",
              "      <th>Wdft_RegionIdentifier</th>\n",
              "      <td>11.0</td>\n",
              "      <td>3.0</td>\n",
              "      <td>15.0</td>\n",
              "      <td>15.0</td>\n",
              "      <td>13.0</td>\n",
              "    </tr>\n",
              "    <tr>\n",
              "      <th>HasDetections</th>\n",
              "      <td>1</td>\n",
              "      <td>0</td>\n",
              "      <td>0</td>\n",
              "      <td>1</td>\n",
              "      <td>1</td>\n",
              "    </tr>\n",
              "  </tbody>\n",
              "</table>\n",
              "<p>84 rows × 5 columns</p>\n",
              "</div>\n",
              "      <button class=\"colab-df-convert\" onclick=\"convertToInteractive('df-10673ed2-a43d-42c0-bbc6-55e1bd6e2b31')\"\n",
              "              title=\"Convert this dataframe to an interactive table.\"\n",
              "              style=\"display:none;\">\n",
              "        \n",
              "  <svg xmlns=\"http://www.w3.org/2000/svg\" height=\"24px\"viewBox=\"0 0 24 24\"\n",
              "       width=\"24px\">\n",
              "    <path d=\"M0 0h24v24H0V0z\" fill=\"none\"/>\n",
              "    <path d=\"M18.56 5.44l.94 2.06.94-2.06 2.06-.94-2.06-.94-.94-2.06-.94 2.06-2.06.94zm-11 1L8.5 8.5l.94-2.06 2.06-.94-2.06-.94L8.5 2.5l-.94 2.06-2.06.94zm10 10l.94 2.06.94-2.06 2.06-.94-2.06-.94-.94-2.06-.94 2.06-2.06.94z\"/><path d=\"M17.41 7.96l-1.37-1.37c-.4-.4-.92-.59-1.43-.59-.52 0-1.04.2-1.43.59L10.3 9.45l-7.72 7.72c-.78.78-.78 2.05 0 2.83L4 21.41c.39.39.9.59 1.41.59.51 0 1.02-.2 1.41-.59l7.78-7.78 2.81-2.81c.8-.78.8-2.07 0-2.86zM5.41 20L4 18.59l7.72-7.72 1.47 1.35L5.41 20z\"/>\n",
              "  </svg>\n",
              "      </button>\n",
              "      \n",
              "  <style>\n",
              "    .colab-df-container {\n",
              "      display:flex;\n",
              "      flex-wrap:wrap;\n",
              "      gap: 12px;\n",
              "    }\n",
              "\n",
              "    .colab-df-convert {\n",
              "      background-color: #E8F0FE;\n",
              "      border: none;\n",
              "      border-radius: 50%;\n",
              "      cursor: pointer;\n",
              "      display: none;\n",
              "      fill: #1967D2;\n",
              "      height: 32px;\n",
              "      padding: 0 0 0 0;\n",
              "      width: 32px;\n",
              "    }\n",
              "\n",
              "    .colab-df-convert:hover {\n",
              "      background-color: #E2EBFA;\n",
              "      box-shadow: 0px 1px 2px rgba(60, 64, 67, 0.3), 0px 1px 3px 1px rgba(60, 64, 67, 0.15);\n",
              "      fill: #174EA6;\n",
              "    }\n",
              "\n",
              "    [theme=dark] .colab-df-convert {\n",
              "      background-color: #3B4455;\n",
              "      fill: #D2E3FC;\n",
              "    }\n",
              "\n",
              "    [theme=dark] .colab-df-convert:hover {\n",
              "      background-color: #434B5C;\n",
              "      box-shadow: 0px 1px 3px 1px rgba(0, 0, 0, 0.15);\n",
              "      filter: drop-shadow(0px 1px 2px rgba(0, 0, 0, 0.3));\n",
              "      fill: #FFFFFF;\n",
              "    }\n",
              "  </style>\n",
              "\n",
              "      <script>\n",
              "        const buttonEl =\n",
              "          document.querySelector('#df-10673ed2-a43d-42c0-bbc6-55e1bd6e2b31 button.colab-df-convert');\n",
              "        buttonEl.style.display =\n",
              "          google.colab.kernel.accessAllowed ? 'block' : 'none';\n",
              "\n",
              "        async function convertToInteractive(key) {\n",
              "          const element = document.querySelector('#df-10673ed2-a43d-42c0-bbc6-55e1bd6e2b31');\n",
              "          const dataTable =\n",
              "            await google.colab.kernel.invokeFunction('convertToInteractive',\n",
              "                                                     [key], {});\n",
              "          if (!dataTable) return;\n",
              "\n",
              "          const docLinkHtml = 'Like what you see? Visit the ' +\n",
              "            '<a target=\"_blank\" href=https://colab.research.google.com/notebooks/data_table.ipynb>data table notebook</a>'\n",
              "            + ' to learn more about interactive tables.';\n",
              "          element.innerHTML = '';\n",
              "          dataTable['output_type'] = 'display_data';\n",
              "          await google.colab.output.renderOutput(dataTable, element);\n",
              "          const docLink = document.createElement('div');\n",
              "          docLink.innerHTML = docLinkHtml;\n",
              "          element.appendChild(docLink);\n",
              "        }\n",
              "      </script>\n",
              "    </div>\n",
              "  </div>\n",
              "  "
            ]
          },
          "metadata": {},
          "execution_count": 12
        }
      ],
      "source": [
        "df.head().T"
      ]
    },
    {
      "cell_type": "markdown",
      "metadata": {
        "id": "dhZCIz8798UI"
      },
      "source": [
        "### 1.3 Visualizacion de los atributos y estadisticos descriptivos basicos"
      ]
    },
    {
      "cell_type": "code",
      "execution_count": null,
      "metadata": {
        "colab": {
          "base_uri": "https://localhost:8080/"
        },
        "id": "Pux8zCFObQZg",
        "outputId": "71c8183e-1a1e-40bf-963d-47ae176d3821"
      },
      "outputs": [
        {
          "output_type": "stream",
          "name": "stdout",
          "text": [
            "<class 'pandas.core.frame.DataFrame'>\n",
            "RangeIndex: 500000 entries, 0 to 499999\n",
            "Data columns (total 30 columns):\n",
            " #   Column                            Non-Null Count   Dtype \n",
            "---  ------                            --------------   ----- \n",
            " 0   MachineIdentifier                 500000 non-null  object\n",
            " 1   ProductName                       500000 non-null  object\n",
            " 2   EngineVersion                     500000 non-null  object\n",
            " 3   AppVersion                        500000 non-null  object\n",
            " 4   AvSigVersion                      500000 non-null  object\n",
            " 5   Platform                          500000 non-null  object\n",
            " 6   Processor                         500000 non-null  object\n",
            " 7   OsVer                             500000 non-null  object\n",
            " 8   OsPlatformSubRelease              500000 non-null  object\n",
            " 9   OsBuildLab                        499999 non-null  object\n",
            " 10  SkuEdition                        500000 non-null  object\n",
            " 11  PuaMode                           126 non-null     object\n",
            " 12  SmartScreen                       321404 non-null  object\n",
            " 13  Census_MDC2FormFactor             500000 non-null  object\n",
            " 14  Census_DeviceFamily               500000 non-null  object\n",
            " 15  Census_ProcessorClass             2082 non-null    object\n",
            " 16  Census_PrimaryDiskTypeName        499291 non-null  object\n",
            " 17  Census_ChassisTypeName            499963 non-null  object\n",
            " 18  Census_PowerPlatformRoleName      499998 non-null  object\n",
            " 19  Census_InternalBatteryType        144397 non-null  object\n",
            " 20  Census_OSVersion                  500000 non-null  object\n",
            " 21  Census_OSArchitecture             500000 non-null  object\n",
            " 22  Census_OSBranch                   500000 non-null  object\n",
            " 23  Census_OSEdition                  500000 non-null  object\n",
            " 24  Census_OSSkuName                  500000 non-null  object\n",
            " 25  Census_OSInstallTypeName          500000 non-null  object\n",
            " 26  Census_OSWUAutoUpdateOptionsName  500000 non-null  object\n",
            " 27  Census_GenuineStateName           500000 non-null  object\n",
            " 28  Census_ActivationChannel          500000 non-null  object\n",
            " 29  Census_FlightRing                 500000 non-null  object\n",
            "dtypes: object(30)\n",
            "memory usage: 114.4+ MB\n"
          ]
        }
      ],
      "source": [
        "df.select_dtypes(exclude= np.number).info()"
      ]
    },
    {
      "cell_type": "markdown",
      "metadata": {
        "id": "GPxF3FVdbfgg"
      },
      "source": [
        "With a first glance it can be seen that some categorical columns contain nulls. These will be dealt with later depending on the quantity and its distribution."
      ]
    },
    {
      "cell_type": "code",
      "execution_count": null,
      "metadata": {
        "colab": {
          "base_uri": "https://localhost:8080/"
        },
        "id": "tEvZTyzP9_Rg",
        "outputId": "6b13bdd1-3139-40c1-aa85-7359391c3671"
      },
      "outputs": [
        {
          "output_type": "execute_result",
          "data": {
            "text/plain": [
              "                                                      count          mean  \\\n",
              "Unnamed: 0                                         500000.0  4.458888e+06   \n",
              "IsBeta                                             500000.0  2.000000e-06   \n",
              "RtpStateBitfield                                   498168.0  6.846207e+00   \n",
              "IsSxsPassiveMode                                   500000.0  1.724200e-02   \n",
              "DefaultBrowsersIdentifier                           24061.0  1.652825e+03   \n",
              "AVProductStatesIdentifier                          498062.0  4.785091e+04   \n",
              "AVProductsInstalled                                498062.0  1.326763e+00   \n",
              "AVProductsEnabled                                  498062.0  1.020714e+00   \n",
              "HasTpm                                             500000.0  9.878160e-01   \n",
              "CountryIdentifier                                  500000.0  1.080375e+02   \n",
              "CityIdentifier                                     481760.0  8.127165e+04   \n",
              "OrganizationIdentifier                             345437.0  2.486994e+01   \n",
              "GeoNameIdentifier                                  499984.0  1.697304e+02   \n",
              "LocaleEnglishNameIdentifier                        500000.0  1.226110e+02   \n",
              "OsBuild                                            500000.0  1.572693e+04   \n",
              "OsSuite                                            500000.0  5.747186e+02   \n",
              "IsProtected                                        498074.0  9.457892e-01   \n",
              "AutoSampleOptIn                                    500000.0  2.800000e-05   \n",
              "SMode                                              470152.0  4.381562e-04   \n",
              "IeVerIdentifier                                    496791.0  1.266626e+02   \n",
              "Firewall                                           494838.0  9.782414e-01   \n",
              "UacLuaenable                                       499377.0  1.372503e+01   \n",
              "Census_OEMNameIdentifier                           494619.0  2.218646e+03   \n",
              "Census_OEMModelIdentifier                          494236.0  2.391280e+05   \n",
              "Census_ProcessorCoreCount                          497653.0  3.994074e+00   \n",
              "Census_ProcessorManufacturerIdentifier             497653.0  4.529069e+00   \n",
              "Census_ProcessorModelIdentifier                    497651.0  2.370987e+03   \n",
              "Census_PrimaryDiskTotalCapacity                    497024.0  5.140433e+05   \n",
              "Census_SystemVolumeTotalCapacity                   497024.0  3.780546e+05   \n",
              "Census_HasOpticalDiskDrive                         500000.0  7.703400e-02   \n",
              "Census_TotalPhysicalRAM                            495444.0  6.129232e+03   \n",
              "Census_InternalPrimaryDiagonalDisplaySizeInInches  497346.0  1.668984e+01   \n",
              "Census_InternalPrimaryDisplayResolutionHorizontal  497350.0  1.548304e+03   \n",
              "Census_InternalPrimaryDisplayResolutionVertical    497350.0  8.982393e+02   \n",
              "Census_InternalBatteryNumberOfCharges              484962.0  1.125600e+09   \n",
              "Census_OSBuildNumber                               500000.0  1.584137e+04   \n",
              "Census_OSBuildRevision                             500000.0  9.672248e+02   \n",
              "Census_OSInstallLanguageIdentifier                 496668.0  1.460551e+01   \n",
              "Census_OSUILocaleIdentifier                        500000.0  6.044631e+01   \n",
              "Census_IsPortableOperatingSystem                   500000.0  5.220000e-04   \n",
              "Census_IsFlightingInternal                          84775.0  2.359186e-05   \n",
              "Census_IsFlightsDisabled                           491067.0  1.425467e-05   \n",
              "Census_ThresholdOptIn                              181896.0  2.583894e-04   \n",
              "Census_FirmwareManufacturerIdentifier              489651.0  4.026759e+02   \n",
              "Census_FirmwareVersionIdentifier                   490939.0  3.303099e+04   \n",
              "Census_IsSecureBootEnabled                         500000.0  4.854380e-01   \n",
              "Census_IsWIMBootEnabled                            182334.0  0.000000e+00   \n",
              "Census_IsVirtualDevice                             499099.0  7.066734e-03   \n",
              "Census_IsTouchEnabled                              500000.0  1.254340e-01   \n",
              "Census_IsPenCapable                                500000.0  3.774400e-02   \n",
              "Census_IsAlwaysOnAlwaysConnectedCapable            495960.0  5.724454e-02   \n",
              "Wdft_IsGamer                                       483050.0  2.840596e-01   \n",
              "Wdft_RegionIdentifier                              483050.0  7.888577e+00   \n",
              "HasDetections                                      500000.0  4.999060e-01   \n",
              "\n",
              "                                                            std      min  \\\n",
              "Unnamed: 0                                         2.575619e+06      2.0   \n",
              "IsBeta                                             1.414214e-03      0.0   \n",
              "RtpStateBitfield                                   1.023049e+00      0.0   \n",
              "IsSxsPassiveMode                                   1.301720e-01      0.0   \n",
              "DefaultBrowsersIdentifier                          1.004754e+03      1.0   \n",
              "AVProductStatesIdentifier                          1.402309e+04      3.0   \n",
              "AVProductsInstalled                                5.229999e-01      1.0   \n",
              "AVProductsEnabled                                  1.666080e-01      0.0   \n",
              "HasTpm                                             1.097068e-01      0.0   \n",
              "CountryIdentifier                                  6.306854e+01      1.0   \n",
              "CityIdentifier                                     4.898513e+04      7.0   \n",
              "OrganizationIdentifier                             5.613712e+00      1.0   \n",
              "GeoNameIdentifier                                  8.932517e+01      1.0   \n",
              "LocaleEnglishNameIdentifier                        6.930317e+01      1.0   \n",
              "OsBuild                                            2.188646e+03   7600.0   \n",
              "OsSuite                                            2.482033e+02     16.0   \n",
              "IsProtected                                        2.264335e-01      0.0   \n",
              "AutoSampleOptIn                                    5.291434e-03      0.0   \n",
              "SMode                                              2.092762e-02      0.0   \n",
              "IeVerIdentifier                                    4.263489e+01      8.0   \n",
              "Firewall                                           1.458946e-01      0.0   \n",
              "UacLuaenable                                       8.995848e+03      0.0   \n",
              "Census_OEMNameIdentifier                           1.315710e+03     54.0   \n",
              "Census_OEMModelIdentifier                          7.204888e+04      1.0   \n",
              "Census_ProcessorCoreCount                          2.071281e+00      1.0   \n",
              "Census_ProcessorManufacturerIdentifier             1.289635e+00      1.0   \n",
              "Census_ProcessorModelIdentifier                    8.421367e+02      3.0   \n",
              "Census_PrimaryDiskTotalCapacity                    3.704468e+05  10240.0   \n",
              "Census_SystemVolumeTotalCapacity                   3.384722e+05   9689.0   \n",
              "Census_HasOpticalDiskDrive                         2.666457e-01      0.0   \n",
              "Census_TotalPhysicalRAM                            4.964521e+03    512.0   \n",
              "Census_InternalPrimaryDiagonalDisplaySizeInInches  5.932014e+00      4.9   \n",
              "Census_InternalPrimaryDisplayResolutionHorizontal  3.685659e+02     -1.0   \n",
              "Census_InternalPrimaryDisplayResolutionVertical    2.148625e+02     -1.0   \n",
              "Census_InternalBatteryNumberOfCharges              1.888768e+09      0.0   \n",
              "Census_OSBuildNumber                               1.959440e+03   9600.0   \n",
              "Census_OSBuildRevision                             2.920628e+03      0.0   \n",
              "Census_OSInstallLanguageIdentifier                 1.020095e+01      1.0   \n",
              "Census_OSUILocaleIdentifier                        4.500042e+01      1.0   \n",
              "Census_IsPortableOperatingSystem                   2.284138e-02      0.0   \n",
              "Census_IsFlightingInternal                         4.857117e-03      0.0   \n",
              "Census_IsFlightsDisabled                           3.775513e-03      0.0   \n",
              "Census_ThresholdOptIn                              1.607246e-02      0.0   \n",
              "Census_FirmwareManufacturerIdentifier              2.215271e+02     11.0   \n",
              "Census_FirmwareVersionIdentifier                   2.122016e+04     10.0   \n",
              "Census_IsSecureBootEnabled                         4.997884e-01      0.0   \n",
              "Census_IsWIMBootEnabled                            0.000000e+00      0.0   \n",
              "Census_IsVirtualDevice                             8.376640e-02      0.0   \n",
              "Census_IsTouchEnabled                              3.312107e-01      0.0   \n",
              "Census_IsPenCapable                                1.905767e-01      0.0   \n",
              "Census_IsAlwaysOnAlwaysConnectedCapable            2.323095e-01      0.0   \n",
              "Wdft_IsGamer                                       4.509658e-01      0.0   \n",
              "Wdft_RegionIdentifier                              4.551764e+00      1.0   \n",
              "HasDetections                                      5.000005e-01      0.0   \n",
              "\n",
              "                                                          25%        50%  \\\n",
              "Unnamed: 0                                         2227692.50  4461367.5   \n",
              "IsBeta                                                   0.00        0.0   \n",
              "RtpStateBitfield                                         7.00        7.0   \n",
              "IsSxsPassiveMode                                         0.00        0.0   \n",
              "DefaultBrowsersIdentifier                              788.00     1632.0   \n",
              "AVProductStatesIdentifier                            49480.00    53447.0   \n",
              "AVProductsInstalled                                      1.00        1.0   \n",
              "AVProductsEnabled                                        1.00        1.0   \n",
              "HasTpm                                                   1.00        1.0   \n",
              "CountryIdentifier                                       51.00       97.0   \n",
              "CityIdentifier                                       36825.00    82373.0   \n",
              "OrganizationIdentifier                                  18.00       27.0   \n",
              "GeoNameIdentifier                                       89.00      181.0   \n",
              "LocaleEnglishNameIdentifier                             74.00       88.0   \n",
              "OsBuild                                              15063.00    16299.0   \n",
              "OsSuite                                                256.00      768.0   \n",
              "IsProtected                                              1.00        1.0   \n",
              "AutoSampleOptIn                                          0.00        0.0   \n",
              "SMode                                                    0.00        0.0   \n",
              "IeVerIdentifier                                        111.00      135.0   \n",
              "Firewall                                                 1.00        1.0   \n",
              "UacLuaenable                                             1.00        1.0   \n",
              "Census_OEMNameIdentifier                              1443.00     2102.0   \n",
              "Census_OEMModelIdentifier                           189641.75   247520.0   \n",
              "Census_ProcessorCoreCount                                2.00        4.0   \n",
              "Census_ProcessorManufacturerIdentifier                   5.00        5.0   \n",
              "Census_ProcessorModelIdentifier                       1998.00     2500.0   \n",
              "Census_PrimaryDiskTotalCapacity                     239372.00   476940.0   \n",
              "Census_SystemVolumeTotalCapacity                    120775.00   249450.0   \n",
              "Census_HasOpticalDiskDrive                               0.00        0.0   \n",
              "Census_TotalPhysicalRAM                               4096.00     4096.0   \n",
              "Census_InternalPrimaryDiagonalDisplaySizeInInches       13.90       15.5   \n",
              "Census_InternalPrimaryDisplayResolutionHorizontal     1366.00     1366.0   \n",
              "Census_InternalPrimaryDisplayResolutionVertical        768.00      768.0   \n",
              "Census_InternalBatteryNumberOfCharges                    0.00        0.0   \n",
              "Census_OSBuildNumber                                 15063.00    16299.0   \n",
              "Census_OSBuildRevision                                 165.00      285.0   \n",
              "Census_OSInstallLanguageIdentifier                       8.00        9.0   \n",
              "Census_OSUILocaleIdentifier                             31.00       34.0   \n",
              "Census_IsPortableOperatingSystem                         0.00        0.0   \n",
              "Census_IsFlightingInternal                               0.00        0.0   \n",
              "Census_IsFlightsDisabled                                 0.00        0.0   \n",
              "Census_ThresholdOptIn                                    0.00        0.0   \n",
              "Census_FirmwareManufacturerIdentifier                  142.00      500.0   \n",
              "Census_FirmwareVersionIdentifier                     13156.00    33070.0   \n",
              "Census_IsSecureBootEnabled                               0.00        0.0   \n",
              "Census_IsWIMBootEnabled                                  0.00        0.0   \n",
              "Census_IsVirtualDevice                                   0.00        0.0   \n",
              "Census_IsTouchEnabled                                    0.00        0.0   \n",
              "Census_IsPenCapable                                      0.00        0.0   \n",
              "Census_IsAlwaysOnAlwaysConnectedCapable                  0.00        0.0   \n",
              "Wdft_IsGamer                                             0.00        0.0   \n",
              "Wdft_RegionIdentifier                                    3.00       10.0   \n",
              "HasDetections                                            0.00        0.0   \n",
              "\n",
              "                                                            75%           max  \n",
              "Unnamed: 0                                         6.690936e+06  8.921471e+06  \n",
              "IsBeta                                             0.000000e+00  1.000000e+00  \n",
              "RtpStateBitfield                                   7.000000e+00  3.500000e+01  \n",
              "IsSxsPassiveMode                                   0.000000e+00  1.000000e+00  \n",
              "DefaultBrowsersIdentifier                          2.381000e+03  3.209000e+03  \n",
              "AVProductStatesIdentifier                          5.344700e+04  7.049200e+04  \n",
              "AVProductsInstalled                                2.000000e+00  5.000000e+00  \n",
              "AVProductsEnabled                                  1.000000e+00  4.000000e+00  \n",
              "HasTpm                                             1.000000e+00  1.000000e+00  \n",
              "CountryIdentifier                                  1.620000e+02  2.220000e+02  \n",
              "CityIdentifier                                     1.239395e+05  1.679580e+05  \n",
              "OrganizationIdentifier                             2.700000e+01  5.200000e+01  \n",
              "GeoNameIdentifier                                  2.670000e+02  2.960000e+02  \n",
              "LocaleEnglishNameIdentifier                        1.820000e+02  2.830000e+02  \n",
              "OsBuild                                            1.713400e+04  1.824200e+04  \n",
              "OsSuite                                            7.680000e+02  7.840000e+02  \n",
              "IsProtected                                        1.000000e+00  1.000000e+00  \n",
              "AutoSampleOptIn                                    0.000000e+00  1.000000e+00  \n",
              "SMode                                              0.000000e+00  1.000000e+00  \n",
              "IeVerIdentifier                                    1.370000e+02  4.290000e+02  \n",
              "Firewall                                           1.000000e+00  1.000000e+00  \n",
              "UacLuaenable                                       1.000000e+00  6.357062e+06  \n",
              "Census_OEMNameIdentifier                           2.668000e+03  6.143000e+03  \n",
              "Census_OEMModelIdentifier                          3.044380e+05  3.454930e+05  \n",
              "Census_ProcessorCoreCount                          4.000000e+00  8.800000e+01  \n",
              "Census_ProcessorManufacturerIdentifier             5.000000e+00  1.000000e+01  \n",
              "Census_ProcessorModelIdentifier                    2.877000e+03  4.472000e+03  \n",
              "Census_PrimaryDiskTotalCapacity                    9.538690e+05  4.768767e+07  \n",
              "Census_SystemVolumeTotalCapacity                   4.759810e+05  4.768710e+07  \n",
              "Census_HasOpticalDiskDrive                         0.000000e+00  1.000000e+00  \n",
              "Census_TotalPhysicalRAM                            8.192000e+03  3.932160e+05  \n",
              "Census_InternalPrimaryDiagonalDisplaySizeInInches  1.720000e+01  1.420000e+02  \n",
              "Census_InternalPrimaryDisplayResolutionHorizontal  1.920000e+03  1.152000e+04  \n",
              "Census_InternalPrimaryDisplayResolutionVertical    1.080000e+03  4.320000e+03  \n",
              "Census_InternalBatteryNumberOfCharges              4.294967e+09  4.294967e+09  \n",
              "Census_OSBuildNumber                               1.713400e+04  1.824200e+04  \n",
              "Census_OSBuildRevision                             5.470000e+02  1.906900e+04  \n",
              "Census_OSInstallLanguageIdentifier                 2.000000e+01  3.900000e+01  \n",
              "Census_OSUILocaleIdentifier                        9.000000e+01  1.620000e+02  \n",
              "Census_IsPortableOperatingSystem                   0.000000e+00  1.000000e+00  \n",
              "Census_IsFlightingInternal                         0.000000e+00  1.000000e+00  \n",
              "Census_IsFlightsDisabled                           0.000000e+00  1.000000e+00  \n",
              "Census_ThresholdOptIn                              0.000000e+00  1.000000e+00  \n",
              "Census_FirmwareManufacturerIdentifier              5.560000e+02  1.084000e+03  \n",
              "Census_FirmwareVersionIdentifier                   5.243600e+04  7.209100e+04  \n",
              "Census_IsSecureBootEnabled                         1.000000e+00  1.000000e+00  \n",
              "Census_IsWIMBootEnabled                            0.000000e+00  0.000000e+00  \n",
              "Census_IsVirtualDevice                             0.000000e+00  1.000000e+00  \n",
              "Census_IsTouchEnabled                              0.000000e+00  1.000000e+00  \n",
              "Census_IsPenCapable                                0.000000e+00  1.000000e+00  \n",
              "Census_IsAlwaysOnAlwaysConnectedCapable            0.000000e+00  1.000000e+00  \n",
              "Wdft_IsGamer                                       1.000000e+00  1.000000e+00  \n",
              "Wdft_RegionIdentifier                              1.100000e+01  1.500000e+01  \n",
              "HasDetections                                      1.000000e+00  1.000000e+00  "
            ],
            "text/html": [
              "\n",
              "  <div id=\"df-ae869c79-7e28-4b14-8bab-8ee36e962640\">\n",
              "    <div class=\"colab-df-container\">\n",
              "      <div>\n",
              "<style scoped>\n",
              "    .dataframe tbody tr th:only-of-type {\n",
              "        vertical-align: middle;\n",
              "    }\n",
              "\n",
              "    .dataframe tbody tr th {\n",
              "        vertical-align: top;\n",
              "    }\n",
              "\n",
              "    .dataframe thead th {\n",
              "        text-align: right;\n",
              "    }\n",
              "</style>\n",
              "<table border=\"1\" class=\"dataframe\">\n",
              "  <thead>\n",
              "    <tr style=\"text-align: right;\">\n",
              "      <th></th>\n",
              "      <th>count</th>\n",
              "      <th>mean</th>\n",
              "      <th>std</th>\n",
              "      <th>min</th>\n",
              "      <th>25%</th>\n",
              "      <th>50%</th>\n",
              "      <th>75%</th>\n",
              "      <th>max</th>\n",
              "    </tr>\n",
              "  </thead>\n",
              "  <tbody>\n",
              "    <tr>\n",
              "      <th>Unnamed: 0</th>\n",
              "      <td>500000.0</td>\n",
              "      <td>4.458888e+06</td>\n",
              "      <td>2.575619e+06</td>\n",
              "      <td>2.0</td>\n",
              "      <td>2227692.50</td>\n",
              "      <td>4461367.5</td>\n",
              "      <td>6.690936e+06</td>\n",
              "      <td>8.921471e+06</td>\n",
              "    </tr>\n",
              "    <tr>\n",
              "      <th>IsBeta</th>\n",
              "      <td>500000.0</td>\n",
              "      <td>2.000000e-06</td>\n",
              "      <td>1.414214e-03</td>\n",
              "      <td>0.0</td>\n",
              "      <td>0.00</td>\n",
              "      <td>0.0</td>\n",
              "      <td>0.000000e+00</td>\n",
              "      <td>1.000000e+00</td>\n",
              "    </tr>\n",
              "    <tr>\n",
              "      <th>RtpStateBitfield</th>\n",
              "      <td>498168.0</td>\n",
              "      <td>6.846207e+00</td>\n",
              "      <td>1.023049e+00</td>\n",
              "      <td>0.0</td>\n",
              "      <td>7.00</td>\n",
              "      <td>7.0</td>\n",
              "      <td>7.000000e+00</td>\n",
              "      <td>3.500000e+01</td>\n",
              "    </tr>\n",
              "    <tr>\n",
              "      <th>IsSxsPassiveMode</th>\n",
              "      <td>500000.0</td>\n",
              "      <td>1.724200e-02</td>\n",
              "      <td>1.301720e-01</td>\n",
              "      <td>0.0</td>\n",
              "      <td>0.00</td>\n",
              "      <td>0.0</td>\n",
              "      <td>0.000000e+00</td>\n",
              "      <td>1.000000e+00</td>\n",
              "    </tr>\n",
              "    <tr>\n",
              "      <th>DefaultBrowsersIdentifier</th>\n",
              "      <td>24061.0</td>\n",
              "      <td>1.652825e+03</td>\n",
              "      <td>1.004754e+03</td>\n",
              "      <td>1.0</td>\n",
              "      <td>788.00</td>\n",
              "      <td>1632.0</td>\n",
              "      <td>2.381000e+03</td>\n",
              "      <td>3.209000e+03</td>\n",
              "    </tr>\n",
              "    <tr>\n",
              "      <th>AVProductStatesIdentifier</th>\n",
              "      <td>498062.0</td>\n",
              "      <td>4.785091e+04</td>\n",
              "      <td>1.402309e+04</td>\n",
              "      <td>3.0</td>\n",
              "      <td>49480.00</td>\n",
              "      <td>53447.0</td>\n",
              "      <td>5.344700e+04</td>\n",
              "      <td>7.049200e+04</td>\n",
              "    </tr>\n",
              "    <tr>\n",
              "      <th>AVProductsInstalled</th>\n",
              "      <td>498062.0</td>\n",
              "      <td>1.326763e+00</td>\n",
              "      <td>5.229999e-01</td>\n",
              "      <td>1.0</td>\n",
              "      <td>1.00</td>\n",
              "      <td>1.0</td>\n",
              "      <td>2.000000e+00</td>\n",
              "      <td>5.000000e+00</td>\n",
              "    </tr>\n",
              "    <tr>\n",
              "      <th>AVProductsEnabled</th>\n",
              "      <td>498062.0</td>\n",
              "      <td>1.020714e+00</td>\n",
              "      <td>1.666080e-01</td>\n",
              "      <td>0.0</td>\n",
              "      <td>1.00</td>\n",
              "      <td>1.0</td>\n",
              "      <td>1.000000e+00</td>\n",
              "      <td>4.000000e+00</td>\n",
              "    </tr>\n",
              "    <tr>\n",
              "      <th>HasTpm</th>\n",
              "      <td>500000.0</td>\n",
              "      <td>9.878160e-01</td>\n",
              "      <td>1.097068e-01</td>\n",
              "      <td>0.0</td>\n",
              "      <td>1.00</td>\n",
              "      <td>1.0</td>\n",
              "      <td>1.000000e+00</td>\n",
              "      <td>1.000000e+00</td>\n",
              "    </tr>\n",
              "    <tr>\n",
              "      <th>CountryIdentifier</th>\n",
              "      <td>500000.0</td>\n",
              "      <td>1.080375e+02</td>\n",
              "      <td>6.306854e+01</td>\n",
              "      <td>1.0</td>\n",
              "      <td>51.00</td>\n",
              "      <td>97.0</td>\n",
              "      <td>1.620000e+02</td>\n",
              "      <td>2.220000e+02</td>\n",
              "    </tr>\n",
              "    <tr>\n",
              "      <th>CityIdentifier</th>\n",
              "      <td>481760.0</td>\n",
              "      <td>8.127165e+04</td>\n",
              "      <td>4.898513e+04</td>\n",
              "      <td>7.0</td>\n",
              "      <td>36825.00</td>\n",
              "      <td>82373.0</td>\n",
              "      <td>1.239395e+05</td>\n",
              "      <td>1.679580e+05</td>\n",
              "    </tr>\n",
              "    <tr>\n",
              "      <th>OrganizationIdentifier</th>\n",
              "      <td>345437.0</td>\n",
              "      <td>2.486994e+01</td>\n",
              "      <td>5.613712e+00</td>\n",
              "      <td>1.0</td>\n",
              "      <td>18.00</td>\n",
              "      <td>27.0</td>\n",
              "      <td>2.700000e+01</td>\n",
              "      <td>5.200000e+01</td>\n",
              "    </tr>\n",
              "    <tr>\n",
              "      <th>GeoNameIdentifier</th>\n",
              "      <td>499984.0</td>\n",
              "      <td>1.697304e+02</td>\n",
              "      <td>8.932517e+01</td>\n",
              "      <td>1.0</td>\n",
              "      <td>89.00</td>\n",
              "      <td>181.0</td>\n",
              "      <td>2.670000e+02</td>\n",
              "      <td>2.960000e+02</td>\n",
              "    </tr>\n",
              "    <tr>\n",
              "      <th>LocaleEnglishNameIdentifier</th>\n",
              "      <td>500000.0</td>\n",
              "      <td>1.226110e+02</td>\n",
              "      <td>6.930317e+01</td>\n",
              "      <td>1.0</td>\n",
              "      <td>74.00</td>\n",
              "      <td>88.0</td>\n",
              "      <td>1.820000e+02</td>\n",
              "      <td>2.830000e+02</td>\n",
              "    </tr>\n",
              "    <tr>\n",
              "      <th>OsBuild</th>\n",
              "      <td>500000.0</td>\n",
              "      <td>1.572693e+04</td>\n",
              "      <td>2.188646e+03</td>\n",
              "      <td>7600.0</td>\n",
              "      <td>15063.00</td>\n",
              "      <td>16299.0</td>\n",
              "      <td>1.713400e+04</td>\n",
              "      <td>1.824200e+04</td>\n",
              "    </tr>\n",
              "    <tr>\n",
              "      <th>OsSuite</th>\n",
              "      <td>500000.0</td>\n",
              "      <td>5.747186e+02</td>\n",
              "      <td>2.482033e+02</td>\n",
              "      <td>16.0</td>\n",
              "      <td>256.00</td>\n",
              "      <td>768.0</td>\n",
              "      <td>7.680000e+02</td>\n",
              "      <td>7.840000e+02</td>\n",
              "    </tr>\n",
              "    <tr>\n",
              "      <th>IsProtected</th>\n",
              "      <td>498074.0</td>\n",
              "      <td>9.457892e-01</td>\n",
              "      <td>2.264335e-01</td>\n",
              "      <td>0.0</td>\n",
              "      <td>1.00</td>\n",
              "      <td>1.0</td>\n",
              "      <td>1.000000e+00</td>\n",
              "      <td>1.000000e+00</td>\n",
              "    </tr>\n",
              "    <tr>\n",
              "      <th>AutoSampleOptIn</th>\n",
              "      <td>500000.0</td>\n",
              "      <td>2.800000e-05</td>\n",
              "      <td>5.291434e-03</td>\n",
              "      <td>0.0</td>\n",
              "      <td>0.00</td>\n",
              "      <td>0.0</td>\n",
              "      <td>0.000000e+00</td>\n",
              "      <td>1.000000e+00</td>\n",
              "    </tr>\n",
              "    <tr>\n",
              "      <th>SMode</th>\n",
              "      <td>470152.0</td>\n",
              "      <td>4.381562e-04</td>\n",
              "      <td>2.092762e-02</td>\n",
              "      <td>0.0</td>\n",
              "      <td>0.00</td>\n",
              "      <td>0.0</td>\n",
              "      <td>0.000000e+00</td>\n",
              "      <td>1.000000e+00</td>\n",
              "    </tr>\n",
              "    <tr>\n",
              "      <th>IeVerIdentifier</th>\n",
              "      <td>496791.0</td>\n",
              "      <td>1.266626e+02</td>\n",
              "      <td>4.263489e+01</td>\n",
              "      <td>8.0</td>\n",
              "      <td>111.00</td>\n",
              "      <td>135.0</td>\n",
              "      <td>1.370000e+02</td>\n",
              "      <td>4.290000e+02</td>\n",
              "    </tr>\n",
              "    <tr>\n",
              "      <th>Firewall</th>\n",
              "      <td>494838.0</td>\n",
              "      <td>9.782414e-01</td>\n",
              "      <td>1.458946e-01</td>\n",
              "      <td>0.0</td>\n",
              "      <td>1.00</td>\n",
              "      <td>1.0</td>\n",
              "      <td>1.000000e+00</td>\n",
              "      <td>1.000000e+00</td>\n",
              "    </tr>\n",
              "    <tr>\n",
              "      <th>UacLuaenable</th>\n",
              "      <td>499377.0</td>\n",
              "      <td>1.372503e+01</td>\n",
              "      <td>8.995848e+03</td>\n",
              "      <td>0.0</td>\n",
              "      <td>1.00</td>\n",
              "      <td>1.0</td>\n",
              "      <td>1.000000e+00</td>\n",
              "      <td>6.357062e+06</td>\n",
              "    </tr>\n",
              "    <tr>\n",
              "      <th>Census_OEMNameIdentifier</th>\n",
              "      <td>494619.0</td>\n",
              "      <td>2.218646e+03</td>\n",
              "      <td>1.315710e+03</td>\n",
              "      <td>54.0</td>\n",
              "      <td>1443.00</td>\n",
              "      <td>2102.0</td>\n",
              "      <td>2.668000e+03</td>\n",
              "      <td>6.143000e+03</td>\n",
              "    </tr>\n",
              "    <tr>\n",
              "      <th>Census_OEMModelIdentifier</th>\n",
              "      <td>494236.0</td>\n",
              "      <td>2.391280e+05</td>\n",
              "      <td>7.204888e+04</td>\n",
              "      <td>1.0</td>\n",
              "      <td>189641.75</td>\n",
              "      <td>247520.0</td>\n",
              "      <td>3.044380e+05</td>\n",
              "      <td>3.454930e+05</td>\n",
              "    </tr>\n",
              "    <tr>\n",
              "      <th>Census_ProcessorCoreCount</th>\n",
              "      <td>497653.0</td>\n",
              "      <td>3.994074e+00</td>\n",
              "      <td>2.071281e+00</td>\n",
              "      <td>1.0</td>\n",
              "      <td>2.00</td>\n",
              "      <td>4.0</td>\n",
              "      <td>4.000000e+00</td>\n",
              "      <td>8.800000e+01</td>\n",
              "    </tr>\n",
              "    <tr>\n",
              "      <th>Census_ProcessorManufacturerIdentifier</th>\n",
              "      <td>497653.0</td>\n",
              "      <td>4.529069e+00</td>\n",
              "      <td>1.289635e+00</td>\n",
              "      <td>1.0</td>\n",
              "      <td>5.00</td>\n",
              "      <td>5.0</td>\n",
              "      <td>5.000000e+00</td>\n",
              "      <td>1.000000e+01</td>\n",
              "    </tr>\n",
              "    <tr>\n",
              "      <th>Census_ProcessorModelIdentifier</th>\n",
              "      <td>497651.0</td>\n",
              "      <td>2.370987e+03</td>\n",
              "      <td>8.421367e+02</td>\n",
              "      <td>3.0</td>\n",
              "      <td>1998.00</td>\n",
              "      <td>2500.0</td>\n",
              "      <td>2.877000e+03</td>\n",
              "      <td>4.472000e+03</td>\n",
              "    </tr>\n",
              "    <tr>\n",
              "      <th>Census_PrimaryDiskTotalCapacity</th>\n",
              "      <td>497024.0</td>\n",
              "      <td>5.140433e+05</td>\n",
              "      <td>3.704468e+05</td>\n",
              "      <td>10240.0</td>\n",
              "      <td>239372.00</td>\n",
              "      <td>476940.0</td>\n",
              "      <td>9.538690e+05</td>\n",
              "      <td>4.768767e+07</td>\n",
              "    </tr>\n",
              "    <tr>\n",
              "      <th>Census_SystemVolumeTotalCapacity</th>\n",
              "      <td>497024.0</td>\n",
              "      <td>3.780546e+05</td>\n",
              "      <td>3.384722e+05</td>\n",
              "      <td>9689.0</td>\n",
              "      <td>120775.00</td>\n",
              "      <td>249450.0</td>\n",
              "      <td>4.759810e+05</td>\n",
              "      <td>4.768710e+07</td>\n",
              "    </tr>\n",
              "    <tr>\n",
              "      <th>Census_HasOpticalDiskDrive</th>\n",
              "      <td>500000.0</td>\n",
              "      <td>7.703400e-02</td>\n",
              "      <td>2.666457e-01</td>\n",
              "      <td>0.0</td>\n",
              "      <td>0.00</td>\n",
              "      <td>0.0</td>\n",
              "      <td>0.000000e+00</td>\n",
              "      <td>1.000000e+00</td>\n",
              "    </tr>\n",
              "    <tr>\n",
              "      <th>Census_TotalPhysicalRAM</th>\n",
              "      <td>495444.0</td>\n",
              "      <td>6.129232e+03</td>\n",
              "      <td>4.964521e+03</td>\n",
              "      <td>512.0</td>\n",
              "      <td>4096.00</td>\n",
              "      <td>4096.0</td>\n",
              "      <td>8.192000e+03</td>\n",
              "      <td>3.932160e+05</td>\n",
              "    </tr>\n",
              "    <tr>\n",
              "      <th>Census_InternalPrimaryDiagonalDisplaySizeInInches</th>\n",
              "      <td>497346.0</td>\n",
              "      <td>1.668984e+01</td>\n",
              "      <td>5.932014e+00</td>\n",
              "      <td>4.9</td>\n",
              "      <td>13.90</td>\n",
              "      <td>15.5</td>\n",
              "      <td>1.720000e+01</td>\n",
              "      <td>1.420000e+02</td>\n",
              "    </tr>\n",
              "    <tr>\n",
              "      <th>Census_InternalPrimaryDisplayResolutionHorizontal</th>\n",
              "      <td>497350.0</td>\n",
              "      <td>1.548304e+03</td>\n",
              "      <td>3.685659e+02</td>\n",
              "      <td>-1.0</td>\n",
              "      <td>1366.00</td>\n",
              "      <td>1366.0</td>\n",
              "      <td>1.920000e+03</td>\n",
              "      <td>1.152000e+04</td>\n",
              "    </tr>\n",
              "    <tr>\n",
              "      <th>Census_InternalPrimaryDisplayResolutionVertical</th>\n",
              "      <td>497350.0</td>\n",
              "      <td>8.982393e+02</td>\n",
              "      <td>2.148625e+02</td>\n",
              "      <td>-1.0</td>\n",
              "      <td>768.00</td>\n",
              "      <td>768.0</td>\n",
              "      <td>1.080000e+03</td>\n",
              "      <td>4.320000e+03</td>\n",
              "    </tr>\n",
              "    <tr>\n",
              "      <th>Census_InternalBatteryNumberOfCharges</th>\n",
              "      <td>484962.0</td>\n",
              "      <td>1.125600e+09</td>\n",
              "      <td>1.888768e+09</td>\n",
              "      <td>0.0</td>\n",
              "      <td>0.00</td>\n",
              "      <td>0.0</td>\n",
              "      <td>4.294967e+09</td>\n",
              "      <td>4.294967e+09</td>\n",
              "    </tr>\n",
              "    <tr>\n",
              "      <th>Census_OSBuildNumber</th>\n",
              "      <td>500000.0</td>\n",
              "      <td>1.584137e+04</td>\n",
              "      <td>1.959440e+03</td>\n",
              "      <td>9600.0</td>\n",
              "      <td>15063.00</td>\n",
              "      <td>16299.0</td>\n",
              "      <td>1.713400e+04</td>\n",
              "      <td>1.824200e+04</td>\n",
              "    </tr>\n",
              "    <tr>\n",
              "      <th>Census_OSBuildRevision</th>\n",
              "      <td>500000.0</td>\n",
              "      <td>9.672248e+02</td>\n",
              "      <td>2.920628e+03</td>\n",
              "      <td>0.0</td>\n",
              "      <td>165.00</td>\n",
              "      <td>285.0</td>\n",
              "      <td>5.470000e+02</td>\n",
              "      <td>1.906900e+04</td>\n",
              "    </tr>\n",
              "    <tr>\n",
              "      <th>Census_OSInstallLanguageIdentifier</th>\n",
              "      <td>496668.0</td>\n",
              "      <td>1.460551e+01</td>\n",
              "      <td>1.020095e+01</td>\n",
              "      <td>1.0</td>\n",
              "      <td>8.00</td>\n",
              "      <td>9.0</td>\n",
              "      <td>2.000000e+01</td>\n",
              "      <td>3.900000e+01</td>\n",
              "    </tr>\n",
              "    <tr>\n",
              "      <th>Census_OSUILocaleIdentifier</th>\n",
              "      <td>500000.0</td>\n",
              "      <td>6.044631e+01</td>\n",
              "      <td>4.500042e+01</td>\n",
              "      <td>1.0</td>\n",
              "      <td>31.00</td>\n",
              "      <td>34.0</td>\n",
              "      <td>9.000000e+01</td>\n",
              "      <td>1.620000e+02</td>\n",
              "    </tr>\n",
              "    <tr>\n",
              "      <th>Census_IsPortableOperatingSystem</th>\n",
              "      <td>500000.0</td>\n",
              "      <td>5.220000e-04</td>\n",
              "      <td>2.284138e-02</td>\n",
              "      <td>0.0</td>\n",
              "      <td>0.00</td>\n",
              "      <td>0.0</td>\n",
              "      <td>0.000000e+00</td>\n",
              "      <td>1.000000e+00</td>\n",
              "    </tr>\n",
              "    <tr>\n",
              "      <th>Census_IsFlightingInternal</th>\n",
              "      <td>84775.0</td>\n",
              "      <td>2.359186e-05</td>\n",
              "      <td>4.857117e-03</td>\n",
              "      <td>0.0</td>\n",
              "      <td>0.00</td>\n",
              "      <td>0.0</td>\n",
              "      <td>0.000000e+00</td>\n",
              "      <td>1.000000e+00</td>\n",
              "    </tr>\n",
              "    <tr>\n",
              "      <th>Census_IsFlightsDisabled</th>\n",
              "      <td>491067.0</td>\n",
              "      <td>1.425467e-05</td>\n",
              "      <td>3.775513e-03</td>\n",
              "      <td>0.0</td>\n",
              "      <td>0.00</td>\n",
              "      <td>0.0</td>\n",
              "      <td>0.000000e+00</td>\n",
              "      <td>1.000000e+00</td>\n",
              "    </tr>\n",
              "    <tr>\n",
              "      <th>Census_ThresholdOptIn</th>\n",
              "      <td>181896.0</td>\n",
              "      <td>2.583894e-04</td>\n",
              "      <td>1.607246e-02</td>\n",
              "      <td>0.0</td>\n",
              "      <td>0.00</td>\n",
              "      <td>0.0</td>\n",
              "      <td>0.000000e+00</td>\n",
              "      <td>1.000000e+00</td>\n",
              "    </tr>\n",
              "    <tr>\n",
              "      <th>Census_FirmwareManufacturerIdentifier</th>\n",
              "      <td>489651.0</td>\n",
              "      <td>4.026759e+02</td>\n",
              "      <td>2.215271e+02</td>\n",
              "      <td>11.0</td>\n",
              "      <td>142.00</td>\n",
              "      <td>500.0</td>\n",
              "      <td>5.560000e+02</td>\n",
              "      <td>1.084000e+03</td>\n",
              "    </tr>\n",
              "    <tr>\n",
              "      <th>Census_FirmwareVersionIdentifier</th>\n",
              "      <td>490939.0</td>\n",
              "      <td>3.303099e+04</td>\n",
              "      <td>2.122016e+04</td>\n",
              "      <td>10.0</td>\n",
              "      <td>13156.00</td>\n",
              "      <td>33070.0</td>\n",
              "      <td>5.243600e+04</td>\n",
              "      <td>7.209100e+04</td>\n",
              "    </tr>\n",
              "    <tr>\n",
              "      <th>Census_IsSecureBootEnabled</th>\n",
              "      <td>500000.0</td>\n",
              "      <td>4.854380e-01</td>\n",
              "      <td>4.997884e-01</td>\n",
              "      <td>0.0</td>\n",
              "      <td>0.00</td>\n",
              "      <td>0.0</td>\n",
              "      <td>1.000000e+00</td>\n",
              "      <td>1.000000e+00</td>\n",
              "    </tr>\n",
              "    <tr>\n",
              "      <th>Census_IsWIMBootEnabled</th>\n",
              "      <td>182334.0</td>\n",
              "      <td>0.000000e+00</td>\n",
              "      <td>0.000000e+00</td>\n",
              "      <td>0.0</td>\n",
              "      <td>0.00</td>\n",
              "      <td>0.0</td>\n",
              "      <td>0.000000e+00</td>\n",
              "      <td>0.000000e+00</td>\n",
              "    </tr>\n",
              "    <tr>\n",
              "      <th>Census_IsVirtualDevice</th>\n",
              "      <td>499099.0</td>\n",
              "      <td>7.066734e-03</td>\n",
              "      <td>8.376640e-02</td>\n",
              "      <td>0.0</td>\n",
              "      <td>0.00</td>\n",
              "      <td>0.0</td>\n",
              "      <td>0.000000e+00</td>\n",
              "      <td>1.000000e+00</td>\n",
              "    </tr>\n",
              "    <tr>\n",
              "      <th>Census_IsTouchEnabled</th>\n",
              "      <td>500000.0</td>\n",
              "      <td>1.254340e-01</td>\n",
              "      <td>3.312107e-01</td>\n",
              "      <td>0.0</td>\n",
              "      <td>0.00</td>\n",
              "      <td>0.0</td>\n",
              "      <td>0.000000e+00</td>\n",
              "      <td>1.000000e+00</td>\n",
              "    </tr>\n",
              "    <tr>\n",
              "      <th>Census_IsPenCapable</th>\n",
              "      <td>500000.0</td>\n",
              "      <td>3.774400e-02</td>\n",
              "      <td>1.905767e-01</td>\n",
              "      <td>0.0</td>\n",
              "      <td>0.00</td>\n",
              "      <td>0.0</td>\n",
              "      <td>0.000000e+00</td>\n",
              "      <td>1.000000e+00</td>\n",
              "    </tr>\n",
              "    <tr>\n",
              "      <th>Census_IsAlwaysOnAlwaysConnectedCapable</th>\n",
              "      <td>495960.0</td>\n",
              "      <td>5.724454e-02</td>\n",
              "      <td>2.323095e-01</td>\n",
              "      <td>0.0</td>\n",
              "      <td>0.00</td>\n",
              "      <td>0.0</td>\n",
              "      <td>0.000000e+00</td>\n",
              "      <td>1.000000e+00</td>\n",
              "    </tr>\n",
              "    <tr>\n",
              "      <th>Wdft_IsGamer</th>\n",
              "      <td>483050.0</td>\n",
              "      <td>2.840596e-01</td>\n",
              "      <td>4.509658e-01</td>\n",
              "      <td>0.0</td>\n",
              "      <td>0.00</td>\n",
              "      <td>0.0</td>\n",
              "      <td>1.000000e+00</td>\n",
              "      <td>1.000000e+00</td>\n",
              "    </tr>\n",
              "    <tr>\n",
              "      <th>Wdft_RegionIdentifier</th>\n",
              "      <td>483050.0</td>\n",
              "      <td>7.888577e+00</td>\n",
              "      <td>4.551764e+00</td>\n",
              "      <td>1.0</td>\n",
              "      <td>3.00</td>\n",
              "      <td>10.0</td>\n",
              "      <td>1.100000e+01</td>\n",
              "      <td>1.500000e+01</td>\n",
              "    </tr>\n",
              "    <tr>\n",
              "      <th>HasDetections</th>\n",
              "      <td>500000.0</td>\n",
              "      <td>4.999060e-01</td>\n",
              "      <td>5.000005e-01</td>\n",
              "      <td>0.0</td>\n",
              "      <td>0.00</td>\n",
              "      <td>0.0</td>\n",
              "      <td>1.000000e+00</td>\n",
              "      <td>1.000000e+00</td>\n",
              "    </tr>\n",
              "  </tbody>\n",
              "</table>\n",
              "</div>\n",
              "      <button class=\"colab-df-convert\" onclick=\"convertToInteractive('df-ae869c79-7e28-4b14-8bab-8ee36e962640')\"\n",
              "              title=\"Convert this dataframe to an interactive table.\"\n",
              "              style=\"display:none;\">\n",
              "        \n",
              "  <svg xmlns=\"http://www.w3.org/2000/svg\" height=\"24px\"viewBox=\"0 0 24 24\"\n",
              "       width=\"24px\">\n",
              "    <path d=\"M0 0h24v24H0V0z\" fill=\"none\"/>\n",
              "    <path d=\"M18.56 5.44l.94 2.06.94-2.06 2.06-.94-2.06-.94-.94-2.06-.94 2.06-2.06.94zm-11 1L8.5 8.5l.94-2.06 2.06-.94-2.06-.94L8.5 2.5l-.94 2.06-2.06.94zm10 10l.94 2.06.94-2.06 2.06-.94-2.06-.94-.94-2.06-.94 2.06-2.06.94z\"/><path d=\"M17.41 7.96l-1.37-1.37c-.4-.4-.92-.59-1.43-.59-.52 0-1.04.2-1.43.59L10.3 9.45l-7.72 7.72c-.78.78-.78 2.05 0 2.83L4 21.41c.39.39.9.59 1.41.59.51 0 1.02-.2 1.41-.59l7.78-7.78 2.81-2.81c.8-.78.8-2.07 0-2.86zM5.41 20L4 18.59l7.72-7.72 1.47 1.35L5.41 20z\"/>\n",
              "  </svg>\n",
              "      </button>\n",
              "      \n",
              "  <style>\n",
              "    .colab-df-container {\n",
              "      display:flex;\n",
              "      flex-wrap:wrap;\n",
              "      gap: 12px;\n",
              "    }\n",
              "\n",
              "    .colab-df-convert {\n",
              "      background-color: #E8F0FE;\n",
              "      border: none;\n",
              "      border-radius: 50%;\n",
              "      cursor: pointer;\n",
              "      display: none;\n",
              "      fill: #1967D2;\n",
              "      height: 32px;\n",
              "      padding: 0 0 0 0;\n",
              "      width: 32px;\n",
              "    }\n",
              "\n",
              "    .colab-df-convert:hover {\n",
              "      background-color: #E2EBFA;\n",
              "      box-shadow: 0px 1px 2px rgba(60, 64, 67, 0.3), 0px 1px 3px 1px rgba(60, 64, 67, 0.15);\n",
              "      fill: #174EA6;\n",
              "    }\n",
              "\n",
              "    [theme=dark] .colab-df-convert {\n",
              "      background-color: #3B4455;\n",
              "      fill: #D2E3FC;\n",
              "    }\n",
              "\n",
              "    [theme=dark] .colab-df-convert:hover {\n",
              "      background-color: #434B5C;\n",
              "      box-shadow: 0px 1px 3px 1px rgba(0, 0, 0, 0.15);\n",
              "      filter: drop-shadow(0px 1px 2px rgba(0, 0, 0, 0.3));\n",
              "      fill: #FFFFFF;\n",
              "    }\n",
              "  </style>\n",
              "\n",
              "      <script>\n",
              "        const buttonEl =\n",
              "          document.querySelector('#df-ae869c79-7e28-4b14-8bab-8ee36e962640 button.colab-df-convert');\n",
              "        buttonEl.style.display =\n",
              "          google.colab.kernel.accessAllowed ? 'block' : 'none';\n",
              "\n",
              "        async function convertToInteractive(key) {\n",
              "          const element = document.querySelector('#df-ae869c79-7e28-4b14-8bab-8ee36e962640');\n",
              "          const dataTable =\n",
              "            await google.colab.kernel.invokeFunction('convertToInteractive',\n",
              "                                                     [key], {});\n",
              "          if (!dataTable) return;\n",
              "\n",
              "          const docLinkHtml = 'Like what you see? Visit the ' +\n",
              "            '<a target=\"_blank\" href=https://colab.research.google.com/notebooks/data_table.ipynb>data table notebook</a>'\n",
              "            + ' to learn more about interactive tables.';\n",
              "          element.innerHTML = '';\n",
              "          dataTable['output_type'] = 'display_data';\n",
              "          await google.colab.output.renderOutput(dataTable, element);\n",
              "          const docLink = document.createElement('div');\n",
              "          docLink.innerHTML = docLinkHtml;\n",
              "          element.appendChild(docLink);\n",
              "        }\n",
              "      </script>\n",
              "    </div>\n",
              "  </div>\n",
              "  "
            ]
          },
          "metadata": {},
          "execution_count": 14
        }
      ],
      "source": [
        "df.select_dtypes(include= np.number).describe().T"
      ]
    },
    {
      "cell_type": "markdown",
      "metadata": {
        "id": "RyH7mPKhbG3U"
      },
      "source": [
        "Within a first analysis of the numerical variables, a misclassification of Boolean (categorical) variables can be observed, appreciable in their quartiles and maximons and minimums, such as: IsBeta, Census_IsWIMBootEnabled, HasTpm, IsProtected, AutoSampleOptIn, SMode, Firewall, Census_HasOpticalDiskDrive, Census_IsPortableOperatingSystem , Census_IsFlightingInternal, Census_IsFlightsDisabled, Census_ThresholdOptIn, Census_IsSecureBootEnabled, Census_IsVirtualDevice, Census_IsTouchEnabled, Census_IsPenCapable, Census_IsAlwaysOnAlwaysConnectedCapable, Wdft_IsGamer.\n"
      ]
    },
    {
      "cell_type": "code",
      "execution_count": null,
      "metadata": {
        "colab": {
          "base_uri": "https://localhost:8080/"
        },
        "id": "G4G4lsFZ_AEo",
        "outputId": "c7fbcdd4-5bc2-42e7-cfeb-3a0709dd0a76"
      },
      "outputs": [
        {
          "output_type": "execute_result",
          "data": {
            "text/plain": [
              "                                   count  unique  \\\n",
              "MachineIdentifier                 500000  500000   \n",
              "ProductName                       500000       3   \n",
              "EngineVersion                     500000      53   \n",
              "AppVersion                        500000      95   \n",
              "AvSigVersion                      500000    6455   \n",
              "Platform                          500000       4   \n",
              "Processor                         500000       3   \n",
              "OsVer                             500000      21   \n",
              "OsPlatformSubRelease              500000       9   \n",
              "OsBuildLab                        499999     453   \n",
              "SkuEdition                        500000       8   \n",
              "PuaMode                              126       1   \n",
              "SmartScreen                       321404      12   \n",
              "Census_MDC2FormFactor             500000      12   \n",
              "Census_DeviceFamily               500000       3   \n",
              "Census_ProcessorClass               2082       3   \n",
              "Census_PrimaryDiskTypeName        499291       4   \n",
              "Census_ChassisTypeName            499963      34   \n",
              "Census_PowerPlatformRoleName      499998       9   \n",
              "Census_InternalBatteryType        144397      28   \n",
              "Census_OSVersion                  500000     305   \n",
              "Census_OSArchitecture             500000       3   \n",
              "Census_OSBranch                   500000      15   \n",
              "Census_OSEdition                  500000      22   \n",
              "Census_OSSkuName                  500000      21   \n",
              "Census_OSInstallTypeName          500000       9   \n",
              "Census_OSWUAutoUpdateOptionsName  500000       6   \n",
              "Census_GenuineStateName           500000       4   \n",
              "Census_ActivationChannel          500000       6   \n",
              "Census_FlightRing                 500000       8   \n",
              "\n",
              "                                                                       top  \\\n",
              "MachineIdentifier                         f1cd864e97bae82bdf96523e1a539121   \n",
              "ProductName                                                   win8defender   \n",
              "EngineVersion                                                  1.1.15200.1   \n",
              "AppVersion                                                 4.18.1807.18075   \n",
              "AvSigVersion                                                  1.273.1420.0   \n",
              "Platform                                                         windows10   \n",
              "Processor                                                              x64   \n",
              "OsVer                                                             10.0.0.0   \n",
              "OsPlatformSubRelease                                                   rs4   \n",
              "OsBuildLab                        17134.1.amd64fre.rs4_release.180410-1804   \n",
              "SkuEdition                                                            Home   \n",
              "PuaMode                                                                 on   \n",
              "SmartScreen                                                   RequireAdmin   \n",
              "Census_MDC2FormFactor                                             Notebook   \n",
              "Census_DeviceFamily                                        Windows.Desktop   \n",
              "Census_ProcessorClass                                                  mid   \n",
              "Census_PrimaryDiskTypeName                                             HDD   \n",
              "Census_ChassisTypeName                                            Notebook   \n",
              "Census_PowerPlatformRoleName                                        Mobile   \n",
              "Census_InternalBatteryType                                            lion   \n",
              "Census_OSVersion                                            10.0.17134.228   \n",
              "Census_OSArchitecture                                                amd64   \n",
              "Census_OSBranch                                                rs4_release   \n",
              "Census_OSEdition                                                      Core   \n",
              "Census_OSSkuName                                                      CORE   \n",
              "Census_OSInstallTypeName                                        UUPUpgrade   \n",
              "Census_OSWUAutoUpdateOptionsName                                  FullAuto   \n",
              "Census_GenuineStateName                                         IS_GENUINE   \n",
              "Census_ActivationChannel                                            Retail   \n",
              "Census_FlightRing                                                   Retail   \n",
              "\n",
              "                                    freq  \n",
              "MachineIdentifier                      1  \n",
              "ProductName                       494604  \n",
              "EngineVersion                     216491  \n",
              "AppVersion                        288809  \n",
              "AvSigVersion                        5771  \n",
              "Platform                          483048  \n",
              "Processor                         454423  \n",
              "OsVer                             483830  \n",
              "OsPlatformSubRelease              220779  \n",
              "OsBuildLab                        206436  \n",
              "SkuEdition                        308567  \n",
              "PuaMode                              126  \n",
              "SmartScreen                       241594  \n",
              "Census_MDC2FormFactor             320948  \n",
              "Census_DeviceFamily               499183  \n",
              "Census_ProcessorClass               1196  \n",
              "Census_PrimaryDiskTypeName        325429  \n",
              "Census_ChassisTypeName            294232  \n",
              "Census_PowerPlatformRoleName      346378  \n",
              "Census_InternalBatteryType        113500  \n",
              "Census_OSVersion                   79975  \n",
              "Census_OSArchitecture             454435  \n",
              "Census_OSBranch                   226001  \n",
              "Census_OSEdition                  194469  \n",
              "Census_OSSkuName                  194464  \n",
              "Census_OSInstallTypeName          146780  \n",
              "Census_OSWUAutoUpdateOptionsName  222482  \n",
              "Census_GenuineStateName           441402  \n",
              "Census_ActivationChannel          264932  \n",
              "Census_FlightRing                 468299  "
            ],
            "text/html": [
              "\n",
              "  <div id=\"df-c0fb304b-5c70-40ac-b9ec-c11b8033779d\">\n",
              "    <div class=\"colab-df-container\">\n",
              "      <div>\n",
              "<style scoped>\n",
              "    .dataframe tbody tr th:only-of-type {\n",
              "        vertical-align: middle;\n",
              "    }\n",
              "\n",
              "    .dataframe tbody tr th {\n",
              "        vertical-align: top;\n",
              "    }\n",
              "\n",
              "    .dataframe thead th {\n",
              "        text-align: right;\n",
              "    }\n",
              "</style>\n",
              "<table border=\"1\" class=\"dataframe\">\n",
              "  <thead>\n",
              "    <tr style=\"text-align: right;\">\n",
              "      <th></th>\n",
              "      <th>count</th>\n",
              "      <th>unique</th>\n",
              "      <th>top</th>\n",
              "      <th>freq</th>\n",
              "    </tr>\n",
              "  </thead>\n",
              "  <tbody>\n",
              "    <tr>\n",
              "      <th>MachineIdentifier</th>\n",
              "      <td>500000</td>\n",
              "      <td>500000</td>\n",
              "      <td>f1cd864e97bae82bdf96523e1a539121</td>\n",
              "      <td>1</td>\n",
              "    </tr>\n",
              "    <tr>\n",
              "      <th>ProductName</th>\n",
              "      <td>500000</td>\n",
              "      <td>3</td>\n",
              "      <td>win8defender</td>\n",
              "      <td>494604</td>\n",
              "    </tr>\n",
              "    <tr>\n",
              "      <th>EngineVersion</th>\n",
              "      <td>500000</td>\n",
              "      <td>53</td>\n",
              "      <td>1.1.15200.1</td>\n",
              "      <td>216491</td>\n",
              "    </tr>\n",
              "    <tr>\n",
              "      <th>AppVersion</th>\n",
              "      <td>500000</td>\n",
              "      <td>95</td>\n",
              "      <td>4.18.1807.18075</td>\n",
              "      <td>288809</td>\n",
              "    </tr>\n",
              "    <tr>\n",
              "      <th>AvSigVersion</th>\n",
              "      <td>500000</td>\n",
              "      <td>6455</td>\n",
              "      <td>1.273.1420.0</td>\n",
              "      <td>5771</td>\n",
              "    </tr>\n",
              "    <tr>\n",
              "      <th>Platform</th>\n",
              "      <td>500000</td>\n",
              "      <td>4</td>\n",
              "      <td>windows10</td>\n",
              "      <td>483048</td>\n",
              "    </tr>\n",
              "    <tr>\n",
              "      <th>Processor</th>\n",
              "      <td>500000</td>\n",
              "      <td>3</td>\n",
              "      <td>x64</td>\n",
              "      <td>454423</td>\n",
              "    </tr>\n",
              "    <tr>\n",
              "      <th>OsVer</th>\n",
              "      <td>500000</td>\n",
              "      <td>21</td>\n",
              "      <td>10.0.0.0</td>\n",
              "      <td>483830</td>\n",
              "    </tr>\n",
              "    <tr>\n",
              "      <th>OsPlatformSubRelease</th>\n",
              "      <td>500000</td>\n",
              "      <td>9</td>\n",
              "      <td>rs4</td>\n",
              "      <td>220779</td>\n",
              "    </tr>\n",
              "    <tr>\n",
              "      <th>OsBuildLab</th>\n",
              "      <td>499999</td>\n",
              "      <td>453</td>\n",
              "      <td>17134.1.amd64fre.rs4_release.180410-1804</td>\n",
              "      <td>206436</td>\n",
              "    </tr>\n",
              "    <tr>\n",
              "      <th>SkuEdition</th>\n",
              "      <td>500000</td>\n",
              "      <td>8</td>\n",
              "      <td>Home</td>\n",
              "      <td>308567</td>\n",
              "    </tr>\n",
              "    <tr>\n",
              "      <th>PuaMode</th>\n",
              "      <td>126</td>\n",
              "      <td>1</td>\n",
              "      <td>on</td>\n",
              "      <td>126</td>\n",
              "    </tr>\n",
              "    <tr>\n",
              "      <th>SmartScreen</th>\n",
              "      <td>321404</td>\n",
              "      <td>12</td>\n",
              "      <td>RequireAdmin</td>\n",
              "      <td>241594</td>\n",
              "    </tr>\n",
              "    <tr>\n",
              "      <th>Census_MDC2FormFactor</th>\n",
              "      <td>500000</td>\n",
              "      <td>12</td>\n",
              "      <td>Notebook</td>\n",
              "      <td>320948</td>\n",
              "    </tr>\n",
              "    <tr>\n",
              "      <th>Census_DeviceFamily</th>\n",
              "      <td>500000</td>\n",
              "      <td>3</td>\n",
              "      <td>Windows.Desktop</td>\n",
              "      <td>499183</td>\n",
              "    </tr>\n",
              "    <tr>\n",
              "      <th>Census_ProcessorClass</th>\n",
              "      <td>2082</td>\n",
              "      <td>3</td>\n",
              "      <td>mid</td>\n",
              "      <td>1196</td>\n",
              "    </tr>\n",
              "    <tr>\n",
              "      <th>Census_PrimaryDiskTypeName</th>\n",
              "      <td>499291</td>\n",
              "      <td>4</td>\n",
              "      <td>HDD</td>\n",
              "      <td>325429</td>\n",
              "    </tr>\n",
              "    <tr>\n",
              "      <th>Census_ChassisTypeName</th>\n",
              "      <td>499963</td>\n",
              "      <td>34</td>\n",
              "      <td>Notebook</td>\n",
              "      <td>294232</td>\n",
              "    </tr>\n",
              "    <tr>\n",
              "      <th>Census_PowerPlatformRoleName</th>\n",
              "      <td>499998</td>\n",
              "      <td>9</td>\n",
              "      <td>Mobile</td>\n",
              "      <td>346378</td>\n",
              "    </tr>\n",
              "    <tr>\n",
              "      <th>Census_InternalBatteryType</th>\n",
              "      <td>144397</td>\n",
              "      <td>28</td>\n",
              "      <td>lion</td>\n",
              "      <td>113500</td>\n",
              "    </tr>\n",
              "    <tr>\n",
              "      <th>Census_OSVersion</th>\n",
              "      <td>500000</td>\n",
              "      <td>305</td>\n",
              "      <td>10.0.17134.228</td>\n",
              "      <td>79975</td>\n",
              "    </tr>\n",
              "    <tr>\n",
              "      <th>Census_OSArchitecture</th>\n",
              "      <td>500000</td>\n",
              "      <td>3</td>\n",
              "      <td>amd64</td>\n",
              "      <td>454435</td>\n",
              "    </tr>\n",
              "    <tr>\n",
              "      <th>Census_OSBranch</th>\n",
              "      <td>500000</td>\n",
              "      <td>15</td>\n",
              "      <td>rs4_release</td>\n",
              "      <td>226001</td>\n",
              "    </tr>\n",
              "    <tr>\n",
              "      <th>Census_OSEdition</th>\n",
              "      <td>500000</td>\n",
              "      <td>22</td>\n",
              "      <td>Core</td>\n",
              "      <td>194469</td>\n",
              "    </tr>\n",
              "    <tr>\n",
              "      <th>Census_OSSkuName</th>\n",
              "      <td>500000</td>\n",
              "      <td>21</td>\n",
              "      <td>CORE</td>\n",
              "      <td>194464</td>\n",
              "    </tr>\n",
              "    <tr>\n",
              "      <th>Census_OSInstallTypeName</th>\n",
              "      <td>500000</td>\n",
              "      <td>9</td>\n",
              "      <td>UUPUpgrade</td>\n",
              "      <td>146780</td>\n",
              "    </tr>\n",
              "    <tr>\n",
              "      <th>Census_OSWUAutoUpdateOptionsName</th>\n",
              "      <td>500000</td>\n",
              "      <td>6</td>\n",
              "      <td>FullAuto</td>\n",
              "      <td>222482</td>\n",
              "    </tr>\n",
              "    <tr>\n",
              "      <th>Census_GenuineStateName</th>\n",
              "      <td>500000</td>\n",
              "      <td>4</td>\n",
              "      <td>IS_GENUINE</td>\n",
              "      <td>441402</td>\n",
              "    </tr>\n",
              "    <tr>\n",
              "      <th>Census_ActivationChannel</th>\n",
              "      <td>500000</td>\n",
              "      <td>6</td>\n",
              "      <td>Retail</td>\n",
              "      <td>264932</td>\n",
              "    </tr>\n",
              "    <tr>\n",
              "      <th>Census_FlightRing</th>\n",
              "      <td>500000</td>\n",
              "      <td>8</td>\n",
              "      <td>Retail</td>\n",
              "      <td>468299</td>\n",
              "    </tr>\n",
              "  </tbody>\n",
              "</table>\n",
              "</div>\n",
              "      <button class=\"colab-df-convert\" onclick=\"convertToInteractive('df-c0fb304b-5c70-40ac-b9ec-c11b8033779d')\"\n",
              "              title=\"Convert this dataframe to an interactive table.\"\n",
              "              style=\"display:none;\">\n",
              "        \n",
              "  <svg xmlns=\"http://www.w3.org/2000/svg\" height=\"24px\"viewBox=\"0 0 24 24\"\n",
              "       width=\"24px\">\n",
              "    <path d=\"M0 0h24v24H0V0z\" fill=\"none\"/>\n",
              "    <path d=\"M18.56 5.44l.94 2.06.94-2.06 2.06-.94-2.06-.94-.94-2.06-.94 2.06-2.06.94zm-11 1L8.5 8.5l.94-2.06 2.06-.94-2.06-.94L8.5 2.5l-.94 2.06-2.06.94zm10 10l.94 2.06.94-2.06 2.06-.94-2.06-.94-.94-2.06-.94 2.06-2.06.94z\"/><path d=\"M17.41 7.96l-1.37-1.37c-.4-.4-.92-.59-1.43-.59-.52 0-1.04.2-1.43.59L10.3 9.45l-7.72 7.72c-.78.78-.78 2.05 0 2.83L4 21.41c.39.39.9.59 1.41.59.51 0 1.02-.2 1.41-.59l7.78-7.78 2.81-2.81c.8-.78.8-2.07 0-2.86zM5.41 20L4 18.59l7.72-7.72 1.47 1.35L5.41 20z\"/>\n",
              "  </svg>\n",
              "      </button>\n",
              "      \n",
              "  <style>\n",
              "    .colab-df-container {\n",
              "      display:flex;\n",
              "      flex-wrap:wrap;\n",
              "      gap: 12px;\n",
              "    }\n",
              "\n",
              "    .colab-df-convert {\n",
              "      background-color: #E8F0FE;\n",
              "      border: none;\n",
              "      border-radius: 50%;\n",
              "      cursor: pointer;\n",
              "      display: none;\n",
              "      fill: #1967D2;\n",
              "      height: 32px;\n",
              "      padding: 0 0 0 0;\n",
              "      width: 32px;\n",
              "    }\n",
              "\n",
              "    .colab-df-convert:hover {\n",
              "      background-color: #E2EBFA;\n",
              "      box-shadow: 0px 1px 2px rgba(60, 64, 67, 0.3), 0px 1px 3px 1px rgba(60, 64, 67, 0.15);\n",
              "      fill: #174EA6;\n",
              "    }\n",
              "\n",
              "    [theme=dark] .colab-df-convert {\n",
              "      background-color: #3B4455;\n",
              "      fill: #D2E3FC;\n",
              "    }\n",
              "\n",
              "    [theme=dark] .colab-df-convert:hover {\n",
              "      background-color: #434B5C;\n",
              "      box-shadow: 0px 1px 3px 1px rgba(0, 0, 0, 0.15);\n",
              "      filter: drop-shadow(0px 1px 2px rgba(0, 0, 0, 0.3));\n",
              "      fill: #FFFFFF;\n",
              "    }\n",
              "  </style>\n",
              "\n",
              "      <script>\n",
              "        const buttonEl =\n",
              "          document.querySelector('#df-c0fb304b-5c70-40ac-b9ec-c11b8033779d button.colab-df-convert');\n",
              "        buttonEl.style.display =\n",
              "          google.colab.kernel.accessAllowed ? 'block' : 'none';\n",
              "\n",
              "        async function convertToInteractive(key) {\n",
              "          const element = document.querySelector('#df-c0fb304b-5c70-40ac-b9ec-c11b8033779d');\n",
              "          const dataTable =\n",
              "            await google.colab.kernel.invokeFunction('convertToInteractive',\n",
              "                                                     [key], {});\n",
              "          if (!dataTable) return;\n",
              "\n",
              "          const docLinkHtml = 'Like what you see? Visit the ' +\n",
              "            '<a target=\"_blank\" href=https://colab.research.google.com/notebooks/data_table.ipynb>data table notebook</a>'\n",
              "            + ' to learn more about interactive tables.';\n",
              "          element.innerHTML = '';\n",
              "          dataTable['output_type'] = 'display_data';\n",
              "          await google.colab.output.renderOutput(dataTable, element);\n",
              "          const docLink = document.createElement('div');\n",
              "          docLink.innerHTML = docLinkHtml;\n",
              "          element.appendChild(docLink);\n",
              "        }\n",
              "      </script>\n",
              "    </div>\n",
              "  </div>\n",
              "  "
            ]
          },
          "metadata": {},
          "execution_count": 15
        }
      ],
      "source": [
        "df.select_dtypes(exclude= np.number).describe().T"
      ]
    },
    {
      "cell_type": "markdown",
      "metadata": {
        "id": "rvWLn_Q8vuQL"
      },
      "source": [
        "Within the categorical variables, MachineIdentifier can be highlighted, which has all different values ​​(500,000 different ones), so it is not relevant to the model."
      ]
    },
    {
      "cell_type": "code",
      "execution_count": null,
      "metadata": {
        "id": "2EUAisXgCyAW"
      },
      "outputs": [],
      "source": [
        "target = 'HasDetections'"
      ]
    },
    {
      "cell_type": "markdown",
      "metadata": {
        "id": "rYSL2wNufSJM"
      },
      "source": [
        "###1.4 Distribucion de nulos"
      ]
    },
    {
      "cell_type": "code",
      "execution_count": null,
      "metadata": {
        "colab": {
          "base_uri": "https://localhost:8080/"
        },
        "id": "_wG97UMpgD9X",
        "outputId": "e39b11ba-a906-4639-9f0c-e93be69757de"
      },
      "outputs": [
        {
          "output_type": "execute_result",
          "data": {
            "text/plain": [
              "<matplotlib.axes._subplots.AxesSubplot at 0x7f6c57e05e80>"
            ]
          },
          "metadata": {},
          "execution_count": 17
        },
        {
          "output_type": "display_data",
          "data": {
            "text/plain": [
              "<Figure size 1440x1440 with 3 Axes>"
            ],
            "image/png": "[encoded data removed]"
          },
          "metadata": {
            "needs_background": "light"
          }
        }
      ],
      "source": [
        "msno.bar(df, figsize= (20,20), fontsize=12)"
      ]
    },
    {
      "cell_type": "markdown",
      "metadata": {
        "id": "vSNCKb4bir0x"
      },
      "source": [
        "In general, it can be seen that both DeafultBrowserIdentifier, Census_ProssesorClas, and other variables contain a large proportion of null values, so their elimination could be considered."
      ]
    },
    {
      "cell_type": "markdown",
      "metadata": {
        "id": "ERIM33zfkn84"
      },
      "source": [
        "### 1.5 Distribucion del target"
      ]
    },
    {
      "cell_type": "code",
      "execution_count": null,
      "metadata": {
        "colab": {
          "base_uri": "https://localhost:8080/"
        },
        "id": "DvEmBAP8kziz",
        "outputId": "d1bb79b2-cff7-4fd7-98c7-5ea5fad608bd"
      },
      "outputs": [
        {
          "output_type": "execute_result",
          "data": {
            "text/plain": [
              "0.499906"
            ]
          },
          "metadata": {},
          "execution_count": 18
        }
      ],
      "source": [
        "df['HasDetections'].mean()"
      ]
    },
    {
      "cell_type": "markdown",
      "metadata": {
        "id": "QjhcUJRgk6ga"
      },
      "source": [
        "From the average it can be obtained that almost 50% of computers have detected Malware."
      ]
    },
    {
      "cell_type": "code",
      "execution_count": null,
      "metadata": {
        "colab": {
          "base_uri": "https://localhost:8080/"
        },
        "id": "fCoUH8OQljYi",
        "outputId": "3211737d-18cf-4369-cf7b-aefa39a6914c"
      },
      "outputs": [
        {
          "output_type": "execute_result",
          "data": {
            "text/plain": [
              "Text(0.5, 1.0, 'Distribucion del target')"
            ]
          },
          "metadata": {},
          "execution_count": 19
        },
        {
          "output_type": "display_data",
          "data": {
            "text/plain": [
              "<Figure size 720x720 with 1 Axes>"
            ],
            "image/png": "[encoded data removed]"
          },
          "metadata": {
            "needs_background": "light"
          }
        }
      ],
      "source": [
        "plt.figure(figsize =(10,10))\n",
        "sns.countplot(data= df, x= (df[target]), color= 'red')\n",
        "plt.title('Distribucion del target')\n"
      ]
    },
    {
      "cell_type": "markdown",
      "metadata": {
        "id": "yD8eQn-vmo1Z"
      },
      "source": [
        "With almost 250,000 observations, an almost perfectly balanced target can be observed, with the same distributions in both positive and negative cases. This situation will be very good for the predictions of our model, since it does not train with an amount of information greater than + or - , and it does not generalize and harm neither negative nor positive cases."
      ]
    },
    {
      "cell_type": "markdown",
      "metadata": {
        "id": "gLt5vixmpDrZ"
      },
      "source": [
        "#Analisis multivariable de los datos"
      ]
    },
    {
      "cell_type": "code",
      "execution_count": null,
      "metadata": {
        "id": "w--yZtOqvFgl"
      },
      "outputs": [],
      "source": [
        "df_1=df.copy()"
      ]
    },
    {
      "cell_type": "markdown",
      "metadata": {
        "id": "XFyklDBr_Gnm"
      },
      "source": [
        "##Asignacion de atributos."
      ]
    },
    {
      "cell_type": "code",
      "execution_count": null,
      "metadata": {
        "id": "DJDkhojxBEXJ"
      },
      "outputs": [],
      "source": [
        "def obtener_lista_de_variables(dataset):\n",
        "  lista_num= []\n",
        "  lista_bool= []\n",
        "  lista_cat= []\n",
        "\n",
        "  for i in dataset:\n",
        "    if (dataset[i].dtype.kind =='i' or dataset[i].dtype.kind == 'f') and i not in target and len(dataset[i].unique())!=2:\n",
        "      lista_num.append(i)\n",
        "    elif ((dataset[i].dtype.kind =='i' or dataset[i].dtype.kind == 'f') and i not in target and len(dataset[i].unique())==2) or dataset[i].dtype.kind =='b':\n",
        "      lista_bool.append(i)\n",
        "    elif(dataset[i].dtype.kind == 'O') and i not in target:\n",
        "      lista_cat.append(i)\n",
        "  return lista_num, lista_bool, lista_cat"
      ]
    },
    {
      "cell_type": "code",
      "execution_count": null,
      "metadata": {
        "id": "9zFQeBoABSxo"
      },
      "outputs": [],
      "source": [
        "num_val, bool_val, cat_val= obtener_lista_de_variables(df_1)"
      ]
    },
    {
      "cell_type": "code",
      "execution_count": null,
      "metadata": {
        "colab": {
          "base_uri": "https://localhost:8080/"
        },
        "id": "g1abv0UWnNV2",
        "outputId": "6c12b4c7-a584-4d4c-a6ed-7bf87187ddf2"
      },
      "outputs": [
        {
          "output_type": "execute_result",
          "data": {
            "text/plain": [
              "True"
            ]
          },
          "metadata": {},
          "execution_count": 23
        }
      ],
      "source": [
        "len(num_val) + len(bool_val) + len(cat_val) == 83\n"
      ]
    },
    {
      "cell_type": "code",
      "execution_count": null,
      "metadata": {
        "id": "KYrNNJKmqT6x"
      },
      "outputs": [],
      "source": [
        "categorical_list = cat_val\n",
        "numeric_list = num_val\n",
        "boolean_list = bool_val"
      ]
    },
    {
      "cell_type": "code",
      "execution_count": null,
      "metadata": {
        "colab": {
          "base_uri": "https://localhost:8080/"
        },
        "id": "_OpdLOU0WM8I",
        "outputId": "943a184e-6aaf-4394-fe15-56f7ffeb274a"
      },
      "outputs": [
        {
          "output_type": "execute_result",
          "data": {
            "text/plain": [
              "['IsBeta',\n",
              " 'IsSxsPassiveMode',\n",
              " 'HasTpm',\n",
              " 'AutoSampleOptIn',\n",
              " 'Census_HasOpticalDiskDrive',\n",
              " 'Census_IsPortableOperatingSystem',\n",
              " 'Census_IsSecureBootEnabled',\n",
              " 'Census_IsWIMBootEnabled',\n",
              " 'Census_IsTouchEnabled',\n",
              " 'Census_IsPenCapable']"
            ]
          },
          "metadata": {},
          "execution_count": 25
        }
      ],
      "source": [
        "boolean_list"
      ]
    },
    {
      "cell_type": "code",
      "execution_count": null,
      "metadata": {
        "id": "sOER2j035Cpd"
      },
      "outputs": [],
      "source": [
        "def extract_names(lst):\n",
        "    categorical_identifier = []\n",
        "    for i in lst:\n",
        "        if \"Identifier\" in i:\n",
        "             categorical_identifier.append(i)\n",
        "    return  categorical_identifier"
      ]
    },
    {
      "cell_type": "code",
      "execution_count": null,
      "metadata": {
        "colab": {
          "base_uri": "https://localhost:8080/"
        },
        "id": "hJvCCaN4yIad",
        "outputId": "f5e13137-8814-4089-f9a7-7a83a3d66239"
      },
      "outputs": [
        {
          "output_type": "execute_result",
          "data": {
            "text/plain": [
              "['DefaultBrowsersIdentifier',\n",
              " 'AVProductStatesIdentifier',\n",
              " 'CountryIdentifier',\n",
              " 'CityIdentifier',\n",
              " 'OrganizationIdentifier',\n",
              " 'GeoNameIdentifier',\n",
              " 'LocaleEnglishNameIdentifier',\n",
              " 'IeVerIdentifier',\n",
              " 'Census_OEMNameIdentifier',\n",
              " 'Census_OEMModelIdentifier',\n",
              " 'Census_ProcessorManufacturerIdentifier',\n",
              " 'Census_ProcessorModelIdentifier',\n",
              " 'Census_OSInstallLanguageIdentifier',\n",
              " 'Census_OSUILocaleIdentifier',\n",
              " 'Census_FirmwareManufacturerIdentifier',\n",
              " 'Census_FirmwareVersionIdentifier',\n",
              " 'Wdft_RegionIdentifier']"
            ]
          },
          "metadata": {},
          "execution_count": 27
        }
      ],
      "source": [
        "identifier_list = extract_names(numeric_list)\n",
        "identifier_list"
      ]
    },
    {
      "cell_type": "code",
      "execution_count": null,
      "metadata": {
        "id": "RGUNd5kc2ycP"
      },
      "outputs": [],
      "source": [
        "for i in categorical_list:\n",
        "  df_1[i] = df_1[i].astype(object)"
      ]
    },
    {
      "cell_type": "code",
      "execution_count": null,
      "metadata": {
        "colab": {
          "base_uri": "https://localhost:8080/"
        },
        "id": "7n6675Kb9Jwk",
        "outputId": "baaec32a-2573-4fa0-891e-6c6d09e0ab05"
      },
      "outputs": [
        {
          "output_type": "execute_result",
          "data": {
            "text/plain": [
              "['Unnamed: 0',\n",
              " 'RtpStateBitfield',\n",
              " 'AVProductsInstalled',\n",
              " 'AVProductsEnabled',\n",
              " 'OsBuild',\n",
              " 'OsSuite',\n",
              " 'IsProtected',\n",
              " 'SMode',\n",
              " 'Firewall',\n",
              " 'UacLuaenable',\n",
              " 'Census_ProcessorCoreCount',\n",
              " 'Census_PrimaryDiskTotalCapacity',\n",
              " 'Census_SystemVolumeTotalCapacity',\n",
              " 'Census_TotalPhysicalRAM',\n",
              " 'Census_InternalPrimaryDiagonalDisplaySizeInInches',\n",
              " 'Census_InternalPrimaryDisplayResolutionHorizontal',\n",
              " 'Census_InternalPrimaryDisplayResolutionVertical',\n",
              " 'Census_InternalBatteryNumberOfCharges',\n",
              " 'Census_OSBuildNumber',\n",
              " 'Census_OSBuildRevision',\n",
              " 'Census_IsFlightingInternal',\n",
              " 'Census_IsFlightsDisabled',\n",
              " 'Census_ThresholdOptIn',\n",
              " 'Census_IsVirtualDevice',\n",
              " 'Census_IsAlwaysOnAlwaysConnectedCapable',\n",
              " 'Wdft_IsGamer']"
            ]
          },
          "metadata": {},
          "execution_count": 29
        }
      ],
      "source": [
        "numeric_list = list(filter(lambda x: x not in identifier_list, numeric_list))\n",
        "numeric_list"
      ]
    },
    {
      "cell_type": "markdown",
      "metadata": {
        "id": "qy2HCjny_YmS"
      },
      "source": [
        "When doing more analysis of the data and understanding the 'business', it is very useful to define correctly what type of variable we are working with. Python had incorrectly assumed many Identifiers to be numeric when they are not. Once this is done we will begin to analyze the variables."
      ]
    },
    {
      "cell_type": "markdown",
      "metadata": {
        "id": "1MIP4jhAwuuJ"
      },
      "source": [
        "###\"\"Identifier\"\""
      ]
    },
    {
      "cell_type": "code",
      "execution_count": null,
      "metadata": {
        "id": "IRYglcJs3xv2"
      },
      "outputs": [],
      "source": [
        "identifier_list.remove('CountryIdentifier') #CountryIdentifier sera la unica variable de la lista que utilizaremos en el modelo."
      ]
    },
    {
      "cell_type": "code",
      "execution_count": null,
      "metadata": {
        "id": "m5ke8VLcwuTW"
      },
      "outputs": [],
      "source": [
        "for i in identifier_list:\n",
        "  df_1.drop(i, axis=1, inplace=True) "
      ]
    },
    {
      "cell_type": "markdown",
      "metadata": {
        "id": "ktJ66ZkNy2yn"
      },
      "source": [
        "\n",
        "De las columnas de identificadores \"Identifiers\" solo consideramos relevante para el modelo las variables referidas a la localizacion geografica de la observacion, y entre estas como la mas influyente a la de identificacion del pais. Esto es debido a que los paises a mendudo tienen distintas politicas de seguridad y de libertades respecto al internet y a la informatica, lo que podria influir en nuestro analisis de \"infectada\" o \"no infectada\".\n",
        "\n",
        "Consideramos que el resto de identificadores no aportan al estudio ya que su gran mayoria ya estan contemplados en otras variables, y otros directamente no contribuyen ningun tipo de informacion."
      ]
    },
    {
      "cell_type": "markdown",
      "metadata": {
        "id": "4PrpzIdlZdD4"
      },
      "source": [
        "##Categoricas"
      ]
    },
    {
      "cell_type": "code",
      "execution_count": null,
      "metadata": {
        "id": "iwFRJwP44b0J"
      },
      "outputs": [],
      "source": [
        "df_1['CountryIdentifier'] = list(map(str,df_1['CountryIdentifier'] ))\n",
        "categorical_list.append('CountryIdentifier') #CountryIdentifier sera tratada como una categorica."
      ]
    },
    {
      "cell_type": "code",
      "execution_count": null,
      "metadata": {
        "colab": {
          "base_uri": "https://localhost:8080/"
        },
        "id": "IxUhRTBQsjpV",
        "outputId": "6be37740-f286-4ccf-da69-6ad7391d901b"
      },
      "outputs": [
        {
          "output_type": "execute_result",
          "data": {
            "text/plain": [
              "['MachineIdentifier',\n",
              " 'ProductName',\n",
              " 'EngineVersion',\n",
              " 'AppVersion',\n",
              " 'AvSigVersion',\n",
              " 'Platform',\n",
              " 'Processor',\n",
              " 'OsVer',\n",
              " 'OsPlatformSubRelease',\n",
              " 'OsBuildLab',\n",
              " 'SkuEdition',\n",
              " 'PuaMode',\n",
              " 'SmartScreen',\n",
              " 'Census_MDC2FormFactor',\n",
              " 'Census_DeviceFamily',\n",
              " 'Census_ProcessorClass',\n",
              " 'Census_PrimaryDiskTypeName',\n",
              " 'Census_ChassisTypeName',\n",
              " 'Census_PowerPlatformRoleName',\n",
              " 'Census_InternalBatteryType',\n",
              " 'Census_OSVersion',\n",
              " 'Census_OSArchitecture',\n",
              " 'Census_OSBranch',\n",
              " 'Census_OSEdition',\n",
              " 'Census_OSSkuName',\n",
              " 'Census_OSInstallTypeName',\n",
              " 'Census_OSWUAutoUpdateOptionsName',\n",
              " 'Census_GenuineStateName',\n",
              " 'Census_ActivationChannel',\n",
              " 'Census_FlightRing',\n",
              " 'CountryIdentifier']"
            ]
          },
          "metadata": {},
          "execution_count": 33
        }
      ],
      "source": [
        "categorical_list"
      ]
    },
    {
      "cell_type": "markdown",
      "metadata": {
        "id": "0_DWTtN5BUOf"
      },
      "source": [
        "###Nulos (cat)"
      ]
    },
    {
      "cell_type": "code",
      "execution_count": null,
      "metadata": {
        "colab": {
          "base_uri": "https://localhost:8080/"
        },
        "id": "3L9t97c19PJO",
        "outputId": "ea484dd4-0760-4901-d184-38a1f68b7477"
      },
      "outputs": [
        {
          "output_type": "execute_result",
          "data": {
            "text/plain": [
              "MachineIdentifier                        0\n",
              "ProductName                              0\n",
              "EngineVersion                            0\n",
              "AppVersion                               0\n",
              "AvSigVersion                             0\n",
              "Platform                                 0\n",
              "Processor                                0\n",
              "OsVer                                    0\n",
              "OsPlatformSubRelease                     0\n",
              "OsBuildLab                               1\n",
              "SkuEdition                               0\n",
              "PuaMode                             499874\n",
              "SmartScreen                         178596\n",
              "Census_MDC2FormFactor                    0\n",
              "Census_DeviceFamily                      0\n",
              "Census_ProcessorClass               497918\n",
              "Census_PrimaryDiskTypeName             709\n",
              "Census_ChassisTypeName                  37\n",
              "Census_PowerPlatformRoleName             2\n",
              "Census_InternalBatteryType          355603\n",
              "Census_OSVersion                         0\n",
              "Census_OSArchitecture                    0\n",
              "Census_OSBranch                          0\n",
              "Census_OSEdition                         0\n",
              "Census_OSSkuName                         0\n",
              "Census_OSInstallTypeName                 0\n",
              "Census_OSWUAutoUpdateOptionsName         0\n",
              "Census_GenuineStateName                  0\n",
              "Census_ActivationChannel                 0\n",
              "Census_FlightRing                        0\n",
              "CountryIdentifier                        0\n",
              "dtype: int64"
            ]
          },
          "metadata": {},
          "execution_count": 34
        }
      ],
      "source": [
        "df_1[categorical_list].isna().sum()"
      ]
    },
    {
      "cell_type": "markdown",
      "metadata": {
        "id": "AIhV6UWM9ZUu"
      },
      "source": [
        "Nulls are presented in variables 'PuaMode', 'SmartScreen', 'Census_ProcessorClass', 'Census_InternalBatteryType', 'OsBuildLab' 'Census_PrimaryDiskTypeName', 'Census_ChassisTypeName', 'Census_PowerPlatformRoleName'. Depending on the number of nulls and the distribution of the variable, we will process them in different ways."
      ]
    },
    {
      "cell_type": "markdown",
      "metadata": {
        "id": "7d_WdWsC049V"
      },
      "source": [
        "Las variables 'PuaMode' y 'Census_ProcessorClass' precentan una proporcion de nulos demaciado grande como para que la variable implique un impacto positivo en el modelo, por lo que estas variables seran eliminadas."
      ]
    },
    {
      "cell_type": "code",
      "execution_count": null,
      "metadata": {
        "id": "hDHi-akofJC0"
      },
      "outputs": [],
      "source": [
        "df_1.drop('PuaMode', axis=1, inplace=True)\n",
        "df_1.drop('Census_ProcessorClass', axis=1, inplace=True)"
      ]
    },
    {
      "cell_type": "markdown",
      "metadata": {
        "id": "QXe3uepY-OdC"
      },
      "source": [
        "On the other hand, the variables 'SmartScreen' and 'Census_InternalBatteryType' present a very large number of nulls, so the elimination of these rows would mean a lot of incidence in the data set.\n",
        "We choose to replace the values ​​with extreme values ​​since the model we are going to use is not sensitive to these values ​​(outliers)."
      ]
    },
    {
      "cell_type": "code",
      "execution_count": null,
      "metadata": {
        "colab": {
          "base_uri": "https://localhost:8080/"
        },
        "id": "4DU2XoR4A7WX",
        "outputId": "7acb5e7d-b558-4c19-b57f-1cec516272fb"
      },
      "outputs": [
        {
          "output_type": "execute_result",
          "data": {
            "text/plain": [
              "count           321404\n",
              "unique              12\n",
              "top       RequireAdmin\n",
              "freq            241594\n",
              "Name: SmartScreen, dtype: object"
            ]
          },
          "metadata": {},
          "execution_count": 36
        }
      ],
      "source": [
        "df_1['SmartScreen'].describe()"
      ]
    },
    {
      "cell_type": "code",
      "execution_count": null,
      "metadata": {
        "colab": {
          "base_uri": "https://localhost:8080/"
        },
        "id": "mxL2FkA-BUgu",
        "outputId": "bb44a8fe-5365-4ef0-d983-f24a44834342"
      },
      "outputs": [
        {
          "output_type": "execute_result",
          "data": {
            "text/plain": [
              "count     144397\n",
              "unique        28\n",
              "top         lion\n",
              "freq      113500\n",
              "Name: Census_InternalBatteryType, dtype: object"
            ]
          },
          "metadata": {},
          "execution_count": 37
        }
      ],
      "source": [
        "df_1['Census_InternalBatteryType'].describe()"
      ]
    },
    {
      "cell_type": "code",
      "execution_count": null,
      "metadata": {
        "id": "-VQTGwu-_m3g"
      },
      "outputs": [],
      "source": [
        "df_1['SmartScreen'].fillna(value= 'zzz', inplace=True) "
      ]
    },
    {
      "cell_type": "code",
      "execution_count": null,
      "metadata": {
        "id": "9AuLXh2C-v9j"
      },
      "outputs": [],
      "source": [
        "df_1['Census_InternalBatteryType'].fillna(value= 'zzz', inplace=True)"
      ]
    },
    {
      "cell_type": "markdown",
      "metadata": {
        "id": "sY5X5U5X9RPE"
      },
      "source": [
        "And as for the variables 'OsBuildLab' 'Census_PrimaryDiskTypeName', 'Census_ChassisTypeName', 'Census_PowerPlatformRoleName' we will obtain the elimination of these rows. Since not in its entirety they would mean 0.14% of the total observations."
      ]
    },
    {
      "cell_type": "code",
      "execution_count": null,
      "metadata": {
        "id": "N9Hk9jJ09bEs"
      },
      "outputs": [],
      "source": [
        "dropna_list=['OsBuildLab', 'Census_PrimaryDiskTypeName','Census_ChassisTypeName', 'Census_PowerPlatformRoleName']\n",
        "for i in dropna_list:\n",
        "  df_1.dropna(subset = [i], inplace=True)"
      ]
    },
    {
      "cell_type": "code",
      "execution_count": null,
      "metadata": {
        "id": "eNDHMhMLG2ho"
      },
      "outputs": [],
      "source": [
        "def actualizar_lista (list):\n",
        "  for i in list:\n",
        "    if i not in df_1:\n",
        "      list.remove(i)\n",
        "  return list "
      ]
    },
    {
      "cell_type": "code",
      "execution_count": null,
      "metadata": {
        "id": "lGmJuNw-O63_"
      },
      "outputs": [],
      "source": [
        "categorical_list=actualizar_lista(categorical_list)"
      ]
    },
    {
      "cell_type": "code",
      "execution_count": null,
      "metadata": {
        "colab": {
          "base_uri": "https://localhost:8080/"
        },
        "id": "xJjXpX077mAN",
        "outputId": "3cec04cf-f58d-44e6-a681-2cbe8cc84ba2"
      },
      "outputs": [
        {
          "output_type": "execute_result",
          "data": {
            "text/plain": [
              "MachineIdentifier                   0\n",
              "ProductName                         0\n",
              "EngineVersion                       0\n",
              "AppVersion                          0\n",
              "AvSigVersion                        0\n",
              "Platform                            0\n",
              "Processor                           0\n",
              "OsVer                               0\n",
              "OsPlatformSubRelease                0\n",
              "OsBuildLab                          0\n",
              "SkuEdition                          0\n",
              "SmartScreen                         0\n",
              "Census_MDC2FormFactor               0\n",
              "Census_DeviceFamily                 0\n",
              "Census_PrimaryDiskTypeName          0\n",
              "Census_ChassisTypeName              0\n",
              "Census_PowerPlatformRoleName        0\n",
              "Census_InternalBatteryType          0\n",
              "Census_OSVersion                    0\n",
              "Census_OSArchitecture               0\n",
              "Census_OSBranch                     0\n",
              "Census_OSEdition                    0\n",
              "Census_OSSkuName                    0\n",
              "Census_OSInstallTypeName            0\n",
              "Census_OSWUAutoUpdateOptionsName    0\n",
              "Census_GenuineStateName             0\n",
              "Census_ActivationChannel            0\n",
              "Census_FlightRing                   0\n",
              "CountryIdentifier                   0\n",
              "dtype: int64"
            ]
          },
          "metadata": {},
          "execution_count": 43
        }
      ],
      "source": [
        "df_1[categorical_list].isna().sum()"
      ]
    },
    {
      "cell_type": "markdown",
      "metadata": {
        "id": "gthsVphRBfFy"
      },
      "source": [
        "###Transformaciones"
      ]
    },
    {
      "cell_type": "code",
      "execution_count": null,
      "metadata": {
        "colab": {
          "base_uri": "https://localhost:8080/"
        },
        "id": "WMwyHeN-xWNu",
        "outputId": "f43b1568-a630-42c6-a1e4-65b5941611ec"
      },
      "outputs": [
        {
          "output_type": "stream",
          "name": "stdout",
          "text": [
            "MachineIdentifier \n",
            " count                               499271\n",
            "unique                              499271\n",
            "top       f1cd864e97bae82bdf96523e1a539121\n",
            "freq                                     1\n",
            "Name: MachineIdentifier, dtype: object \n",
            "\n",
            "ProductName \n",
            " count           499271\n",
            "unique               3\n",
            "top       win8defender\n",
            "freq            494302\n",
            "Name: ProductName, dtype: object \n",
            "\n",
            "EngineVersion \n",
            " count          499271\n",
            "unique             53\n",
            "top       1.1.15200.1\n",
            "freq           216180\n",
            "Name: EngineVersion, dtype: object \n",
            "\n",
            "AppVersion \n",
            " count              499271\n",
            "unique                 95\n",
            "top       4.18.1807.18075\n",
            "freq               288807\n",
            "Name: AppVersion, dtype: object \n",
            "\n",
            "AvSigVersion \n",
            " count           499271\n",
            "unique            6453\n",
            "top       1.273.1420.0\n",
            "freq              5765\n",
            "Name: AvSigVersion, dtype: object \n",
            "\n",
            "Platform \n",
            " count        499271\n",
            "unique            4\n",
            "top       windows10\n",
            "freq         483045\n",
            "Name: Platform, dtype: object \n",
            "\n",
            "Processor \n",
            " count     499271\n",
            "unique         3\n",
            "top          x64\n",
            "freq      453832\n",
            "Name: Processor, dtype: object \n",
            "\n",
            "OsVer \n",
            " count       499271\n",
            "unique          21\n",
            "top       10.0.0.0\n",
            "freq        483827\n",
            "Name: OsVer, dtype: object \n",
            "\n",
            "OsPlatformSubRelease \n",
            " count     499271\n",
            "unique         9\n",
            "top          rs4\n",
            "freq      220778\n",
            "Name: OsPlatformSubRelease, dtype: object \n",
            "\n",
            "OsBuildLab \n",
            " count                                       499271\n",
            "unique                                         452\n",
            "top       17134.1.amd64fre.rs4_release.180410-1804\n",
            "freq                                        206436\n",
            "Name: OsBuildLab, dtype: object \n",
            "\n",
            "SkuEdition \n",
            " count     499271\n",
            "unique         8\n",
            "top         Home\n",
            "freq      308322\n",
            "Name: SkuEdition, dtype: object \n",
            "\n",
            "SmartScreen \n",
            " count           499271\n",
            "unique              13\n",
            "top       RequireAdmin\n",
            "freq            241331\n",
            "Name: SmartScreen, dtype: object \n",
            "\n",
            "Census_MDC2FormFactor \n",
            " count       499271\n",
            "unique          12\n",
            "top       Notebook\n",
            "freq        320432\n",
            "Name: Census_MDC2FormFactor, dtype: object \n",
            "\n",
            "Census_DeviceFamily \n",
            " count              499271\n",
            "unique                  3\n",
            "top       Windows.Desktop\n",
            "freq               498454\n",
            "Name: Census_DeviceFamily, dtype: object \n",
            "\n",
            "Census_PrimaryDiskTypeName \n",
            " count     499271\n",
            "unique         4\n",
            "top          HDD\n",
            "freq      325417\n",
            "Name: Census_PrimaryDiskTypeName, dtype: object \n",
            "\n",
            "Census_ChassisTypeName \n",
            " count       499271\n",
            "unique          34\n",
            "top       Notebook\n",
            "freq        293826\n",
            "Name: Census_ChassisTypeName, dtype: object \n",
            "\n",
            "Census_PowerPlatformRoleName \n",
            " count     499271\n",
            "unique         9\n",
            "top       Mobile\n",
            "freq      345855\n",
            "Name: Census_PowerPlatformRoleName, dtype: object \n",
            "\n",
            "Census_InternalBatteryType \n",
            " count     499271\n",
            "unique        29\n",
            "top          zzz\n",
            "freq      355309\n",
            "Name: Census_InternalBatteryType, dtype: object \n",
            "\n",
            "Census_OSVersion \n",
            " count             499271\n",
            "unique               305\n",
            "top       10.0.17134.228\n",
            "freq               79975\n",
            "Name: Census_OSVersion, dtype: object \n",
            "\n",
            "Census_OSArchitecture \n",
            " count     499271\n",
            "unique         3\n",
            "top        amd64\n",
            "freq      453842\n",
            "Name: Census_OSArchitecture, dtype: object \n",
            "\n",
            "Census_OSBranch \n",
            " count          499271\n",
            "unique             15\n",
            "top       rs4_release\n",
            "freq           226000\n",
            "Name: Census_OSBranch, dtype: object \n",
            "\n",
            "Census_OSEdition \n",
            " count     499271\n",
            "unique        22\n",
            "top         Core\n",
            "freq      194065\n",
            "Name: Census_OSEdition, dtype: object \n",
            "\n",
            "Census_OSSkuName \n",
            " count     499271\n",
            "unique        21\n",
            "top         CORE\n",
            "freq      194061\n",
            "Name: Census_OSSkuName, dtype: object \n",
            "\n",
            "Census_OSInstallTypeName \n",
            " count         499271\n",
            "unique             9\n",
            "top       UUPUpgrade\n",
            "freq          146780\n",
            "Name: Census_OSInstallTypeName, dtype: object \n",
            "\n",
            "Census_OSWUAutoUpdateOptionsName \n",
            " count       499271\n",
            "unique           6\n",
            "top       FullAuto\n",
            "freq        221766\n",
            "Name: Census_OSWUAutoUpdateOptionsName, dtype: object \n",
            "\n",
            "Census_GenuineStateName \n",
            " count         499271\n",
            "unique             4\n",
            "top       IS_GENUINE\n",
            "freq          440804\n",
            "Name: Census_GenuineStateName, dtype: object \n",
            "\n",
            "Census_ActivationChannel \n",
            " count     499271\n",
            "unique         6\n",
            "top       Retail\n",
            "freq      264204\n",
            "Name: Census_ActivationChannel, dtype: object \n",
            "\n",
            "Census_FlightRing \n",
            " count     499271\n",
            "unique         8\n",
            "top       Retail\n",
            "freq      467596\n",
            "Name: Census_FlightRing, dtype: object \n",
            "\n",
            "CountryIdentifier \n",
            " count     499271\n",
            "unique       222\n",
            "top           43\n",
            "freq       22321\n",
            "Name: CountryIdentifier, dtype: object \n",
            "\n"
          ]
        }
      ],
      "source": [
        "for columns in categorical_list:\n",
        "  print( columns, '\\n', df_1[columns].describe(), '\\n')"
      ]
    },
    {
      "cell_type": "code",
      "execution_count": null,
      "metadata": {
        "id": "sPd0oi1oAdWD"
      },
      "outputs": [],
      "source": [
        "def explore_cat_values(dataframe, column):\n",
        "\n",
        "  results_df = dataframe.pivot_table( index= column, values= target, aggfunc = [len,sum, np.mean])\n",
        "  results_df.columns= ['suma', 'n_rows_infected', 'media_infectados']\n",
        "\n",
        "  return results_df\n"
      ]
    },
    {
      "cell_type": "code",
      "execution_count": null,
      "metadata": {
        "colab": {
          "base_uri": "https://localhost:8080/"
        },
        "id": "WFEPme83Auw9",
        "outputId": "2a753033-0f30-42f0-dc95-dcf5d40cd7bf"
      },
      "outputs": [
        {
          "output_type": "stream",
          "name": "stdout",
          "text": [
            "\n",
            "                                   suma  n_rows_infected  media_infectados\n",
            "MachineIdentifier                                                        \n",
            "000007905a28d863f6d0d597892cd692     1                0                 0\n",
            "00003e5e679ccfe7a13e953c47dd584f     1                1                 1\n",
            "00007a195c29a781fe18cc61a9f3a50b     1                1                 1\n",
            "000090720df1dd004c5cf6cd1c615643     1                1                 1\n",
            "00009736cef1cc093b94f6084eb26368     1                0                 0\n",
            "...                                ...              ...               ...\n",
            "ffff1ea2fc4c44aebbc3292ff4c658d9     1                1                 1\n",
            "ffff22cd518ee6a0e0ef1fcdabde4071     1                0                 0\n",
            "ffff4b3402d5742fec38f771dd5101b3     1                0                 0\n",
            "ffffd173ebdb55a39b65ceef5db64f55     1                0                 0\n",
            "ffffe845668e2b132716cbd523352e76     1                1                 1\n",
            "\n",
            "[500000 rows x 3 columns] \n",
            " MachineIdentifier\n",
            "\n",
            "                  suma  n_rows_infected  media_infectados\n",
            "ProductName                                             \n",
            "mse              5395             2586          0.479333\n",
            "mseprerelease       1                0          0.000000\n",
            "win8defender   494604           247367          0.500131 \n",
            " ProductName\n",
            "\n",
            "                  suma  n_rows_infected  media_infectados\n",
            "EngineVersion                                           \n",
            "1.1.10401.0         1                0          0.000000\n",
            "1.1.11701.0         3                2          0.666667\n",
            "1.1.12101.0         7                4          0.571429\n",
            "1.1.12400.0         1                1          1.000000\n",
            "1.1.12603.0         3                1          0.333333\n",
            "1.1.12706.0         1                0          0.000000\n",
            "1.1.12804.0         4                1          0.250000\n",
            "1.1.12805.0       115               51          0.443478\n",
            "1.1.12902.0       321              128          0.398754\n",
            "1.1.13000.0       220               81          0.368182\n",
            "1.1.13102.0         1                1          1.000000\n",
            "1.1.13103.0       235               84          0.357447\n",
            "1.1.13202.0       245               85          0.346939\n",
            "1.1.13303.0       516              169          0.327519\n",
            "1.1.13406.0         1                1          1.000000\n",
            "1.1.13407.0       479              174          0.363257\n",
            "1.1.13504.0      3876             1706          0.440144\n",
            "1.1.13601.0       420              140          0.333333\n",
            "1.1.13701.0       255               86          0.337255\n",
            "1.1.13704.0       255               99          0.388235\n",
            "1.1.13802.0         4                3          0.750000\n",
            "1.1.13803.0         3                0          0.000000\n",
            "1.1.13804.0       513              194          0.378168\n",
            "1.1.13902.0         4                1          0.250000\n",
            "1.1.13903.0       515              208          0.403883\n",
            "1.1.14001.0         2                0          0.000000\n",
            "1.1.14002.0         2                0          0.000000\n",
            "1.1.14003.0       804              344          0.427861\n",
            "1.1.14102.0         2                0          0.000000\n",
            "1.1.14103.0         5                0          0.000000\n",
            "1.1.14104.0      5240             2298          0.438550\n",
            "1.1.14201.0        11                5          0.454545\n",
            "1.1.14202.0       840              357          0.425000\n",
            "1.1.14303.0        10                4          0.400000\n",
            "1.1.14305.0       270              114          0.422222\n",
            "1.1.14306.0      1329              510          0.383747\n",
            "1.1.14405.2      1972              775          0.393002\n",
            "1.1.14500.2        19                5          0.263158\n",
            "1.1.14500.5      2591             1032          0.398302\n",
            "1.1.14600.4      9005             3986          0.442643\n",
            "1.1.14700.3        61               21          0.344262\n",
            "1.1.14700.4        65               24          0.369231\n",
            "1.1.14700.5      2593              855          0.329734\n",
            "1.1.14800.1        51               13          0.254902\n",
            "1.1.14800.3      7548             2306          0.305511\n",
            "1.1.14901.3        71               18          0.253521\n",
            "1.1.14901.4     11984             3670          0.306242\n",
            "1.1.15000.1       138               33          0.239130\n",
            "1.1.15000.2     14752             5041          0.341716\n",
            "1.1.15100.1    205494           113557          0.552605\n",
            "1.1.15200.1    216491           106453          0.491720\n",
            "1.1.15300.5      3883             2025          0.521504\n",
            "1.1.15300.6      6769             3287          0.485596 \n",
            " EngineVersion\n",
            "\n",
            "                  suma  n_rows_infected  media_infectados\n",
            "AppVersion                                              \n",
            "4.10.14393.0     4399             2332          0.530120\n",
            "4.10.14393.1066   404              192          0.475248\n",
            "4.10.14393.1198  1271              653          0.513769\n",
            "4.10.14393.1532     7                4          0.571429\n",
            "4.10.14393.1593   536              278          0.518657\n",
            "...               ...              ...               ...\n",
            "4.9.10586.873     228               96          0.421053\n",
            "4.9.10586.916     311              128          0.411576\n",
            "4.9.10586.962     262              108          0.412214\n",
            "4.9.10586.965     266               99          0.372180\n",
            "4.9.218.0         334              149          0.446108\n",
            "\n",
            "[95 rows x 3 columns] \n",
            " AppVersion\n",
            "\n",
            "               suma  n_rows_infected  media_infectados\n",
            "AvSigVersion                                         \n",
            "0.0.0.0          4                0          0.000000\n",
            "1.169.55.0       1                0          0.000000\n",
            "1.199.1615.0     3                2          0.666667\n",
            "1.207.1891.0     1                1          1.000000\n",
            "1.207.2950.0     6                3          0.500000\n",
            "...            ...              ...               ...\n",
            "1.277.51.0     411              170          0.413625\n",
            "1.277.58.0      76               25          0.328947\n",
            "1.277.62.0      80               35          0.437500\n",
            "1.277.64.0      60               27          0.450000\n",
            "1.277.67.0       7                1          0.142857\n",
            "\n",
            "[6455 rows x 3 columns] \n",
            " AvSigVersion\n",
            "\n",
            "                suma  n_rows_infected  media_infectados\n",
            "Platform                                              \n",
            "windows10    483048           241476          0.499901\n",
            "windows2016     813              301          0.370234\n",
            "windows7       5314             2562          0.482123\n",
            "windows8      10825             5614          0.518614 \n",
            " Platform\n",
            "\n",
            "              suma  n_rows_infected  media_infectados\n",
            "Processor                                           \n",
            "arm64          14                0          0.000000\n",
            "x64        454423           232321          0.511244\n",
            "x86         45563            17632          0.386981 \n",
            " Processor\n",
            "\n",
            "               suma  n_rows_infected  media_infectados\n",
            "OsVer                                                \n",
            "10.0.0.0    483830           241755          0.499669\n",
            "10.0.0.1         2                2          1.000000\n",
            "10.0.0.112       1                1          1.000000\n",
            "10.0.1.0         7                5          0.714286\n",
            "10.0.2.0         1                1          1.000000\n",
            "10.0.3.0        12                9          0.750000\n",
            "10.0.32.0        1                1          1.000000\n",
            "10.0.32.72       2                0          0.000000\n",
            "10.0.4.0         1                0          0.000000\n",
            "10.0.5.0         1                1          1.000000\n",
            "10.0.7.0         1                1          1.000000\n",
            "10.0.8.0         1                1          1.000000\n",
            "10.0.80.0        1                0          0.000000\n",
            "6.1.0.0         33               10          0.303030\n",
            "6.1.1.0       5281             2552          0.483242\n",
            "6.3.0.0      10818             5612          0.518765\n",
            "6.3.1.0          2                1          0.500000\n",
            "6.3.3.0          2                0          0.000000\n",
            "6.3.32.72        1                0          0.000000\n",
            "6.3.5.0          1                0          0.000000\n",
            "6.3.7.0          1                1          1.000000 \n",
            " OsVer\n",
            "\n",
            "                         suma  n_rows_infected  media_infectados\n",
            "OsPlatformSubRelease                                           \n",
            "prers5                  1143              503          0.440070\n",
            "rs1                    40717            18848          0.462902\n",
            "rs2                    43352            20778          0.479286\n",
            "rs3                   139901            68735          0.491312\n",
            "rs4                   220779           114996          0.520865\n",
            "th1                    15014             7309          0.486812\n",
            "th2                    22955            10608          0.462122\n",
            "windows7                5314             2562          0.482123\n",
            "windows8.1             10825             5614          0.518614 \n",
            " OsPlatformSubRelease\n",
            "\n",
            "                                                     suma  n_rows_infected  \\\n",
            "OsBuildLab                                                                  \n",
            "10240.16384.amd64fre.th1.150709-1700                1415              699   \n",
            "10240.16384.x86fre.th1.150709-1700                   131               56   \n",
            "10240.16387.amd64fre.th1_st1.150711-1429               7                2   \n",
            "10240.16393.amd64fre.th1_st1.150717-1719             296              134   \n",
            "10240.16393.x86fre.th1_st1.150717-1719                74               38   \n",
            "...                                                  ...              ...   \n",
            "9600.19101.amd64fre.winblue_ltsb_escrow.180718-...  3139             1796   \n",
            "9600.19101.x86fre.winblue_ltsb_escrow.180718-1800    164               65   \n",
            "9600.19125.amd64fre.winblue_ltsb.180812-0703         873              432   \n",
            "9600.19125.x86fre.winblue_ltsb.180812-0703            71               33   \n",
            "9600.19128.amd64fre.winblue_ltsb_escrow.180813-...     1                0   \n",
            "\n",
            "                                                    media_infectados  \n",
            "OsBuildLab                                                            \n",
            "10240.16384.amd64fre.th1.150709-1700                        0.493993  \n",
            "10240.16384.x86fre.th1.150709-1700                          0.427481  \n",
            "10240.16387.amd64fre.th1_st1.150711-1429                    0.285714  \n",
            "10240.16393.amd64fre.th1_st1.150717-1719                    0.452703  \n",
            "10240.16393.x86fre.th1_st1.150717-1719                      0.513514  \n",
            "...                                                              ...  \n",
            "9600.19101.amd64fre.winblue_ltsb_escrow.180718-...          0.572157  \n",
            "9600.19101.x86fre.winblue_ltsb_escrow.180718-1800           0.396341  \n",
            "9600.19125.amd64fre.winblue_ltsb.180812-0703                0.494845  \n",
            "9600.19125.x86fre.winblue_ltsb.180812-0703                  0.464789  \n",
            "9600.19128.amd64fre.winblue_ltsb_escrow.180813-...          0.000000  \n",
            "\n",
            "[453 rows x 3 columns] \n",
            " OsBuildLab\n",
            "\n",
            "                    suma  n_rows_infected  media_infectados\n",
            "SkuEdition                                                \n",
            "Cloud               309              121          0.391586\n",
            "Education          2321             1202          0.517880\n",
            "Enterprise         1999             1035          0.517759\n",
            "Enterprise LTSB    1141              614          0.538124\n",
            "Home             308567           152007          0.492622\n",
            "Invalid            4423             2069          0.467782\n",
            "Pro              181042            92853          0.512881\n",
            "Server              198               52          0.262626 \n",
            " SkuEdition\n",
            "\n",
            "                 suma  n_rows_infected  media_infectados\n",
            "SmartScreen                                            \n",
            "&#x01;            14                6          0.428571\n",
            "&#x02;            20               11          0.550000\n",
            "Block           1274              640          0.502355\n",
            "ExistsNotSet   58497            47115          0.805426\n",
            "Off            10388             5055          0.486619\n",
            "On                53               36          0.679245\n",
            "Prompt          1950              928          0.475897\n",
            "RequireAdmin  241594           105890          0.438297\n",
            "Warn            7530             4306          0.571846\n",
            "off               75               43          0.573333\n",
            "on                 8                4          0.500000\n",
            "requireadmin       1                0          0.000000 \n",
            " SmartScreen\n",
            "\n",
            "                          suma  n_rows_infected  media_infectados\n",
            "Census_MDC2FormFactor                                           \n",
            "AllInOne                16372             8384          0.512094\n",
            "Convertible             22369            11025          0.492870\n",
            "Desktop                109527            57306          0.523213\n",
            "Detachable              16802             6351          0.377991\n",
            "LargeServer                50               10          0.200000\n",
            "LargeTablet              3645             1138          0.312209\n",
            "MediumServer              192               62          0.322917\n",
            "Notebook               320948           161411          0.502919\n",
            "PCOther                  7800             3715          0.476282\n",
            "ServerOther                 2                0          0.000000\n",
            "SmallServer               496              191          0.385081\n",
            "SmallTablet              1797              360          0.200334 \n",
            " Census_MDC2FormFactor\n",
            "\n",
            "                        suma  n_rows_infected  media_infectados\n",
            "Census_DeviceFamily                                           \n",
            "Windows                   1                0          0.000000\n",
            "Windows.Desktop      499183           249651          0.500119\n",
            "Windows.Server          816              302          0.370098 \n",
            " Census_DeviceFamily\n",
            "\n",
            "                               suma  n_rows_infected  media_infectados\n",
            "Census_PrimaryDiskTypeName                                           \n",
            "HDD                         325429           164762          0.506292\n",
            "SSD                         138155            68821          0.498143\n",
            "UNKNOWN                      20083             9019          0.449086\n",
            "Unspecified                  15624             7000          0.448029 \n",
            " Census_PrimaryDiskTypeName\n",
            "\n",
            "                           suma  n_rows_infected  media_infectados\n",
            "Census_ChassisTypeName                                           \n",
            "0                            5                2          0.400000\n",
            "25                           1                0          0.000000\n",
            "30                          11                3          0.272727\n",
            "31                           2                2          1.000000\n",
            "32                           1                1          1.000000\n",
            "35                           3                1          0.333333\n",
            "AllinOne                 11407             5831          0.511177\n",
            "Blade                        3                0          0.000000\n",
            "BusExpansionChassis         38               15          0.394737\n",
            "Convertible               4685             2252          0.480683\n",
            "Desktop                 104979            55150          0.525343\n",
            "Detachable                2930             1020          0.348123\n",
            "ExpansionChassis             1                0          0.000000\n",
            "HandHeld                  2652              784          0.295626\n",
            "Laptop                   38261            18864          0.493035\n",
            "LowProfileDesktop         2878             1481          0.514593\n",
            "LunchBox                   224              102          0.455357\n",
            "MainServerChassis          512              228          0.445312\n",
            "MiniPC                     261               89          0.340996\n",
            "MiniTower                 4849             2597          0.535574\n",
            "MultisystemChassis           3                1          0.333333\n",
            "Notebook                294232           147270          0.500523\n",
            "Other                     4215             1151          0.273072\n",
            "PizzaBox                     3                1          0.333333\n",
            "Portable                 20181             9696          0.480452\n",
            "RackMountChassis           189               62          0.328042\n",
            "SpaceSaving               1689              807          0.477798\n",
            "StickPC                      7                0          0.000000\n",
            "SubChassis                   2                1          0.500000\n",
            "SubNotebook                 47               17          0.361702\n",
            "Tablet                     730              263          0.360274\n",
            "Tower                      692              362          0.523121\n",
            "UNKNOWN                   3695             1636          0.442760\n",
            "Unknown                    575              247          0.429565 \n",
            " Census_ChassisTypeName\n",
            "\n",
            "                                 suma  n_rows_infected  media_infectados\n",
            "Census_PowerPlatformRoleName                                           \n",
            "AppliancePC                      212               46          0.216981\n",
            "Desktop                       116054            60942          0.525118\n",
            "EnterpriseServer                 406              177          0.435961\n",
            "Mobile                        346378           173910          0.502082\n",
            "PerformanceServer                  4                3          0.750000\n",
            "SOHOServer                      2062             1024          0.496605\n",
            "Slate                          27475            10082          0.366952\n",
            "UNKNOWN                         1172              571          0.487201\n",
            "Workstation                     6235             3198          0.512911 \n",
            " Census_PowerPlatformRoleName\n",
            "\n",
            "                               suma  n_rows_infected  media_infectados\n",
            "Census_InternalBatteryType                                           \n",
            "#                            10176             5321          0.522897\n",
            "3ion                             1                0          0.000000\n",
            "4cel                             6                1          0.166667\n",
            "a132                             2                1          0.500000\n",
            "bad                              3                1          0.333333\n",
            "batt                             3                0          0.000000\n",
            "bq20                           143               38          0.265734\n",
            "icp3                             1                1          1.000000\n",
            "ithi                             7                2          0.285714\n",
            "lgi0                            29               17          0.586207\n",
            "lgl0                             1                1          1.000000\n",
            "lhp0                            12                4          0.333333\n",
            "li                             356              154          0.432584\n",
            "li p                           466              218          0.467811\n",
            "li-i                         13855             6718          0.484879\n",
            "li-l                             1                1          1.000000\n",
            "liio                          1814              830          0.457552\n",
            "lion                        113500            54715          0.482070\n",
            "lip                           3326             1791          0.538485\n",
            "lipo                            13                6          0.461538\n",
            "lipp                             3                2          0.666667\n",
            "nimh                           272              118          0.433824\n",
            "pbac                           130               65          0.500000\n",
            "ram                              5                1          0.200000\n",
            "real                           162               85          0.524691\n",
            "unkn                            19               11          0.578947\n",
            "vbox                            89               22          0.247191\n",
            "virt                             2                0          0.000000 \n",
            " Census_InternalBatteryType\n",
            "\n",
            "                   suma  n_rows_infected  media_infectados\n",
            "Census_OSVersion                                         \n",
            "10.0.10240.16384  1499              714          0.476318\n",
            "10.0.10240.16387     2                0          0.000000\n",
            "10.0.10240.16389     2                1          0.500000\n",
            "10.0.10240.16393     2                2          1.000000\n",
            "10.0.10240.16394     3                0          0.000000\n",
            "...                ...              ...               ...\n",
            "10.0.18219.1000      1                1          1.000000\n",
            "10.0.18234.1000     14                5          0.357143\n",
            "10.0.18237.1000     14                6          0.428571\n",
            "10.0.18242.1000     13                8          0.615385\n",
            "6.3.9600.19069       1                0          0.000000\n",
            "\n",
            "[305 rows x 3 columns] \n",
            " Census_OSVersion\n",
            "\n",
            "                          suma  n_rows_infected  media_infectados\n",
            "Census_OSArchitecture                                           \n",
            "amd64                  454435           232267          0.511112\n",
            "arm64                      14                0          0.000000\n",
            "x86                     45551            17686          0.388268 \n",
            " Census_OSArchitecture\n",
            "\n",
            "                              suma  n_rows_infected  media_infectados\n",
            "Census_OSBranch                                                     \n",
            "rs1_release                 43705            20322          0.464981\n",
            "rs2_release                 44264            21230          0.479622\n",
            "rs3_release                 69216            32176          0.464864\n",
            "rs3_release_svc_escrow      67027            34572          0.515792\n",
            "rs3_release_svc_escrow_im     329              132          0.401216\n",
            "rs4_release                226001           118008          0.522157\n",
            "rs5_release                   839              364          0.433850\n",
            "rs5_release_sigma               3                1          0.333333\n",
            "rs_prerelease                 184               76          0.413043\n",
            "rs_prerelease_flt             132               69          0.522727\n",
            "th1                          4284             1892          0.441643\n",
            "th1_st1                     10822             5451          0.503696\n",
            "th2_release                 18298             9022          0.493059\n",
            "th2_release_sec             14895             6638          0.445653\n",
            "winblue_ltsb_escrow             1                0          0.000000 \n",
            " Census_OSBranch\n",
            "\n",
            "                             suma  n_rows_infected  media_infectados\n",
            "Census_OSEdition                                                   \n",
            "Cloud                        336              134          0.398810\n",
            "CloudN                         1                0          0.000000\n",
            "Core                      194469            91666          0.471366\n",
            "CoreCountrySpecific         9275             4755          0.512668\n",
            "CoreN                        251              108          0.430279\n",
            "CoreSingleLanguage        108696            57588          0.529808\n",
            "Education                   2310             1210          0.523810\n",
            "EducationN                    61               28          0.459016\n",
            "Enterprise                  2055             1065          0.518248\n",
            "EnterpriseN                   28               16          0.571429\n",
            "EnterpriseS                 1108              583          0.526173\n",
            "EnterpriseSN                  47               35          0.744681\n",
            "Professional              175808            89889          0.511291\n",
            "ProfessionalEducation       3100             1695          0.546774\n",
            "ProfessionalEducationN        12                4          0.333333\n",
            "ProfessionalN               1624              873          0.537562\n",
            "ProfessionalWorkstation        2                1          0.500000\n",
            "ProfessionalWorkstationN       1                1          1.000000\n",
            "ServerDatacenterEval          47               15          0.319149\n",
            "ServerSolution                34               13          0.382353\n",
            "ServerStandard               584              237          0.405822\n",
            "ServerStandardEval           151               37          0.245033 \n",
            " Census_OSEdition\n",
            "\n",
            "                                 suma  n_rows_infected  media_infectados\n",
            "Census_OSSkuName                                                       \n",
            "CLOUD                            332              133          0.400602\n",
            "CLOUDN                             1                0          0.000000\n",
            "CORE                          194464            91666          0.471378\n",
            "CORE_COUNTRYSPECIFIC            9257             4743          0.512369\n",
            "CORE_N                           251              108          0.430279\n",
            "CORE_SINGLELANGUAGE           108674            57578          0.529823\n",
            "DATACENTER_EVALUATION_SERVER      47               15          0.319149\n",
            "EDUCATION                       2313             1213          0.524427\n",
            "EDUCATION_N                       61               28          0.459016\n",
            "ENTERPRISE                      2063             1067          0.517208\n",
            "ENTERPRISE_N                      28               16          0.571429\n",
            "ENTERPRISE_S                    1107              583          0.526649\n",
            "ENTERPRISE_S_N                    48               35          0.729167\n",
            "PROFESSIONAL                  178947            91603          0.511900\n",
            "PROFESSIONAL_N                  1634              875          0.535496\n",
            "PRO_WORKSTATION                    2                1          0.500000\n",
            "PRO_WORKSTATION_N                  1                1          1.000000\n",
            "SB_SOLUTION_SERVER                34               13          0.382353\n",
            "STANDARD_EVALUATION_SERVER       151               37          0.245033\n",
            "STANDARD_SERVER                  584              237          0.405822\n",
            "UNLICENSED                         1                1          1.000000 \n",
            " Census_OSSkuName\n",
            "\n",
            "                             suma  n_rows_infected  media_infectados\n",
            "Census_OSInstallTypeName                                           \n",
            "Clean                       3885             2032          0.523037\n",
            "CleanPCRefresh              3017             1395          0.462380\n",
            "IBSClean                   92403            48304          0.522754\n",
            "Other                      46960            22409          0.477193\n",
            "Refresh                    11540             5326          0.461525\n",
            "Reset                      36510            17605          0.482197\n",
            "UUPUpgrade                146780            77129          0.525473\n",
            "Update                     88892            42499          0.478097\n",
            "Upgrade                    70013            33254          0.474969 \n",
            " Census_OSInstallTypeName\n",
            "\n",
            "                                          suma  n_rows_infected  \\\n",
            "Census_OSWUAutoUpdateOptionsName                                 \n",
            "AutoInstallAndRebootAtMaintenanceTime   20731            10056   \n",
            "DownloadNotify                            813              301   \n",
            "FullAuto                               222482           114807   \n",
            "Notify                                 113507            53867   \n",
            "Off                                      1506              732   \n",
            "UNKNOWN                                140961            70190   \n",
            "\n",
            "                                       media_infectados  \n",
            "Census_OSWUAutoUpdateOptionsName                         \n",
            "AutoInstallAndRebootAtMaintenanceTime          0.485071  \n",
            "DownloadNotify                                 0.370234  \n",
            "FullAuto                                       0.516028  \n",
            "Notify                                         0.474570  \n",
            "Off                                            0.486056  \n",
            "UNKNOWN                                        0.497939   \n",
            " Census_OSWUAutoUpdateOptionsName\n",
            "\n",
            "                            suma  n_rows_infected  media_infectados\n",
            "Census_GenuineStateName                                           \n",
            "INVALID_LICENSE           44990            22236          0.494243\n",
            "IS_GENUINE               441402           220477          0.499493\n",
            "OFFLINE                   12834             6994          0.544959\n",
            "UNKNOWN                     774              246          0.317829 \n",
            " Census_GenuineStateName\n",
            "\n",
            "                             suma  n_rows_infected  media_infectados\n",
            "Census_ActivationChannel                                           \n",
            "OEM:DM                    191350            94880          0.495845\n",
            "OEM:NONSLP                 17943             9314          0.519088\n",
            "Retail                    264932           130532          0.492700\n",
            "Retail:TB:Eval               198               52          0.262626\n",
            "Volume:GVLK                25109            14963          0.595922\n",
            "Volume:MAK                   468              212          0.452991 \n",
            " Census_ActivationChannel\n",
            "\n",
            "                      suma  n_rows_infected  media_infectados\n",
            "Census_FlightRing                                           \n",
            "Disabled              217              100          0.460829\n",
            "NOT_SET             16044             7980          0.497382\n",
            "OSG                     1                0          0.000000\n",
            "RP                    583              299          0.512864\n",
            "Retail             468299           234693          0.501161\n",
            "Unknown             13701             6378          0.465513\n",
            "WIF                   549              253          0.460838\n",
            "WIS                   606              250          0.412541 \n",
            " Census_FlightRing\n",
            "\n",
            "                    suma  n_rows_infected  media_infectados\n",
            "CountryIdentifier                                         \n",
            "1                   117               59          0.504274\n",
            "2                  3822             1822          0.476714\n",
            "3                   248              122          0.491935\n",
            "4                   128               50          0.390625\n",
            "5                    24               12          0.500000\n",
            "...                 ...              ...               ...\n",
            "218                 187              100          0.534759\n",
            "219                 151               43          0.284768\n",
            "220                4551             2116          0.464953\n",
            "221                 480              257          0.535417\n",
            "222                 763              369          0.483617\n",
            "\n",
            "[222 rows x 3 columns] \n",
            " CountryIdentifier\n"
          ]
        }
      ],
      "source": [
        "for columns in categorical_list:\n",
        "       print('\\n',explore_cat_values(df, columns),'\\n', columns)\n",
        "#no me termina de convencer esta funcion..... charlar con edu."
      ]
    },
    {
      "cell_type": "markdown",
      "metadata": {
        "id": "K3tvnA-PYMZL"
      },
      "source": [
        "MachineIdentifier works as an id so its categorical attribution is fine and it does not represent anything for the dataset since each observation represents a different identifier, it does not make sense either to see the distribution of the observations or countplot since there are 50000 different obsv. We remove it."
      ]
    },
    {
      "cell_type": "code",
      "execution_count": null,
      "metadata": {
        "id": "DKFbljVJw4Ag"
      },
      "outputs": [],
      "source": [
        "df_1.drop('MachineIdentifier', axis=1, inplace=True)"
      ]
    },
    {
      "cell_type": "markdown",
      "metadata": {
        "id": "VdQtq4Rw3kJD"
      },
      "source": [
        "Analyzing the rest of the categorical variables, we opted to divide the action into three different transformations.\n",
        "\n",
        "Variables that contain a single predominant value in their distribution will be converted to Boolean, separating the observations into those that belong to the majority group (1) and those that do not belong to this group (0).\n",
        "\n",
        "Variables that contain a more regular distribution of their values ​​but that do not exceed 60 different values ​​will be transformed with One Hot Encoding.\n",
        "\n",
        "And the variables that exceed 60 different values ​​and also comply with a regular distribution of these values ​​will be transformed with a Frequency Encoding."
      ]
    },
    {
      "cell_type": "code",
      "execution_count": null,
      "metadata": {
        "id": "3TOAqLHd4Uc8"
      },
      "outputs": [],
      "source": [
        "categorical_list=actualizar_lista(categorical_list)"
      ]
    },
    {
      "cell_type": "markdown",
      "metadata": {
        "id": "N4LQH9S55CPs"
      },
      "source": [
        "If the most frequent value comprises more than 90% of the variable (450000 in freq) it is transformed to Boolean."
      ]
    },
    {
      "cell_type": "code",
      "execution_count": null,
      "metadata": {
        "colab": {
          "base_uri": "https://localhost:8080/"
        },
        "id": "upAw11GbCZzd",
        "outputId": "7ac23dc0-9e4f-4922-e9ce-0f30a852640e"
      },
      "outputs": [
        {
          "output_type": "execute_result",
          "data": {
            "text/plain": [
              "['ProductName',\n",
              " 'Platform',\n",
              " 'Processor',\n",
              " 'OsVer',\n",
              " 'Census_DeviceFamily',\n",
              " 'Census_OSArchitecture',\n",
              " 'Census_FlightRing']"
            ]
          },
          "metadata": {},
          "execution_count": 49
        }
      ],
      "source": [
        "cat_to_bool = []\n",
        "for i in categorical_list:\n",
        "  if df_1[i].describe()['freq']>450000 :\n",
        "    cat_to_bool.append(i)\n",
        "cat_to_bool  #si el valor mas frecuente comprende mas del 90% de la variable transformamos a booleana (valor mas frecuente true o false)"
      ]
    },
    {
      "cell_type": "code",
      "execution_count": null,
      "metadata": {
        "id": "0YBI2TeiGzEH"
      },
      "outputs": [],
      "source": [
        "def countplt (column):\n",
        "  plt.figure(figsize = (10,3))\n",
        "  sns.countplot(df_1[column])"
      ]
    },
    {
      "cell_type": "code",
      "execution_count": null,
      "metadata": {
        "colab": {
          "base_uri": "https://localhost:8080/"
        },
        "id": "oTDi4Dx9HNR7",
        "outputId": "4a649587-8061-45d9-b372-b998610575d6"
      },
      "outputs": [
        {
          "output_type": "stream",
          "name": "stderr",
          "text": [
            "/usr/local/lib/python3.8/dist-packages/seaborn/_decorators.py:36: FutureWarning: Pass the following variable as a keyword arg: x. From version 0.12, the only valid positional argument will be `data`, and passing other arguments without an explicit keyword will result in an error or misinterpretation.\n",
            "  warnings.warn(\n",
            "/usr/local/lib/python3.8/dist-packages/seaborn/_decorators.py:36: FutureWarning: Pass the following variable as a keyword arg: x. From version 0.12, the only valid positional argument will be `data`, and passing other arguments without an explicit keyword will result in an error or misinterpretation.\n",
            "  warnings.warn(\n",
            "/usr/local/lib/python3.8/dist-packages/seaborn/_decorators.py:36: FutureWarning: Pass the following variable as a keyword arg: x. From version 0.12, the only valid positional argument will be `data`, and passing other arguments without an explicit keyword will result in an error or misinterpretation.\n",
            "  warnings.warn(\n",
            "/usr/local/lib/python3.8/dist-packages/seaborn/_decorators.py:36: FutureWarning: Pass the following variable as a keyword arg: x. From version 0.12, the only valid positional argument will be `data`, and passing other arguments without an explicit keyword will result in an error or misinterpretation.\n",
            "  warnings.warn(\n",
            "/usr/local/lib/python3.8/dist-packages/seaborn/_decorators.py:36: FutureWarning: Pass the following variable as a keyword arg: x. From version 0.12, the only valid positional argument will be `data`, and passing other arguments without an explicit keyword will result in an error or misinterpretation.\n",
            "  warnings.warn(\n",
            "/usr/local/lib/python3.8/dist-packages/seaborn/_decorators.py:36: FutureWarning: Pass the following variable as a keyword arg: x. From version 0.12, the only valid positional argument will be `data`, and passing other arguments without an explicit keyword will result in an error or misinterpretation.\n",
            "  warnings.warn(\n",
            "/usr/local/lib/python3.8/dist-packages/seaborn/_decorators.py:36: FutureWarning: Pass the following variable as a keyword arg: x. From version 0.12, the only valid positional argument will be `data`, and passing other arguments without an explicit keyword will result in an error or misinterpretation.\n",
            "  warnings.warn(\n"
          ]
        },
        {
          "output_type": "display_data",
          "data": {
            "text/plain": [
              "<Figure size 720x216 with 1 Axes>"
            ],
            "image/png": "[encoded data removed]"
          },
          "metadata": {
            "needs_background": "light"
          }
        },
        {
          "output_type": "display_data",
          "data": {
            "text/plain": [
              "<Figure size 720x216 with 1 Axes>"
            ],
            "image/png": "[encoded data removed]"
          },
          "metadata": {
            "needs_background": "light"
          }
        },
        {
          "output_type": "display_data",
          "data": {
            "text/plain": [
              "<Figure size 720x216 with 1 Axes>"
            ],
            "image/png": "[encoded data removed]"
          },
          "metadata": {
            "needs_background": "light"
          }
        },
        {
          "output_type": "display_data",
          "data": {
            "text/plain": [
              "<Figure size 720x216 with 1 Axes>"
            ],
            "image/png": "[encoded data removed]"
          },
          "metadata": {
            "needs_background": "light"
          }
        },
        {
          "output_type": "display_data",
          "data": {
            "text/plain": [
              "<Figure size 720x216 with 1 Axes>"
            ],
            "image/png": "[encoded data removed]"
          },
          "metadata": {
            "needs_background": "light"
          }
        },
        {
          "output_type": "display_data",
          "data": {
            "text/plain": [
              "<Figure size 720x216 with 1 Axes>"
            ],
            "image/png": "[encoded data removed]"
          },
          "metadata": {
            "needs_background": "light"
          }
        },
        {
          "output_type": "display_data",
          "data": {
            "text/plain": [
              "<Figure size 720x216 with 1 Axes>"
            ],
            "image/png": "[encoded data removed]"
          },
          "metadata": {
            "needs_background": "light"
          }
        }
      ],
      "source": [
        "for i in cat_to_bool:\n",
        "  countplt(i)"
      ]
    },
    {
      "cell_type": "code",
      "execution_count": null,
      "metadata": {
        "id": "j9AVXz2mB0Jx"
      },
      "outputs": [],
      "source": [
        "for i in cat_to_bool:\n",
        "  mf_value = df_1[i].describe()['top']\n",
        "  lista = list(map(lambda ele: ele == mf_value, df_1[i]))\n",
        "  df_1[i + '_' + mf_value] = lista\n",
        "  df_1.drop([i], axis=1, inplace=True)\n",
        "#nuevas columnas booleanas ''nombre viejo'_'valor mas frecuente'', y elimino las columnas viejas."
      ]
    },
    {
      "cell_type": "code",
      "execution_count": null,
      "metadata": {
        "colab": {
          "base_uri": "https://localhost:8080/"
        },
        "id": "iV0v-qb8Z4_P",
        "outputId": "1c1ef7af-a2ff-4625-9e17-e205d70d0b32"
      },
      "outputs": [
        {
          "output_type": "execute_result",
          "data": {
            "text/plain": [
              "count     499271\n",
              "unique         2\n",
              "top         True\n",
              "freq      453832\n",
              "Name: Processor_x64, dtype: object"
            ]
          },
          "metadata": {},
          "execution_count": 53
        }
      ],
      "source": [
        "df_1['Processor_x64'].describe() #check"
      ]
    },
    {
      "cell_type": "code",
      "execution_count": null,
      "metadata": {
        "colab": {
          "base_uri": "https://localhost:8080/"
        },
        "id": "FELxvFzalBBd",
        "outputId": "3833b60b-682c-4c96-f45b-44d2661e652d"
      },
      "outputs": [
        {
          "output_type": "stream",
          "name": "stdout",
          "text": [
            "<class 'pandas.core.frame.DataFrame'>\n",
            "Int64Index: 499271 entries, 0 to 499999\n",
            "Data columns (total 65 columns):\n",
            " #   Column                                             Non-Null Count   Dtype  \n",
            "---  ------                                             --------------   -----  \n",
            " 0   Unnamed: 0                                         499271 non-null  int64  \n",
            " 1   EngineVersion                                      499271 non-null  object \n",
            " 2   AppVersion                                         499271 non-null  object \n",
            " 3   AvSigVersion                                       499271 non-null  object \n",
            " 4   IsBeta                                             499271 non-null  int64  \n",
            " 5   RtpStateBitfield                                   497448 non-null  float64\n",
            " 6   IsSxsPassiveMode                                   499271 non-null  int64  \n",
            " 7   AVProductsInstalled                                497333 non-null  float64\n",
            " 8   AVProductsEnabled                                  497333 non-null  float64\n",
            " 9   HasTpm                                             499271 non-null  int64  \n",
            " 10  CountryIdentifier                                  499271 non-null  object \n",
            " 11  OsBuild                                            499271 non-null  int64  \n",
            " 12  OsSuite                                            499271 non-null  int64  \n",
            " 13  OsPlatformSubRelease                               499271 non-null  object \n",
            " 14  OsBuildLab                                         499271 non-null  object \n",
            " 15  SkuEdition                                         499271 non-null  object \n",
            " 16  IsProtected                                        497345 non-null  float64\n",
            " 17  AutoSampleOptIn                                    499271 non-null  int64  \n",
            " 18  SMode                                              469463 non-null  float64\n",
            " 19  SmartScreen                                        499271 non-null  object \n",
            " 20  Firewall                                           494459 non-null  float64\n",
            " 21  UacLuaenable                                       498652 non-null  float64\n",
            " 22  Census_MDC2FormFactor                              499271 non-null  object \n",
            " 23  Census_ProcessorCoreCount                          496933 non-null  float64\n",
            " 24  Census_PrimaryDiskTotalCapacity                    496300 non-null  float64\n",
            " 25  Census_PrimaryDiskTypeName                         499271 non-null  object \n",
            " 26  Census_SystemVolumeTotalCapacity                   496300 non-null  float64\n",
            " 27  Census_HasOpticalDiskDrive                         499271 non-null  int64  \n",
            " 28  Census_TotalPhysicalRAM                            494725 non-null  float64\n",
            " 29  Census_ChassisTypeName                             499271 non-null  object \n",
            " 30  Census_InternalPrimaryDiagonalDisplaySizeInInches  496742 non-null  float64\n",
            " 31  Census_InternalPrimaryDisplayResolutionHorizontal  496746 non-null  float64\n",
            " 32  Census_InternalPrimaryDisplayResolutionVertical    496746 non-null  float64\n",
            " 33  Census_PowerPlatformRoleName                       499271 non-null  object \n",
            " 34  Census_InternalBatteryType                         499271 non-null  object \n",
            " 35  Census_InternalBatteryNumberOfCharges              484512 non-null  float64\n",
            " 36  Census_OSVersion                                   499271 non-null  object \n",
            " 37  Census_OSBranch                                    499271 non-null  object \n",
            " 38  Census_OSBuildNumber                               499271 non-null  int64  \n",
            " 39  Census_OSBuildRevision                             499271 non-null  int64  \n",
            " 40  Census_OSEdition                                   499271 non-null  object \n",
            " 41  Census_OSSkuName                                   499271 non-null  object \n",
            " 42  Census_OSInstallTypeName                           499271 non-null  object \n",
            " 43  Census_OSWUAutoUpdateOptionsName                   499271 non-null  object \n",
            " 44  Census_IsPortableOperatingSystem                   499271 non-null  int64  \n",
            " 45  Census_GenuineStateName                            499271 non-null  object \n",
            " 46  Census_ActivationChannel                           499271 non-null  object \n",
            " 47  Census_IsFlightingInternal                         84733 non-null   float64\n",
            " 48  Census_IsFlightsDisabled                           491014 non-null  float64\n",
            " 49  Census_ThresholdOptIn                              181206 non-null  float64\n",
            " 50  Census_IsSecureBootEnabled                         499271 non-null  int64  \n",
            " 51  Census_IsWIMBootEnabled                            181629 non-null  float64\n",
            " 52  Census_IsVirtualDevice                             498370 non-null  float64\n",
            " 53  Census_IsTouchEnabled                              499271 non-null  int64  \n",
            " 54  Census_IsPenCapable                                499271 non-null  int64  \n",
            " 55  Census_IsAlwaysOnAlwaysConnectedCapable            495253 non-null  float64\n",
            " 56  Wdft_IsGamer                                       482321 non-null  float64\n",
            " 57  HasDetections                                      499271 non-null  int64  \n",
            " 58  ProductName_win8defender                           499271 non-null  bool   \n",
            " 59  Platform_windows10                                 499271 non-null  bool   \n",
            " 60  Processor_x64                                      499271 non-null  bool   \n",
            " 61  OsVer_10.0.0.0                                     499271 non-null  bool   \n",
            " 62  Census_DeviceFamily_Windows.Desktop                499271 non-null  bool   \n",
            " 63  Census_OSArchitecture_amd64                        499271 non-null  bool   \n",
            " 64  Census_FlightRing_Retail                           499271 non-null  bool   \n",
            "dtypes: bool(7), float64(22), int64(15), object(21)\n",
            "memory usage: 244.2+ MB\n"
          ]
        }
      ],
      "source": [
        "df_1.info()"
      ]
    },
    {
      "cell_type": "markdown",
      "metadata": {
        "id": "bDYPHz8m9UJl"
      },
      "source": [
        "###One Hot Eencoding"
      ]
    },
    {
      "cell_type": "code",
      "execution_count": null,
      "metadata": {
        "id": "JZD_VCaY1v1n"
      },
      "outputs": [],
      "source": [
        "def OHE(dataframe, column_name):\n",
        "\n",
        "  _dummy_dataset = pd.get_dummies(dataframe[column_name], prefix = column_name)\n",
        "  dataframe = pd.concat([dataframe,_dummy_dataset ], axis = 1)\n",
        "  dataframe.drop(column_name, axis = 1 , inplace = True)\n",
        "\n",
        "  return dataframe"
      ]
    },
    {
      "cell_type": "code",
      "execution_count": null,
      "metadata": {
        "id": "hO_0DfIj-g2B"
      },
      "outputs": [],
      "source": [
        "categorical_list = actualizar_lista(categorical_list)"
      ]
    },
    {
      "cell_type": "code",
      "execution_count": null,
      "metadata": {
        "colab": {
          "base_uri": "https://localhost:8080/"
        },
        "id": "g_kv8o3uSJZN",
        "outputId": "79eeec4a-e0e8-4d83-bdb1-4495c67e0606"
      },
      "outputs": [
        {
          "output_type": "execute_result",
          "data": {
            "text/plain": [
              "['EngineVersion',\n",
              " 'AppVersion',\n",
              " 'AvSigVersion',\n",
              " 'Processor',\n",
              " 'OsPlatformSubRelease',\n",
              " 'OsBuildLab',\n",
              " 'SkuEdition',\n",
              " 'SmartScreen',\n",
              " 'Census_MDC2FormFactor',\n",
              " 'Census_PrimaryDiskTypeName',\n",
              " 'Census_ChassisTypeName',\n",
              " 'Census_PowerPlatformRoleName',\n",
              " 'Census_InternalBatteryType',\n",
              " 'Census_OSVersion',\n",
              " 'Census_OSBranch',\n",
              " 'Census_OSEdition',\n",
              " 'Census_OSSkuName',\n",
              " 'Census_OSInstallTypeName',\n",
              " 'Census_OSWUAutoUpdateOptionsName',\n",
              " 'Census_GenuineStateName',\n",
              " 'Census_ActivationChannel',\n",
              " 'CountryIdentifier']"
            ]
          },
          "metadata": {},
          "execution_count": 57
        }
      ],
      "source": [
        "categorical_list"
      ]
    },
    {
      "cell_type": "code",
      "execution_count": null,
      "metadata": {
        "colab": {
          "base_uri": "https://localhost:8080/"
        },
        "id": "xIVXD6T78kuV",
        "outputId": "cd270a0a-362b-4ac4-c4d9-33f3f3d037fd"
      },
      "outputs": [
        {
          "output_type": "execute_result",
          "data": {
            "text/plain": [
              "['EngineVersion',\n",
              " 'OsPlatformSubRelease',\n",
              " 'SkuEdition',\n",
              " 'SmartScreen',\n",
              " 'Census_MDC2FormFactor',\n",
              " 'Census_PrimaryDiskTypeName',\n",
              " 'Census_ChassisTypeName',\n",
              " 'Census_PowerPlatformRoleName',\n",
              " 'Census_InternalBatteryType',\n",
              " 'Census_OSBranch',\n",
              " 'Census_OSEdition',\n",
              " 'Census_OSSkuName',\n",
              " 'Census_OSInstallTypeName',\n",
              " 'Census_OSWUAutoUpdateOptionsName',\n",
              " 'Census_GenuineStateName',\n",
              " 'Census_ActivationChannel',\n",
              " 'ProductName_win8defender',\n",
              " 'Platform_windows10',\n",
              " 'Processor_x64',\n",
              " 'OsVer_10.0.0.0',\n",
              " 'Census_DeviceFamily_Windows.Desktop',\n",
              " 'Census_OSArchitecture_amd64',\n",
              " 'Census_FlightRing_Retail']"
            ]
          },
          "metadata": {},
          "execution_count": 58
        }
      ],
      "source": [
        "\n",
        "cat_to_OHE = []\n",
        "for i in df_1.select_dtypes(exclude = np.number).columns:\n",
        "  if df_1[i].describe()['unique']<60:\n",
        "    cat_to_OHE.append(i)\n",
        "cat_to_OHE                                   "
      ]
    },
    {
      "cell_type": "code",
      "execution_count": null,
      "metadata": {
        "id": "EHtemqWc8ksW"
      },
      "outputs": [],
      "source": [
        "for i in cat_to_OHE:\n",
        "  df_1 = OHE(df_1, i)"
      ]
    },
    {
      "cell_type": "code",
      "execution_count": null,
      "metadata": {
        "colab": {
          "base_uri": "https://localhost:8080/"
        },
        "id": "B6vC7XTUPgWo",
        "outputId": "5c201226-13fa-4bdc-c6cf-b677a8b68cb1"
      },
      "outputs": [
        {
          "output_type": "execute_result",
          "data": {
            "text/plain": [
              "['AppVersion',\n",
              " 'AvSigVersion',\n",
              " 'OsPlatformSubRelease',\n",
              " 'OsBuildLab',\n",
              " 'SmartScreen',\n",
              " 'Census_PrimaryDiskTypeName',\n",
              " 'Census_PowerPlatformRoleName',\n",
              " 'Census_OSVersion',\n",
              " 'Census_OSEdition',\n",
              " 'Census_OSInstallTypeName',\n",
              " 'Census_GenuineStateName',\n",
              " 'CountryIdentifier']"
            ]
          },
          "metadata": {},
          "execution_count": 60
        }
      ],
      "source": [
        "categorical_list= actualizar_lista(categorical_list)\n",
        "categorical_list"
      ]
    },
    {
      "cell_type": "markdown",
      "metadata": {
        "id": "ALmDw95mDcXU"
      },
      "source": [
        "###Frequency Encoder"
      ]
    },
    {
      "cell_type": "code",
      "execution_count": null,
      "metadata": {
        "id": "ZxocPSTwScBx"
      },
      "outputs": [],
      "source": [
        "a, b, cat_mayor_60 = obtener_lista_de_variables(df_1)"
      ]
    },
    {
      "cell_type": "code",
      "execution_count": null,
      "metadata": {
        "colab": {
          "base_uri": "https://localhost:8080/"
        },
        "id": "gEX8xUWSErcx",
        "outputId": "3c7f223e-0a62-4391-8ab3-25356eafc195"
      },
      "outputs": [
        {
          "output_type": "execute_result",
          "data": {
            "text/plain": [
              "['AppVersion',\n",
              " 'AvSigVersion',\n",
              " 'CountryIdentifier',\n",
              " 'OsBuildLab',\n",
              " 'Census_OSVersion']"
            ]
          },
          "metadata": {},
          "execution_count": 62
        }
      ],
      "source": [
        "cat_mayor_60"
      ]
    },
    {
      "cell_type": "code",
      "execution_count": null,
      "metadata": {
        "colab": {
          "base_uri": "https://localhost:8080/"
        },
        "id": "5DhT00m7Dh40",
        "outputId": "2e250fcc-a15c-4415-adcc-d48f27377bf6"
      },
      "outputs": [
        {
          "output_type": "stream",
          "name": "stdout",
          "text": [
            "True\n",
            "True\n",
            "True\n",
            "True\n",
            "True\n"
          ]
        }
      ],
      "source": [
        "for i in cat_mayor_60:\n",
        "  print(df_1[i].nunique() >= 60) #check"
      ]
    },
    {
      "cell_type": "code",
      "execution_count": null,
      "metadata": {
        "id": "FzvQEBADF3m8"
      },
      "outputs": [],
      "source": [
        "def freq_encoder(dataframe, column):\n",
        " df_col = pd.DataFrame(dataframe[column].value_counts(dropna=False))\n",
        " df_col.columns = [f'{column}_count']\n",
        " df_col[column] = df_col.index\n",
        " dataframe = dataframe.merge(df_col, on=column)\n",
        " dataframe.drop(column, axis=1, inplace=True)\n",
        " \n",
        " return dataframe"
      ]
    },
    {
      "cell_type": "code",
      "execution_count": null,
      "metadata": {
        "id": "LyfXhbT5UxgQ"
      },
      "outputs": [],
      "source": [
        "for i in cat_mayor_60:\n",
        "  df_1 = freq_encoder(df_1, i)"
      ]
    },
    {
      "cell_type": "code",
      "execution_count": null,
      "metadata": {
        "colab": {
          "base_uri": "https://localhost:8080/"
        },
        "id": "QhbDNwhkh-sR",
        "outputId": "1182836a-885f-4a15-e1aa-a152bd12dc5b"
      },
      "outputs": [
        {
          "output_type": "stream",
          "name": "stdout",
          "text": [
            "<class 'pandas.core.frame.DataFrame'>\n",
            "Int64Index: 499271 entries, 0 to 499270\n",
            "Columns: 310 entries, Unnamed: 0 to Census_OSVersion_count\n",
            "dtypes: float64(22), int64(20), uint8(268)\n",
            "memory usage: 291.4 MB\n"
          ]
        }
      ],
      "source": [
        "df_1.info()"
      ]
    },
    {
      "cell_type": "markdown",
      "metadata": {
        "id": "hQbJkJ0z5oEN"
      },
      "source": [
        "We no longer have 'object' variables in the data set. What was the objective of the transformations of the categorical variables."
      ]
    },
    {
      "cell_type": "markdown",
      "metadata": {
        "id": "lFXaiT9rKTuu"
      },
      "source": [
        "##Numericas\n"
      ]
    },
    {
      "cell_type": "code",
      "execution_count": null,
      "metadata": {
        "colab": {
          "base_uri": "https://localhost:8080/"
        },
        "id": "vWUlnCbvKVX1",
        "outputId": "db1bc6ce-0d47-429c-e6a7-f5a302ab34dd"
      },
      "outputs": [
        {
          "output_type": "execute_result",
          "data": {
            "text/plain": [
              "Unnamed: 0                                                0\n",
              "RtpStateBitfield                                       1823\n",
              "AVProductsInstalled                                    1938\n",
              "AVProductsEnabled                                      1938\n",
              "OsBuild                                                   0\n",
              "OsSuite                                                   0\n",
              "IsProtected                                            1926\n",
              "SMode                                                 29808\n",
              "Firewall                                               4812\n",
              "UacLuaenable                                            619\n",
              "Census_ProcessorCoreCount                              2338\n",
              "Census_PrimaryDiskTotalCapacity                        2971\n",
              "Census_SystemVolumeTotalCapacity                       2971\n",
              "Census_TotalPhysicalRAM                                4546\n",
              "Census_InternalPrimaryDiagonalDisplaySizeInInches      2529\n",
              "Census_InternalPrimaryDisplayResolutionHorizontal      2525\n",
              "Census_InternalPrimaryDisplayResolutionVertical        2525\n",
              "Census_InternalBatteryNumberOfCharges                 14759\n",
              "Census_OSBuildNumber                                      0\n",
              "Census_OSBuildRevision                                    0\n",
              "Census_IsFlightingInternal                           414538\n",
              "Census_IsFlightsDisabled                               8257\n",
              "Census_ThresholdOptIn                                318065\n",
              "Census_IsVirtualDevice                                  901\n",
              "Census_IsAlwaysOnAlwaysConnectedCapable                4018\n",
              "Wdft_IsGamer                                          16950\n",
              "dtype: int64"
            ]
          },
          "metadata": {},
          "execution_count": 67
        }
      ],
      "source": [
        "df_1[numeric_list].isna().sum()"
      ]
    },
    {
      "cell_type": "code",
      "execution_count": null,
      "metadata": {
        "id": "U2hCvqKwLMWb"
      },
      "outputs": [],
      "source": [
        "def sustituir_valores(dataframe, column, x):\n",
        "  dataframe[column].fillna(value = x, inplace=True)\n"
      ]
    },
    {
      "cell_type": "code",
      "execution_count": null,
      "metadata": {
        "id": "HVaYzvZcCVXk"
      },
      "outputs": [],
      "source": [
        "#Census_IsAlwaysOnAlwaysConnectedCapable  \n",
        "df_1['Census_IsAlwaysOnAlwaysConnectedCapable'].value_counts(dropna=False)\n",
        "sustituir_valores(df_1, 'Census_IsAlwaysOnAlwaysConnectedCapable',  0)\n"
      ]
    },
    {
      "cell_type": "code",
      "execution_count": null,
      "metadata": {
        "id": "T9vg9MtoDMcO"
      },
      "outputs": [],
      "source": [
        "#Wdft_IsGamer            \n",
        "df_1['Wdft_IsGamer'].value_counts(dropna=False)\n",
        "sustituir_valores(df_1, 'Wdft_IsGamer',  0)\n"
      ]
    },
    {
      "cell_type": "code",
      "execution_count": null,
      "metadata": {
        "id": "kPtHxhiXLi9p"
      },
      "outputs": [],
      "source": [
        "#RtpStateBitfield  #categroica\n",
        "df_1['RtpStateBitfield'].value_counts(dropna= False)\n",
        "sustituir_valores(df_1, 'RtpStateBitfield', -1)"
      ]
    },
    {
      "cell_type": "code",
      "execution_count": null,
      "metadata": {
        "id": "A_BHGzWyM6HU"
      },
      "outputs": [],
      "source": [
        "#AVProductsInstalled \n",
        "df_1['AVProductsInstalled'].value_counts(dropna= False)\n",
        "sustituir_valores(df_1, 'AVProductsInstalled', 1)"
      ]
    },
    {
      "cell_type": "code",
      "execution_count": null,
      "metadata": {
        "id": "rHE0gpuVNOU5"
      },
      "outputs": [],
      "source": [
        "#AVProductsEnabled \n",
        "df['AVProductsEnabled'].value_counts(dropna= False)\n",
        "sustituir_valores(df_1, 'AVProductsEnabled', -4)\n"
      ]
    },
    {
      "cell_type": "code",
      "execution_count": null,
      "metadata": {
        "id": "iVSMqOL3NgIN"
      },
      "outputs": [],
      "source": [
        "#IsProtected ??? Mode? o eliminar \n",
        "df_1['IsProtected'].value_counts(dropna= False)\n",
        "sustituir_valores(df_1, 'IsProtected', 1)"
      ]
    },
    {
      "cell_type": "code",
      "execution_count": null,
      "metadata": {
        "id": "H5ActVWV4WnX"
      },
      "outputs": [],
      "source": [
        "#SMode \n",
        "df_1['SMode'].value_counts(dropna= False)\n",
        "sustituir_valores(df_1, 'SMode', 0)\n"
      ]
    },
    {
      "cell_type": "code",
      "execution_count": null,
      "metadata": {
        "id": "PxjO6OH_6XDr"
      },
      "outputs": [],
      "source": [
        "#Firewall  \n",
        "df_1['Firewall'].value_counts(dropna= False)\n",
        "sustituir_valores(df_1, 'Firewall', 1)\n"
      ]
    },
    {
      "cell_type": "code",
      "execution_count": null,
      "metadata": {
        "colab": {
          "base_uri": "https://localhost:8080/"
        },
        "id": "3P2uO6cr62xy",
        "outputId": "7ce33f41-941e-4915-ff33-d83109dd35a8"
      },
      "outputs": [
        {
          "output_type": "execute_result",
          "data": {
            "text/plain": [
              "1.0          495605\n",
              "0.0            3032\n",
              "NaN             619\n",
              "48.0             13\n",
              "6357062.0         1\n",
              "2.0               1\n",
              "Name: UacLuaenable, dtype: int64"
            ]
          },
          "metadata": {},
          "execution_count": 77
        }
      ],
      "source": [
        "#UacLuaenable #borrar   ?????\n",
        "df_1['UacLuaenable'].value_counts(dropna= False)"
      ]
    },
    {
      "cell_type": "code",
      "execution_count": null,
      "metadata": {
        "id": "qkuhCUiD7gg6"
      },
      "outputs": [],
      "source": [
        "df_1.drop('UacLuaenable', axis=1, inplace=True)"
      ]
    },
    {
      "cell_type": "code",
      "execution_count": null,
      "metadata": {
        "id": "PtH1RQ7e7rL4"
      },
      "outputs": [],
      "source": [
        "#Census_PrimaryDiskTotalCapacity  \n",
        "df_1['Census_PrimaryDiskTotalCapacity'].value_counts(dropna= False).sort_values()\n",
        "sustituir_valores(df_1, 'Census_PrimaryDiskTotalCapacity',  800000)\n"
      ]
    },
    {
      "cell_type": "code",
      "execution_count": null,
      "metadata": {
        "id": "vAOXv0lL9RdC"
      },
      "outputs": [],
      "source": [
        "#Census_ProcessorCoreCount #categorica\n",
        "df_1['Census_ProcessorCoreCount'].value_counts(dropna= False)\n",
        "sustituir_valores(df_1, 'Census_ProcessorCoreCount',  99)"
      ]
    },
    {
      "cell_type": "code",
      "execution_count": null,
      "metadata": {
        "id": "oW1QlUpE-N5i"
      },
      "outputs": [],
      "source": [
        "#Census_SystemVolumeTotalCapacity #num\n",
        "df_1['Census_SystemVolumeTotalCapacity'].value_counts(dropna= False).sort_values()\n",
        "sustituir_valores(df_1, 'Census_SystemVolumeTotalCapacity',  1000000)"
      ]
    },
    {
      "cell_type": "code",
      "execution_count": null,
      "metadata": {
        "id": "YwEueCc7-egU"
      },
      "outputs": [],
      "source": [
        "#Census_TotalPhysicalRAM\n",
        "df_1['Census_TotalPhysicalRAM'].describe()\n",
        "sustituir_valores(df_1, 'Census_TotalPhysicalRAM',  435)"
      ]
    },
    {
      "cell_type": "code",
      "execution_count": null,
      "metadata": {
        "id": "Oqs60KGQ_kvl"
      },
      "outputs": [],
      "source": [
        "#Census_InternalPrimaryDiagonalDisplaySizeInInches    \n",
        "df_1['Census_InternalPrimaryDiagonalDisplaySizeInInches'].value_counts(dropna= False).sort_values()  \n",
        "df_1['Census_InternalPrimaryDiagonalDisplaySizeInInches'].describe()\n",
        "sustituir_valores(df_1, 'Census_InternalPrimaryDiagonalDisplaySizeInInches',  3.5)"
      ]
    },
    {
      "cell_type": "code",
      "execution_count": null,
      "metadata": {
        "id": "djVMIz_s_2P5"
      },
      "outputs": [],
      "source": [
        "#Census_InternalPrimaryDisplayResolutionHorizontal\n",
        "df_1['Census_InternalPrimaryDisplayResolutionHorizontal'].describe()\n",
        "sustituir_valores(df_1, 'Census_InternalPrimaryDisplayResolutionHorizontal',  14500)"
      ]
    },
    {
      "cell_type": "code",
      "execution_count": null,
      "metadata": {
        "id": "vwa1wKQ5AM27"
      },
      "outputs": [],
      "source": [
        "#Census_InternalPrimaryDisplayResolutionVertical       \n",
        "df_1['Census_InternalPrimaryDisplayResolutionVertical'].describe()\n",
        "sustituir_valores(df_1, 'Census_InternalPrimaryDisplayResolutionVertical',  5600)\n"
      ]
    },
    {
      "cell_type": "code",
      "execution_count": null,
      "metadata": {
        "id": "pyU8wFSwAY7w"
      },
      "outputs": [],
      "source": [
        "#Census_InternalBatteryNumberOfCharges                 \n",
        "df_1['Census_InternalBatteryNumberOfCharges'].describe()\n",
        "sustituir_valores(df_1, 'Census_InternalBatteryNumberOfCharges',  9.5)\n",
        "\n"
      ]
    },
    {
      "cell_type": "code",
      "execution_count": null,
      "metadata": {
        "id": "gOwewiIwA1ep"
      },
      "outputs": [],
      "source": [
        "#Census_IsFlightingInternal                  \n",
        "df_1['Census_IsFlightingInternal'].value_counts(dropna= False).sort_values()  \n",
        "df_1.drop('Census_IsFlightingInternal',axis= 1 ,inplace= True)\n"
      ]
    },
    {
      "cell_type": "code",
      "execution_count": null,
      "metadata": {
        "id": "FONgLysUBUFp"
      },
      "outputs": [],
      "source": [
        "#Census_ThresholdOptIn booleana 47 obs ---1 , resto nulos y 0\n",
        "df_1['Census_ThresholdOptIn'].value_counts(dropna= False).sort_values() \n",
        "df_1.drop('Census_ThresholdOptIn', axis=1, inplace=True)\n",
        "\n"
      ]
    },
    {
      "cell_type": "code",
      "execution_count": null,
      "metadata": {
        "id": "sQ0NT04QBtvU"
      },
      "outputs": [],
      "source": [
        "#Census_IsFlightsDisabled           booleana 7 obs--1, 491060--0, resto nulos\n",
        "df_1['Census_IsFlightsDisabled'].value_counts(dropna= False).sort_values() \n",
        "df_1.drop('Census_IsFlightsDisabled', axis=1, inplace=True)"
      ]
    },
    {
      "cell_type": "code",
      "execution_count": null,
      "metadata": {
        "id": "paWGnT3NCCAf"
      },
      "outputs": [],
      "source": [
        "#Census_IsVirtualDevice    \n",
        "df_1['Census_IsVirtualDevice'].value_counts(dropna= False).sort_values() \n",
        "sustituir_valores(df_1, 'Census_IsVirtualDevice',  0)\n",
        "\n"
      ]
    },
    {
      "cell_type": "markdown",
      "metadata": {
        "id": "COjMh60QWbVj"
      },
      "source": [
        "##Booleanas"
      ]
    },
    {
      "cell_type": "code",
      "execution_count": null,
      "metadata": {
        "colab": {
          "base_uri": "https://localhost:8080/"
        },
        "id": "ix82cFR4Wdy0",
        "outputId": "6bd74f0f-e19c-4255-fdb8-228693d52005"
      },
      "outputs": [
        {
          "output_type": "execute_result",
          "data": {
            "text/plain": [
              "['IsBeta',\n",
              " 'IsSxsPassiveMode',\n",
              " 'HasTpm',\n",
              " 'AutoSampleOptIn',\n",
              " 'Census_HasOpticalDiskDrive',\n",
              " 'Census_IsPortableOperatingSystem',\n",
              " 'Census_IsSecureBootEnabled',\n",
              " 'Census_IsWIMBootEnabled',\n",
              " 'Census_IsTouchEnabled',\n",
              " 'Census_IsPenCapable']"
            ]
          },
          "metadata": {},
          "execution_count": 91
        }
      ],
      "source": [
        "boolean_list"
      ]
    },
    {
      "cell_type": "code",
      "execution_count": null,
      "metadata": {
        "id": "ZvrP5nHE9Z_u"
      },
      "outputs": [],
      "source": [
        "boolean_list = actualizar_lista(boolean_list)"
      ]
    },
    {
      "cell_type": "code",
      "execution_count": null,
      "metadata": {
        "colab": {
          "base_uri": "https://localhost:8080/"
        },
        "id": "0PGBNUK_WZRE",
        "outputId": "d790a894-beb8-4abc-ad7d-6341f263a1d3"
      },
      "outputs": [
        {
          "output_type": "stream",
          "name": "stdout",
          "text": [
            "IsBeta \n",
            " 0    499270\n",
            "1         1\n",
            "Name: IsBeta, dtype: int64 \n",
            "\n",
            "IsSxsPassiveMode \n",
            " 0    490650\n",
            "1      8621\n",
            "Name: IsSxsPassiveMode, dtype: int64 \n",
            "\n",
            "HasTpm \n",
            " 1    493608\n",
            "0      5663\n",
            "Name: HasTpm, dtype: int64 \n",
            "\n",
            "AutoSampleOptIn \n",
            " 0    499257\n",
            "1        14\n",
            "Name: AutoSampleOptIn, dtype: int64 \n",
            "\n",
            "Census_HasOpticalDiskDrive \n",
            " 0    460755\n",
            "1     38516\n",
            "Name: Census_HasOpticalDiskDrive, dtype: int64 \n",
            "\n",
            "Census_IsPortableOperatingSystem \n",
            " 0    499010\n",
            "1       261\n",
            "Name: Census_IsPortableOperatingSystem, dtype: int64 \n",
            "\n",
            "Census_IsSecureBootEnabled \n",
            " 0    256786\n",
            "1    242485\n",
            "Name: Census_IsSecureBootEnabled, dtype: int64 \n",
            "\n",
            "Census_IsWIMBootEnabled \n",
            " 0.0    181629\n",
            "Name: Census_IsWIMBootEnabled, dtype: int64 \n",
            "\n",
            "Census_IsTouchEnabled \n",
            " 0    436585\n",
            "1     62686\n",
            "Name: Census_IsTouchEnabled, dtype: int64 \n",
            "\n",
            "Census_IsPenCapable \n",
            " 0    480403\n",
            "1     18868\n",
            "Name: Census_IsPenCapable, dtype: int64 \n",
            "\n"
          ]
        }
      ],
      "source": [
        "for columns in boolean_list:\n",
        "  print( columns, '\\n', df_1[columns].value_counts(), '\\n')"
      ]
    },
    {
      "cell_type": "markdown",
      "metadata": {
        "id": "P60ZLHGMs2V-"
      },
      "source": [
        "Census_IsWIMBootEnabled only has values ​​of 0, so we are going to proceed to eliminate it."
      ]
    },
    {
      "cell_type": "code",
      "execution_count": null,
      "metadata": {
        "id": "eyOvI8k49_CY"
      },
      "outputs": [],
      "source": [
        "df_1.drop('Census_IsWIMBootEnabled', axis=1, inplace=True)"
      ]
    },
    {
      "cell_type": "markdown",
      "metadata": {
        "id": "ruQTCKEP-Rkz"
      },
      "source": [
        "And the variables IsBeta, AutoSampleOptIn, Census_IsPortableOperatingSystem also present very little variability, so they will be eliminated in the same way."
      ]
    },
    {
      "cell_type": "code",
      "execution_count": null,
      "metadata": {
        "id": "LMEBhgeB-sy2"
      },
      "outputs": [],
      "source": [
        "for i in ['IsBeta', 'AutoSampleOptIn', 'Census_IsPortableOperatingSystem']:\n",
        "  df_1.drop(i, axis=1, inplace=True)"
      ]
    },
    {
      "cell_type": "code",
      "execution_count": null,
      "metadata": {
        "id": "4svbB5cQJAIt"
      },
      "outputs": [],
      "source": [
        "df_1.drop('Unnamed: 0', axis= 1, inplace= True)\n"
      ]
    },
    {
      "cell_type": "code",
      "execution_count": null,
      "metadata": {
        "colab": {
          "base_uri": "https://localhost:8080/"
        },
        "id": "6sCYVfXs_jip",
        "outputId": "d40a09df-3ad5-422b-e81e-760cb67a61d4"
      },
      "outputs": [
        {
          "output_type": "stream",
          "name": "stdout",
          "text": [
            "<class 'pandas.core.frame.DataFrame'>\n",
            "Int64Index: 499271 entries, 0 to 499270\n",
            "Columns: 301 entries, RtpStateBitfield to Census_OSVersion_count\n",
            "dtypes: float64(17), int64(16), uint8(268)\n",
            "memory usage: 257.1 MB\n"
          ]
        }
      ],
      "source": [
        "df_1.info()"
      ]
    },
    {
      "cell_type": "code",
      "execution_count": null,
      "metadata": {
        "colab": {
          "base_uri": "https://localhost:8080/"
        },
        "id": "k4ne9-zvAASW",
        "outputId": "9f9b1ac2-1f3b-4a32-ce48-53340afc7889"
      },
      "outputs": [
        {
          "output_type": "execute_result",
          "data": {
            "text/plain": [
              "0"
            ]
          },
          "metadata": {},
          "execution_count": 98
        }
      ],
      "source": [
        "df_1.isna().sum().sum()"
      ]
    },
    {
      "cell_type": "markdown",
      "metadata": {
        "id": "o_DyM9oDCOgP"
      },
      "source": [
        "#Modeling"
      ]
    },
    {
      "cell_type": "markdown",
      "metadata": {
        "id": "0AzMQ1-4VW6u"
      },
      "source": [
        "##Random holdout"
      ]
    },
    {
      "cell_type": "code",
      "execution_count": null,
      "metadata": {
        "id": "HuXR1rXOFiL3"
      },
      "outputs": [],
      "source": [
        "#Modelling"
      ]
    },
    {
      "cell_type": "code",
      "execution_count": null,
      "metadata": {
        "id": "0qu4PLzi7yPd"
      },
      "outputs": [],
      "source": [
        "train_test_split?\n"
      ]
    },
    {
      "cell_type": "code",
      "execution_count": null,
      "metadata": {
        "id": "oVbM5LhG6n_u"
      },
      "outputs": [],
      "source": [
        "X= df_1.drop(target, axis=1)\n",
        "y= df_1[[target]]"
      ]
    },
    {
      "cell_type": "code",
      "execution_count": null,
      "metadata": {
        "id": "tqZSjrN86fFu"
      },
      "outputs": [],
      "source": [
        "X_train, X_test, y_train, y_test = train_test_split(X, y, random_state= 42, test_size = .25)"
      ]
    },
    {
      "cell_type": "code",
      "execution_count": null,
      "metadata": {
        "colab": {
          "base_uri": "https://localhost:8080/",
          "height": 81
        },
        "id": "xM0lD25vU_q4",
        "outputId": "8d4287fa-52ad-4efd-fd15-29aa5c434ab1"
      },
      "outputs": [
        {
          "output_type": "execute_result",
          "data": {
            "text/plain": [
              "                  count      mean       std  min  25%  50%  75%  max\n",
              "HasDetections  374453.0  0.500212  0.500001  0.0  0.0  1.0  1.0  1.0"
            ],
            "text/html": [
              "\n",
              "  <div id=\"df-b199b654-294a-4700-816a-ed3a3cb150be\">\n",
              "    <div class=\"colab-df-container\">\n",
              "      <div>\n",
              "<style scoped>\n",
              "    .dataframe tbody tr th:only-of-type {\n",
              "        vertical-align: middle;\n",
              "    }\n",
              "\n",
              "    .dataframe tbody tr th {\n",
              "        vertical-align: top;\n",
              "    }\n",
              "\n",
              "    .dataframe thead th {\n",
              "        text-align: right;\n",
              "    }\n",
              "</style>\n",
              "<table border=\"1\" class=\"dataframe\">\n",
              "  <thead>\n",
              "    <tr style=\"text-align: right;\">\n",
              "      <th></th>\n",
              "      <th>count</th>\n",
              "      <th>mean</th>\n",
              "      <th>std</th>\n",
              "      <th>min</th>\n",
              "      <th>25%</th>\n",
              "      <th>50%</th>\n",
              "      <th>75%</th>\n",
              "      <th>max</th>\n",
              "    </tr>\n",
              "  </thead>\n",
              "  <tbody>\n",
              "    <tr>\n",
              "      <th>HasDetections</th>\n",
              "      <td>374453.0</td>\n",
              "      <td>0.500212</td>\n",
              "      <td>0.500001</td>\n",
              "      <td>0.0</td>\n",
              "      <td>0.0</td>\n",
              "      <td>1.0</td>\n",
              "      <td>1.0</td>\n",
              "      <td>1.0</td>\n",
              "    </tr>\n",
              "  </tbody>\n",
              "</table>\n",
              "</div>\n",
              "      <button class=\"colab-df-convert\" onclick=\"convertToInteractive('df-b199b654-294a-4700-816a-ed3a3cb150be')\"\n",
              "              title=\"Convert this dataframe to an interactive table.\"\n",
              "              style=\"display:none;\">\n",
              "        \n",
              "  <svg xmlns=\"http://www.w3.org/2000/svg\" height=\"24px\"viewBox=\"0 0 24 24\"\n",
              "       width=\"24px\">\n",
              "    <path d=\"M0 0h24v24H0V0z\" fill=\"none\"/>\n",
              "    <path d=\"M18.56 5.44l.94 2.06.94-2.06 2.06-.94-2.06-.94-.94-2.06-.94 2.06-2.06.94zm-11 1L8.5 8.5l.94-2.06 2.06-.94-2.06-.94L8.5 2.5l-.94 2.06-2.06.94zm10 10l.94 2.06.94-2.06 2.06-.94-2.06-.94-.94-2.06-.94 2.06-2.06.94z\"/><path d=\"M17.41 7.96l-1.37-1.37c-.4-.4-.92-.59-1.43-.59-.52 0-1.04.2-1.43.59L10.3 9.45l-7.72 7.72c-.78.78-.78 2.05 0 2.83L4 21.41c.39.39.9.59 1.41.59.51 0 1.02-.2 1.41-.59l7.78-7.78 2.81-2.81c.8-.78.8-2.07 0-2.86zM5.41 20L4 18.59l7.72-7.72 1.47 1.35L5.41 20z\"/>\n",
              "  </svg>\n",
              "      </button>\n",
              "      \n",
              "  <style>\n",
              "    .colab-df-container {\n",
              "      display:flex;\n",
              "      flex-wrap:wrap;\n",
              "      gap: 12px;\n",
              "    }\n",
              "\n",
              "    .colab-df-convert {\n",
              "      background-color: #E8F0FE;\n",
              "      border: none;\n",
              "      border-radius: 50%;\n",
              "      cursor: pointer;\n",
              "      display: none;\n",
              "      fill: #1967D2;\n",
              "      height: 32px;\n",
              "      padding: 0 0 0 0;\n",
              "      width: 32px;\n",
              "    }\n",
              "\n",
              "    .colab-df-convert:hover {\n",
              "      background-color: #E2EBFA;\n",
              "      box-shadow: 0px 1px 2px rgba(60, 64, 67, 0.3), 0px 1px 3px 1px rgba(60, 64, 67, 0.15);\n",
              "      fill: #174EA6;\n",
              "    }\n",
              "\n",
              "    [theme=dark] .colab-df-convert {\n",
              "      background-color: #3B4455;\n",
              "      fill: #D2E3FC;\n",
              "    }\n",
              "\n",
              "    [theme=dark] .colab-df-convert:hover {\n",
              "      background-color: #434B5C;\n",
              "      box-shadow: 0px 1px 3px 1px rgba(0, 0, 0, 0.15);\n",
              "      filter: drop-shadow(0px 1px 2px rgba(0, 0, 0, 0.3));\n",
              "      fill: #FFFFFF;\n",
              "    }\n",
              "  </style>\n",
              "\n",
              "      <script>\n",
              "        const buttonEl =\n",
              "          document.querySelector('#df-b199b654-294a-4700-816a-ed3a3cb150be button.colab-df-convert');\n",
              "        buttonEl.style.display =\n",
              "          google.colab.kernel.accessAllowed ? 'block' : 'none';\n",
              "\n",
              "        async function convertToInteractive(key) {\n",
              "          const element = document.querySelector('#df-b199b654-294a-4700-816a-ed3a3cb150be');\n",
              "          const dataTable =\n",
              "            await google.colab.kernel.invokeFunction('convertToInteractive',\n",
              "                                                     [key], {});\n",
              "          if (!dataTable) return;\n",
              "\n",
              "          const docLinkHtml = 'Like what you see? Visit the ' +\n",
              "            '<a target=\"_blank\" href=https://colab.research.google.com/notebooks/data_table.ipynb>data table notebook</a>'\n",
              "            + ' to learn more about interactive tables.';\n",
              "          element.innerHTML = '';\n",
              "          dataTable['output_type'] = 'display_data';\n",
              "          await google.colab.output.renderOutput(dataTable, element);\n",
              "          const docLink = document.createElement('div');\n",
              "          docLink.innerHTML = docLinkHtml;\n",
              "          element.appendChild(docLink);\n",
              "        }\n",
              "      </script>\n",
              "    </div>\n",
              "  </div>\n",
              "  "
            ]
          },
          "metadata": {},
          "execution_count": 103
        }
      ],
      "source": [
        "y_train.describe().T.head()"
      ]
    },
    {
      "cell_type": "code",
      "execution_count": null,
      "metadata": {
        "id": "Pn7dQcIC5Ull",
        "colab": {
          "base_uri": "https://localhost:8080/",
          "height": 301
        },
        "outputId": "8ea6596a-6ef4-4695-e472-fa766c161160"
      },
      "outputs": [
        {
          "output_type": "execute_result",
          "data": {
            "text/plain": [
              "       HasDetections\n",
              "count  124818.000000\n",
              "mean        0.499015\n",
              "std         0.500001\n",
              "min         0.000000\n",
              "25%         0.000000\n",
              "50%         0.000000\n",
              "75%         1.000000\n",
              "max         1.000000"
            ],
            "text/html": [
              "\n",
              "  <div id=\"df-51add4fa-82b4-4e69-89c9-9f5506ec8a70\">\n",
              "    <div class=\"colab-df-container\">\n",
              "      <div>\n",
              "<style scoped>\n",
              "    .dataframe tbody tr th:only-of-type {\n",
              "        vertical-align: middle;\n",
              "    }\n",
              "\n",
              "    .dataframe tbody tr th {\n",
              "        vertical-align: top;\n",
              "    }\n",
              "\n",
              "    .dataframe thead th {\n",
              "        text-align: right;\n",
              "    }\n",
              "</style>\n",
              "<table border=\"1\" class=\"dataframe\">\n",
              "  <thead>\n",
              "    <tr style=\"text-align: right;\">\n",
              "      <th></th>\n",
              "      <th>HasDetections</th>\n",
              "    </tr>\n",
              "  </thead>\n",
              "  <tbody>\n",
              "    <tr>\n",
              "      <th>count</th>\n",
              "      <td>124818.000000</td>\n",
              "    </tr>\n",
              "    <tr>\n",
              "      <th>mean</th>\n",
              "      <td>0.499015</td>\n",
              "    </tr>\n",
              "    <tr>\n",
              "      <th>std</th>\n",
              "      <td>0.500001</td>\n",
              "    </tr>\n",
              "    <tr>\n",
              "      <th>min</th>\n",
              "      <td>0.000000</td>\n",
              "    </tr>\n",
              "    <tr>\n",
              "      <th>25%</th>\n",
              "      <td>0.000000</td>\n",
              "    </tr>\n",
              "    <tr>\n",
              "      <th>50%</th>\n",
              "      <td>0.000000</td>\n",
              "    </tr>\n",
              "    <tr>\n",
              "      <th>75%</th>\n",
              "      <td>1.000000</td>\n",
              "    </tr>\n",
              "    <tr>\n",
              "      <th>max</th>\n",
              "      <td>1.000000</td>\n",
              "    </tr>\n",
              "  </tbody>\n",
              "</table>\n",
              "</div>\n",
              "      <button class=\"colab-df-convert\" onclick=\"convertToInteractive('df-51add4fa-82b4-4e69-89c9-9f5506ec8a70')\"\n",
              "              title=\"Convert this dataframe to an interactive table.\"\n",
              "              style=\"display:none;\">\n",
              "        \n",
              "  <svg xmlns=\"http://www.w3.org/2000/svg\" height=\"24px\"viewBox=\"0 0 24 24\"\n",
              "       width=\"24px\">\n",
              "    <path d=\"M0 0h24v24H0V0z\" fill=\"none\"/>\n",
              "    <path d=\"M18.56 5.44l.94 2.06.94-2.06 2.06-.94-2.06-.94-.94-2.06-.94 2.06-2.06.94zm-11 1L8.5 8.5l.94-2.06 2.06-.94-2.06-.94L8.5 2.5l-.94 2.06-2.06.94zm10 10l.94 2.06.94-2.06 2.06-.94-2.06-.94-.94-2.06-.94 2.06-2.06.94z\"/><path d=\"M17.41 7.96l-1.37-1.37c-.4-.4-.92-.59-1.43-.59-.52 0-1.04.2-1.43.59L10.3 9.45l-7.72 7.72c-.78.78-.78 2.05 0 2.83L4 21.41c.39.39.9.59 1.41.59.51 0 1.02-.2 1.41-.59l7.78-7.78 2.81-2.81c.8-.78.8-2.07 0-2.86zM5.41 20L4 18.59l7.72-7.72 1.47 1.35L5.41 20z\"/>\n",
              "  </svg>\n",
              "      </button>\n",
              "      \n",
              "  <style>\n",
              "    .colab-df-container {\n",
              "      display:flex;\n",
              "      flex-wrap:wrap;\n",
              "      gap: 12px;\n",
              "    }\n",
              "\n",
              "    .colab-df-convert {\n",
              "      background-color: #E8F0FE;\n",
              "      border: none;\n",
              "      border-radius: 50%;\n",
              "      cursor: pointer;\n",
              "      display: none;\n",
              "      fill: #1967D2;\n",
              "      height: 32px;\n",
              "      padding: 0 0 0 0;\n",
              "      width: 32px;\n",
              "    }\n",
              "\n",
              "    .colab-df-convert:hover {\n",
              "      background-color: #E2EBFA;\n",
              "      box-shadow: 0px 1px 2px rgba(60, 64, 67, 0.3), 0px 1px 3px 1px rgba(60, 64, 67, 0.15);\n",
              "      fill: #174EA6;\n",
              "    }\n",
              "\n",
              "    [theme=dark] .colab-df-convert {\n",
              "      background-color: #3B4455;\n",
              "      fill: #D2E3FC;\n",
              "    }\n",
              "\n",
              "    [theme=dark] .colab-df-convert:hover {\n",
              "      background-color: #434B5C;\n",
              "      box-shadow: 0px 1px 3px 1px rgba(0, 0, 0, 0.15);\n",
              "      filter: drop-shadow(0px 1px 2px rgba(0, 0, 0, 0.3));\n",
              "      fill: #FFFFFF;\n",
              "    }\n",
              "  </style>\n",
              "\n",
              "      <script>\n",
              "        const buttonEl =\n",
              "          document.querySelector('#df-51add4fa-82b4-4e69-89c9-9f5506ec8a70 button.colab-df-convert');\n",
              "        buttonEl.style.display =\n",
              "          google.colab.kernel.accessAllowed ? 'block' : 'none';\n",
              "\n",
              "        async function convertToInteractive(key) {\n",
              "          const element = document.querySelector('#df-51add4fa-82b4-4e69-89c9-9f5506ec8a70');\n",
              "          const dataTable =\n",
              "            await google.colab.kernel.invokeFunction('convertToInteractive',\n",
              "                                                     [key], {});\n",
              "          if (!dataTable) return;\n",
              "\n",
              "          const docLinkHtml = 'Like what you see? Visit the ' +\n",
              "            '<a target=\"_blank\" href=https://colab.research.google.com/notebooks/data_table.ipynb>data table notebook</a>'\n",
              "            + ' to learn more about interactive tables.';\n",
              "          element.innerHTML = '';\n",
              "          dataTable['output_type'] = 'display_data';\n",
              "          await google.colab.output.renderOutput(dataTable, element);\n",
              "          const docLink = document.createElement('div');\n",
              "          docLink.innerHTML = docLinkHtml;\n",
              "          element.appendChild(docLink);\n",
              "        }\n",
              "      </script>\n",
              "    </div>\n",
              "  </div>\n",
              "  "
            ]
          },
          "metadata": {},
          "execution_count": 104
        }
      ],
      "source": [
        "y_test.describe().T"
      ]
    },
    {
      "cell_type": "markdown",
      "metadata": {
        "id": "7zD7X6C6VOdk"
      },
      "source": [
        "##Lanzamos modelo"
      ]
    },
    {
      "cell_type": "code",
      "execution_count": null,
      "metadata": {
        "id": "cS-BV0btVZsK"
      },
      "outputs": [],
      "source": [
        "dt = DecisionTreeClassifier(max_depth= 7, min_samples_split= 50, random_state=42)"
      ]
    },
    {
      "cell_type": "code",
      "execution_count": null,
      "metadata": {
        "colab": {
          "base_uri": "https://localhost:8080/"
        },
        "id": "j4rMd_BdVglj",
        "outputId": "90057e6b-dde5-4a05-bbc0-7faa0410f789"
      },
      "outputs": [
        {
          "output_type": "execute_result",
          "data": {
            "text/plain": [
              "DecisionTreeClassifier(max_depth=7, min_samples_split=50, random_state=42)"
            ]
          },
          "metadata": {},
          "execution_count": 106
        }
      ],
      "source": [
        "dt.fit(X_train, y_train)"
      ]
    },
    {
      "cell_type": "code",
      "execution_count": null,
      "metadata": {
        "id": "IzG_MUz3eleN"
      },
      "outputs": [],
      "source": [
        "test_tree = export_graphviz(dt, \n",
        "                            out_file=None,\n",
        "                            max_depth=None,\n",
        "                            feature_names= X_test.columns,\n",
        "                            class_names=['Not infected', 'Infected'],\n",
        "                            label='all', \n",
        "                            filled=True, \n",
        "                            leaves_parallel=False, \n",
        "                            impurity=True, \n",
        "                            node_ids=False,\n",
        "                            proportion=True,\n",
        "                            rotate=True, \n",
        "                            rounded=False, \n",
        "                            special_characters=False, \n",
        "                            precision=3, \n",
        "                            fontname='helvetica')"
      ]
    },
    {
      "cell_type": "code",
      "execution_count": null,
      "metadata": {
        "id": "s2AimVLYeujE"
      },
      "outputs": [],
      "source": [
        "export_graphviz?"
      ]
    },
    {
      "cell_type": "code",
      "execution_count": null,
      "metadata": {
        "id": "ZG4GeEq5fu5n",
        "colab": {
          "base_uri": "https://localhost:8080/",
          "height": 1000
        },
        "outputId": "bc21c304-736e-46c7-a0e2-dc5c6d000f32"
      },
      "outputs": [
        {
          "output_type": "execute_result",
          "data": {
            "text/plain": [
              "<graphviz.files.Source at 0x7f6c453151f0>"
            ],
            "image/svg+xml": "<?xml version=\"1.0\" encoding=\"UTF-8\" standalone=\"no\"?>\n<!DOCTYPE svg PUBLIC \"-//W3C//DTD SVG 1.1//EN\"\n \"http://www.w3.org/Graphics/SVG/1.1/DTD/svg11.dtd\">\n<!-- Generated by graphviz version 2.43.0 (0)\n -->\n<!-- Title: Tree Pages: 1 -->\n<svg width=\"2643pt\" height=\"9458pt\"\n viewBox=\"0.00 0.00 2643.00 9458.00\" xmlns=\"http://www.w3.org/2000/svg\" xmlns:xlink=\"http://www.w3.org/1999/xlink\">\n<g id=\"graph0\" class=\"graph\" transform=\"scale(1 1) rotate(0) translate(4 9454)\">\n<title>Tree</title>\n<polygon fill=\"white\" stroke=\"transparent\" points=\"-4,4 -4,-9454 2639,-9454 2639,4 -4,4\"/>\n<!-- 0 -->\n<g id=\"node1\" class=\"node\">\n<title>0</title>\n<polygon fill=\"#ffffff\" stroke=\"black\" points=\"224,-4708.5 0,-4708.5 0,-4625.5 224,-4625.5 224,-4708.5\"/>\n<text text-anchor=\"middle\" x=\"112\" y=\"-4693.3\" font-family=\"Helvetica,sans-Serif\" font-size=\"14.00\">SmartScreen_ExistsNotSet &lt;= 0.5</text>\n<text text-anchor=\"middle\" x=\"112\" y=\"-4678.3\" font-family=\"Helvetica,sans-Serif\" font-size=\"14.00\">gini = 0.5</text>\n<text text-anchor=\"middle\" x=\"112\" y=\"-4663.3\" font-family=\"Helvetica,sans-Serif\" font-size=\"14.00\">samples = 100.0%</text>\n<text text-anchor=\"middle\" x=\"112\" y=\"-4648.3\" font-family=\"Helvetica,sans-Serif\" font-size=\"14.00\">value = [0.5, 0.5]</text>\n<text text-anchor=\"middle\" x=\"112\" y=\"-4633.3\" font-family=\"Helvetica,sans-Serif\" font-size=\"14.00\">class = Infected</text>\n</g>\n<!-- 1 -->\n<g id=\"node2\" class=\"node\">\n<title>1</title>\n<polygon fill=\"#fbece1\" stroke=\"black\" points=\"447.5,-5287.5 267.5,-5287.5 267.5,-5204.5 447.5,-5204.5 447.5,-5287.5\"/>\n<text text-anchor=\"middle\" x=\"357.5\" y=\"-5272.3\" font-family=\"Helvetica,sans-Serif\" font-size=\"14.00\">AVProductsInstalled &lt;= 1.5</text>\n<text text-anchor=\"middle\" x=\"357.5\" y=\"-5257.3\" font-family=\"Helvetica,sans-Serif\" font-size=\"14.00\">gini = 0.497</text>\n<text text-anchor=\"middle\" x=\"357.5\" y=\"-5242.3\" font-family=\"Helvetica,sans-Serif\" font-size=\"14.00\">samples = 88.3%</text>\n<text text-anchor=\"middle\" x=\"357.5\" y=\"-5227.3\" font-family=\"Helvetica,sans-Serif\" font-size=\"14.00\">value = [0.54, 0.46]</text>\n<text text-anchor=\"middle\" x=\"357.5\" y=\"-5212.3\" font-family=\"Helvetica,sans-Serif\" font-size=\"14.00\">class = Not infected</text>\n</g>\n<!-- 0&#45;&gt;1 -->\n<g id=\"edge1\" class=\"edge\">\n<title>0&#45;&gt;1</title>\n<path fill=\"none\" stroke=\"black\" d=\"M130.51,-4708.64C174.11,-4812.32 287.44,-5081.79 335,-5194.87\"/>\n<polygon fill=\"black\" stroke=\"black\" points=\"331.88,-5196.49 338.98,-5204.35 338.33,-5193.77 331.88,-5196.49\"/>\n<text text-anchor=\"middle\" x=\"315.84\" y=\"-5191.21\" font-family=\"Helvetica,sans-Serif\" font-size=\"14.00\">True</text>\n</g>\n<!-- 128 -->\n<g id=\"node129\" class=\"node\">\n<title>128</title>\n<polygon fill=\"#69b5eb\" stroke=\"black\" points=\"455,-3218.5 260,-3218.5 260,-3135.5 455,-3135.5 455,-3218.5\"/>\n<text text-anchor=\"middle\" x=\"357.5\" y=\"-3203.3\" font-family=\"Helvetica,sans-Serif\" font-size=\"14.00\">AvSigVersion_count &lt;= 141.5</text>\n<text text-anchor=\"middle\" x=\"357.5\" y=\"-3188.3\" font-family=\"Helvetica,sans-Serif\" font-size=\"14.00\">gini = 0.313</text>\n<text text-anchor=\"middle\" x=\"357.5\" y=\"-3173.3\" font-family=\"Helvetica,sans-Serif\" font-size=\"14.00\">samples = 11.7%</text>\n<text text-anchor=\"middle\" x=\"357.5\" y=\"-3158.3\" font-family=\"Helvetica,sans-Serif\" font-size=\"14.00\">value = [0.194, 0.806]</text>\n<text text-anchor=\"middle\" x=\"357.5\" y=\"-3143.3\" font-family=\"Helvetica,sans-Serif\" font-size=\"14.00\">class = Infected</text>\n</g>\n<!-- 0&#45;&gt;128 -->\n<g id=\"edge128\" class=\"edge\">\n<title>0&#45;&gt;128</title>\n<path fill=\"none\" stroke=\"black\" d=\"M119.83,-4625.2C154.42,-4413.56 310.07,-3461.11 348.1,-3228.41\"/>\n<polygon fill=\"black\" stroke=\"black\" points=\"351.56,-3228.95 349.72,-3218.52 344.65,-3227.82 351.56,-3228.95\"/>\n<text text-anchor=\"middle\" x=\"329.42\" y=\"-3229.41\" font-family=\"Helvetica,sans-Serif\" font-size=\"14.00\">False</text>\n</g>\n<!-- 2 -->\n<g id=\"node3\" class=\"node\">\n<title>2</title>\n<polygon fill=\"#f9fcfe\" stroke=\"black\" points=\"736,-7442.5 491,-7442.5 491,-7359.5 736,-7359.5 736,-7442.5\"/>\n<text text-anchor=\"middle\" x=\"613.5\" y=\"-7427.3\" font-family=\"Helvetica,sans-Serif\" font-size=\"14.00\">Census_TotalPhysicalRAM &lt;= 4095.5</text>\n<text text-anchor=\"middle\" x=\"613.5\" y=\"-7412.3\" font-family=\"Helvetica,sans-Serif\" font-size=\"14.00\">gini = 0.5</text>\n<text text-anchor=\"middle\" x=\"613.5\" y=\"-7397.3\" font-family=\"Helvetica,sans-Serif\" font-size=\"14.00\">samples = 61.4%</text>\n<text text-anchor=\"middle\" x=\"613.5\" y=\"-7382.3\" font-family=\"Helvetica,sans-Serif\" font-size=\"14.00\">value = [0.493, 0.507]</text>\n<text text-anchor=\"middle\" x=\"613.5\" y=\"-7367.3\" font-family=\"Helvetica,sans-Serif\" font-size=\"14.00\">class = Infected</text>\n</g>\n<!-- 1&#45;&gt;2 -->\n<g id=\"edge2\" class=\"edge\">\n<title>1&#45;&gt;2</title>\n<path fill=\"none\" stroke=\"black\" d=\"M363.4,-5287.6C395.14,-5556.89 571.32,-7051.65 606.42,-7349.4\"/>\n<polygon fill=\"black\" stroke=\"black\" points=\"602.96,-7349.96 607.61,-7359.49 609.91,-7349.15 602.96,-7349.96\"/>\n</g>\n<!-- 65 -->\n<g id=\"node66\" class=\"node\">\n<title>65</title>\n<polygon fill=\"#f3c5a4\" stroke=\"black\" points=\"726,-5287.5 501,-5287.5 501,-5204.5 726,-5204.5 726,-5287.5\"/>\n<text text-anchor=\"middle\" x=\"613.5\" y=\"-5272.3\" font-family=\"Helvetica,sans-Serif\" font-size=\"14.00\">EngineVersion_1.1.15100.1 &lt;= 0.5</text>\n<text text-anchor=\"middle\" x=\"613.5\" y=\"-5257.3\" font-family=\"Helvetica,sans-Serif\" font-size=\"14.00\">gini = 0.455</text>\n<text text-anchor=\"middle\" x=\"613.5\" y=\"-5242.3\" font-family=\"Helvetica,sans-Serif\" font-size=\"14.00\">samples = 26.8%</text>\n<text text-anchor=\"middle\" x=\"613.5\" y=\"-5227.3\" font-family=\"Helvetica,sans-Serif\" font-size=\"14.00\">value = [0.649, 0.351]</text>\n<text text-anchor=\"middle\" x=\"613.5\" y=\"-5212.3\" font-family=\"Helvetica,sans-Serif\" font-size=\"14.00\">class = Not infected</text>\n</g>\n<!-- 1&#45;&gt;65 -->\n<g id=\"edge65\" class=\"edge\">\n<title>1&#45;&gt;65</title>\n<path fill=\"none\" stroke=\"black\" d=\"M447.69,-5246C461.63,-5246 476.24,-5246 490.75,-5246\"/>\n<polygon fill=\"black\" stroke=\"black\" points=\"490.77,-5249.5 500.77,-5246 490.77,-5242.5 490.77,-5249.5\"/>\n</g>\n<!-- 3 -->\n<g id=\"node4\" class=\"node\">\n<title>3</title>\n<polygon fill=\"#f6d3ba\" stroke=\"black\" points=\"1167,-8467.5 772,-8467.5 772,-8384.5 1167,-8384.5 1167,-8467.5\"/>\n<text text-anchor=\"middle\" x=\"969.5\" y=\"-8452.3\" font-family=\"Helvetica,sans-Serif\" font-size=\"14.00\">Census_InternalPrimaryDiagonalDisplaySizeInInches &lt;= 11.35</text>\n<text text-anchor=\"middle\" x=\"969.5\" y=\"-8437.3\" font-family=\"Helvetica,sans-Serif\" font-size=\"14.00\">gini = 0.478</text>\n<text text-anchor=\"middle\" x=\"969.5\" y=\"-8422.3\" font-family=\"Helvetica,sans-Serif\" font-size=\"14.00\">samples = 11.0%</text>\n<text text-anchor=\"middle\" x=\"969.5\" y=\"-8407.3\" font-family=\"Helvetica,sans-Serif\" font-size=\"14.00\">value = [0.605, 0.395]</text>\n<text text-anchor=\"middle\" x=\"969.5\" y=\"-8392.3\" font-family=\"Helvetica,sans-Serif\" font-size=\"14.00\">class = Not infected</text>\n</g>\n<!-- 2&#45;&gt;3 -->\n<g id=\"edge3\" class=\"edge\">\n<title>2&#45;&gt;3</title>\n<path fill=\"none\" stroke=\"black\" d=\"M628.93,-7442.77C685.11,-7605.44 889.19,-8196.35 950.78,-8374.69\"/>\n<polygon fill=\"black\" stroke=\"black\" points=\"947.55,-8376.05 954.12,-8384.36 954.16,-8373.77 947.55,-8376.05\"/>\n</g>\n<!-- 34 -->\n<g id=\"node35\" class=\"node\">\n<title>34</title>\n<polygon fill=\"#e8f3fc\" stroke=\"black\" points=\"1044,-7442.5 895,-7442.5 895,-7359.5 1044,-7359.5 1044,-7442.5\"/>\n<text text-anchor=\"middle\" x=\"969.5\" y=\"-7427.3\" font-family=\"Helvetica,sans-Serif\" font-size=\"14.00\">Wdft_IsGamer &lt;= 0.5</text>\n<text text-anchor=\"middle\" x=\"969.5\" y=\"-7412.3\" font-family=\"Helvetica,sans-Serif\" font-size=\"14.00\">gini = 0.498</text>\n<text text-anchor=\"middle\" x=\"969.5\" y=\"-7397.3\" font-family=\"Helvetica,sans-Serif\" font-size=\"14.00\">samples = 50.5%</text>\n<text text-anchor=\"middle\" x=\"969.5\" y=\"-7382.3\" font-family=\"Helvetica,sans-Serif\" font-size=\"14.00\">value = [0.469, 0.531]</text>\n<text text-anchor=\"middle\" x=\"969.5\" y=\"-7367.3\" font-family=\"Helvetica,sans-Serif\" font-size=\"14.00\">class = Infected</text>\n</g>\n<!-- 2&#45;&gt;34 -->\n<g id=\"edge34\" class=\"edge\">\n<title>2&#45;&gt;34</title>\n<path fill=\"none\" stroke=\"black\" d=\"M736.33,-7401C785.22,-7401 840.35,-7401 884.62,-7401\"/>\n<polygon fill=\"black\" stroke=\"black\" points=\"884.76,-7404.5 894.76,-7401 884.76,-7397.5 884.76,-7404.5\"/>\n</g>\n<!-- 4 -->\n<g id=\"node5\" class=\"node\">\n<title>4</title>\n<polygon fill=\"#efb184\" stroke=\"black\" points=\"1590,-8983.5 1203,-8983.5 1203,-8900.5 1590,-8900.5 1590,-8983.5\"/>\n<text text-anchor=\"middle\" x=\"1396.5\" y=\"-8968.3\" font-family=\"Helvetica,sans-Serif\" font-size=\"14.00\">Census_InternalPrimaryDiagonalDisplaySizeInInches &lt;= 8.05</text>\n<text text-anchor=\"middle\" x=\"1396.5\" y=\"-8953.3\" font-family=\"Helvetica,sans-Serif\" font-size=\"14.00\">gini = 0.399</text>\n<text text-anchor=\"middle\" x=\"1396.5\" y=\"-8938.3\" font-family=\"Helvetica,sans-Serif\" font-size=\"14.00\">samples = 2.2%</text>\n<text text-anchor=\"middle\" x=\"1396.5\" y=\"-8923.3\" font-family=\"Helvetica,sans-Serif\" font-size=\"14.00\">value = [0.725, 0.275]</text>\n<text text-anchor=\"middle\" x=\"1396.5\" y=\"-8908.3\" font-family=\"Helvetica,sans-Serif\" font-size=\"14.00\">class = Not infected</text>\n</g>\n<!-- 3&#45;&gt;4 -->\n<g id=\"edge4\" class=\"edge\">\n<title>3&#45;&gt;4</title>\n<path fill=\"none\" stroke=\"black\" d=\"M1004.92,-8467.79C1082.55,-8562.05 1271.01,-8790.85 1354.51,-8892.23\"/>\n<polygon fill=\"black\" stroke=\"black\" points=\"1352,-8894.69 1361.06,-8900.18 1357.4,-8890.24 1352,-8894.69\"/>\n</g>\n<!-- 19 -->\n<g id=\"node20\" class=\"node\">\n<title>19</title>\n<polygon fill=\"#f8decb\" stroke=\"black\" points=\"1498,-8467.5 1295,-8467.5 1295,-8384.5 1498,-8384.5 1498,-8467.5\"/>\n<text text-anchor=\"middle\" x=\"1396.5\" y=\"-8452.3\" font-family=\"Helvetica,sans-Serif\" font-size=\"14.00\">Census_IsVirtualDevice &lt;= 0.5</text>\n<text text-anchor=\"middle\" x=\"1396.5\" y=\"-8437.3\" font-family=\"Helvetica,sans-Serif\" font-size=\"14.00\">gini = 0.489</text>\n<text text-anchor=\"middle\" x=\"1396.5\" y=\"-8422.3\" font-family=\"Helvetica,sans-Serif\" font-size=\"14.00\">samples = 8.8%</text>\n<text text-anchor=\"middle\" x=\"1396.5\" y=\"-8407.3\" font-family=\"Helvetica,sans-Serif\" font-size=\"14.00\">value = [0.575, 0.425]</text>\n<text text-anchor=\"middle\" x=\"1396.5\" y=\"-8392.3\" font-family=\"Helvetica,sans-Serif\" font-size=\"14.00\">class = Not infected</text>\n</g>\n<!-- 3&#45;&gt;19 -->\n<g id=\"edge19\" class=\"edge\">\n<title>3&#45;&gt;19</title>\n<path fill=\"none\" stroke=\"black\" d=\"M1167.14,-8426C1207.56,-8426 1248.75,-8426 1284.82,-8426\"/>\n<polygon fill=\"black\" stroke=\"black\" points=\"1284.85,-8429.5 1294.85,-8426 1284.85,-8422.5 1284.85,-8429.5\"/>\n</g>\n<!-- 5 -->\n<g id=\"node6\" class=\"node\">\n<title>5</title>\n<polygon fill=\"#eb9f68\" stroke=\"black\" points=\"1995,-9234.5 1652,-9234.5 1652,-9151.5 1995,-9151.5 1995,-9234.5\"/>\n<text text-anchor=\"middle\" x=\"1823.5\" y=\"-9219.3\" font-family=\"Helvetica,sans-Serif\" font-size=\"14.00\">Census_IsAlwaysOnAlwaysConnectedCapable &lt;= 0.5</text>\n<text text-anchor=\"middle\" x=\"1823.5\" y=\"-9204.3\" font-family=\"Helvetica,sans-Serif\" font-size=\"14.00\">gini = 0.31</text>\n<text text-anchor=\"middle\" x=\"1823.5\" y=\"-9189.3\" font-family=\"Helvetica,sans-Serif\" font-size=\"14.00\">samples = 0.4%</text>\n<text text-anchor=\"middle\" x=\"1823.5\" y=\"-9174.3\" font-family=\"Helvetica,sans-Serif\" font-size=\"14.00\">value = [0.808, 0.192]</text>\n<text text-anchor=\"middle\" x=\"1823.5\" y=\"-9159.3\" font-family=\"Helvetica,sans-Serif\" font-size=\"14.00\">class = Not infected</text>\n</g>\n<!-- 4&#45;&gt;5 -->\n<g id=\"edge5\" class=\"edge\">\n<title>4&#45;&gt;5</title>\n<path fill=\"none\" stroke=\"black\" d=\"M1468.16,-8983.73C1543.95,-9028.49 1664.06,-9099.43 1743.08,-9146.1\"/>\n<polygon fill=\"black\" stroke=\"black\" points=\"1741.64,-9149.31 1752.03,-9151.38 1745.2,-9143.28 1741.64,-9149.31\"/>\n</g>\n<!-- 12 -->\n<g id=\"node13\" class=\"node\">\n<title>12</title>\n<polygon fill=\"#f0b58b\" stroke=\"black\" points=\"1934,-8983.5 1713,-8983.5 1713,-8900.5 1934,-8900.5 1934,-8983.5\"/>\n<text text-anchor=\"middle\" x=\"1823.5\" y=\"-8968.3\" font-family=\"Helvetica,sans-Serif\" font-size=\"14.00\">CountryIdentifier_count &lt;= 8805.0</text>\n<text text-anchor=\"middle\" x=\"1823.5\" y=\"-8953.3\" font-family=\"Helvetica,sans-Serif\" font-size=\"14.00\">gini = 0.413</text>\n<text text-anchor=\"middle\" x=\"1823.5\" y=\"-8938.3\" font-family=\"Helvetica,sans-Serif\" font-size=\"14.00\">samples = 1.8%</text>\n<text text-anchor=\"middle\" x=\"1823.5\" y=\"-8923.3\" font-family=\"Helvetica,sans-Serif\" font-size=\"14.00\">value = [0.708, 0.292]</text>\n<text text-anchor=\"middle\" x=\"1823.5\" y=\"-8908.3\" font-family=\"Helvetica,sans-Serif\" font-size=\"14.00\">class = Not infected</text>\n</g>\n<!-- 4&#45;&gt;12 -->\n<g id=\"edge12\" class=\"edge\">\n<title>4&#45;&gt;12</title>\n<path fill=\"none\" stroke=\"black\" d=\"M1590.1,-8942C1628.38,-8942 1667.53,-8942 1702.52,-8942\"/>\n<polygon fill=\"black\" stroke=\"black\" points=\"1702.76,-8945.5 1712.76,-8942 1702.76,-8938.5 1702.76,-8945.5\"/>\n</g>\n<!-- 6 -->\n<g id=\"node7\" class=\"node\">\n<title>6</title>\n<polygon fill=\"#f8dfcd\" stroke=\"black\" points=\"2380,-9371.5 2129,-9371.5 2129,-9288.5 2380,-9288.5 2380,-9371.5\"/>\n<text text-anchor=\"middle\" x=\"2254.5\" y=\"-9356.3\" font-family=\"Helvetica,sans-Serif\" font-size=\"14.00\">Census_FlightRing_Retail_True &lt;= 0.5</text>\n<text text-anchor=\"middle\" x=\"2254.5\" y=\"-9341.3\" font-family=\"Helvetica,sans-Serif\" font-size=\"14.00\">gini = 0.49</text>\n<text text-anchor=\"middle\" x=\"2254.5\" y=\"-9326.3\" font-family=\"Helvetica,sans-Serif\" font-size=\"14.00\">samples = 0.1%</text>\n<text text-anchor=\"middle\" x=\"2254.5\" y=\"-9311.3\" font-family=\"Helvetica,sans-Serif\" font-size=\"14.00\">value = [0.572, 0.428]</text>\n<text text-anchor=\"middle\" x=\"2254.5\" y=\"-9296.3\" font-family=\"Helvetica,sans-Serif\" font-size=\"14.00\">class = Not infected</text>\n</g>\n<!-- 5&#45;&gt;6 -->\n<g id=\"edge6\" class=\"edge\">\n<title>5&#45;&gt;6</title>\n<path fill=\"none\" stroke=\"black\" d=\"M1954.67,-9234.57C2006.66,-9251.17 2066.52,-9270.29 2118.94,-9287.03\"/>\n<polygon fill=\"black\" stroke=\"black\" points=\"2118.05,-9290.42 2128.64,-9290.13 2120.18,-9283.75 2118.05,-9290.42\"/>\n</g>\n<!-- 9 -->\n<g id=\"node10\" class=\"node\">\n<title>9</title>\n<polygon fill=\"#e9965a\" stroke=\"black\" points=\"2365,-9234.5 2144,-9234.5 2144,-9151.5 2365,-9151.5 2365,-9234.5\"/>\n<text text-anchor=\"middle\" x=\"2254.5\" y=\"-9219.3\" font-family=\"Helvetica,sans-Serif\" font-size=\"14.00\">CountryIdentifier_count &lt;= 6103.0</text>\n<text text-anchor=\"middle\" x=\"2254.5\" y=\"-9204.3\" font-family=\"Helvetica,sans-Serif\" font-size=\"14.00\">gini = 0.245</text>\n<text text-anchor=\"middle\" x=\"2254.5\" y=\"-9189.3\" font-family=\"Helvetica,sans-Serif\" font-size=\"14.00\">samples = 0.3%</text>\n<text text-anchor=\"middle\" x=\"2254.5\" y=\"-9174.3\" font-family=\"Helvetica,sans-Serif\" font-size=\"14.00\">value = [0.857, 0.143]</text>\n<text text-anchor=\"middle\" x=\"2254.5\" y=\"-9159.3\" font-family=\"Helvetica,sans-Serif\" font-size=\"14.00\">class = Not infected</text>\n</g>\n<!-- 5&#45;&gt;9 -->\n<g id=\"edge9\" class=\"edge\">\n<title>5&#45;&gt;9</title>\n<path fill=\"none\" stroke=\"black\" d=\"M1995.28,-9193C2041.58,-9193 2090.71,-9193 2133.55,-9193\"/>\n<polygon fill=\"black\" stroke=\"black\" points=\"2133.72,-9196.5 2143.72,-9193 2133.72,-9189.5 2133.72,-9196.5\"/>\n</g>\n<!-- 7 -->\n<g id=\"node8\" class=\"node\">\n<title>7</title>\n<polygon fill=\"#eb9c64\" stroke=\"black\" points=\"2635,-9450 2488,-9450 2488,-9382 2635,-9382 2635,-9450\"/>\n<text text-anchor=\"middle\" x=\"2561.5\" y=\"-9434.8\" font-family=\"Helvetica,sans-Serif\" font-size=\"14.00\">gini = 0.293</text>\n<text text-anchor=\"middle\" x=\"2561.5\" y=\"-9419.8\" font-family=\"Helvetica,sans-Serif\" font-size=\"14.00\">samples = 0.0%</text>\n<text text-anchor=\"middle\" x=\"2561.5\" y=\"-9404.8\" font-family=\"Helvetica,sans-Serif\" font-size=\"14.00\">value = [0.821, 0.179]</text>\n<text text-anchor=\"middle\" x=\"2561.5\" y=\"-9389.8\" font-family=\"Helvetica,sans-Serif\" font-size=\"14.00\">class = Not infected</text>\n</g>\n<!-- 6&#45;&gt;7 -->\n<g id=\"edge7\" class=\"edge\">\n<title>6&#45;&gt;7</title>\n<path fill=\"none\" stroke=\"black\" d=\"M2380.44,-9365.23C2413.25,-9374.48 2447.82,-9384.23 2477.8,-9392.68\"/>\n<polygon fill=\"black\" stroke=\"black\" points=\"2477.21,-9396.15 2487.79,-9395.5 2479.11,-9389.41 2477.21,-9396.15\"/>\n</g>\n<!-- 8 -->\n<g id=\"node9\" class=\"node\">\n<title>8</title>\n<polygon fill=\"#fbeee4\" stroke=\"black\" points=\"2635,-9364 2488,-9364 2488,-9296 2635,-9296 2635,-9364\"/>\n<text text-anchor=\"middle\" x=\"2561.5\" y=\"-9348.8\" font-family=\"Helvetica,sans-Serif\" font-size=\"14.00\">gini = 0.497</text>\n<text text-anchor=\"middle\" x=\"2561.5\" y=\"-9333.8\" font-family=\"Helvetica,sans-Serif\" font-size=\"14.00\">samples = 0.1%</text>\n<text text-anchor=\"middle\" x=\"2561.5\" y=\"-9318.8\" font-family=\"Helvetica,sans-Serif\" font-size=\"14.00\">value = [0.537, 0.463]</text>\n<text text-anchor=\"middle\" x=\"2561.5\" y=\"-9303.8\" font-family=\"Helvetica,sans-Serif\" font-size=\"14.00\">class = Not infected</text>\n</g>\n<!-- 6&#45;&gt;8 -->\n<g id=\"edge8\" class=\"edge\">\n<title>6&#45;&gt;8</title>\n<path fill=\"none\" stroke=\"black\" d=\"M2380.44,-9330C2413.1,-9330 2447.52,-9330 2477.41,-9330\"/>\n<polygon fill=\"black\" stroke=\"black\" points=\"2477.79,-9333.5 2487.79,-9330 2477.79,-9326.5 2477.79,-9333.5\"/>\n</g>\n<!-- 10 -->\n<g id=\"node11\" class=\"node\">\n<title>10</title>\n<polygon fill=\"#e78d4b\" stroke=\"black\" points=\"2635,-9278 2488,-9278 2488,-9210 2635,-9210 2635,-9278\"/>\n<text text-anchor=\"middle\" x=\"2561.5\" y=\"-9262.8\" font-family=\"Helvetica,sans-Serif\" font-size=\"14.00\">gini = 0.156</text>\n<text text-anchor=\"middle\" x=\"2561.5\" y=\"-9247.8\" font-family=\"Helvetica,sans-Serif\" font-size=\"14.00\">samples = 0.1%</text>\n<text text-anchor=\"middle\" x=\"2561.5\" y=\"-9232.8\" font-family=\"Helvetica,sans-Serif\" font-size=\"14.00\">value = [0.915, 0.085]</text>\n<text text-anchor=\"middle\" x=\"2561.5\" y=\"-9217.8\" font-family=\"Helvetica,sans-Serif\" font-size=\"14.00\">class = Not infected</text>\n</g>\n<!-- 9&#45;&gt;10 -->\n<g id=\"edge10\" class=\"edge\">\n<title>9&#45;&gt;10</title>\n<path fill=\"none\" stroke=\"black\" d=\"M2365.18,-9211.34C2402.33,-9217.55 2443.17,-9224.38 2477.86,-9230.18\"/>\n<polygon fill=\"black\" stroke=\"black\" points=\"2477.5,-9233.67 2487.94,-9231.87 2478.65,-9226.77 2477.5,-9233.67\"/>\n</g>\n<!-- 11 -->\n<g id=\"node12\" class=\"node\">\n<title>11</title>\n<polygon fill=\"#ea9b62\" stroke=\"black\" points=\"2635,-9192 2488,-9192 2488,-9124 2635,-9124 2635,-9192\"/>\n<text text-anchor=\"middle\" x=\"2561.5\" y=\"-9176.8\" font-family=\"Helvetica,sans-Serif\" font-size=\"14.00\">gini = 0.285</text>\n<text text-anchor=\"middle\" x=\"2561.5\" y=\"-9161.8\" font-family=\"Helvetica,sans-Serif\" font-size=\"14.00\">samples = 0.2%</text>\n<text text-anchor=\"middle\" x=\"2561.5\" y=\"-9146.8\" font-family=\"Helvetica,sans-Serif\" font-size=\"14.00\">value = [0.828, 0.172]</text>\n<text text-anchor=\"middle\" x=\"2561.5\" y=\"-9131.8\" font-family=\"Helvetica,sans-Serif\" font-size=\"14.00\">class = Not infected</text>\n</g>\n<!-- 9&#45;&gt;11 -->\n<g id=\"edge11\" class=\"edge\">\n<title>9&#45;&gt;11</title>\n<path fill=\"none\" stroke=\"black\" d=\"M2365.18,-9180.41C2402.33,-9176.15 2443.17,-9171.46 2477.86,-9167.48\"/>\n<polygon fill=\"black\" stroke=\"black\" points=\"2478.4,-9170.94 2487.94,-9166.33 2477.61,-9163.99 2478.4,-9170.94\"/>\n</g>\n<!-- 13 -->\n<g id=\"node14\" class=\"node\">\n<title>13</title>\n<polygon fill=\"#eead7d\" stroke=\"black\" points=\"2367,-9034.5 2142,-9034.5 2142,-8951.5 2367,-8951.5 2367,-9034.5\"/>\n<text text-anchor=\"middle\" x=\"2254.5\" y=\"-9019.3\" font-family=\"Helvetica,sans-Serif\" font-size=\"14.00\">EngineVersion_1.1.15100.1 &lt;= 0.5</text>\n<text text-anchor=\"middle\" x=\"2254.5\" y=\"-9004.3\" font-family=\"Helvetica,sans-Serif\" font-size=\"14.00\">gini = 0.382</text>\n<text text-anchor=\"middle\" x=\"2254.5\" y=\"-8989.3\" font-family=\"Helvetica,sans-Serif\" font-size=\"14.00\">samples = 1.0%</text>\n<text text-anchor=\"middle\" x=\"2254.5\" y=\"-8974.3\" font-family=\"Helvetica,sans-Serif\" font-size=\"14.00\">value = [0.743, 0.257]</text>\n<text text-anchor=\"middle\" x=\"2254.5\" y=\"-8959.3\" font-family=\"Helvetica,sans-Serif\" font-size=\"14.00\">class = Not infected</text>\n</g>\n<!-- 12&#45;&gt;13 -->\n<g id=\"edge13\" class=\"edge\">\n<title>12&#45;&gt;13</title>\n<path fill=\"none\" stroke=\"black\" d=\"M1934.14,-8955.03C1994.46,-8962.21 2069.45,-8971.12 2131.6,-8978.51\"/>\n<polygon fill=\"black\" stroke=\"black\" points=\"2131.52,-8982.02 2141.86,-8979.73 2132.34,-8975.07 2131.52,-8982.02\"/>\n</g>\n<!-- 16 -->\n<g id=\"node17\" class=\"node\">\n<title>16</title>\n<polygon fill=\"#f2bf9b\" stroke=\"black\" points=\"2369.5,-8933.5 2139.5,-8933.5 2139.5,-8850.5 2369.5,-8850.5 2369.5,-8933.5\"/>\n<text text-anchor=\"middle\" x=\"2254.5\" y=\"-8918.3\" font-family=\"Helvetica,sans-Serif\" font-size=\"14.00\">Census_OSBuildRevision &lt;= 632.5</text>\n<text text-anchor=\"middle\" x=\"2254.5\" y=\"-8903.3\" font-family=\"Helvetica,sans-Serif\" font-size=\"14.00\">gini = 0.443</text>\n<text text-anchor=\"middle\" x=\"2254.5\" y=\"-8888.3\" font-family=\"Helvetica,sans-Serif\" font-size=\"14.00\">samples = 0.9%</text>\n<text text-anchor=\"middle\" x=\"2254.5\" y=\"-8873.3\" font-family=\"Helvetica,sans-Serif\" font-size=\"14.00\">value = [0.669, 0.331]</text>\n<text text-anchor=\"middle\" x=\"2254.5\" y=\"-8858.3\" font-family=\"Helvetica,sans-Serif\" font-size=\"14.00\">class = Not infected</text>\n</g>\n<!-- 12&#45;&gt;16 -->\n<g id=\"edge16\" class=\"edge\">\n<title>12&#45;&gt;16</title>\n<path fill=\"none\" stroke=\"black\" d=\"M1934.14,-8929.22C1993.64,-8922.29 2067.41,-8913.69 2129.05,-8906.5\"/>\n<polygon fill=\"black\" stroke=\"black\" points=\"2129.7,-8909.95 2139.23,-8905.32 2128.89,-8903 2129.7,-8909.95\"/>\n</g>\n<!-- 14 -->\n<g id=\"node15\" class=\"node\">\n<title>14</title>\n<polygon fill=\"#eda673\" stroke=\"black\" points=\"2635,-9106 2488,-9106 2488,-9038 2635,-9038 2635,-9106\"/>\n<text text-anchor=\"middle\" x=\"2561.5\" y=\"-9090.8\" font-family=\"Helvetica,sans-Serif\" font-size=\"14.00\">gini = 0.351</text>\n<text text-anchor=\"middle\" x=\"2561.5\" y=\"-9075.8\" font-family=\"Helvetica,sans-Serif\" font-size=\"14.00\">samples = 0.6%</text>\n<text text-anchor=\"middle\" x=\"2561.5\" y=\"-9060.8\" font-family=\"Helvetica,sans-Serif\" font-size=\"14.00\">value = [0.773, 0.227]</text>\n<text text-anchor=\"middle\" x=\"2561.5\" y=\"-9045.8\" font-family=\"Helvetica,sans-Serif\" font-size=\"14.00\">class = Not infected</text>\n</g>\n<!-- 13&#45;&gt;14 -->\n<g id=\"edge14\" class=\"edge\">\n<title>13&#45;&gt;14</title>\n<path fill=\"none\" stroke=\"black\" d=\"M2367.34,-9021.97C2403.86,-9031.43 2443.73,-9041.76 2477.72,-9050.56\"/>\n<polygon fill=\"black\" stroke=\"black\" points=\"2477.04,-9054 2487.6,-9053.12 2478.8,-9047.22 2477.04,-9054\"/>\n</g>\n<!-- 15 -->\n<g id=\"node16\" class=\"node\">\n<title>15</title>\n<polygon fill=\"#f0b88f\" stroke=\"black\" points=\"2635,-9020 2488,-9020 2488,-8952 2635,-8952 2635,-9020\"/>\n<text text-anchor=\"middle\" x=\"2561.5\" y=\"-9004.8\" font-family=\"Helvetica,sans-Serif\" font-size=\"14.00\">gini = 0.422</text>\n<text text-anchor=\"middle\" x=\"2561.5\" y=\"-8989.8\" font-family=\"Helvetica,sans-Serif\" font-size=\"14.00\">samples = 0.4%</text>\n<text text-anchor=\"middle\" x=\"2561.5\" y=\"-8974.8\" font-family=\"Helvetica,sans-Serif\" font-size=\"14.00\">value = [0.697, 0.303]</text>\n<text text-anchor=\"middle\" x=\"2561.5\" y=\"-8959.8\" font-family=\"Helvetica,sans-Serif\" font-size=\"14.00\">class = Not infected</text>\n</g>\n<!-- 13&#45;&gt;15 -->\n<g id=\"edge15\" class=\"edge\">\n<title>13&#45;&gt;15</title>\n<path fill=\"none\" stroke=\"black\" d=\"M2367.34,-8990.43C2403.7,-8989.6 2443.39,-8988.69 2477.28,-8987.91\"/>\n<polygon fill=\"black\" stroke=\"black\" points=\"2477.69,-8991.4 2487.6,-8987.67 2477.52,-8984.4 2477.69,-8991.4\"/>\n</g>\n<!-- 17 -->\n<g id=\"node18\" class=\"node\">\n<title>17</title>\n<polygon fill=\"#efb286\" stroke=\"black\" points=\"2629,-8934 2494,-8934 2494,-8866 2629,-8866 2629,-8934\"/>\n<text text-anchor=\"middle\" x=\"2561.5\" y=\"-8918.8\" font-family=\"Helvetica,sans-Serif\" font-size=\"14.00\">gini = 0.403</text>\n<text text-anchor=\"middle\" x=\"2561.5\" y=\"-8903.8\" font-family=\"Helvetica,sans-Serif\" font-size=\"14.00\">samples = 0.5%</text>\n<text text-anchor=\"middle\" x=\"2561.5\" y=\"-8888.8\" font-family=\"Helvetica,sans-Serif\" font-size=\"14.00\">value = [0.72, 0.28]</text>\n<text text-anchor=\"middle\" x=\"2561.5\" y=\"-8873.8\" font-family=\"Helvetica,sans-Serif\" font-size=\"14.00\">class = Not infected</text>\n</g>\n<!-- 16&#45;&gt;17 -->\n<g id=\"edge17\" class=\"edge\">\n<title>16&#45;&gt;17</title>\n<path fill=\"none\" stroke=\"black\" d=\"M2369.5,-8894.99C2407.7,-8895.99 2449.33,-8897.08 2483.96,-8897.99\"/>\n<polygon fill=\"black\" stroke=\"black\" points=\"2483.91,-8901.49 2494,-8898.26 2484.09,-8894.49 2483.91,-8901.49\"/>\n</g>\n<!-- 18 -->\n<g id=\"node19\" class=\"node\">\n<title>18</title>\n<polygon fill=\"#f6d3ba\" stroke=\"black\" points=\"2635,-8848 2488,-8848 2488,-8780 2635,-8780 2635,-8848\"/>\n<text text-anchor=\"middle\" x=\"2561.5\" y=\"-8832.8\" font-family=\"Helvetica,sans-Serif\" font-size=\"14.00\">gini = 0.478</text>\n<text text-anchor=\"middle\" x=\"2561.5\" y=\"-8817.8\" font-family=\"Helvetica,sans-Serif\" font-size=\"14.00\">samples = 0.4%</text>\n<text text-anchor=\"middle\" x=\"2561.5\" y=\"-8802.8\" font-family=\"Helvetica,sans-Serif\" font-size=\"14.00\">value = [0.606, 0.394]</text>\n<text text-anchor=\"middle\" x=\"2561.5\" y=\"-8787.8\" font-family=\"Helvetica,sans-Serif\" font-size=\"14.00\">class = Not infected</text>\n</g>\n<!-- 16&#45;&gt;18 -->\n<g id=\"edge18\" class=\"edge\">\n<title>16&#45;&gt;18</title>\n<path fill=\"none\" stroke=\"black\" d=\"M2369.5,-8862.84C2405.54,-8853.63 2444.64,-8843.63 2478.03,-8835.09\"/>\n<polygon fill=\"black\" stroke=\"black\" points=\"2478.92,-8838.48 2487.74,-8832.61 2477.18,-8831.69 2478.92,-8838.48\"/>\n</g>\n<!-- 20 -->\n<g id=\"node21\" class=\"node\">\n<title>20</title>\n<polygon fill=\"#f9e3d3\" stroke=\"black\" points=\"1921,-8546.5 1726,-8546.5 1726,-8463.5 1921,-8463.5 1921,-8546.5\"/>\n<text text-anchor=\"middle\" x=\"1823.5\" y=\"-8531.3\" font-family=\"Helvetica,sans-Serif\" font-size=\"14.00\">AvSigVersion_count &lt;= 158.5</text>\n<text text-anchor=\"middle\" x=\"1823.5\" y=\"-8516.3\" font-family=\"Helvetica,sans-Serif\" font-size=\"14.00\">gini = 0.492</text>\n<text text-anchor=\"middle\" x=\"1823.5\" y=\"-8501.3\" font-family=\"Helvetica,sans-Serif\" font-size=\"14.00\">samples = 8.4%</text>\n<text text-anchor=\"middle\" x=\"1823.5\" y=\"-8486.3\" font-family=\"Helvetica,sans-Serif\" font-size=\"14.00\">value = [0.563, 0.437]</text>\n<text text-anchor=\"middle\" x=\"1823.5\" y=\"-8471.3\" font-family=\"Helvetica,sans-Serif\" font-size=\"14.00\">class = Not infected</text>\n</g>\n<!-- 19&#45;&gt;20 -->\n<g id=\"edge20\" class=\"edge\">\n<title>19&#45;&gt;20</title>\n<path fill=\"none\" stroke=\"black\" d=\"M1498.22,-8444.72C1563.71,-8456.9 1649,-8472.75 1715.68,-8485.14\"/>\n<polygon fill=\"black\" stroke=\"black\" points=\"1715.32,-8488.64 1725.79,-8487.02 1716.6,-8481.76 1715.32,-8488.64\"/>\n</g>\n<!-- 27 -->\n<g id=\"node28\" class=\"node\">\n<title>27</title>\n<polygon fill=\"#ea995f\" stroke=\"black\" points=\"1923,-8389.5 1724,-8389.5 1724,-8306.5 1923,-8306.5 1923,-8389.5\"/>\n<text text-anchor=\"middle\" x=\"1823.5\" y=\"-8374.3\" font-family=\"Helvetica,sans-Serif\" font-size=\"14.00\">AppVersion_count &lt;= 33919.0</text>\n<text text-anchor=\"middle\" x=\"1823.5\" y=\"-8359.3\" font-family=\"Helvetica,sans-Serif\" font-size=\"14.00\">gini = 0.269</text>\n<text text-anchor=\"middle\" x=\"1823.5\" y=\"-8344.3\" font-family=\"Helvetica,sans-Serif\" font-size=\"14.00\">samples = 0.4%</text>\n<text text-anchor=\"middle\" x=\"1823.5\" y=\"-8329.3\" font-family=\"Helvetica,sans-Serif\" font-size=\"14.00\">value = [0.84, 0.16]</text>\n<text text-anchor=\"middle\" x=\"1823.5\" y=\"-8314.3\" font-family=\"Helvetica,sans-Serif\" font-size=\"14.00\">class = Not infected</text>\n</g>\n<!-- 19&#45;&gt;27 -->\n<g id=\"edge27\" class=\"edge\">\n<title>19&#45;&gt;27</title>\n<path fill=\"none\" stroke=\"black\" d=\"M1498.22,-8407.52C1563.13,-8395.6 1647.48,-8380.12 1713.89,-8367.93\"/>\n<polygon fill=\"black\" stroke=\"black\" points=\"1714.77,-8371.33 1723.97,-8366.08 1713.5,-8364.45 1714.77,-8371.33\"/>\n</g>\n<!-- 21 -->\n<g id=\"node22\" class=\"node\">\n<title>21</title>\n<polygon fill=\"#f2be99\" stroke=\"black\" points=\"2344.5,-8683.5 2164.5,-8683.5 2164.5,-8600.5 2344.5,-8600.5 2344.5,-8683.5\"/>\n<text text-anchor=\"middle\" x=\"2254.5\" y=\"-8668.3\" font-family=\"Helvetica,sans-Serif\" font-size=\"14.00\">AvSigVersion_count &lt;= 8.5</text>\n<text text-anchor=\"middle\" x=\"2254.5\" y=\"-8653.3\" font-family=\"Helvetica,sans-Serif\" font-size=\"14.00\">gini = 0.439</text>\n<text text-anchor=\"middle\" x=\"2254.5\" y=\"-8638.3\" font-family=\"Helvetica,sans-Serif\" font-size=\"14.00\">samples = 1.3%</text>\n<text text-anchor=\"middle\" x=\"2254.5\" y=\"-8623.3\" font-family=\"Helvetica,sans-Serif\" font-size=\"14.00\">value = [0.674, 0.326]</text>\n<text text-anchor=\"middle\" x=\"2254.5\" y=\"-8608.3\" font-family=\"Helvetica,sans-Serif\" font-size=\"14.00\">class = Not infected</text>\n</g>\n<!-- 20&#45;&gt;21 -->\n<g id=\"edge21\" class=\"edge\">\n<title>20&#45;&gt;21</title>\n<path fill=\"none\" stroke=\"black\" d=\"M1921.04,-8535.83C1990.66,-8558.06 2084.33,-8587.98 2154.5,-8610.39\"/>\n<polygon fill=\"black\" stroke=\"black\" points=\"2153.65,-8613.79 2164.24,-8613.5 2155.78,-8607.12 2153.65,-8613.79\"/>\n</g>\n<!-- 24 -->\n<g id=\"node25\" class=\"node\">\n<title>24</title>\n<polygon fill=\"#fbece1\" stroke=\"black\" points=\"2407,-8546.5 2102,-8546.5 2102,-8463.5 2407,-8463.5 2407,-8546.5\"/>\n<text text-anchor=\"middle\" x=\"2254.5\" y=\"-8531.3\" font-family=\"Helvetica,sans-Serif\" font-size=\"14.00\">Census_PrimaryDiskTotalCapacity &lt;= 381553.5</text>\n<text text-anchor=\"middle\" x=\"2254.5\" y=\"-8516.3\" font-family=\"Helvetica,sans-Serif\" font-size=\"14.00\">gini = 0.497</text>\n<text text-anchor=\"middle\" x=\"2254.5\" y=\"-8501.3\" font-family=\"Helvetica,sans-Serif\" font-size=\"14.00\">samples = 7.0%</text>\n<text text-anchor=\"middle\" x=\"2254.5\" y=\"-8486.3\" font-family=\"Helvetica,sans-Serif\" font-size=\"14.00\">value = [0.541, 0.459]</text>\n<text text-anchor=\"middle\" x=\"2254.5\" y=\"-8471.3\" font-family=\"Helvetica,sans-Serif\" font-size=\"14.00\">class = Not infected</text>\n</g>\n<!-- 20&#45;&gt;24 -->\n<g id=\"edge24\" class=\"edge\">\n<title>20&#45;&gt;24</title>\n<path fill=\"none\" stroke=\"black\" d=\"M1921.04,-8505C1971.27,-8505 2034.03,-8505 2091.44,-8505\"/>\n<polygon fill=\"black\" stroke=\"black\" points=\"2091.72,-8508.5 2101.72,-8505 2091.72,-8501.5 2091.72,-8508.5\"/>\n</g>\n<!-- 22 -->\n<g id=\"node23\" class=\"node\">\n<title>22</title>\n<polygon fill=\"#fae5d6\" stroke=\"black\" points=\"2635,-8762 2488,-8762 2488,-8694 2635,-8694 2635,-8762\"/>\n<text text-anchor=\"middle\" x=\"2561.5\" y=\"-8746.8\" font-family=\"Helvetica,sans-Serif\" font-size=\"14.00\">gini = 0.493</text>\n<text text-anchor=\"middle\" x=\"2561.5\" y=\"-8731.8\" font-family=\"Helvetica,sans-Serif\" font-size=\"14.00\">samples = 0.2%</text>\n<text text-anchor=\"middle\" x=\"2561.5\" y=\"-8716.8\" font-family=\"Helvetica,sans-Serif\" font-size=\"14.00\">value = [0.557, 0.443]</text>\n<text text-anchor=\"middle\" x=\"2561.5\" y=\"-8701.8\" font-family=\"Helvetica,sans-Serif\" font-size=\"14.00\">class = Not infected</text>\n</g>\n<!-- 21&#45;&gt;22 -->\n<g id=\"edge22\" class=\"edge\">\n<title>21&#45;&gt;22</title>\n<path fill=\"none\" stroke=\"black\" d=\"M2344.54,-8667.11C2386.7,-8678.99 2436.73,-8693.1 2478.02,-8704.74\"/>\n<polygon fill=\"black\" stroke=\"black\" points=\"2477.2,-8708.15 2487.78,-8707.49 2479.1,-8701.41 2477.2,-8708.15\"/>\n</g>\n<!-- 23 -->\n<g id=\"node24\" class=\"node\">\n<title>23</title>\n<polygon fill=\"#f0b990\" stroke=\"black\" points=\"2635,-8676 2488,-8676 2488,-8608 2635,-8608 2635,-8676\"/>\n<text text-anchor=\"middle\" x=\"2561.5\" y=\"-8660.8\" font-family=\"Helvetica,sans-Serif\" font-size=\"14.00\">gini = 0.425</text>\n<text text-anchor=\"middle\" x=\"2561.5\" y=\"-8645.8\" font-family=\"Helvetica,sans-Serif\" font-size=\"14.00\">samples = 1.2%</text>\n<text text-anchor=\"middle\" x=\"2561.5\" y=\"-8630.8\" font-family=\"Helvetica,sans-Serif\" font-size=\"14.00\">value = [0.694, 0.306]</text>\n<text text-anchor=\"middle\" x=\"2561.5\" y=\"-8615.8\" font-family=\"Helvetica,sans-Serif\" font-size=\"14.00\">class = Not infected</text>\n</g>\n<!-- 21&#45;&gt;23 -->\n<g id=\"edge23\" class=\"edge\">\n<title>21&#45;&gt;23</title>\n<path fill=\"none\" stroke=\"black\" d=\"M2344.54,-8642C2386.61,-8642 2436.52,-8642 2477.76,-8642\"/>\n<polygon fill=\"black\" stroke=\"black\" points=\"2477.78,-8645.5 2487.78,-8642 2477.78,-8638.5 2477.78,-8645.5\"/>\n</g>\n<!-- 25 -->\n<g id=\"node26\" class=\"node\">\n<title>25</title>\n<polygon fill=\"#f9e1cf\" stroke=\"black\" points=\"2635,-8590 2488,-8590 2488,-8522 2635,-8522 2635,-8590\"/>\n<text text-anchor=\"middle\" x=\"2561.5\" y=\"-8574.8\" font-family=\"Helvetica,sans-Serif\" font-size=\"14.00\">gini = 0.491</text>\n<text text-anchor=\"middle\" x=\"2561.5\" y=\"-8559.8\" font-family=\"Helvetica,sans-Serif\" font-size=\"14.00\">samples = 4.4%</text>\n<text text-anchor=\"middle\" x=\"2561.5\" y=\"-8544.8\" font-family=\"Helvetica,sans-Serif\" font-size=\"14.00\">value = [0.569, 0.431]</text>\n<text text-anchor=\"middle\" x=\"2561.5\" y=\"-8529.8\" font-family=\"Helvetica,sans-Serif\" font-size=\"14.00\">class = Not infected</text>\n</g>\n<!-- 24&#45;&gt;25 -->\n<g id=\"edge25\" class=\"edge\">\n<title>24&#45;&gt;25</title>\n<path fill=\"none\" stroke=\"black\" d=\"M2407.11,-8530.35C2431.48,-8534.43 2455.88,-8538.51 2477.83,-8542.18\"/>\n<polygon fill=\"black\" stroke=\"black\" points=\"2477.29,-8545.63 2487.73,-8543.83 2478.44,-8538.73 2477.29,-8545.63\"/>\n</g>\n<!-- 26 -->\n<g id=\"node27\" class=\"node\">\n<title>26</title>\n<polygon fill=\"#fdfeff\" stroke=\"black\" points=\"2635,-8504 2488,-8504 2488,-8436 2635,-8436 2635,-8504\"/>\n<text text-anchor=\"middle\" x=\"2561.5\" y=\"-8488.8\" font-family=\"Helvetica,sans-Serif\" font-size=\"14.00\">gini = 0.5</text>\n<text text-anchor=\"middle\" x=\"2561.5\" y=\"-8473.8\" font-family=\"Helvetica,sans-Serif\" font-size=\"14.00\">samples = 2.7%</text>\n<text text-anchor=\"middle\" x=\"2561.5\" y=\"-8458.8\" font-family=\"Helvetica,sans-Serif\" font-size=\"14.00\">value = [0.497, 0.503]</text>\n<text text-anchor=\"middle\" x=\"2561.5\" y=\"-8443.8\" font-family=\"Helvetica,sans-Serif\" font-size=\"14.00\">class = Infected</text>\n</g>\n<!-- 24&#45;&gt;26 -->\n<g id=\"edge26\" class=\"edge\">\n<title>24&#45;&gt;26</title>\n<path fill=\"none\" stroke=\"black\" d=\"M2407.11,-8487.6C2431.37,-8484.82 2455.67,-8482.03 2477.53,-8479.52\"/>\n<polygon fill=\"black\" stroke=\"black\" points=\"2478.19,-8482.97 2487.73,-8478.35 2477.4,-8476.01 2478.19,-8482.97\"/>\n</g>\n<!-- 28 -->\n<g id=\"node29\" class=\"node\">\n<title>28</title>\n<polygon fill=\"#eda877\" stroke=\"black\" points=\"2352,-8389.5 2157,-8389.5 2157,-8306.5 2352,-8306.5 2352,-8389.5\"/>\n<text text-anchor=\"middle\" x=\"2254.5\" y=\"-8374.3\" font-family=\"Helvetica,sans-Serif\" font-size=\"14.00\">AvSigVersion_count &lt;= 229.0</text>\n<text text-anchor=\"middle\" x=\"2254.5\" y=\"-8359.3\" font-family=\"Helvetica,sans-Serif\" font-size=\"14.00\">gini = 0.363</text>\n<text text-anchor=\"middle\" x=\"2254.5\" y=\"-8344.3\" font-family=\"Helvetica,sans-Serif\" font-size=\"14.00\">samples = 0.1%</text>\n<text text-anchor=\"middle\" x=\"2254.5\" y=\"-8329.3\" font-family=\"Helvetica,sans-Serif\" font-size=\"14.00\">value = [0.762, 0.238]</text>\n<text text-anchor=\"middle\" x=\"2254.5\" y=\"-8314.3\" font-family=\"Helvetica,sans-Serif\" font-size=\"14.00\">class = Not infected</text>\n</g>\n<!-- 27&#45;&gt;28 -->\n<g id=\"edge28\" class=\"edge\">\n<title>27&#45;&gt;28</title>\n<path fill=\"none\" stroke=\"black\" d=\"M1923.19,-8348C1989.91,-8348 2077.97,-8348 2146.39,-8348\"/>\n<polygon fill=\"black\" stroke=\"black\" points=\"2146.77,-8351.5 2156.77,-8348 2146.77,-8344.5 2146.77,-8351.5\"/>\n</g>\n<!-- 31 -->\n<g id=\"node32\" class=\"node\">\n<title>31</title>\n<polygon fill=\"#e99254\" stroke=\"black\" points=\"2367.5,-8253.5 2141.5,-8253.5 2141.5,-8170.5 2367.5,-8170.5 2367.5,-8253.5\"/>\n<text text-anchor=\"middle\" x=\"2254.5\" y=\"-8238.3\" font-family=\"Helvetica,sans-Serif\" font-size=\"14.00\">Census_OSVersion_count &lt;= 33.0</text>\n<text text-anchor=\"middle\" x=\"2254.5\" y=\"-8223.3\" font-family=\"Helvetica,sans-Serif\" font-size=\"14.00\">gini = 0.213</text>\n<text text-anchor=\"middle\" x=\"2254.5\" y=\"-8208.3\" font-family=\"Helvetica,sans-Serif\" font-size=\"14.00\">samples = 0.3%</text>\n<text text-anchor=\"middle\" x=\"2254.5\" y=\"-8193.3\" font-family=\"Helvetica,sans-Serif\" font-size=\"14.00\">value = [0.879, 0.121]</text>\n<text text-anchor=\"middle\" x=\"2254.5\" y=\"-8178.3\" font-family=\"Helvetica,sans-Serif\" font-size=\"14.00\">class = Not infected</text>\n</g>\n<!-- 27&#45;&gt;31 -->\n<g id=\"edge31\" class=\"edge\">\n<title>27&#45;&gt;31</title>\n<path fill=\"none\" stroke=\"black\" d=\"M1923.19,-8316.71C1985.21,-8297.05 2065.68,-8271.54 2131.66,-8250.63\"/>\n<polygon fill=\"black\" stroke=\"black\" points=\"2132.81,-8253.93 2141.29,-8247.57 2130.7,-8247.26 2132.81,-8253.93\"/>\n</g>\n<!-- 29 -->\n<g id=\"node30\" class=\"node\">\n<title>29</title>\n<polygon fill=\"#e99457\" stroke=\"black\" points=\"2635,-8418 2488,-8418 2488,-8350 2635,-8350 2635,-8418\"/>\n<text text-anchor=\"middle\" x=\"2561.5\" y=\"-8402.8\" font-family=\"Helvetica,sans-Serif\" font-size=\"14.00\">gini = 0.23</text>\n<text text-anchor=\"middle\" x=\"2561.5\" y=\"-8387.8\" font-family=\"Helvetica,sans-Serif\" font-size=\"14.00\">samples = 0.0%</text>\n<text text-anchor=\"middle\" x=\"2561.5\" y=\"-8372.8\" font-family=\"Helvetica,sans-Serif\" font-size=\"14.00\">value = [0.868, 0.132]</text>\n<text text-anchor=\"middle\" x=\"2561.5\" y=\"-8357.8\" font-family=\"Helvetica,sans-Serif\" font-size=\"14.00\">class = Not infected</text>\n</g>\n<!-- 28&#45;&gt;29 -->\n<g id=\"edge29\" class=\"edge\">\n<title>28&#45;&gt;29</title>\n<path fill=\"none\" stroke=\"black\" d=\"M2352,-8359.39C2392.38,-8364.16 2438.83,-8369.64 2477.62,-8374.22\"/>\n<polygon fill=\"black\" stroke=\"black\" points=\"2477.49,-8377.73 2487.83,-8375.42 2478.31,-8370.77 2477.49,-8377.73\"/>\n</g>\n<!-- 30 -->\n<g id=\"node31\" class=\"node\">\n<title>30</title>\n<polygon fill=\"#efb388\" stroke=\"black\" points=\"2635,-8332 2488,-8332 2488,-8264 2635,-8264 2635,-8332\"/>\n<text text-anchor=\"middle\" x=\"2561.5\" y=\"-8316.8\" font-family=\"Helvetica,sans-Serif\" font-size=\"14.00\">gini = 0.407</text>\n<text text-anchor=\"middle\" x=\"2561.5\" y=\"-8301.8\" font-family=\"Helvetica,sans-Serif\" font-size=\"14.00\">samples = 0.1%</text>\n<text text-anchor=\"middle\" x=\"2561.5\" y=\"-8286.8\" font-family=\"Helvetica,sans-Serif\" font-size=\"14.00\">value = [0.715, 0.285]</text>\n<text text-anchor=\"middle\" x=\"2561.5\" y=\"-8271.8\" font-family=\"Helvetica,sans-Serif\" font-size=\"14.00\">class = Not infected</text>\n</g>\n<!-- 28&#45;&gt;30 -->\n<g id=\"edge30\" class=\"edge\">\n<title>28&#45;&gt;30</title>\n<path fill=\"none\" stroke=\"black\" d=\"M2352,-8332.18C2392.38,-8325.56 2438.83,-8317.95 2477.62,-8311.59\"/>\n<polygon fill=\"black\" stroke=\"black\" points=\"2478.53,-8314.98 2487.83,-8309.91 2477.4,-8308.08 2478.53,-8314.98\"/>\n</g>\n<!-- 32 -->\n<g id=\"node33\" class=\"node\">\n<title>32</title>\n<polygon fill=\"#6ab6ec\" stroke=\"black\" points=\"2620,-8246 2503,-8246 2503,-8178 2620,-8178 2620,-8246\"/>\n<text text-anchor=\"middle\" x=\"2561.5\" y=\"-8230.8\" font-family=\"Helvetica,sans-Serif\" font-size=\"14.00\">gini = 0.32</text>\n<text text-anchor=\"middle\" x=\"2561.5\" y=\"-8215.8\" font-family=\"Helvetica,sans-Serif\" font-size=\"14.00\">samples = 0.0%</text>\n<text text-anchor=\"middle\" x=\"2561.5\" y=\"-8200.8\" font-family=\"Helvetica,sans-Serif\" font-size=\"14.00\">value = [0.2, 0.8]</text>\n<text text-anchor=\"middle\" x=\"2561.5\" y=\"-8185.8\" font-family=\"Helvetica,sans-Serif\" font-size=\"14.00\">class = Infected</text>\n</g>\n<!-- 31&#45;&gt;32 -->\n<g id=\"edge32\" class=\"edge\">\n<title>31&#45;&gt;32</title>\n<path fill=\"none\" stroke=\"black\" d=\"M2367.77,-8212C2409.69,-8212 2455.98,-8212 2492.68,-8212\"/>\n<polygon fill=\"black\" stroke=\"black\" points=\"2492.77,-8215.5 2502.77,-8212 2492.77,-8208.5 2492.77,-8215.5\"/>\n</g>\n<!-- 33 -->\n<g id=\"node34\" class=\"node\">\n<title>33</title>\n<polygon fill=\"#e89253\" stroke=\"black\" points=\"2635,-8160 2488,-8160 2488,-8092 2635,-8092 2635,-8160\"/>\n<text text-anchor=\"middle\" x=\"2561.5\" y=\"-8144.8\" font-family=\"Helvetica,sans-Serif\" font-size=\"14.00\">gini = 0.207</text>\n<text text-anchor=\"middle\" x=\"2561.5\" y=\"-8129.8\" font-family=\"Helvetica,sans-Serif\" font-size=\"14.00\">samples = 0.3%</text>\n<text text-anchor=\"middle\" x=\"2561.5\" y=\"-8114.8\" font-family=\"Helvetica,sans-Serif\" font-size=\"14.00\">value = [0.883, 0.117]</text>\n<text text-anchor=\"middle\" x=\"2561.5\" y=\"-8099.8\" font-family=\"Helvetica,sans-Serif\" font-size=\"14.00\">class = Not infected</text>\n</g>\n<!-- 31&#45;&gt;33 -->\n<g id=\"edge33\" class=\"edge\">\n<title>31&#45;&gt;33</title>\n<path fill=\"none\" stroke=\"black\" d=\"M2367.77,-8180.34C2404.26,-8170.06 2444.05,-8158.84 2477.95,-8149.28\"/>\n<polygon fill=\"black\" stroke=\"black\" points=\"2479.14,-8152.58 2487.81,-8146.5 2477.24,-8145.84 2479.14,-8152.58\"/>\n</g>\n<!-- 35 -->\n<g id=\"node36\" class=\"node\">\n<title>35</title>\n<polygon fill=\"#fcfdff\" stroke=\"black\" points=\"1494,-7608.5 1299,-7608.5 1299,-7525.5 1494,-7525.5 1494,-7608.5\"/>\n<text text-anchor=\"middle\" x=\"1396.5\" y=\"-7593.3\" font-family=\"Helvetica,sans-Serif\" font-size=\"14.00\">AvSigVersion_count &lt;= 152.5</text>\n<text text-anchor=\"middle\" x=\"1396.5\" y=\"-7578.3\" font-family=\"Helvetica,sans-Serif\" font-size=\"14.00\">gini = 0.5</text>\n<text text-anchor=\"middle\" x=\"1396.5\" y=\"-7563.3\" font-family=\"Helvetica,sans-Serif\" font-size=\"14.00\">samples = 35.7%</text>\n<text text-anchor=\"middle\" x=\"1396.5\" y=\"-7548.3\" font-family=\"Helvetica,sans-Serif\" font-size=\"14.00\">value = [0.496, 0.504]</text>\n<text text-anchor=\"middle\" x=\"1396.5\" y=\"-7533.3\" font-family=\"Helvetica,sans-Serif\" font-size=\"14.00\">class = Infected</text>\n</g>\n<!-- 34&#45;&gt;35 -->\n<g id=\"edge35\" class=\"edge\">\n<title>34&#45;&gt;35</title>\n<path fill=\"none\" stroke=\"black\" d=\"M1044.04,-7429.73C1111.71,-7456.16 1212.85,-7495.66 1289.29,-7525.51\"/>\n<polygon fill=\"black\" stroke=\"black\" points=\"1288.37,-7528.91 1298.95,-7529.29 1290.91,-7522.39 1288.37,-7528.91\"/>\n</g>\n<!-- 50 -->\n<g id=\"node51\" class=\"node\">\n<title>50</title>\n<polygon fill=\"#bedff7\" stroke=\"black\" points=\"1496,-7263.5 1297,-7263.5 1297,-7180.5 1496,-7180.5 1496,-7263.5\"/>\n<text text-anchor=\"middle\" x=\"1396.5\" y=\"-7248.3\" font-family=\"Helvetica,sans-Serif\" font-size=\"14.00\">AppVersion_count &lt;= 33919.0</text>\n<text text-anchor=\"middle\" x=\"1396.5\" y=\"-7233.3\" font-family=\"Helvetica,sans-Serif\" font-size=\"14.00\">gini = 0.481</text>\n<text text-anchor=\"middle\" x=\"1396.5\" y=\"-7218.3\" font-family=\"Helvetica,sans-Serif\" font-size=\"14.00\">samples = 14.8%</text>\n<text text-anchor=\"middle\" x=\"1396.5\" y=\"-7203.3\" font-family=\"Helvetica,sans-Serif\" font-size=\"14.00\">value = [0.402, 0.598]</text>\n<text text-anchor=\"middle\" x=\"1396.5\" y=\"-7188.3\" font-family=\"Helvetica,sans-Serif\" font-size=\"14.00\">class = Infected</text>\n</g>\n<!-- 34&#45;&gt;50 -->\n<g id=\"edge50\" class=\"edge\">\n<title>34&#45;&gt;50</title>\n<path fill=\"none\" stroke=\"black\" d=\"M1044.04,-7370.02C1111.14,-7341.77 1211.15,-7299.64 1287.35,-7267.55\"/>\n<polygon fill=\"black\" stroke=\"black\" points=\"1289.14,-7270.6 1296.99,-7263.49 1286.42,-7264.14 1289.14,-7270.6\"/>\n</g>\n<!-- 36 -->\n<g id=\"node37\" class=\"node\">\n<title>36</title>\n<polygon fill=\"#f6d2b9\" stroke=\"black\" points=\"1936,-7859.5 1711,-7859.5 1711,-7776.5 1936,-7776.5 1936,-7859.5\"/>\n<text text-anchor=\"middle\" x=\"1823.5\" y=\"-7844.3\" font-family=\"Helvetica,sans-Serif\" font-size=\"14.00\">EngineVersion_1.1.14901.4 &lt;= 0.5</text>\n<text text-anchor=\"middle\" x=\"1823.5\" y=\"-7829.3\" font-family=\"Helvetica,sans-Serif\" font-size=\"14.00\">gini = 0.477</text>\n<text text-anchor=\"middle\" x=\"1823.5\" y=\"-7814.3\" font-family=\"Helvetica,sans-Serif\" font-size=\"14.00\">samples = 3.7%</text>\n<text text-anchor=\"middle\" x=\"1823.5\" y=\"-7799.3\" font-family=\"Helvetica,sans-Serif\" font-size=\"14.00\">value = [0.608, 0.392]</text>\n<text text-anchor=\"middle\" x=\"1823.5\" y=\"-7784.3\" font-family=\"Helvetica,sans-Serif\" font-size=\"14.00\">class = Not infected</text>\n</g>\n<!-- 35&#45;&gt;36 -->\n<g id=\"edge36\" class=\"edge\">\n<title>35&#45;&gt;36</title>\n<path fill=\"none\" stroke=\"black\" d=\"M1468.16,-7608.73C1543.95,-7653.49 1664.06,-7724.43 1743.08,-7771.1\"/>\n<polygon fill=\"black\" stroke=\"black\" points=\"1741.64,-7774.31 1752.03,-7776.38 1745.2,-7768.28 1741.64,-7774.31\"/>\n</g>\n<!-- 43 -->\n<g id=\"node44\" class=\"node\">\n<title>43</title>\n<polygon fill=\"#f2f9fd\" stroke=\"black\" points=\"1976,-7608.5 1671,-7608.5 1671,-7525.5 1976,-7525.5 1976,-7608.5\"/>\n<text text-anchor=\"middle\" x=\"1823.5\" y=\"-7593.3\" font-family=\"Helvetica,sans-Serif\" font-size=\"14.00\">Census_PrimaryDiskTotalCapacity &lt;= 111134.5</text>\n<text text-anchor=\"middle\" x=\"1823.5\" y=\"-7578.3\" font-family=\"Helvetica,sans-Serif\" font-size=\"14.00\">gini = 0.499</text>\n<text text-anchor=\"middle\" x=\"1823.5\" y=\"-7563.3\" font-family=\"Helvetica,sans-Serif\" font-size=\"14.00\">samples = 32.0%</text>\n<text text-anchor=\"middle\" x=\"1823.5\" y=\"-7548.3\" font-family=\"Helvetica,sans-Serif\" font-size=\"14.00\">value = [0.483, 0.517]</text>\n<text text-anchor=\"middle\" x=\"1823.5\" y=\"-7533.3\" font-family=\"Helvetica,sans-Serif\" font-size=\"14.00\">class = Infected</text>\n</g>\n<!-- 35&#45;&gt;43 -->\n<g id=\"edge43\" class=\"edge\">\n<title>35&#45;&gt;43</title>\n<path fill=\"none\" stroke=\"black\" d=\"M1494.2,-7567C1543.42,-7567 1604.57,-7567 1660.71,-7567\"/>\n<polygon fill=\"black\" stroke=\"black\" points=\"1660.76,-7570.5 1670.76,-7567 1660.76,-7563.5 1660.76,-7570.5\"/>\n</g>\n<!-- 37 -->\n<g id=\"node38\" class=\"node\">\n<title>37</title>\n<polygon fill=\"#f7d8c2\" stroke=\"black\" points=\"2367,-7995.5 2142,-7995.5 2142,-7912.5 2367,-7912.5 2367,-7995.5\"/>\n<text text-anchor=\"middle\" x=\"2254.5\" y=\"-7980.3\" font-family=\"Helvetica,sans-Serif\" font-size=\"14.00\">EngineVersion_1.1.14800.3 &lt;= 0.5</text>\n<text text-anchor=\"middle\" x=\"2254.5\" y=\"-7965.3\" font-family=\"Helvetica,sans-Serif\" font-size=\"14.00\">gini = 0.484</text>\n<text text-anchor=\"middle\" x=\"2254.5\" y=\"-7950.3\" font-family=\"Helvetica,sans-Serif\" font-size=\"14.00\">samples = 3.0%</text>\n<text text-anchor=\"middle\" x=\"2254.5\" y=\"-7935.3\" font-family=\"Helvetica,sans-Serif\" font-size=\"14.00\">value = [0.59, 0.41]</text>\n<text text-anchor=\"middle\" x=\"2254.5\" y=\"-7920.3\" font-family=\"Helvetica,sans-Serif\" font-size=\"14.00\">class = Not infected</text>\n</g>\n<!-- 36&#45;&gt;37 -->\n<g id=\"edge37\" class=\"edge\">\n<title>36&#45;&gt;37</title>\n<path fill=\"none\" stroke=\"black\" d=\"M1936.09,-7853.38C1996.19,-7872.43 2070.4,-7895.95 2131.95,-7915.47\"/>\n<polygon fill=\"black\" stroke=\"black\" points=\"2131.13,-7918.88 2141.72,-7918.56 2133.24,-7912.21 2131.13,-7918.88\"/>\n</g>\n<!-- 40 -->\n<g id=\"node41\" class=\"node\">\n<title>40</title>\n<polygon fill=\"#f1bb95\" stroke=\"black\" points=\"2407,-7859.5 2102,-7859.5 2102,-7776.5 2407,-7776.5 2407,-7859.5\"/>\n<text text-anchor=\"middle\" x=\"2254.5\" y=\"-7844.3\" font-family=\"Helvetica,sans-Serif\" font-size=\"14.00\">Census_PrimaryDiskTotalCapacity &lt;= 476939.0</text>\n<text text-anchor=\"middle\" x=\"2254.5\" y=\"-7829.3\" font-family=\"Helvetica,sans-Serif\" font-size=\"14.00\">gini = 0.433</text>\n<text text-anchor=\"middle\" x=\"2254.5\" y=\"-7814.3\" font-family=\"Helvetica,sans-Serif\" font-size=\"14.00\">samples = 0.7%</text>\n<text text-anchor=\"middle\" x=\"2254.5\" y=\"-7799.3\" font-family=\"Helvetica,sans-Serif\" font-size=\"14.00\">value = [0.683, 0.317]</text>\n<text text-anchor=\"middle\" x=\"2254.5\" y=\"-7784.3\" font-family=\"Helvetica,sans-Serif\" font-size=\"14.00\">class = Not infected</text>\n</g>\n<!-- 36&#45;&gt;40 -->\n<g id=\"edge40\" class=\"edge\">\n<title>36&#45;&gt;40</title>\n<path fill=\"none\" stroke=\"black\" d=\"M1936.09,-7818C1983.46,-7818 2039.6,-7818 2091.39,-7818\"/>\n<polygon fill=\"black\" stroke=\"black\" points=\"2091.69,-7821.5 2101.69,-7818 2091.69,-7814.5 2091.69,-7821.5\"/>\n</g>\n<!-- 38 -->\n<g id=\"node39\" class=\"node\">\n<title>38</title>\n<polygon fill=\"#f9e0ce\" stroke=\"black\" points=\"2629,-8074 2494,-8074 2494,-8006 2629,-8006 2629,-8074\"/>\n<text text-anchor=\"middle\" x=\"2561.5\" y=\"-8058.8\" font-family=\"Helvetica,sans-Serif\" font-size=\"14.00\">gini = 0.49</text>\n<text text-anchor=\"middle\" x=\"2561.5\" y=\"-8043.8\" font-family=\"Helvetica,sans-Serif\" font-size=\"14.00\">samples = 2.5%</text>\n<text text-anchor=\"middle\" x=\"2561.5\" y=\"-8028.8\" font-family=\"Helvetica,sans-Serif\" font-size=\"14.00\">value = [0.57, 0.43]</text>\n<text text-anchor=\"middle\" x=\"2561.5\" y=\"-8013.8\" font-family=\"Helvetica,sans-Serif\" font-size=\"14.00\">class = Not infected</text>\n</g>\n<!-- 37&#45;&gt;38 -->\n<g id=\"edge38\" class=\"edge\">\n<title>37&#45;&gt;38</title>\n<path fill=\"none\" stroke=\"black\" d=\"M2367.34,-7985.53C2406.19,-7996.49 2448.84,-8008.52 2484.16,-8018.47\"/>\n<polygon fill=\"black\" stroke=\"black\" points=\"2483.34,-8021.88 2493.91,-8021.22 2485.24,-8015.14 2483.34,-8021.88\"/>\n</g>\n<!-- 39 -->\n<g id=\"node40\" class=\"node\">\n<title>39</title>\n<polygon fill=\"#f0b890\" stroke=\"black\" points=\"2635,-7988 2488,-7988 2488,-7920 2635,-7920 2635,-7988\"/>\n<text text-anchor=\"middle\" x=\"2561.5\" y=\"-7972.8\" font-family=\"Helvetica,sans-Serif\" font-size=\"14.00\">gini = 0.424</text>\n<text text-anchor=\"middle\" x=\"2561.5\" y=\"-7957.8\" font-family=\"Helvetica,sans-Serif\" font-size=\"14.00\">samples = 0.5%</text>\n<text text-anchor=\"middle\" x=\"2561.5\" y=\"-7942.8\" font-family=\"Helvetica,sans-Serif\" font-size=\"14.00\">value = [0.695, 0.305]</text>\n<text text-anchor=\"middle\" x=\"2561.5\" y=\"-7927.8\" font-family=\"Helvetica,sans-Serif\" font-size=\"14.00\">class = Not infected</text>\n</g>\n<!-- 37&#45;&gt;39 -->\n<g id=\"edge39\" class=\"edge\">\n<title>37&#45;&gt;39</title>\n<path fill=\"none\" stroke=\"black\" d=\"M2367.34,-7954C2403.7,-7954 2443.39,-7954 2477.28,-7954\"/>\n<polygon fill=\"black\" stroke=\"black\" points=\"2477.6,-7957.5 2487.6,-7954 2477.6,-7950.5 2477.6,-7957.5\"/>\n</g>\n<!-- 41 -->\n<g id=\"node42\" class=\"node\">\n<title>41</title>\n<polygon fill=\"#eda775\" stroke=\"black\" points=\"2635,-7902 2488,-7902 2488,-7834 2635,-7834 2635,-7902\"/>\n<text text-anchor=\"middle\" x=\"2561.5\" y=\"-7886.8\" font-family=\"Helvetica,sans-Serif\" font-size=\"14.00\">gini = 0.356</text>\n<text text-anchor=\"middle\" x=\"2561.5\" y=\"-7871.8\" font-family=\"Helvetica,sans-Serif\" font-size=\"14.00\">samples = 0.2%</text>\n<text text-anchor=\"middle\" x=\"2561.5\" y=\"-7856.8\" font-family=\"Helvetica,sans-Serif\" font-size=\"14.00\">value = [0.768, 0.232]</text>\n<text text-anchor=\"middle\" x=\"2561.5\" y=\"-7841.8\" font-family=\"Helvetica,sans-Serif\" font-size=\"14.00\">class = Not infected</text>\n</g>\n<!-- 40&#45;&gt;41 -->\n<g id=\"edge41\" class=\"edge\">\n<title>40&#45;&gt;41</title>\n<path fill=\"none\" stroke=\"black\" d=\"M2407.11,-7842.85C2431.48,-7846.85 2455.88,-7850.85 2477.83,-7854.45\"/>\n<polygon fill=\"black\" stroke=\"black\" points=\"2477.3,-7857.91 2487.73,-7856.07 2478.43,-7851 2477.3,-7857.91\"/>\n</g>\n<!-- 42 -->\n<g id=\"node43\" class=\"node\">\n<title>42</title>\n<polygon fill=\"#f3c4a3\" stroke=\"black\" points=\"2635,-7816 2488,-7816 2488,-7748 2635,-7748 2635,-7816\"/>\n<text text-anchor=\"middle\" x=\"2561.5\" y=\"-7800.8\" font-family=\"Helvetica,sans-Serif\" font-size=\"14.00\">gini = 0.454</text>\n<text text-anchor=\"middle\" x=\"2561.5\" y=\"-7785.8\" font-family=\"Helvetica,sans-Serif\" font-size=\"14.00\">samples = 0.5%</text>\n<text text-anchor=\"middle\" x=\"2561.5\" y=\"-7770.8\" font-family=\"Helvetica,sans-Serif\" font-size=\"14.00\">value = [0.651, 0.349]</text>\n<text text-anchor=\"middle\" x=\"2561.5\" y=\"-7755.8\" font-family=\"Helvetica,sans-Serif\" font-size=\"14.00\">class = Not infected</text>\n</g>\n<!-- 40&#45;&gt;42 -->\n<g id=\"edge42\" class=\"edge\">\n<title>40&#45;&gt;42</title>\n<path fill=\"none\" stroke=\"black\" d=\"M2407.11,-7800.11C2431.37,-7797.24 2455.67,-7794.37 2477.53,-7791.79\"/>\n<polygon fill=\"black\" stroke=\"black\" points=\"2478.21,-7795.24 2487.73,-7790.59 2477.39,-7788.29 2478.21,-7795.24\"/>\n</g>\n<!-- 44 -->\n<g id=\"node45\" class=\"node\">\n<title>44</title>\n<polygon fill=\"#f5cdb0\" stroke=\"black\" points=\"2356,-7659.5 2153,-7659.5 2153,-7576.5 2356,-7576.5 2356,-7659.5\"/>\n<text text-anchor=\"middle\" x=\"2254.5\" y=\"-7644.3\" font-family=\"Helvetica,sans-Serif\" font-size=\"14.00\">Census_IsVirtualDevice &lt;= 0.5</text>\n<text text-anchor=\"middle\" x=\"2254.5\" y=\"-7629.3\" font-family=\"Helvetica,sans-Serif\" font-size=\"14.00\">gini = 0.469</text>\n<text text-anchor=\"middle\" x=\"2254.5\" y=\"-7614.3\" font-family=\"Helvetica,sans-Serif\" font-size=\"14.00\">samples = 1.2%</text>\n<text text-anchor=\"middle\" x=\"2254.5\" y=\"-7599.3\" font-family=\"Helvetica,sans-Serif\" font-size=\"14.00\">value = [0.624, 0.376]</text>\n<text text-anchor=\"middle\" x=\"2254.5\" y=\"-7584.3\" font-family=\"Helvetica,sans-Serif\" font-size=\"14.00\">class = Not infected</text>\n</g>\n<!-- 43&#45;&gt;44 -->\n<g id=\"edge44\" class=\"edge\">\n<title>43&#45;&gt;44</title>\n<path fill=\"none\" stroke=\"black\" d=\"M1976.05,-7585.02C2030.98,-7591.55 2091.96,-7598.8 2142.73,-7604.83\"/>\n<polygon fill=\"black\" stroke=\"black\" points=\"2142.4,-7608.32 2152.74,-7606.02 2143.22,-7601.37 2142.4,-7608.32\"/>\n</g>\n<!-- 47 -->\n<g id=\"node48\" class=\"node\">\n<title>47</title>\n<polygon fill=\"#eef6fd\" stroke=\"black\" points=\"2367,-7558.5 2142,-7558.5 2142,-7475.5 2367,-7475.5 2367,-7558.5\"/>\n<text text-anchor=\"middle\" x=\"2254.5\" y=\"-7543.3\" font-family=\"Helvetica,sans-Serif\" font-size=\"14.00\">EngineVersion_1.1.15100.1 &lt;= 0.5</text>\n<text text-anchor=\"middle\" x=\"2254.5\" y=\"-7528.3\" font-family=\"Helvetica,sans-Serif\" font-size=\"14.00\">gini = 0.499</text>\n<text text-anchor=\"middle\" x=\"2254.5\" y=\"-7513.3\" font-family=\"Helvetica,sans-Serif\" font-size=\"14.00\">samples = 30.7%</text>\n<text text-anchor=\"middle\" x=\"2254.5\" y=\"-7498.3\" font-family=\"Helvetica,sans-Serif\" font-size=\"14.00\">value = [0.477, 0.523]</text>\n<text text-anchor=\"middle\" x=\"2254.5\" y=\"-7483.3\" font-family=\"Helvetica,sans-Serif\" font-size=\"14.00\">class = Infected</text>\n</g>\n<!-- 43&#45;&gt;47 -->\n<g id=\"edge47\" class=\"edge\">\n<title>43&#45;&gt;47</title>\n<path fill=\"none\" stroke=\"black\" d=\"M1976.05,-7549.34C2027.04,-7543.39 2083.24,-7536.84 2131.64,-7531.2\"/>\n<polygon fill=\"black\" stroke=\"black\" points=\"2132.32,-7534.65 2141.85,-7530.01 2131.51,-7527.69 2132.32,-7534.65\"/>\n</g>\n<!-- 45 -->\n<g id=\"node46\" class=\"node\">\n<title>45</title>\n<polygon fill=\"#f6d5bd\" stroke=\"black\" points=\"2629,-7730 2494,-7730 2494,-7662 2629,-7662 2629,-7730\"/>\n<text text-anchor=\"middle\" x=\"2561.5\" y=\"-7714.8\" font-family=\"Helvetica,sans-Serif\" font-size=\"14.00\">gini = 0.48</text>\n<text text-anchor=\"middle\" x=\"2561.5\" y=\"-7699.8\" font-family=\"Helvetica,sans-Serif\" font-size=\"14.00\">samples = 1.1%</text>\n<text text-anchor=\"middle\" x=\"2561.5\" y=\"-7684.8\" font-family=\"Helvetica,sans-Serif\" font-size=\"14.00\">value = [0.6, 0.4]</text>\n<text text-anchor=\"middle\" x=\"2561.5\" y=\"-7669.8\" font-family=\"Helvetica,sans-Serif\" font-size=\"14.00\">class = Not infected</text>\n</g>\n<!-- 44&#45;&gt;45 -->\n<g id=\"edge45\" class=\"edge\">\n<title>44&#45;&gt;45</title>\n<path fill=\"none\" stroke=\"black\" d=\"M2356.21,-7643.76C2397.63,-7654.35 2444.82,-7666.42 2483.41,-7676.28\"/>\n<polygon fill=\"black\" stroke=\"black\" points=\"2482.98,-7679.79 2493.54,-7678.88 2484.72,-7673.01 2482.98,-7679.79\"/>\n</g>\n<!-- 46 -->\n<g id=\"node47\" class=\"node\">\n<title>46</title>\n<polygon fill=\"#eb9d65\" stroke=\"black\" points=\"2635,-7644 2488,-7644 2488,-7576 2635,-7576 2635,-7644\"/>\n<text text-anchor=\"middle\" x=\"2561.5\" y=\"-7628.8\" font-family=\"Helvetica,sans-Serif\" font-size=\"14.00\">gini = 0.297</text>\n<text text-anchor=\"middle\" x=\"2561.5\" y=\"-7613.8\" font-family=\"Helvetica,sans-Serif\" font-size=\"14.00\">samples = 0.1%</text>\n<text text-anchor=\"middle\" x=\"2561.5\" y=\"-7598.8\" font-family=\"Helvetica,sans-Serif\" font-size=\"14.00\">value = [0.819, 0.181]</text>\n<text text-anchor=\"middle\" x=\"2561.5\" y=\"-7583.8\" font-family=\"Helvetica,sans-Serif\" font-size=\"14.00\">class = Not infected</text>\n</g>\n<!-- 44&#45;&gt;46 -->\n<g id=\"edge46\" class=\"edge\">\n<title>44&#45;&gt;46</title>\n<path fill=\"none\" stroke=\"black\" d=\"M2356.21,-7615.36C2395.55,-7614.33 2440.1,-7613.16 2477.53,-7612.18\"/>\n<polygon fill=\"black\" stroke=\"black\" points=\"2477.99,-7615.67 2487.89,-7611.9 2477.8,-7608.67 2477.99,-7615.67\"/>\n</g>\n<!-- 48 -->\n<g id=\"node49\" class=\"node\">\n<title>48</title>\n<polygon fill=\"#ffffff\" stroke=\"black\" points=\"2635,-7558 2488,-7558 2488,-7490 2635,-7490 2635,-7558\"/>\n<text text-anchor=\"middle\" x=\"2561.5\" y=\"-7542.8\" font-family=\"Helvetica,sans-Serif\" font-size=\"14.00\">gini = 0.5</text>\n<text text-anchor=\"middle\" x=\"2561.5\" y=\"-7527.8\" font-family=\"Helvetica,sans-Serif\" font-size=\"14.00\">samples = 17.8%</text>\n<text text-anchor=\"middle\" x=\"2561.5\" y=\"-7512.8\" font-family=\"Helvetica,sans-Serif\" font-size=\"14.00\">value = [0.501, 0.499]</text>\n<text text-anchor=\"middle\" x=\"2561.5\" y=\"-7497.8\" font-family=\"Helvetica,sans-Serif\" font-size=\"14.00\">class = Not infected</text>\n</g>\n<!-- 47&#45;&gt;48 -->\n<g id=\"edge48\" class=\"edge\">\n<title>47&#45;&gt;48</title>\n<path fill=\"none\" stroke=\"black\" d=\"M2367.34,-7519.57C2403.7,-7520.4 2443.39,-7521.31 2477.28,-7522.09\"/>\n<polygon fill=\"black\" stroke=\"black\" points=\"2477.52,-7525.6 2487.6,-7522.33 2477.69,-7518.6 2477.52,-7525.6\"/>\n</g>\n<!-- 49 -->\n<g id=\"node50\" class=\"node\">\n<title>49</title>\n<polygon fill=\"#d8ecfa\" stroke=\"black\" points=\"2635,-7472 2488,-7472 2488,-7404 2635,-7404 2635,-7472\"/>\n<text text-anchor=\"middle\" x=\"2561.5\" y=\"-7456.8\" font-family=\"Helvetica,sans-Serif\" font-size=\"14.00\">gini = 0.494</text>\n<text text-anchor=\"middle\" x=\"2561.5\" y=\"-7441.8\" font-family=\"Helvetica,sans-Serif\" font-size=\"14.00\">samples = 12.9%</text>\n<text text-anchor=\"middle\" x=\"2561.5\" y=\"-7426.8\" font-family=\"Helvetica,sans-Serif\" font-size=\"14.00\">value = [0.445, 0.555]</text>\n<text text-anchor=\"middle\" x=\"2561.5\" y=\"-7411.8\" font-family=\"Helvetica,sans-Serif\" font-size=\"14.00\">class = Infected</text>\n</g>\n<!-- 47&#45;&gt;49 -->\n<g id=\"edge49\" class=\"edge\">\n<title>47&#45;&gt;49</title>\n<path fill=\"none\" stroke=\"black\" d=\"M2367.34,-7488.03C2403.86,-7478.57 2443.73,-7468.24 2477.72,-7459.44\"/>\n<polygon fill=\"black\" stroke=\"black\" points=\"2478.8,-7462.78 2487.6,-7456.88 2477.04,-7456 2478.8,-7462.78\"/>\n</g>\n<!-- 51 -->\n<g id=\"node52\" class=\"node\">\n<title>51</title>\n<polygon fill=\"#fef9f5\" stroke=\"black\" points=\"1921,-7263.5 1726,-7263.5 1726,-7180.5 1921,-7180.5 1921,-7263.5\"/>\n<text text-anchor=\"middle\" x=\"1823.5\" y=\"-7248.3\" font-family=\"Helvetica,sans-Serif\" font-size=\"14.00\">AvSigVersion_count &lt;= 147.0</text>\n<text text-anchor=\"middle\" x=\"1823.5\" y=\"-7233.3\" font-family=\"Helvetica,sans-Serif\" font-size=\"14.00\">gini = 0.5</text>\n<text text-anchor=\"middle\" x=\"1823.5\" y=\"-7218.3\" font-family=\"Helvetica,sans-Serif\" font-size=\"14.00\">samples = 1.8%</text>\n<text text-anchor=\"middle\" x=\"1823.5\" y=\"-7203.3\" font-family=\"Helvetica,sans-Serif\" font-size=\"14.00\">value = [0.513, 0.487]</text>\n<text text-anchor=\"middle\" x=\"1823.5\" y=\"-7188.3\" font-family=\"Helvetica,sans-Serif\" font-size=\"14.00\">class = Not infected</text>\n</g>\n<!-- 50&#45;&gt;51 -->\n<g id=\"edge51\" class=\"edge\">\n<title>50&#45;&gt;51</title>\n<path fill=\"none\" stroke=\"black\" d=\"M1496.07,-7222C1561.85,-7222 1648.29,-7222 1715.7,-7222\"/>\n<polygon fill=\"black\" stroke=\"black\" points=\"1715.93,-7225.5 1725.93,-7222 1715.93,-7218.5 1715.93,-7225.5\"/>\n</g>\n<!-- 58 -->\n<g id=\"node59\" class=\"node\">\n<title>58</title>\n<polygon fill=\"#b6dbf5\" stroke=\"black\" points=\"1947.5,-7013.5 1699.5,-7013.5 1699.5,-6930.5 1947.5,-6930.5 1947.5,-7013.5\"/>\n<text text-anchor=\"middle\" x=\"1823.5\" y=\"-6998.3\" font-family=\"Helvetica,sans-Serif\" font-size=\"14.00\">Census_OSVersion_count &lt;= 18687.0</text>\n<text text-anchor=\"middle\" x=\"1823.5\" y=\"-6983.3\" font-family=\"Helvetica,sans-Serif\" font-size=\"14.00\">gini = 0.475</text>\n<text text-anchor=\"middle\" x=\"1823.5\" y=\"-6968.3\" font-family=\"Helvetica,sans-Serif\" font-size=\"14.00\">samples = 13.0%</text>\n<text text-anchor=\"middle\" x=\"1823.5\" y=\"-6953.3\" font-family=\"Helvetica,sans-Serif\" font-size=\"14.00\">value = [0.387, 0.613]</text>\n<text text-anchor=\"middle\" x=\"1823.5\" y=\"-6938.3\" font-family=\"Helvetica,sans-Serif\" font-size=\"14.00\">class = Infected</text>\n</g>\n<!-- 50&#45;&gt;58 -->\n<g id=\"edge58\" class=\"edge\">\n<title>50&#45;&gt;58</title>\n<path fill=\"none\" stroke=\"black\" d=\"M1468.16,-7180.44C1543.84,-7135.92 1663.7,-7065.41 1742.72,-7018.93\"/>\n<polygon fill=\"black\" stroke=\"black\" points=\"1744.83,-7021.75 1751.67,-7013.66 1741.28,-7015.72 1744.83,-7021.75\"/>\n</g>\n<!-- 52 -->\n<g id=\"node53\" class=\"node\">\n<title>52</title>\n<polygon fill=\"#f5d0b5\" stroke=\"black\" points=\"2367,-7314.5 2142,-7314.5 2142,-7231.5 2367,-7231.5 2367,-7314.5\"/>\n<text text-anchor=\"middle\" x=\"2254.5\" y=\"-7299.3\" font-family=\"Helvetica,sans-Serif\" font-size=\"14.00\">EngineVersion_1.1.15100.1 &lt;= 0.5</text>\n<text text-anchor=\"middle\" x=\"2254.5\" y=\"-7284.3\" font-family=\"Helvetica,sans-Serif\" font-size=\"14.00\">gini = 0.474</text>\n<text text-anchor=\"middle\" x=\"2254.5\" y=\"-7269.3\" font-family=\"Helvetica,sans-Serif\" font-size=\"14.00\">samples = 0.3%</text>\n<text text-anchor=\"middle\" x=\"2254.5\" y=\"-7254.3\" font-family=\"Helvetica,sans-Serif\" font-size=\"14.00\">value = [0.615, 0.385]</text>\n<text text-anchor=\"middle\" x=\"2254.5\" y=\"-7239.3\" font-family=\"Helvetica,sans-Serif\" font-size=\"14.00\">class = Not infected</text>\n</g>\n<!-- 51&#45;&gt;52 -->\n<g id=\"edge52\" class=\"edge\">\n<title>51&#45;&gt;52</title>\n<path fill=\"none\" stroke=\"black\" d=\"M1921.04,-7233.48C1983.32,-7240.88 2064.86,-7250.57 2131.59,-7258.51\"/>\n<polygon fill=\"black\" stroke=\"black\" points=\"2131.41,-7262.01 2141.75,-7259.71 2132.23,-7255.06 2131.41,-7262.01\"/>\n</g>\n<!-- 55 -->\n<g id=\"node56\" class=\"node\">\n<title>55</title>\n<polygon fill=\"#f8fcfe\" stroke=\"black\" points=\"2452,-7213.5 2057,-7213.5 2057,-7130.5 2452,-7130.5 2452,-7213.5\"/>\n<text text-anchor=\"middle\" x=\"2254.5\" y=\"-7198.3\" font-family=\"Helvetica,sans-Serif\" font-size=\"14.00\">Census_InternalPrimaryDiagonalDisplaySizeInInches &lt;= 13.05</text>\n<text text-anchor=\"middle\" x=\"2254.5\" y=\"-7183.3\" font-family=\"Helvetica,sans-Serif\" font-size=\"14.00\">gini = 0.5</text>\n<text text-anchor=\"middle\" x=\"2254.5\" y=\"-7168.3\" font-family=\"Helvetica,sans-Serif\" font-size=\"14.00\">samples = 1.5%</text>\n<text text-anchor=\"middle\" x=\"2254.5\" y=\"-7153.3\" font-family=\"Helvetica,sans-Serif\" font-size=\"14.00\">value = [0.491, 0.509]</text>\n<text text-anchor=\"middle\" x=\"2254.5\" y=\"-7138.3\" font-family=\"Helvetica,sans-Serif\" font-size=\"14.00\">class = Infected</text>\n</g>\n<!-- 51&#45;&gt;55 -->\n<g id=\"edge55\" class=\"edge\">\n<title>51&#45;&gt;55</title>\n<path fill=\"none\" stroke=\"black\" d=\"M1921.04,-7210.75C1958.49,-7206.38 2002.89,-7201.21 2046.85,-7196.09\"/>\n<polygon fill=\"black\" stroke=\"black\" points=\"2047.29,-7199.56 2056.81,-7194.92 2046.48,-7192.61 2047.29,-7199.56\"/>\n</g>\n<!-- 53 -->\n<g id=\"node54\" class=\"node\">\n<title>53</title>\n<polygon fill=\"#f4cbad\" stroke=\"black\" points=\"2629,-7386 2494,-7386 2494,-7318 2629,-7318 2629,-7386\"/>\n<text text-anchor=\"middle\" x=\"2561.5\" y=\"-7370.8\" font-family=\"Helvetica,sans-Serif\" font-size=\"14.00\">gini = 0.466</text>\n<text text-anchor=\"middle\" x=\"2561.5\" y=\"-7355.8\" font-family=\"Helvetica,sans-Serif\" font-size=\"14.00\">samples = 0.3%</text>\n<text text-anchor=\"middle\" x=\"2561.5\" y=\"-7340.8\" font-family=\"Helvetica,sans-Serif\" font-size=\"14.00\">value = [0.63, 0.37]</text>\n<text text-anchor=\"middle\" x=\"2561.5\" y=\"-7325.8\" font-family=\"Helvetica,sans-Serif\" font-size=\"14.00\">class = Not infected</text>\n</g>\n<!-- 52&#45;&gt;53 -->\n<g id=\"edge53\" class=\"edge\">\n<title>52&#45;&gt;53</title>\n<path fill=\"none\" stroke=\"black\" d=\"M2367.34,-7301.97C2406.19,-7312.03 2448.84,-7323.08 2484.16,-7332.23\"/>\n<polygon fill=\"black\" stroke=\"black\" points=\"2483.36,-7335.63 2493.91,-7334.75 2485.11,-7328.86 2483.36,-7335.63\"/>\n</g>\n<!-- 54 -->\n<g id=\"node55\" class=\"node\">\n<title>54</title>\n<polygon fill=\"#dfeffb\" stroke=\"black\" points=\"2635,-7300 2488,-7300 2488,-7232 2635,-7232 2635,-7300\"/>\n<text text-anchor=\"middle\" x=\"2561.5\" y=\"-7284.8\" font-family=\"Helvetica,sans-Serif\" font-size=\"14.00\">gini = 0.496</text>\n<text text-anchor=\"middle\" x=\"2561.5\" y=\"-7269.8\" font-family=\"Helvetica,sans-Serif\" font-size=\"14.00\">samples = 0.0%</text>\n<text text-anchor=\"middle\" x=\"2561.5\" y=\"-7254.8\" font-family=\"Helvetica,sans-Serif\" font-size=\"14.00\">value = [0.456, 0.544]</text>\n<text text-anchor=\"middle\" x=\"2561.5\" y=\"-7239.8\" font-family=\"Helvetica,sans-Serif\" font-size=\"14.00\">class = Infected</text>\n</g>\n<!-- 52&#45;&gt;54 -->\n<g id=\"edge54\" class=\"edge\">\n<title>52&#45;&gt;54</title>\n<path fill=\"none\" stroke=\"black\" d=\"M2367.34,-7270.43C2403.7,-7269.6 2443.39,-7268.69 2477.28,-7267.91\"/>\n<polygon fill=\"black\" stroke=\"black\" points=\"2477.69,-7271.4 2487.6,-7267.67 2477.52,-7264.4 2477.69,-7271.4\"/>\n</g>\n<!-- 56 -->\n<g id=\"node57\" class=\"node\">\n<title>56</title>\n<polygon fill=\"#f5cfb4\" stroke=\"black\" points=\"2635,-7214 2488,-7214 2488,-7146 2635,-7146 2635,-7214\"/>\n<text text-anchor=\"middle\" x=\"2561.5\" y=\"-7198.8\" font-family=\"Helvetica,sans-Serif\" font-size=\"14.00\">gini = 0.472</text>\n<text text-anchor=\"middle\" x=\"2561.5\" y=\"-7183.8\" font-family=\"Helvetica,sans-Serif\" font-size=\"14.00\">samples = 0.1%</text>\n<text text-anchor=\"middle\" x=\"2561.5\" y=\"-7168.8\" font-family=\"Helvetica,sans-Serif\" font-size=\"14.00\">value = [0.617, 0.383]</text>\n<text text-anchor=\"middle\" x=\"2561.5\" y=\"-7153.8\" font-family=\"Helvetica,sans-Serif\" font-size=\"14.00\">class = Not infected</text>\n</g>\n<!-- 55&#45;&gt;56 -->\n<g id=\"edge56\" class=\"edge\">\n<title>55&#45;&gt;56</title>\n<path fill=\"none\" stroke=\"black\" d=\"M2452.11,-7177.16C2460.86,-7177.39 2469.4,-7177.61 2477.6,-7177.83\"/>\n<polygon fill=\"black\" stroke=\"black\" points=\"2477.71,-7181.33 2487.8,-7178.09 2477.89,-7174.33 2477.71,-7181.33\"/>\n</g>\n<!-- 57 -->\n<g id=\"node58\" class=\"node\">\n<title>57</title>\n<polygon fill=\"#f3f9fd\" stroke=\"black\" points=\"2635,-7128 2488,-7128 2488,-7060 2635,-7060 2635,-7128\"/>\n<text text-anchor=\"middle\" x=\"2561.5\" y=\"-7112.8\" font-family=\"Helvetica,sans-Serif\" font-size=\"14.00\">gini = 0.5</text>\n<text text-anchor=\"middle\" x=\"2561.5\" y=\"-7097.8\" font-family=\"Helvetica,sans-Serif\" font-size=\"14.00\">samples = 1.4%</text>\n<text text-anchor=\"middle\" x=\"2561.5\" y=\"-7082.8\" font-family=\"Helvetica,sans-Serif\" font-size=\"14.00\">value = [0.485, 0.515]</text>\n<text text-anchor=\"middle\" x=\"2561.5\" y=\"-7067.8\" font-family=\"Helvetica,sans-Serif\" font-size=\"14.00\">class = Infected</text>\n</g>\n<!-- 55&#45;&gt;57 -->\n<g id=\"edge57\" class=\"edge\">\n<title>55&#45;&gt;57</title>\n<path fill=\"none\" stroke=\"black\" d=\"M2417.82,-7130.49C2438.56,-7125.18 2459.06,-7119.94 2477.77,-7115.16\"/>\n<polygon fill=\"black\" stroke=\"black\" points=\"2478.86,-7118.49 2487.68,-7112.62 2477.13,-7111.71 2478.86,-7118.49\"/>\n</g>\n<!-- 59 -->\n<g id=\"node60\" class=\"node\">\n<title>59</title>\n<polygon fill=\"#cfe7f9\" stroke=\"black\" points=\"2367,-7013.5 2142,-7013.5 2142,-6930.5 2367,-6930.5 2367,-7013.5\"/>\n<text text-anchor=\"middle\" x=\"2254.5\" y=\"-6998.3\" font-family=\"Helvetica,sans-Serif\" font-size=\"14.00\">EngineVersion_1.1.15100.1 &lt;= 0.5</text>\n<text text-anchor=\"middle\" x=\"2254.5\" y=\"-6983.3\" font-family=\"Helvetica,sans-Serif\" font-size=\"14.00\">gini = 0.49</text>\n<text text-anchor=\"middle\" x=\"2254.5\" y=\"-6968.3\" font-family=\"Helvetica,sans-Serif\" font-size=\"14.00\">samples = 4.4%</text>\n<text text-anchor=\"middle\" x=\"2254.5\" y=\"-6953.3\" font-family=\"Helvetica,sans-Serif\" font-size=\"14.00\">value = [0.431, 0.569]</text>\n<text text-anchor=\"middle\" x=\"2254.5\" y=\"-6938.3\" font-family=\"Helvetica,sans-Serif\" font-size=\"14.00\">class = Infected</text>\n</g>\n<!-- 58&#45;&gt;59 -->\n<g id=\"edge59\" class=\"edge\">\n<title>58&#45;&gt;59</title>\n<path fill=\"none\" stroke=\"black\" d=\"M1947.72,-6972C2005.41,-6972 2073.92,-6972 2131.45,-6972\"/>\n<polygon fill=\"black\" stroke=\"black\" points=\"2131.69,-6975.5 2141.69,-6972 2131.69,-6968.5 2131.69,-6975.5\"/>\n</g>\n<!-- 62 -->\n<g id=\"node63\" class=\"node\">\n<title>62</title>\n<polygon fill=\"#abd5f4\" stroke=\"black\" points=\"2367,-6877.5 2142,-6877.5 2142,-6794.5 2367,-6794.5 2367,-6877.5\"/>\n<text text-anchor=\"middle\" x=\"2254.5\" y=\"-6862.3\" font-family=\"Helvetica,sans-Serif\" font-size=\"14.00\">EngineVersion_1.1.15100.1 &lt;= 0.5</text>\n<text text-anchor=\"middle\" x=\"2254.5\" y=\"-6847.3\" font-family=\"Helvetica,sans-Serif\" font-size=\"14.00\">gini = 0.464</text>\n<text text-anchor=\"middle\" x=\"2254.5\" y=\"-6832.3\" font-family=\"Helvetica,sans-Serif\" font-size=\"14.00\">samples = 8.6%</text>\n<text text-anchor=\"middle\" x=\"2254.5\" y=\"-6817.3\" font-family=\"Helvetica,sans-Serif\" font-size=\"14.00\">value = [0.365, 0.635]</text>\n<text text-anchor=\"middle\" x=\"2254.5\" y=\"-6802.3\" font-family=\"Helvetica,sans-Serif\" font-size=\"14.00\">class = Infected</text>\n</g>\n<!-- 58&#45;&gt;62 -->\n<g id=\"edge62\" class=\"edge\">\n<title>58&#45;&gt;62</title>\n<path fill=\"none\" stroke=\"black\" d=\"M1947.72,-6932.94C2005.53,-6914.61 2074.2,-6892.84 2131.81,-6874.58\"/>\n<polygon fill=\"black\" stroke=\"black\" points=\"2133.22,-6877.8 2141.69,-6871.44 2131.1,-6871.13 2133.22,-6877.8\"/>\n</g>\n<!-- 60 -->\n<g id=\"node61\" class=\"node\">\n<title>60</title>\n<polygon fill=\"#e0effb\" stroke=\"black\" points=\"2635,-7042 2488,-7042 2488,-6974 2635,-6974 2635,-7042\"/>\n<text text-anchor=\"middle\" x=\"2561.5\" y=\"-7026.8\" font-family=\"Helvetica,sans-Serif\" font-size=\"14.00\">gini = 0.496</text>\n<text text-anchor=\"middle\" x=\"2561.5\" y=\"-7011.8\" font-family=\"Helvetica,sans-Serif\" font-size=\"14.00\">samples = 2.1%</text>\n<text text-anchor=\"middle\" x=\"2561.5\" y=\"-6996.8\" font-family=\"Helvetica,sans-Serif\" font-size=\"14.00\">value = [0.457, 0.543]</text>\n<text text-anchor=\"middle\" x=\"2561.5\" y=\"-6981.8\" font-family=\"Helvetica,sans-Serif\" font-size=\"14.00\">class = Infected</text>\n</g>\n<!-- 59&#45;&gt;60 -->\n<g id=\"edge60\" class=\"edge\">\n<title>59&#45;&gt;60</title>\n<path fill=\"none\" stroke=\"black\" d=\"M2367.34,-6985.2C2403.7,-6989.49 2443.39,-6994.18 2477.28,-6998.18\"/>\n<polygon fill=\"black\" stroke=\"black\" points=\"2477.26,-7001.7 2487.6,-6999.4 2478.08,-6994.75 2477.26,-7001.7\"/>\n</g>\n<!-- 61 -->\n<g id=\"node62\" class=\"node\">\n<title>61</title>\n<polygon fill=\"#c1e0f7\" stroke=\"black\" points=\"2635,-6956 2488,-6956 2488,-6888 2635,-6888 2635,-6956\"/>\n<text text-anchor=\"middle\" x=\"2561.5\" y=\"-6940.8\" font-family=\"Helvetica,sans-Serif\" font-size=\"14.00\">gini = 0.483</text>\n<text text-anchor=\"middle\" x=\"2561.5\" y=\"-6925.8\" font-family=\"Helvetica,sans-Serif\" font-size=\"14.00\">samples = 2.3%</text>\n<text text-anchor=\"middle\" x=\"2561.5\" y=\"-6910.8\" font-family=\"Helvetica,sans-Serif\" font-size=\"14.00\">value = [0.407, 0.593]</text>\n<text text-anchor=\"middle\" x=\"2561.5\" y=\"-6895.8\" font-family=\"Helvetica,sans-Serif\" font-size=\"14.00\">class = Infected</text>\n</g>\n<!-- 59&#45;&gt;61 -->\n<g id=\"edge61\" class=\"edge\">\n<title>59&#45;&gt;61</title>\n<path fill=\"none\" stroke=\"black\" d=\"M2367.34,-6953.67C2403.86,-6947.68 2443.73,-6941.14 2477.72,-6935.57\"/>\n<polygon fill=\"black\" stroke=\"black\" points=\"2478.3,-6939.02 2487.6,-6933.95 2477.17,-6932.11 2478.3,-6939.02\"/>\n</g>\n<!-- 63 -->\n<g id=\"node64\" class=\"node\">\n<title>63</title>\n<polygon fill=\"#b8dcf6\" stroke=\"black\" points=\"2635,-6870 2488,-6870 2488,-6802 2635,-6802 2635,-6870\"/>\n<text text-anchor=\"middle\" x=\"2561.5\" y=\"-6854.8\" font-family=\"Helvetica,sans-Serif\" font-size=\"14.00\">gini = 0.477</text>\n<text text-anchor=\"middle\" x=\"2561.5\" y=\"-6839.8\" font-family=\"Helvetica,sans-Serif\" font-size=\"14.00\">samples = 4.6%</text>\n<text text-anchor=\"middle\" x=\"2561.5\" y=\"-6824.8\" font-family=\"Helvetica,sans-Serif\" font-size=\"14.00\">value = [0.392, 0.608]</text>\n<text text-anchor=\"middle\" x=\"2561.5\" y=\"-6809.8\" font-family=\"Helvetica,sans-Serif\" font-size=\"14.00\">class = Infected</text>\n</g>\n<!-- 62&#45;&gt;63 -->\n<g id=\"edge63\" class=\"edge\">\n<title>62&#45;&gt;63</title>\n<path fill=\"none\" stroke=\"black\" d=\"M2367.34,-6836C2403.7,-6836 2443.39,-6836 2477.28,-6836\"/>\n<polygon fill=\"black\" stroke=\"black\" points=\"2477.6,-6839.5 2487.6,-6836 2477.6,-6832.5 2477.6,-6839.5\"/>\n</g>\n<!-- 64 -->\n<g id=\"node65\" class=\"node\">\n<title>64</title>\n<polygon fill=\"#9ccef2\" stroke=\"black\" points=\"2635,-6784 2488,-6784 2488,-6716 2635,-6716 2635,-6784\"/>\n<text text-anchor=\"middle\" x=\"2561.5\" y=\"-6768.8\" font-family=\"Helvetica,sans-Serif\" font-size=\"14.00\">gini = 0.445</text>\n<text text-anchor=\"middle\" x=\"2561.5\" y=\"-6753.8\" font-family=\"Helvetica,sans-Serif\" font-size=\"14.00\">samples = 4.0%</text>\n<text text-anchor=\"middle\" x=\"2561.5\" y=\"-6738.8\" font-family=\"Helvetica,sans-Serif\" font-size=\"14.00\">value = [0.334, 0.666]</text>\n<text text-anchor=\"middle\" x=\"2561.5\" y=\"-6723.8\" font-family=\"Helvetica,sans-Serif\" font-size=\"14.00\">class = Infected</text>\n</g>\n<!-- 62&#45;&gt;64 -->\n<g id=\"edge64\" class=\"edge\">\n<title>62&#45;&gt;64</title>\n<path fill=\"none\" stroke=\"black\" d=\"M2367.34,-6804.47C2403.86,-6794.17 2443.73,-6782.92 2477.72,-6773.34\"/>\n<polygon fill=\"black\" stroke=\"black\" points=\"2478.93,-6776.64 2487.6,-6770.55 2477.03,-6769.9 2478.93,-6776.64\"/>\n</g>\n<!-- 66 -->\n<g id=\"node67\" class=\"node\">\n<title>66</title>\n<polygon fill=\"#f1bd97\" stroke=\"black\" points=\"1082,-5699.5 857,-5699.5 857,-5616.5 1082,-5616.5 1082,-5699.5\"/>\n<text text-anchor=\"middle\" x=\"969.5\" y=\"-5684.3\" font-family=\"Helvetica,sans-Serif\" font-size=\"14.00\">EngineVersion_1.1.15200.1 &lt;= 0.5</text>\n<text text-anchor=\"middle\" x=\"969.5\" y=\"-5669.3\" font-family=\"Helvetica,sans-Serif\" font-size=\"14.00\">gini = 0.436</text>\n<text text-anchor=\"middle\" x=\"969.5\" y=\"-5654.3\" font-family=\"Helvetica,sans-Serif\" font-size=\"14.00\">samples = 16.6%</text>\n<text text-anchor=\"middle\" x=\"969.5\" y=\"-5639.3\" font-family=\"Helvetica,sans-Serif\" font-size=\"14.00\">value = [0.678, 0.322]</text>\n<text text-anchor=\"middle\" x=\"969.5\" y=\"-5624.3\" font-family=\"Helvetica,sans-Serif\" font-size=\"14.00\">class = Not infected</text>\n</g>\n<!-- 65&#45;&gt;66 -->\n<g id=\"edge66\" class=\"edge\">\n<title>65&#45;&gt;66</title>\n<path fill=\"none\" stroke=\"black\" d=\"M650.39,-5287.77C716.21,-5364.37 855.88,-5526.93 926.19,-5608.76\"/>\n<polygon fill=\"black\" stroke=\"black\" points=\"923.61,-5611.12 932.78,-5616.42 928.91,-5606.56 923.61,-5611.12\"/>\n</g>\n<!-- 97 -->\n<g id=\"node98\" class=\"node\">\n<title>97</title>\n<polygon fill=\"#f6d4bc\" stroke=\"black\" points=\"1156.5,-4996.5 782.5,-4996.5 782.5,-4913.5 1156.5,-4913.5 1156.5,-4996.5\"/>\n<text text-anchor=\"middle\" x=\"969.5\" y=\"-4981.3\" font-family=\"Helvetica,sans-Serif\" font-size=\"14.00\">Census_OSSkuName_CORE_SINGLELANGUAGE &lt;= 0.5</text>\n<text text-anchor=\"middle\" x=\"969.5\" y=\"-4966.3\" font-family=\"Helvetica,sans-Serif\" font-size=\"14.00\">gini = 0.479</text>\n<text text-anchor=\"middle\" x=\"969.5\" y=\"-4951.3\" font-family=\"Helvetica,sans-Serif\" font-size=\"14.00\">samples = 10.2%</text>\n<text text-anchor=\"middle\" x=\"969.5\" y=\"-4936.3\" font-family=\"Helvetica,sans-Serif\" font-size=\"14.00\">value = [0.602, 0.398]</text>\n<text text-anchor=\"middle\" x=\"969.5\" y=\"-4921.3\" font-family=\"Helvetica,sans-Serif\" font-size=\"14.00\">class = Not infected</text>\n</g>\n<!-- 65&#45;&gt;97 -->\n<g id=\"edge97\" class=\"edge\">\n<title>65&#45;&gt;97</title>\n<path fill=\"none\" stroke=\"black\" d=\"M665.22,-5204.31C729.89,-5151.15 841.48,-5059.42 909.77,-5003.28\"/>\n<polygon fill=\"black\" stroke=\"black\" points=\"912.37,-5005.67 917.87,-4996.62 907.93,-5000.26 912.37,-5005.67\"/>\n</g>\n<!-- 67 -->\n<g id=\"node68\" class=\"node\">\n<title>67</title>\n<polygon fill=\"#efb083\" stroke=\"black\" points=\"1557.5,-6233.5 1235.5,-6233.5 1235.5,-6150.5 1557.5,-6150.5 1557.5,-6233.5\"/>\n<text text-anchor=\"middle\" x=\"1396.5\" y=\"-6218.3\" font-family=\"Helvetica,sans-Serif\" font-size=\"14.00\">Census_OSInstallTypeName_UUPUpgrade &lt;= 0.5</text>\n<text text-anchor=\"middle\" x=\"1396.5\" y=\"-6203.3\" font-family=\"Helvetica,sans-Serif\" font-size=\"14.00\">gini = 0.397</text>\n<text text-anchor=\"middle\" x=\"1396.5\" y=\"-6188.3\" font-family=\"Helvetica,sans-Serif\" font-size=\"14.00\">samples = 5.5%</text>\n<text text-anchor=\"middle\" x=\"1396.5\" y=\"-6173.3\" font-family=\"Helvetica,sans-Serif\" font-size=\"14.00\">value = [0.727, 0.273]</text>\n<text text-anchor=\"middle\" x=\"1396.5\" y=\"-6158.3\" font-family=\"Helvetica,sans-Serif\" font-size=\"14.00\">class = Not infected</text>\n</g>\n<!-- 66&#45;&gt;67 -->\n<g id=\"edge67\" class=\"edge\">\n<title>66&#45;&gt;67</title>\n<path fill=\"none\" stroke=\"black\" d=\"M1003.85,-5699.9C1081.28,-5797.19 1272.95,-6038.02 1356.04,-6142.42\"/>\n<polygon fill=\"black\" stroke=\"black\" points=\"1353.34,-6144.65 1362.31,-6150.29 1358.82,-6140.29 1353.34,-6144.65\"/>\n</g>\n<!-- 82 -->\n<g id=\"node83\" class=\"node\">\n<title>82</title>\n<polygon fill=\"#f3c4a2\" stroke=\"black\" points=\"1550.5,-5699.5 1242.5,-5699.5 1242.5,-5616.5 1550.5,-5616.5 1550.5,-5699.5\"/>\n<text text-anchor=\"middle\" x=\"1396.5\" y=\"-5684.3\" font-family=\"Helvetica,sans-Serif\" font-size=\"14.00\">Census_OSEdition_CoreSingleLanguage &lt;= 0.5</text>\n<text text-anchor=\"middle\" x=\"1396.5\" y=\"-5669.3\" font-family=\"Helvetica,sans-Serif\" font-size=\"14.00\">gini = 0.453</text>\n<text text-anchor=\"middle\" x=\"1396.5\" y=\"-5654.3\" font-family=\"Helvetica,sans-Serif\" font-size=\"14.00\">samples = 11.1%</text>\n<text text-anchor=\"middle\" x=\"1396.5\" y=\"-5639.3\" font-family=\"Helvetica,sans-Serif\" font-size=\"14.00\">value = [0.654, 0.346]</text>\n<text text-anchor=\"middle\" x=\"1396.5\" y=\"-5624.3\" font-family=\"Helvetica,sans-Serif\" font-size=\"14.00\">class = Not infected</text>\n</g>\n<!-- 66&#45;&gt;82 -->\n<g id=\"edge82\" class=\"edge\">\n<title>66&#45;&gt;82</title>\n<path fill=\"none\" stroke=\"black\" d=\"M1082.16,-5658C1127.95,-5658 1181.87,-5658 1231.95,-5658\"/>\n<polygon fill=\"black\" stroke=\"black\" points=\"1232.24,-5661.5 1242.24,-5658 1232.24,-5654.5 1232.24,-5661.5\"/>\n</g>\n<!-- 68 -->\n<g id=\"node69\" class=\"node\">\n<title>68</title>\n<polygon fill=\"#f0b489\" stroke=\"black\" points=\"1913.5,-6483.5 1733.5,-6483.5 1733.5,-6400.5 1913.5,-6400.5 1913.5,-6483.5\"/>\n<text text-anchor=\"middle\" x=\"1823.5\" y=\"-6468.3\" font-family=\"Helvetica,sans-Serif\" font-size=\"14.00\">AVProductsInstalled &lt;= 2.5</text>\n<text text-anchor=\"middle\" x=\"1823.5\" y=\"-6453.3\" font-family=\"Helvetica,sans-Serif\" font-size=\"14.00\">gini = 0.41</text>\n<text text-anchor=\"middle\" x=\"1823.5\" y=\"-6438.3\" font-family=\"Helvetica,sans-Serif\" font-size=\"14.00\">samples = 4.1%</text>\n<text text-anchor=\"middle\" x=\"1823.5\" y=\"-6423.3\" font-family=\"Helvetica,sans-Serif\" font-size=\"14.00\">value = [0.712, 0.288]</text>\n<text text-anchor=\"middle\" x=\"1823.5\" y=\"-6408.3\" font-family=\"Helvetica,sans-Serif\" font-size=\"14.00\">class = Not infected</text>\n</g>\n<!-- 67&#45;&gt;68 -->\n<g id=\"edge68\" class=\"edge\">\n<title>67&#45;&gt;68</title>\n<path fill=\"none\" stroke=\"black\" d=\"M1468.16,-6233.56C1543.84,-6278.08 1663.7,-6348.59 1742.72,-6395.07\"/>\n<polygon fill=\"black\" stroke=\"black\" points=\"1741.28,-6398.28 1751.67,-6400.34 1744.83,-6392.25 1741.28,-6398.28\"/>\n</g>\n<!-- 75 -->\n<g id=\"node76\" class=\"node\">\n<title>75</title>\n<polygon fill=\"#eda774\" stroke=\"black\" points=\"1917.5,-6233.5 1729.5,-6233.5 1729.5,-6150.5 1917.5,-6150.5 1917.5,-6233.5\"/>\n<text text-anchor=\"middle\" x=\"1823.5\" y=\"-6218.3\" font-family=\"Helvetica,sans-Serif\" font-size=\"14.00\">AvSigVersion_count &lt;= 21.5</text>\n<text text-anchor=\"middle\" x=\"1823.5\" y=\"-6203.3\" font-family=\"Helvetica,sans-Serif\" font-size=\"14.00\">gini = 0.354</text>\n<text text-anchor=\"middle\" x=\"1823.5\" y=\"-6188.3\" font-family=\"Helvetica,sans-Serif\" font-size=\"14.00\">samples = 1.5%</text>\n<text text-anchor=\"middle\" x=\"1823.5\" y=\"-6173.3\" font-family=\"Helvetica,sans-Serif\" font-size=\"14.00\">value = [0.77, 0.23]</text>\n<text text-anchor=\"middle\" x=\"1823.5\" y=\"-6158.3\" font-family=\"Helvetica,sans-Serif\" font-size=\"14.00\">class = Not infected</text>\n</g>\n<!-- 67&#45;&gt;75 -->\n<g id=\"edge75\" class=\"edge\">\n<title>67&#45;&gt;75</title>\n<path fill=\"none\" stroke=\"black\" d=\"M1557.57,-6192C1611.72,-6192 1670.71,-6192 1719.26,-6192\"/>\n<polygon fill=\"black\" stroke=\"black\" points=\"1719.45,-6195.5 1729.45,-6192 1719.45,-6188.5 1719.45,-6195.5\"/>\n</g>\n<!-- 69 -->\n<g id=\"node70\" class=\"node\">\n<title>69</title>\n<polygon fill=\"#f0b68c\" stroke=\"black\" points=\"2377,-6619.5 2132,-6619.5 2132,-6536.5 2377,-6536.5 2377,-6619.5\"/>\n<text text-anchor=\"middle\" x=\"2254.5\" y=\"-6604.3\" font-family=\"Helvetica,sans-Serif\" font-size=\"14.00\">Census_TotalPhysicalRAM &lt;= 2816.0</text>\n<text text-anchor=\"middle\" x=\"2254.5\" y=\"-6589.3\" font-family=\"Helvetica,sans-Serif\" font-size=\"14.00\">gini = 0.417</text>\n<text text-anchor=\"middle\" x=\"2254.5\" y=\"-6574.3\" font-family=\"Helvetica,sans-Serif\" font-size=\"14.00\">samples = 3.7%</text>\n<text text-anchor=\"middle\" x=\"2254.5\" y=\"-6559.3\" font-family=\"Helvetica,sans-Serif\" font-size=\"14.00\">value = [0.704, 0.296]</text>\n<text text-anchor=\"middle\" x=\"2254.5\" y=\"-6544.3\" font-family=\"Helvetica,sans-Serif\" font-size=\"14.00\">class = Not infected</text>\n</g>\n<!-- 68&#45;&gt;69 -->\n<g id=\"edge69\" class=\"edge\">\n<title>68&#45;&gt;69</title>\n<path fill=\"none\" stroke=\"black\" d=\"M1913.65,-6470.26C1973.9,-6489.36 2054.48,-6514.91 2122.05,-6536.33\"/>\n<polygon fill=\"black\" stroke=\"black\" points=\"2121.33,-6539.77 2131.93,-6539.46 2123.45,-6533.1 2121.33,-6539.77\"/>\n</g>\n<!-- 72 -->\n<g id=\"node73\" class=\"node\">\n<title>72</title>\n<polygon fill=\"#eca470\" stroke=\"black\" points=\"2369,-6483.5 2140,-6483.5 2140,-6400.5 2369,-6400.5 2369,-6483.5\"/>\n<text text-anchor=\"middle\" x=\"2254.5\" y=\"-6468.3\" font-family=\"Helvetica,sans-Serif\" font-size=\"14.00\">CountryIdentifier_count &lt;= 10435.0</text>\n<text text-anchor=\"middle\" x=\"2254.5\" y=\"-6453.3\" font-family=\"Helvetica,sans-Serif\" font-size=\"14.00\">gini = 0.341</text>\n<text text-anchor=\"middle\" x=\"2254.5\" y=\"-6438.3\" font-family=\"Helvetica,sans-Serif\" font-size=\"14.00\">samples = 0.4%</text>\n<text text-anchor=\"middle\" x=\"2254.5\" y=\"-6423.3\" font-family=\"Helvetica,sans-Serif\" font-size=\"14.00\">value = [0.782, 0.218]</text>\n<text text-anchor=\"middle\" x=\"2254.5\" y=\"-6408.3\" font-family=\"Helvetica,sans-Serif\" font-size=\"14.00\">class = Not infected</text>\n</g>\n<!-- 68&#45;&gt;72 -->\n<g id=\"edge72\" class=\"edge\">\n<title>68&#45;&gt;72</title>\n<path fill=\"none\" stroke=\"black\" d=\"M1913.65,-6442C1976.24,-6442 2060.77,-6442 2129.87,-6442\"/>\n<polygon fill=\"black\" stroke=\"black\" points=\"2129.94,-6445.5 2139.94,-6442 2129.94,-6438.5 2129.94,-6445.5\"/>\n</g>\n<!-- 70 -->\n<g id=\"node71\" class=\"node\">\n<title>70</title>\n<polygon fill=\"#eeaa7a\" stroke=\"black\" points=\"2635,-6698 2488,-6698 2488,-6630 2635,-6630 2635,-6698\"/>\n<text text-anchor=\"middle\" x=\"2561.5\" y=\"-6682.8\" font-family=\"Helvetica,sans-Serif\" font-size=\"14.00\">gini = 0.372</text>\n<text text-anchor=\"middle\" x=\"2561.5\" y=\"-6667.8\" font-family=\"Helvetica,sans-Serif\" font-size=\"14.00\">samples = 0.7%</text>\n<text text-anchor=\"middle\" x=\"2561.5\" y=\"-6652.8\" font-family=\"Helvetica,sans-Serif\" font-size=\"14.00\">value = [0.753, 0.247]</text>\n<text text-anchor=\"middle\" x=\"2561.5\" y=\"-6637.8\" font-family=\"Helvetica,sans-Serif\" font-size=\"14.00\">class = Not infected</text>\n</g>\n<!-- 69&#45;&gt;70 -->\n<g id=\"edge70\" class=\"edge\">\n<title>69&#45;&gt;70</title>\n<path fill=\"none\" stroke=\"black\" d=\"M2377.36,-6612.36C2411.05,-6621.86 2446.81,-6631.94 2477.72,-6640.66\"/>\n<polygon fill=\"black\" stroke=\"black\" points=\"2477,-6644.09 2487.57,-6643.44 2478.9,-6637.35 2477,-6644.09\"/>\n</g>\n<!-- 71 -->\n<g id=\"node72\" class=\"node\">\n<title>71</title>\n<polygon fill=\"#f1b991\" stroke=\"black\" points=\"2635,-6612 2488,-6612 2488,-6544 2635,-6544 2635,-6612\"/>\n<text text-anchor=\"middle\" x=\"2561.5\" y=\"-6596.8\" font-family=\"Helvetica,sans-Serif\" font-size=\"14.00\">gini = 0.426</text>\n<text text-anchor=\"middle\" x=\"2561.5\" y=\"-6581.8\" font-family=\"Helvetica,sans-Serif\" font-size=\"14.00\">samples = 3.0%</text>\n<text text-anchor=\"middle\" x=\"2561.5\" y=\"-6566.8\" font-family=\"Helvetica,sans-Serif\" font-size=\"14.00\">value = [0.693, 0.307]</text>\n<text text-anchor=\"middle\" x=\"2561.5\" y=\"-6551.8\" font-family=\"Helvetica,sans-Serif\" font-size=\"14.00\">class = Not infected</text>\n</g>\n<!-- 69&#45;&gt;71 -->\n<g id=\"edge71\" class=\"edge\">\n<title>69&#45;&gt;71</title>\n<path fill=\"none\" stroke=\"black\" d=\"M2377.36,-6578C2410.9,-6578 2446.51,-6578 2477.32,-6578\"/>\n<polygon fill=\"black\" stroke=\"black\" points=\"2477.57,-6581.5 2487.57,-6578 2477.57,-6574.5 2477.57,-6581.5\"/>\n</g>\n<!-- 73 -->\n<g id=\"node74\" class=\"node\">\n<title>73</title>\n<polygon fill=\"#eb9d65\" stroke=\"black\" points=\"2635,-6526 2488,-6526 2488,-6458 2635,-6458 2635,-6526\"/>\n<text text-anchor=\"middle\" x=\"2561.5\" y=\"-6510.8\" font-family=\"Helvetica,sans-Serif\" font-size=\"14.00\">gini = 0.298</text>\n<text text-anchor=\"middle\" x=\"2561.5\" y=\"-6495.8\" font-family=\"Helvetica,sans-Serif\" font-size=\"14.00\">samples = 0.2%</text>\n<text text-anchor=\"middle\" x=\"2561.5\" y=\"-6480.8\" font-family=\"Helvetica,sans-Serif\" font-size=\"14.00\">value = [0.818, 0.182]</text>\n<text text-anchor=\"middle\" x=\"2561.5\" y=\"-6465.8\" font-family=\"Helvetica,sans-Serif\" font-size=\"14.00\">class = Not infected</text>\n</g>\n<!-- 72&#45;&gt;73 -->\n<g id=\"edge73\" class=\"edge\">\n<title>72&#45;&gt;73</title>\n<path fill=\"none\" stroke=\"black\" d=\"M2369.07,-6460.62C2405.14,-6466.53 2444.32,-6472.95 2477.79,-6478.44\"/>\n<polygon fill=\"black\" stroke=\"black\" points=\"2477.55,-6481.95 2487.98,-6480.11 2478.68,-6475.04 2477.55,-6481.95\"/>\n</g>\n<!-- 74 -->\n<g id=\"node75\" class=\"node\">\n<title>74</title>\n<polygon fill=\"#eeae7f\" stroke=\"black\" points=\"2635,-6440 2488,-6440 2488,-6372 2635,-6372 2635,-6440\"/>\n<text text-anchor=\"middle\" x=\"2561.5\" y=\"-6424.8\" font-family=\"Helvetica,sans-Serif\" font-size=\"14.00\">gini = 0.386</text>\n<text text-anchor=\"middle\" x=\"2561.5\" y=\"-6409.8\" font-family=\"Helvetica,sans-Serif\" font-size=\"14.00\">samples = 0.2%</text>\n<text text-anchor=\"middle\" x=\"2561.5\" y=\"-6394.8\" font-family=\"Helvetica,sans-Serif\" font-size=\"14.00\">value = [0.739, 0.261]</text>\n<text text-anchor=\"middle\" x=\"2561.5\" y=\"-6379.8\" font-family=\"Helvetica,sans-Serif\" font-size=\"14.00\">class = Not infected</text>\n</g>\n<!-- 72&#45;&gt;74 -->\n<g id=\"edge74\" class=\"edge\">\n<title>72&#45;&gt;74</title>\n<path fill=\"none\" stroke=\"black\" d=\"M2369.07,-6428.59C2405.14,-6424.34 2444.32,-6419.71 2477.79,-6415.76\"/>\n<polygon fill=\"black\" stroke=\"black\" points=\"2478.46,-6419.21 2487.98,-6414.56 2477.64,-6412.26 2478.46,-6419.21\"/>\n</g>\n<!-- 76 -->\n<g id=\"node77\" class=\"node\">\n<title>76</title>\n<polygon fill=\"#eb9d66\" stroke=\"black\" points=\"2452,-6283.5 2057,-6283.5 2057,-6200.5 2452,-6200.5 2452,-6283.5\"/>\n<text text-anchor=\"middle\" x=\"2254.5\" y=\"-6268.3\" font-family=\"Helvetica,sans-Serif\" font-size=\"14.00\">Census_InternalPrimaryDiagonalDisplaySizeInInches &lt;= 13.95</text>\n<text text-anchor=\"middle\" x=\"2254.5\" y=\"-6253.3\" font-family=\"Helvetica,sans-Serif\" font-size=\"14.00\">gini = 0.3</text>\n<text text-anchor=\"middle\" x=\"2254.5\" y=\"-6238.3\" font-family=\"Helvetica,sans-Serif\" font-size=\"14.00\">samples = 0.5%</text>\n<text text-anchor=\"middle\" x=\"2254.5\" y=\"-6223.3\" font-family=\"Helvetica,sans-Serif\" font-size=\"14.00\">value = [0.816, 0.184]</text>\n<text text-anchor=\"middle\" x=\"2254.5\" y=\"-6208.3\" font-family=\"Helvetica,sans-Serif\" font-size=\"14.00\">class = Not infected</text>\n</g>\n<!-- 75&#45;&gt;76 -->\n<g id=\"edge76\" class=\"edge\">\n<title>75&#45;&gt;76</title>\n<path fill=\"none\" stroke=\"black\" d=\"M1917.59,-6202.85C1955.7,-6207.29 2001.43,-6212.62 2046.71,-6217.9\"/>\n<polygon fill=\"black\" stroke=\"black\" points=\"2046.33,-6221.38 2056.67,-6219.06 2047.14,-6214.42 2046.33,-6221.38\"/>\n</g>\n<!-- 79 -->\n<g id=\"node80\" class=\"node\">\n<title>79</title>\n<polygon fill=\"#eeac7d\" stroke=\"black\" points=\"2452,-6182.5 2057,-6182.5 2057,-6099.5 2452,-6099.5 2452,-6182.5\"/>\n<text text-anchor=\"middle\" x=\"2254.5\" y=\"-6167.3\" font-family=\"Helvetica,sans-Serif\" font-size=\"14.00\">Census_InternalPrimaryDiagonalDisplaySizeInInches &lt;= 20.25</text>\n<text text-anchor=\"middle\" x=\"2254.5\" y=\"-6152.3\" font-family=\"Helvetica,sans-Serif\" font-size=\"14.00\">gini = 0.379</text>\n<text text-anchor=\"middle\" x=\"2254.5\" y=\"-6137.3\" font-family=\"Helvetica,sans-Serif\" font-size=\"14.00\">samples = 0.9%</text>\n<text text-anchor=\"middle\" x=\"2254.5\" y=\"-6122.3\" font-family=\"Helvetica,sans-Serif\" font-size=\"14.00\">value = [0.746, 0.254]</text>\n<text text-anchor=\"middle\" x=\"2254.5\" y=\"-6107.3\" font-family=\"Helvetica,sans-Serif\" font-size=\"14.00\">class = Not infected</text>\n</g>\n<!-- 75&#45;&gt;79 -->\n<g id=\"edge79\" class=\"edge\">\n<title>75&#45;&gt;79</title>\n<path fill=\"none\" stroke=\"black\" d=\"M1917.59,-6180.93C1955.7,-6176.4 2001.43,-6170.97 2046.71,-6165.58\"/>\n<polygon fill=\"black\" stroke=\"black\" points=\"2047.15,-6169.06 2056.67,-6164.4 2046.32,-6162.1 2047.15,-6169.06\"/>\n</g>\n<!-- 77 -->\n<g id=\"node78\" class=\"node\">\n<title>77</title>\n<polygon fill=\"#edaa79\" stroke=\"black\" points=\"2635,-6354 2488,-6354 2488,-6286 2635,-6286 2635,-6354\"/>\n<text text-anchor=\"middle\" x=\"2561.5\" y=\"-6338.8\" font-family=\"Helvetica,sans-Serif\" font-size=\"14.00\">gini = 0.37</text>\n<text text-anchor=\"middle\" x=\"2561.5\" y=\"-6323.8\" font-family=\"Helvetica,sans-Serif\" font-size=\"14.00\">samples = 0.1%</text>\n<text text-anchor=\"middle\" x=\"2561.5\" y=\"-6308.8\" font-family=\"Helvetica,sans-Serif\" font-size=\"14.00\">value = [0.755, 0.245]</text>\n<text text-anchor=\"middle\" x=\"2561.5\" y=\"-6293.8\" font-family=\"Helvetica,sans-Serif\" font-size=\"14.00\">class = Not infected</text>\n</g>\n<!-- 76&#45;&gt;77 -->\n<g id=\"edge77\" class=\"edge\">\n<title>76&#45;&gt;77</title>\n<path fill=\"none\" stroke=\"black\" d=\"M2417.82,-6283.51C2438.56,-6288.82 2459.06,-6294.06 2477.77,-6298.84\"/>\n<polygon fill=\"black\" stroke=\"black\" points=\"2477.13,-6302.29 2487.68,-6301.38 2478.86,-6295.51 2477.13,-6302.29\"/>\n</g>\n<!-- 78 -->\n<g id=\"node79\" class=\"node\">\n<title>78</title>\n<polygon fill=\"#ea9b62\" stroke=\"black\" points=\"2635,-6268 2488,-6268 2488,-6200 2635,-6200 2635,-6268\"/>\n<text text-anchor=\"middle\" x=\"2561.5\" y=\"-6252.8\" font-family=\"Helvetica,sans-Serif\" font-size=\"14.00\">gini = 0.284</text>\n<text text-anchor=\"middle\" x=\"2561.5\" y=\"-6237.8\" font-family=\"Helvetica,sans-Serif\" font-size=\"14.00\">samples = 0.4%</text>\n<text text-anchor=\"middle\" x=\"2561.5\" y=\"-6222.8\" font-family=\"Helvetica,sans-Serif\" font-size=\"14.00\">value = [0.828, 0.172]</text>\n<text text-anchor=\"middle\" x=\"2561.5\" y=\"-6207.8\" font-family=\"Helvetica,sans-Serif\" font-size=\"14.00\">class = Not infected</text>\n</g>\n<!-- 76&#45;&gt;78 -->\n<g id=\"edge78\" class=\"edge\">\n<title>76&#45;&gt;78</title>\n<path fill=\"none\" stroke=\"black\" d=\"M2452.11,-6236.84C2460.86,-6236.61 2469.4,-6236.39 2477.6,-6236.17\"/>\n<polygon fill=\"black\" stroke=\"black\" points=\"2477.89,-6239.67 2487.8,-6235.91 2477.71,-6232.67 2477.89,-6239.67\"/>\n</g>\n<!-- 80 -->\n<g id=\"node81\" class=\"node\">\n<title>80</title>\n<polygon fill=\"#eeaf81\" stroke=\"black\" points=\"2635,-6182 2488,-6182 2488,-6114 2635,-6114 2635,-6182\"/>\n<text text-anchor=\"middle\" x=\"2561.5\" y=\"-6166.8\" font-family=\"Helvetica,sans-Serif\" font-size=\"14.00\">gini = 0.392</text>\n<text text-anchor=\"middle\" x=\"2561.5\" y=\"-6151.8\" font-family=\"Helvetica,sans-Serif\" font-size=\"14.00\">samples = 0.8%</text>\n<text text-anchor=\"middle\" x=\"2561.5\" y=\"-6136.8\" font-family=\"Helvetica,sans-Serif\" font-size=\"14.00\">value = [0.733, 0.267]</text>\n<text text-anchor=\"middle\" x=\"2561.5\" y=\"-6121.8\" font-family=\"Helvetica,sans-Serif\" font-size=\"14.00\">class = Not infected</text>\n</g>\n<!-- 79&#45;&gt;80 -->\n<g id=\"edge80\" class=\"edge\">\n<title>79&#45;&gt;80</title>\n<path fill=\"none\" stroke=\"black\" d=\"M2452.11,-6145.51C2460.86,-6145.71 2469.4,-6145.91 2477.6,-6146.1\"/>\n<polygon fill=\"black\" stroke=\"black\" points=\"2477.72,-6149.6 2487.8,-6146.33 2477.88,-6142.6 2477.72,-6149.6\"/>\n</g>\n<!-- 81 -->\n<g id=\"node82\" class=\"node\">\n<title>81</title>\n<polygon fill=\"#eb9c63\" stroke=\"black\" points=\"2635,-6096 2488,-6096 2488,-6028 2635,-6028 2635,-6096\"/>\n<text text-anchor=\"middle\" x=\"2561.5\" y=\"-6080.8\" font-family=\"Helvetica,sans-Serif\" font-size=\"14.00\">gini = 0.29</text>\n<text text-anchor=\"middle\" x=\"2561.5\" y=\"-6065.8\" font-family=\"Helvetica,sans-Serif\" font-size=\"14.00\">samples = 0.1%</text>\n<text text-anchor=\"middle\" x=\"2561.5\" y=\"-6050.8\" font-family=\"Helvetica,sans-Serif\" font-size=\"14.00\">value = [0.824, 0.176]</text>\n<text text-anchor=\"middle\" x=\"2561.5\" y=\"-6035.8\" font-family=\"Helvetica,sans-Serif\" font-size=\"14.00\">class = Not infected</text>\n</g>\n<!-- 79&#45;&gt;81 -->\n<g id=\"edge81\" class=\"edge\">\n<title>79&#45;&gt;81</title>\n<path fill=\"none\" stroke=\"black\" d=\"M2416.04,-6099.42C2437.43,-6093.88 2458.6,-6088.39 2477.88,-6083.4\"/>\n<polygon fill=\"black\" stroke=\"black\" points=\"2478.97,-6086.73 2487.77,-6080.84 2477.22,-6079.96 2478.97,-6086.73\"/>\n</g>\n<!-- 83 -->\n<g id=\"node84\" class=\"node\">\n<title>83</title>\n<polygon fill=\"#f2bf9a\" stroke=\"black\" points=\"1981,-5795.5 1666,-5795.5 1666,-5712.5 1981,-5712.5 1981,-5795.5\"/>\n<text text-anchor=\"middle\" x=\"1823.5\" y=\"-5780.3\" font-family=\"Helvetica,sans-Serif\" font-size=\"14.00\">Census_ActivationChannel_Volume:GVLK &lt;= 0.5</text>\n<text text-anchor=\"middle\" x=\"1823.5\" y=\"-5765.3\" font-family=\"Helvetica,sans-Serif\" font-size=\"14.00\">gini = 0.441</text>\n<text text-anchor=\"middle\" x=\"1823.5\" y=\"-5750.3\" font-family=\"Helvetica,sans-Serif\" font-size=\"14.00\">samples = 8.0%</text>\n<text text-anchor=\"middle\" x=\"1823.5\" y=\"-5735.3\" font-family=\"Helvetica,sans-Serif\" font-size=\"14.00\">value = [0.672, 0.328]</text>\n<text text-anchor=\"middle\" x=\"1823.5\" y=\"-5720.3\" font-family=\"Helvetica,sans-Serif\" font-size=\"14.00\">class = Not infected</text>\n</g>\n<!-- 82&#45;&gt;83 -->\n<g id=\"edge83\" class=\"edge\">\n<title>82&#45;&gt;83</title>\n<path fill=\"none\" stroke=\"black\" d=\"M1550.63,-5692.59C1584.73,-5700.29 1621.05,-5708.5 1655.67,-5716.32\"/>\n<polygon fill=\"black\" stroke=\"black\" points=\"1655.34,-5719.83 1665.87,-5718.62 1656.88,-5713 1655.34,-5719.83\"/>\n</g>\n<!-- 90 -->\n<g id=\"node91\" class=\"node\">\n<title>90</title>\n<polygon fill=\"#f6d2b9\" stroke=\"black\" points=\"1913.5,-5637.5 1733.5,-5637.5 1733.5,-5554.5 1913.5,-5554.5 1913.5,-5637.5\"/>\n<text text-anchor=\"middle\" x=\"1823.5\" y=\"-5622.3\" font-family=\"Helvetica,sans-Serif\" font-size=\"14.00\">AVProductsInstalled &lt;= 2.5</text>\n<text text-anchor=\"middle\" x=\"1823.5\" y=\"-5607.3\" font-family=\"Helvetica,sans-Serif\" font-size=\"14.00\">gini = 0.477</text>\n<text text-anchor=\"middle\" x=\"1823.5\" y=\"-5592.3\" font-family=\"Helvetica,sans-Serif\" font-size=\"14.00\">samples = 3.1%</text>\n<text text-anchor=\"middle\" x=\"1823.5\" y=\"-5577.3\" font-family=\"Helvetica,sans-Serif\" font-size=\"14.00\">value = [0.607, 0.393]</text>\n<text text-anchor=\"middle\" x=\"1823.5\" y=\"-5562.3\" font-family=\"Helvetica,sans-Serif\" font-size=\"14.00\">class = Not infected</text>\n</g>\n<!-- 82&#45;&gt;90 -->\n<g id=\"edge90\" class=\"edge\">\n<title>82&#45;&gt;90</title>\n<path fill=\"none\" stroke=\"black\" d=\"M1550.63,-5635.66C1608.17,-5627.27 1672.02,-5617.95 1723.37,-5610.46\"/>\n<polygon fill=\"black\" stroke=\"black\" points=\"1724.08,-5613.89 1733.47,-5608.99 1723.07,-5606.97 1724.08,-5613.89\"/>\n</g>\n<!-- 84 -->\n<g id=\"node85\" class=\"node\">\n<title>84</title>\n<polygon fill=\"#f1bd98\" stroke=\"black\" points=\"2426,-5931.5 2083,-5931.5 2083,-5848.5 2426,-5848.5 2426,-5931.5\"/>\n<text text-anchor=\"middle\" x=\"2254.5\" y=\"-5916.3\" font-family=\"Helvetica,sans-Serif\" font-size=\"14.00\">Census_IsAlwaysOnAlwaysConnectedCapable &lt;= 0.5</text>\n<text text-anchor=\"middle\" x=\"2254.5\" y=\"-5901.3\" font-family=\"Helvetica,sans-Serif\" font-size=\"14.00\">gini = 0.438</text>\n<text text-anchor=\"middle\" x=\"2254.5\" y=\"-5886.3\" font-family=\"Helvetica,sans-Serif\" font-size=\"14.00\">samples = 7.8%</text>\n<text text-anchor=\"middle\" x=\"2254.5\" y=\"-5871.3\" font-family=\"Helvetica,sans-Serif\" font-size=\"14.00\">value = [0.676, 0.324]</text>\n<text text-anchor=\"middle\" x=\"2254.5\" y=\"-5856.3\" font-family=\"Helvetica,sans-Serif\" font-size=\"14.00\">class = Not infected</text>\n</g>\n<!-- 83&#45;&gt;84 -->\n<g id=\"edge84\" class=\"edge\">\n<title>83&#45;&gt;84</title>\n<path fill=\"none\" stroke=\"black\" d=\"M1955.55,-5795.54C2005.32,-5811.32 2062.19,-5829.35 2112.81,-5845.4\"/>\n<polygon fill=\"black\" stroke=\"black\" points=\"2111.93,-5848.79 2122.52,-5848.48 2114.04,-5842.12 2111.93,-5848.79\"/>\n</g>\n<!-- 87 -->\n<g id=\"node88\" class=\"node\">\n<title>87</title>\n<polygon fill=\"#fdf4ee\" stroke=\"black\" points=\"2416,-5795.5 2093,-5795.5 2093,-5712.5 2416,-5712.5 2416,-5795.5\"/>\n<text text-anchor=\"middle\" x=\"2254.5\" y=\"-5780.3\" font-family=\"Helvetica,sans-Serif\" font-size=\"14.00\">Census_SystemVolumeTotalCapacity &lt;= 453274.0</text>\n<text text-anchor=\"middle\" x=\"2254.5\" y=\"-5765.3\" font-family=\"Helvetica,sans-Serif\" font-size=\"14.00\">gini = 0.499</text>\n<text text-anchor=\"middle\" x=\"2254.5\" y=\"-5750.3\" font-family=\"Helvetica,sans-Serif\" font-size=\"14.00\">samples = 0.2%</text>\n<text text-anchor=\"middle\" x=\"2254.5\" y=\"-5735.3\" font-family=\"Helvetica,sans-Serif\" font-size=\"14.00\">value = [0.523, 0.477]</text>\n<text text-anchor=\"middle\" x=\"2254.5\" y=\"-5720.3\" font-family=\"Helvetica,sans-Serif\" font-size=\"14.00\">class = Not infected</text>\n</g>\n<!-- 83&#45;&gt;87 -->\n<g id=\"edge87\" class=\"edge\">\n<title>83&#45;&gt;87</title>\n<path fill=\"none\" stroke=\"black\" d=\"M1981.2,-5754C2014.17,-5754 2049.11,-5754 2082.57,-5754\"/>\n<polygon fill=\"black\" stroke=\"black\" points=\"2082.91,-5757.5 2092.91,-5754 2082.91,-5750.5 2082.91,-5757.5\"/>\n</g>\n<!-- 85 -->\n<g id=\"node86\" class=\"node\">\n<title>85</title>\n<polygon fill=\"#f2bf9a\" stroke=\"black\" points=\"2635,-6010 2488,-6010 2488,-5942 2635,-5942 2635,-6010\"/>\n<text text-anchor=\"middle\" x=\"2561.5\" y=\"-5994.8\" font-family=\"Helvetica,sans-Serif\" font-size=\"14.00\">gini = 0.441</text>\n<text text-anchor=\"middle\" x=\"2561.5\" y=\"-5979.8\" font-family=\"Helvetica,sans-Serif\" font-size=\"14.00\">samples = 7.5%</text>\n<text text-anchor=\"middle\" x=\"2561.5\" y=\"-5964.8\" font-family=\"Helvetica,sans-Serif\" font-size=\"14.00\">value = [0.671, 0.329]</text>\n<text text-anchor=\"middle\" x=\"2561.5\" y=\"-5949.8\" font-family=\"Helvetica,sans-Serif\" font-size=\"14.00\">class = Not infected</text>\n</g>\n<!-- 84&#45;&gt;85 -->\n<g id=\"edge85\" class=\"edge\">\n<title>84&#45;&gt;85</title>\n<path fill=\"none\" stroke=\"black\" d=\"M2403.09,-5931.61C2428.9,-5938.89 2454.9,-5946.22 2478.12,-5952.77\"/>\n<polygon fill=\"black\" stroke=\"black\" points=\"2477.32,-5956.18 2487.9,-5955.53 2479.22,-5949.45 2477.32,-5956.18\"/>\n</g>\n<!-- 86 -->\n<g id=\"node87\" class=\"node\">\n<title>86</title>\n<polygon fill=\"#eca26d\" stroke=\"black\" points=\"2635,-5924 2488,-5924 2488,-5856 2635,-5856 2635,-5924\"/>\n<text text-anchor=\"middle\" x=\"2561.5\" y=\"-5908.8\" font-family=\"Helvetica,sans-Serif\" font-size=\"14.00\">gini = 0.329</text>\n<text text-anchor=\"middle\" x=\"2561.5\" y=\"-5893.8\" font-family=\"Helvetica,sans-Serif\" font-size=\"14.00\">samples = 0.3%</text>\n<text text-anchor=\"middle\" x=\"2561.5\" y=\"-5878.8\" font-family=\"Helvetica,sans-Serif\" font-size=\"14.00\">value = [0.792, 0.208]</text>\n<text text-anchor=\"middle\" x=\"2561.5\" y=\"-5863.8\" font-family=\"Helvetica,sans-Serif\" font-size=\"14.00\">class = Not infected</text>\n</g>\n<!-- 84&#45;&gt;86 -->\n<g id=\"edge86\" class=\"edge\">\n<title>84&#45;&gt;86</title>\n<path fill=\"none\" stroke=\"black\" d=\"M2426.28,-5890C2444.03,-5890 2461.45,-5890 2477.55,-5890\"/>\n<polygon fill=\"black\" stroke=\"black\" points=\"2477.94,-5893.5 2487.94,-5890 2477.94,-5886.5 2477.94,-5893.5\"/>\n</g>\n<!-- 88 -->\n<g id=\"node89\" class=\"node\">\n<title>88</title>\n<polygon fill=\"#fbfdfe\" stroke=\"black\" points=\"2635,-5838 2488,-5838 2488,-5770 2635,-5770 2635,-5838\"/>\n<text text-anchor=\"middle\" x=\"2561.5\" y=\"-5822.8\" font-family=\"Helvetica,sans-Serif\" font-size=\"14.00\">gini = 0.5</text>\n<text text-anchor=\"middle\" x=\"2561.5\" y=\"-5807.8\" font-family=\"Helvetica,sans-Serif\" font-size=\"14.00\">samples = 0.2%</text>\n<text text-anchor=\"middle\" x=\"2561.5\" y=\"-5792.8\" font-family=\"Helvetica,sans-Serif\" font-size=\"14.00\">value = [0.495, 0.505]</text>\n<text text-anchor=\"middle\" x=\"2561.5\" y=\"-5777.8\" font-family=\"Helvetica,sans-Serif\" font-size=\"14.00\">class = Infected</text>\n</g>\n<!-- 87&#45;&gt;88 -->\n<g id=\"edge88\" class=\"edge\">\n<title>87&#45;&gt;88</title>\n<path fill=\"none\" stroke=\"black\" d=\"M2416.04,-5780.32C2437.43,-5783.82 2458.6,-5787.3 2477.88,-5790.46\"/>\n<polygon fill=\"black\" stroke=\"black\" points=\"2477.34,-5793.91 2487.77,-5792.08 2478.47,-5787.01 2477.34,-5793.91\"/>\n</g>\n<!-- 89 -->\n<g id=\"node90\" class=\"node\">\n<title>89</title>\n<polygon fill=\"#f3c3a0\" stroke=\"black\" points=\"2635,-5752 2488,-5752 2488,-5684 2635,-5684 2635,-5752\"/>\n<text text-anchor=\"middle\" x=\"2561.5\" y=\"-5736.8\" font-family=\"Helvetica,sans-Serif\" font-size=\"14.00\">gini = 0.45</text>\n<text text-anchor=\"middle\" x=\"2561.5\" y=\"-5721.8\" font-family=\"Helvetica,sans-Serif\" font-size=\"14.00\">samples = 0.0%</text>\n<text text-anchor=\"middle\" x=\"2561.5\" y=\"-5706.8\" font-family=\"Helvetica,sans-Serif\" font-size=\"14.00\">value = [0.657, 0.343]</text>\n<text text-anchor=\"middle\" x=\"2561.5\" y=\"-5691.8\" font-family=\"Helvetica,sans-Serif\" font-size=\"14.00\">class = Not infected</text>\n</g>\n<!-- 87&#45;&gt;89 -->\n<g id=\"edge89\" class=\"edge\">\n<title>87&#45;&gt;89</title>\n<path fill=\"none\" stroke=\"black\" d=\"M2416.04,-5735.05C2437.33,-5732.54 2458.41,-5730.05 2477.61,-5727.78\"/>\n<polygon fill=\"black\" stroke=\"black\" points=\"2478.25,-5731.23 2487.77,-5726.58 2477.43,-5724.28 2478.25,-5731.23\"/>\n</g>\n<!-- 91 -->\n<g id=\"node92\" class=\"node\">\n<title>91</title>\n<polygon fill=\"#f7d7c0\" stroke=\"black\" points=\"2386,-5637.5 2123,-5637.5 2123,-5554.5 2386,-5554.5 2386,-5637.5\"/>\n<text text-anchor=\"middle\" x=\"2254.5\" y=\"-5622.3\" font-family=\"Helvetica,sans-Serif\" font-size=\"14.00\">Census_ActivationChannel_Retail &lt;= 0.5</text>\n<text text-anchor=\"middle\" x=\"2254.5\" y=\"-5607.3\" font-family=\"Helvetica,sans-Serif\" font-size=\"14.00\">gini = 0.482</text>\n<text text-anchor=\"middle\" x=\"2254.5\" y=\"-5592.3\" font-family=\"Helvetica,sans-Serif\" font-size=\"14.00\">samples = 2.8%</text>\n<text text-anchor=\"middle\" x=\"2254.5\" y=\"-5577.3\" font-family=\"Helvetica,sans-Serif\" font-size=\"14.00\">value = [0.594, 0.406]</text>\n<text text-anchor=\"middle\" x=\"2254.5\" y=\"-5562.3\" font-family=\"Helvetica,sans-Serif\" font-size=\"14.00\">class = Not infected</text>\n</g>\n<!-- 90&#45;&gt;91 -->\n<g id=\"edge91\" class=\"edge\">\n<title>90&#45;&gt;91</title>\n<path fill=\"none\" stroke=\"black\" d=\"M1913.65,-5596C1971.21,-5596 2047.32,-5596 2112.92,-5596\"/>\n<polygon fill=\"black\" stroke=\"black\" points=\"2112.94,-5599.5 2122.94,-5596 2112.94,-5592.5 2112.94,-5599.5\"/>\n</g>\n<!-- 94 -->\n<g id=\"node95\" class=\"node\">\n<title>94</title>\n<polygon fill=\"#eead7f\" stroke=\"black\" points=\"2365,-5501.5 2144,-5501.5 2144,-5418.5 2365,-5418.5 2365,-5501.5\"/>\n<text text-anchor=\"middle\" x=\"2254.5\" y=\"-5486.3\" font-family=\"Helvetica,sans-Serif\" font-size=\"14.00\">CountryIdentifier_count &lt;= 2215.5</text>\n<text text-anchor=\"middle\" x=\"2254.5\" y=\"-5471.3\" font-family=\"Helvetica,sans-Serif\" font-size=\"14.00\">gini = 0.386</text>\n<text text-anchor=\"middle\" x=\"2254.5\" y=\"-5456.3\" font-family=\"Helvetica,sans-Serif\" font-size=\"14.00\">samples = 0.3%</text>\n<text text-anchor=\"middle\" x=\"2254.5\" y=\"-5441.3\" font-family=\"Helvetica,sans-Serif\" font-size=\"14.00\">value = [0.739, 0.261]</text>\n<text text-anchor=\"middle\" x=\"2254.5\" y=\"-5426.3\" font-family=\"Helvetica,sans-Serif\" font-size=\"14.00\">class = Not infected</text>\n</g>\n<!-- 90&#45;&gt;94 -->\n<g id=\"edge94\" class=\"edge\">\n<title>90&#45;&gt;94</title>\n<path fill=\"none\" stroke=\"black\" d=\"M1913.65,-5567.74C1977.54,-5547.48 2064.29,-5519.98 2134.15,-5497.84\"/>\n<polygon fill=\"black\" stroke=\"black\" points=\"2135.42,-5501.11 2143.89,-5494.75 2133.3,-5494.43 2135.42,-5501.11\"/>\n</g>\n<!-- 92 -->\n<g id=\"node93\" class=\"node\">\n<title>92</title>\n<polygon fill=\"#f8decb\" stroke=\"black\" points=\"2635,-5666 2488,-5666 2488,-5598 2635,-5598 2635,-5666\"/>\n<text text-anchor=\"middle\" x=\"2561.5\" y=\"-5650.8\" font-family=\"Helvetica,sans-Serif\" font-size=\"14.00\">gini = 0.488</text>\n<text text-anchor=\"middle\" x=\"2561.5\" y=\"-5635.8\" font-family=\"Helvetica,sans-Serif\" font-size=\"14.00\">samples = 2.0%</text>\n<text text-anchor=\"middle\" x=\"2561.5\" y=\"-5620.8\" font-family=\"Helvetica,sans-Serif\" font-size=\"14.00\">value = [0.576, 0.424]</text>\n<text text-anchor=\"middle\" x=\"2561.5\" y=\"-5605.8\" font-family=\"Helvetica,sans-Serif\" font-size=\"14.00\">class = Not infected</text>\n</g>\n<!-- 91&#45;&gt;92 -->\n<g id=\"edge92\" class=\"edge\">\n<title>91&#45;&gt;92</title>\n<path fill=\"none\" stroke=\"black\" d=\"M2386.17,-5611.42C2417.13,-5615.08 2449.32,-5618.88 2477.48,-5622.2\"/>\n<polygon fill=\"black\" stroke=\"black\" points=\"2477.33,-5625.71 2487.67,-5623.4 2478.15,-5618.76 2477.33,-5625.71\"/>\n</g>\n<!-- 93 -->\n<g id=\"node94\" class=\"node\">\n<title>93</title>\n<polygon fill=\"#f3c7a7\" stroke=\"black\" points=\"2635,-5580 2488,-5580 2488,-5512 2635,-5512 2635,-5580\"/>\n<text text-anchor=\"middle\" x=\"2561.5\" y=\"-5564.8\" font-family=\"Helvetica,sans-Serif\" font-size=\"14.00\">gini = 0.459</text>\n<text text-anchor=\"middle\" x=\"2561.5\" y=\"-5549.8\" font-family=\"Helvetica,sans-Serif\" font-size=\"14.00\">samples = 0.7%</text>\n<text text-anchor=\"middle\" x=\"2561.5\" y=\"-5534.8\" font-family=\"Helvetica,sans-Serif\" font-size=\"14.00\">value = [0.643, 0.357]</text>\n<text text-anchor=\"middle\" x=\"2561.5\" y=\"-5519.8\" font-family=\"Helvetica,sans-Serif\" font-size=\"14.00\">class = Not infected</text>\n</g>\n<!-- 91&#45;&gt;93 -->\n<g id=\"edge93\" class=\"edge\">\n<title>91&#45;&gt;93</title>\n<path fill=\"none\" stroke=\"black\" d=\"M2386.17,-5574.58C2417.13,-5569.5 2449.32,-5564.23 2477.48,-5559.61\"/>\n<polygon fill=\"black\" stroke=\"black\" points=\"2478.37,-5563.01 2487.67,-5557.94 2477.23,-5556.1 2478.37,-5563.01\"/>\n</g>\n<!-- 95 -->\n<g id=\"node96\" class=\"node\">\n<title>95</title>\n<polygon fill=\"#e9965a\" stroke=\"black\" points=\"2635,-5494 2488,-5494 2488,-5426 2635,-5426 2635,-5494\"/>\n<text text-anchor=\"middle\" x=\"2561.5\" y=\"-5478.8\" font-family=\"Helvetica,sans-Serif\" font-size=\"14.00\">gini = 0.246</text>\n<text text-anchor=\"middle\" x=\"2561.5\" y=\"-5463.8\" font-family=\"Helvetica,sans-Serif\" font-size=\"14.00\">samples = 0.0%</text>\n<text text-anchor=\"middle\" x=\"2561.5\" y=\"-5448.8\" font-family=\"Helvetica,sans-Serif\" font-size=\"14.00\">value = [0.856, 0.144]</text>\n<text text-anchor=\"middle\" x=\"2561.5\" y=\"-5433.8\" font-family=\"Helvetica,sans-Serif\" font-size=\"14.00\">class = Not infected</text>\n</g>\n<!-- 94&#45;&gt;95 -->\n<g id=\"edge95\" class=\"edge\">\n<title>94&#45;&gt;95</title>\n<path fill=\"none\" stroke=\"black\" d=\"M2365.18,-5460C2402.33,-5460 2443.17,-5460 2477.86,-5460\"/>\n<polygon fill=\"black\" stroke=\"black\" points=\"2477.94,-5463.5 2487.94,-5460 2477.94,-5456.5 2477.94,-5463.5\"/>\n</g>\n<!-- 96 -->\n<g id=\"node97\" class=\"node\">\n<title>96</title>\n<polygon fill=\"#efb387\" stroke=\"black\" points=\"2635,-5408 2488,-5408 2488,-5340 2635,-5340 2635,-5408\"/>\n<text text-anchor=\"middle\" x=\"2561.5\" y=\"-5392.8\" font-family=\"Helvetica,sans-Serif\" font-size=\"14.00\">gini = 0.407</text>\n<text text-anchor=\"middle\" x=\"2561.5\" y=\"-5377.8\" font-family=\"Helvetica,sans-Serif\" font-size=\"14.00\">samples = 0.2%</text>\n<text text-anchor=\"middle\" x=\"2561.5\" y=\"-5362.8\" font-family=\"Helvetica,sans-Serif\" font-size=\"14.00\">value = [0.716, 0.284]</text>\n<text text-anchor=\"middle\" x=\"2561.5\" y=\"-5347.8\" font-family=\"Helvetica,sans-Serif\" font-size=\"14.00\">class = Not infected</text>\n</g>\n<!-- 94&#45;&gt;96 -->\n<g id=\"edge96\" class=\"edge\">\n<title>94&#45;&gt;96</title>\n<path fill=\"none\" stroke=\"black\" d=\"M2365.18,-5429.07C2402.49,-5418.55 2443.52,-5406.98 2478.3,-5397.18\"/>\n<polygon fill=\"black\" stroke=\"black\" points=\"2479.27,-5400.54 2487.94,-5394.46 2477.37,-5393.8 2479.27,-5400.54\"/>\n</g>\n<!-- 98 -->\n<g id=\"node99\" class=\"node\">\n<title>98</title>\n<polygon fill=\"#f5cdb1\" stroke=\"black\" points=\"1471,-4996.5 1322,-4996.5 1322,-4913.5 1471,-4913.5 1471,-4996.5\"/>\n<text text-anchor=\"middle\" x=\"1396.5\" y=\"-4981.3\" font-family=\"Helvetica,sans-Serif\" font-size=\"14.00\">Wdft_IsGamer &lt;= 0.5</text>\n<text text-anchor=\"middle\" x=\"1396.5\" y=\"-4966.3\" font-family=\"Helvetica,sans-Serif\" font-size=\"14.00\">gini = 0.47</text>\n<text text-anchor=\"middle\" x=\"1396.5\" y=\"-4951.3\" font-family=\"Helvetica,sans-Serif\" font-size=\"14.00\">samples = 7.2%</text>\n<text text-anchor=\"middle\" x=\"1396.5\" y=\"-4936.3\" font-family=\"Helvetica,sans-Serif\" font-size=\"14.00\">value = [0.623, 0.377]</text>\n<text text-anchor=\"middle\" x=\"1396.5\" y=\"-4921.3\" font-family=\"Helvetica,sans-Serif\" font-size=\"14.00\">class = Not infected</text>\n</g>\n<!-- 97&#45;&gt;98 -->\n<g id=\"edge98\" class=\"edge\">\n<title>97&#45;&gt;98</title>\n<path fill=\"none\" stroke=\"black\" d=\"M1156.6,-4955C1210.75,-4955 1267.22,-4955 1311.66,-4955\"/>\n<polygon fill=\"black\" stroke=\"black\" points=\"1311.81,-4958.5 1321.81,-4955 1311.81,-4951.5 1311.81,-4958.5\"/>\n</g>\n<!-- 113 -->\n<g id=\"node114\" class=\"node\">\n<title>113</title>\n<polygon fill=\"#fae6d8\" stroke=\"black\" points=\"1486.5,-4512.5 1306.5,-4512.5 1306.5,-4429.5 1486.5,-4429.5 1486.5,-4512.5\"/>\n<text text-anchor=\"middle\" x=\"1396.5\" y=\"-4497.3\" font-family=\"Helvetica,sans-Serif\" font-size=\"14.00\">AVProductsInstalled &lt;= 2.5</text>\n<text text-anchor=\"middle\" x=\"1396.5\" y=\"-4482.3\" font-family=\"Helvetica,sans-Serif\" font-size=\"14.00\">gini = 0.494</text>\n<text text-anchor=\"middle\" x=\"1396.5\" y=\"-4467.3\" font-family=\"Helvetica,sans-Serif\" font-size=\"14.00\">samples = 3.0%</text>\n<text text-anchor=\"middle\" x=\"1396.5\" y=\"-4452.3\" font-family=\"Helvetica,sans-Serif\" font-size=\"14.00\">value = [0.554, 0.446]</text>\n<text text-anchor=\"middle\" x=\"1396.5\" y=\"-4437.3\" font-family=\"Helvetica,sans-Serif\" font-size=\"14.00\">class = Not infected</text>\n</g>\n<!-- 97&#45;&gt;113 -->\n<g id=\"edge113\" class=\"edge\">\n<title>97&#45;&gt;113</title>\n<path fill=\"none\" stroke=\"black\" d=\"M1007.1,-4913.32C1085.24,-4824.33 1268.08,-4616.11 1352,-4520.54\"/>\n<polygon fill=\"black\" stroke=\"black\" points=\"1354.87,-4522.58 1358.83,-4512.76 1349.61,-4517.96 1354.87,-4522.58\"/>\n</g>\n<!-- 99 -->\n<g id=\"node100\" class=\"node\">\n<title>99</title>\n<polygon fill=\"#f4c8a8\" stroke=\"black\" points=\"1899.5,-5078.5 1747.5,-5078.5 1747.5,-4995.5 1899.5,-4995.5 1899.5,-5078.5\"/>\n<text text-anchor=\"middle\" x=\"1823.5\" y=\"-5063.3\" font-family=\"Helvetica,sans-Serif\" font-size=\"14.00\">RtpStateBitfield &lt;= 6.0</text>\n<text text-anchor=\"middle\" x=\"1823.5\" y=\"-5048.3\" font-family=\"Helvetica,sans-Serif\" font-size=\"14.00\">gini = 0.46</text>\n<text text-anchor=\"middle\" x=\"1823.5\" y=\"-5033.3\" font-family=\"Helvetica,sans-Serif\" font-size=\"14.00\">samples = 4.9%</text>\n<text text-anchor=\"middle\" x=\"1823.5\" y=\"-5018.3\" font-family=\"Helvetica,sans-Serif\" font-size=\"14.00\">value = [0.641, 0.359]</text>\n<text text-anchor=\"middle\" x=\"1823.5\" y=\"-5003.3\" font-family=\"Helvetica,sans-Serif\" font-size=\"14.00\">class = Not infected</text>\n</g>\n<!-- 98&#45;&gt;99 -->\n<g id=\"edge99\" class=\"edge\">\n<title>98&#45;&gt;99</title>\n<path fill=\"none\" stroke=\"black\" d=\"M1471.04,-4969.19C1545.05,-4983.47 1659.11,-5005.47 1737.08,-5020.52\"/>\n<polygon fill=\"black\" stroke=\"black\" points=\"1736.88,-5024.04 1747.36,-5022.5 1738.2,-5017.17 1736.88,-5024.04\"/>\n</g>\n<!-- 106 -->\n<g id=\"node107\" class=\"node\">\n<title>106</title>\n<polygon fill=\"#f7dac5\" stroke=\"black\" points=\"1967,-4946.5 1680,-4946.5 1680,-4863.5 1967,-4863.5 1967,-4946.5\"/>\n<text text-anchor=\"middle\" x=\"1823.5\" y=\"-4931.3\" font-family=\"Helvetica,sans-Serif\" font-size=\"14.00\">Census_ActivationChannel_OEM:DM &lt;= 0.5</text>\n<text text-anchor=\"middle\" x=\"1823.5\" y=\"-4916.3\" font-family=\"Helvetica,sans-Serif\" font-size=\"14.00\">gini = 0.485</text>\n<text text-anchor=\"middle\" x=\"1823.5\" y=\"-4901.3\" font-family=\"Helvetica,sans-Serif\" font-size=\"14.00\">samples = 2.3%</text>\n<text text-anchor=\"middle\" x=\"1823.5\" y=\"-4886.3\" font-family=\"Helvetica,sans-Serif\" font-size=\"14.00\">value = [0.585, 0.415]</text>\n<text text-anchor=\"middle\" x=\"1823.5\" y=\"-4871.3\" font-family=\"Helvetica,sans-Serif\" font-size=\"14.00\">class = Not infected</text>\n</g>\n<!-- 98&#45;&gt;106 -->\n<g id=\"edge106\" class=\"edge\">\n<title>98&#45;&gt;106</title>\n<path fill=\"none\" stroke=\"black\" d=\"M1471.04,-4946.35C1525.62,-4939.93 1601.97,-4930.95 1669.57,-4922.99\"/>\n<polygon fill=\"black\" stroke=\"black\" points=\"1670.38,-4926.42 1679.9,-4921.78 1669.56,-4919.47 1670.38,-4926.42\"/>\n</g>\n<!-- 100 -->\n<g id=\"node101\" class=\"node\">\n<title>100</title>\n<polygon fill=\"#eeab7b\" stroke=\"black\" points=\"2407,-5243.5 2102,-5243.5 2102,-5160.5 2407,-5160.5 2407,-5243.5\"/>\n<text text-anchor=\"middle\" x=\"2254.5\" y=\"-5228.3\" font-family=\"Helvetica,sans-Serif\" font-size=\"14.00\">Census_OSEdition_CoreCountrySpecific &lt;= 0.5</text>\n<text text-anchor=\"middle\" x=\"2254.5\" y=\"-5213.3\" font-family=\"Helvetica,sans-Serif\" font-size=\"14.00\">gini = 0.374</text>\n<text text-anchor=\"middle\" x=\"2254.5\" y=\"-5198.3\" font-family=\"Helvetica,sans-Serif\" font-size=\"14.00\">samples = 0.3%</text>\n<text text-anchor=\"middle\" x=\"2254.5\" y=\"-5183.3\" font-family=\"Helvetica,sans-Serif\" font-size=\"14.00\">value = [0.751, 0.249]</text>\n<text text-anchor=\"middle\" x=\"2254.5\" y=\"-5168.3\" font-family=\"Helvetica,sans-Serif\" font-size=\"14.00\">class = Not infected</text>\n</g>\n<!-- 99&#45;&gt;100 -->\n<g id=\"edge100\" class=\"edge\">\n<title>99&#45;&gt;100</title>\n<path fill=\"none\" stroke=\"black\" d=\"M1899.72,-5065.93C1964.93,-5091.01 2060.41,-5127.74 2135.75,-5156.71\"/>\n<polygon fill=\"black\" stroke=\"black\" points=\"2134.71,-5160.06 2145.3,-5160.39 2137.23,-5153.53 2134.71,-5160.06\"/>\n</g>\n<!-- 103 -->\n<g id=\"node104\" class=\"node\">\n<title>103</title>\n<polygon fill=\"#f4caac\" stroke=\"black\" points=\"2328,-5078.5 2181,-5078.5 2181,-4995.5 2328,-4995.5 2328,-5078.5\"/>\n<text text-anchor=\"middle\" x=\"2254.5\" y=\"-5063.3\" font-family=\"Helvetica,sans-Serif\" font-size=\"14.00\">HasTpm &lt;= 0.5</text>\n<text text-anchor=\"middle\" x=\"2254.5\" y=\"-5048.3\" font-family=\"Helvetica,sans-Serif\" font-size=\"14.00\">gini = 0.465</text>\n<text text-anchor=\"middle\" x=\"2254.5\" y=\"-5033.3\" font-family=\"Helvetica,sans-Serif\" font-size=\"14.00\">samples = 4.6%</text>\n<text text-anchor=\"middle\" x=\"2254.5\" y=\"-5018.3\" font-family=\"Helvetica,sans-Serif\" font-size=\"14.00\">value = [0.633, 0.367]</text>\n<text text-anchor=\"middle\" x=\"2254.5\" y=\"-5003.3\" font-family=\"Helvetica,sans-Serif\" font-size=\"14.00\">class = Not infected</text>\n</g>\n<!-- 99&#45;&gt;103 -->\n<g id=\"edge103\" class=\"edge\">\n<title>99&#45;&gt;103</title>\n<path fill=\"none\" stroke=\"black\" d=\"M1899.72,-5037C1975.49,-5037 2092.13,-5037 2170.55,-5037\"/>\n<polygon fill=\"black\" stroke=\"black\" points=\"2170.88,-5040.5 2180.88,-5037 2170.88,-5033.5 2170.88,-5040.5\"/>\n</g>\n<!-- 101 -->\n<g id=\"node102\" class=\"node\">\n<title>101</title>\n<polygon fill=\"#eda876\" stroke=\"black\" points=\"2635,-5322 2488,-5322 2488,-5254 2635,-5254 2635,-5322\"/>\n<text text-anchor=\"middle\" x=\"2561.5\" y=\"-5306.8\" font-family=\"Helvetica,sans-Serif\" font-size=\"14.00\">gini = 0.361</text>\n<text text-anchor=\"middle\" x=\"2561.5\" y=\"-5291.8\" font-family=\"Helvetica,sans-Serif\" font-size=\"14.00\">samples = 0.3%</text>\n<text text-anchor=\"middle\" x=\"2561.5\" y=\"-5276.8\" font-family=\"Helvetica,sans-Serif\" font-size=\"14.00\">value = [0.764, 0.236]</text>\n<text text-anchor=\"middle\" x=\"2561.5\" y=\"-5261.8\" font-family=\"Helvetica,sans-Serif\" font-size=\"14.00\">class = Not infected</text>\n</g>\n<!-- 100&#45;&gt;101 -->\n<g id=\"edge101\" class=\"edge\">\n<title>100&#45;&gt;101</title>\n<path fill=\"none\" stroke=\"black\" d=\"M2403.09,-5243.61C2428.9,-5250.89 2454.9,-5258.22 2478.12,-5264.77\"/>\n<polygon fill=\"black\" stroke=\"black\" points=\"2477.32,-5268.18 2487.9,-5267.53 2479.22,-5261.45 2477.32,-5268.18\"/>\n</g>\n<!-- 102 -->\n<g id=\"node103\" class=\"node\">\n<title>102</title>\n<polygon fill=\"#fdf7f2\" stroke=\"black\" points=\"2635,-5236 2488,-5236 2488,-5168 2635,-5168 2635,-5236\"/>\n<text text-anchor=\"middle\" x=\"2561.5\" y=\"-5220.8\" font-family=\"Helvetica,sans-Serif\" font-size=\"14.00\">gini = 0.499</text>\n<text text-anchor=\"middle\" x=\"2561.5\" y=\"-5205.8\" font-family=\"Helvetica,sans-Serif\" font-size=\"14.00\">samples = 0.0%</text>\n<text text-anchor=\"middle\" x=\"2561.5\" y=\"-5190.8\" font-family=\"Helvetica,sans-Serif\" font-size=\"14.00\">value = [0.517, 0.483]</text>\n<text text-anchor=\"middle\" x=\"2561.5\" y=\"-5175.8\" font-family=\"Helvetica,sans-Serif\" font-size=\"14.00\">class = Not infected</text>\n</g>\n<!-- 100&#45;&gt;102 -->\n<g id=\"edge102\" class=\"edge\">\n<title>100&#45;&gt;102</title>\n<path fill=\"none\" stroke=\"black\" d=\"M2407.11,-5202C2431.37,-5202 2455.67,-5202 2477.53,-5202\"/>\n<polygon fill=\"black\" stroke=\"black\" points=\"2477.73,-5205.5 2487.73,-5202 2477.73,-5198.5 2477.73,-5205.5\"/>\n</g>\n<!-- 104 -->\n<g id=\"node105\" class=\"node\">\n<title>104</title>\n<polygon fill=\"#c1e0f7\" stroke=\"black\" points=\"2635,-5150 2488,-5150 2488,-5082 2635,-5082 2635,-5150\"/>\n<text text-anchor=\"middle\" x=\"2561.5\" y=\"-5134.8\" font-family=\"Helvetica,sans-Serif\" font-size=\"14.00\">gini = 0.483</text>\n<text text-anchor=\"middle\" x=\"2561.5\" y=\"-5119.8\" font-family=\"Helvetica,sans-Serif\" font-size=\"14.00\">samples = 0.1%</text>\n<text text-anchor=\"middle\" x=\"2561.5\" y=\"-5104.8\" font-family=\"Helvetica,sans-Serif\" font-size=\"14.00\">value = [0.407, 0.593]</text>\n<text text-anchor=\"middle\" x=\"2561.5\" y=\"-5089.8\" font-family=\"Helvetica,sans-Serif\" font-size=\"14.00\">class = Infected</text>\n</g>\n<!-- 103&#45;&gt;104 -->\n<g id=\"edge104\" class=\"edge\">\n<title>103&#45;&gt;104</title>\n<path fill=\"none\" stroke=\"black\" d=\"M2328.17,-5055.82C2373.24,-5067.5 2431.27,-5082.53 2478.06,-5094.65\"/>\n<polygon fill=\"black\" stroke=\"black\" points=\"2477.3,-5098.07 2487.86,-5097.19 2479.06,-5091.29 2477.3,-5098.07\"/>\n</g>\n<!-- 105 -->\n<g id=\"node106\" class=\"node\">\n<title>105</title>\n<polygon fill=\"#f4c9aa\" stroke=\"black\" points=\"2635,-5064 2488,-5064 2488,-4996 2635,-4996 2635,-5064\"/>\n<text text-anchor=\"middle\" x=\"2561.5\" y=\"-5048.8\" font-family=\"Helvetica,sans-Serif\" font-size=\"14.00\">gini = 0.463</text>\n<text text-anchor=\"middle\" x=\"2561.5\" y=\"-5033.8\" font-family=\"Helvetica,sans-Serif\" font-size=\"14.00\">samples = 4.5%</text>\n<text text-anchor=\"middle\" x=\"2561.5\" y=\"-5018.8\" font-family=\"Helvetica,sans-Serif\" font-size=\"14.00\">value = [0.637, 0.363]</text>\n<text text-anchor=\"middle\" x=\"2561.5\" y=\"-5003.8\" font-family=\"Helvetica,sans-Serif\" font-size=\"14.00\">class = Not infected</text>\n</g>\n<!-- 103&#45;&gt;105 -->\n<g id=\"edge105\" class=\"edge\">\n<title>103&#45;&gt;105</title>\n<path fill=\"none\" stroke=\"black\" d=\"M2328.17,-5035.33C2373.15,-5034.3 2431.03,-5032.97 2477.76,-5031.9\"/>\n<polygon fill=\"black\" stroke=\"black\" points=\"2477.94,-5035.4 2487.86,-5031.67 2477.78,-5028.4 2477.94,-5035.4\"/>\n</g>\n<!-- 107 -->\n<g id=\"node108\" class=\"node\">\n<title>107</title>\n<polygon fill=\"#f5d1b6\" stroke=\"black\" points=\"2365,-4946.5 2144,-4946.5 2144,-4863.5 2365,-4863.5 2365,-4946.5\"/>\n<text text-anchor=\"middle\" x=\"2254.5\" y=\"-4931.3\" font-family=\"Helvetica,sans-Serif\" font-size=\"14.00\">CountryIdentifier_count &lt;= 6358.5</text>\n<text text-anchor=\"middle\" x=\"2254.5\" y=\"-4916.3\" font-family=\"Helvetica,sans-Serif\" font-size=\"14.00\">gini = 0.475</text>\n<text text-anchor=\"middle\" x=\"2254.5\" y=\"-4901.3\" font-family=\"Helvetica,sans-Serif\" font-size=\"14.00\">samples = 1.3%</text>\n<text text-anchor=\"middle\" x=\"2254.5\" y=\"-4886.3\" font-family=\"Helvetica,sans-Serif\" font-size=\"14.00\">value = [0.613, 0.387]</text>\n<text text-anchor=\"middle\" x=\"2254.5\" y=\"-4871.3\" font-family=\"Helvetica,sans-Serif\" font-size=\"14.00\">class = Not infected</text>\n</g>\n<!-- 106&#45;&gt;107 -->\n<g id=\"edge107\" class=\"edge\">\n<title>106&#45;&gt;107</title>\n<path fill=\"none\" stroke=\"black\" d=\"M1967.05,-4905C2021,-4905 2081.81,-4905 2133.48,-4905\"/>\n<polygon fill=\"black\" stroke=\"black\" points=\"2133.69,-4908.5 2143.69,-4905 2133.69,-4901.5 2133.69,-4908.5\"/>\n</g>\n<!-- 110 -->\n<g id=\"node111\" class=\"node\">\n<title>110</title>\n<polygon fill=\"#fae8db\" stroke=\"black\" points=\"2344.5,-4813.5 2164.5,-4813.5 2164.5,-4730.5 2344.5,-4730.5 2344.5,-4813.5\"/>\n<text text-anchor=\"middle\" x=\"2254.5\" y=\"-4798.3\" font-family=\"Helvetica,sans-Serif\" font-size=\"14.00\">AVProductsInstalled &lt;= 2.5</text>\n<text text-anchor=\"middle\" x=\"2254.5\" y=\"-4783.3\" font-family=\"Helvetica,sans-Serif\" font-size=\"14.00\">gini = 0.495</text>\n<text text-anchor=\"middle\" x=\"2254.5\" y=\"-4768.3\" font-family=\"Helvetica,sans-Serif\" font-size=\"14.00\">samples = 1.0%</text>\n<text text-anchor=\"middle\" x=\"2254.5\" y=\"-4753.3\" font-family=\"Helvetica,sans-Serif\" font-size=\"14.00\">value = [0.55, 0.45]</text>\n<text text-anchor=\"middle\" x=\"2254.5\" y=\"-4738.3\" font-family=\"Helvetica,sans-Serif\" font-size=\"14.00\">class = Not infected</text>\n</g>\n<!-- 106&#45;&gt;110 -->\n<g id=\"edge110\" class=\"edge\">\n<title>106&#45;&gt;110</title>\n<path fill=\"none\" stroke=\"black\" d=\"M1958.47,-4863.47C2021.93,-4843.79 2096.4,-4820.71 2154.63,-4802.65\"/>\n<polygon fill=\"black\" stroke=\"black\" points=\"2155.69,-4805.99 2164.21,-4799.68 2153.62,-4799.3 2155.69,-4805.99\"/>\n</g>\n<!-- 108 -->\n<g id=\"node109\" class=\"node\">\n<title>108</title>\n<polygon fill=\"#f3c3a1\" stroke=\"black\" points=\"2635,-4978 2488,-4978 2488,-4910 2635,-4910 2635,-4978\"/>\n<text text-anchor=\"middle\" x=\"2561.5\" y=\"-4962.8\" font-family=\"Helvetica,sans-Serif\" font-size=\"14.00\">gini = 0.452</text>\n<text text-anchor=\"middle\" x=\"2561.5\" y=\"-4947.8\" font-family=\"Helvetica,sans-Serif\" font-size=\"14.00\">samples = 0.6%</text>\n<text text-anchor=\"middle\" x=\"2561.5\" y=\"-4932.8\" font-family=\"Helvetica,sans-Serif\" font-size=\"14.00\">value = [0.655, 0.345]</text>\n<text text-anchor=\"middle\" x=\"2561.5\" y=\"-4917.8\" font-family=\"Helvetica,sans-Serif\" font-size=\"14.00\">class = Not infected</text>\n</g>\n<!-- 107&#45;&gt;108 -->\n<g id=\"edge108\" class=\"edge\">\n<title>107&#45;&gt;108</title>\n<path fill=\"none\" stroke=\"black\" d=\"M2365.18,-4919.02C2402.33,-4923.78 2443.17,-4929 2477.86,-4933.43\"/>\n<polygon fill=\"black\" stroke=\"black\" points=\"2477.58,-4936.93 2487.94,-4934.72 2478.47,-4929.98 2477.58,-4936.93\"/>\n</g>\n<!-- 109 -->\n<g id=\"node110\" class=\"node\">\n<title>109</title>\n<polygon fill=\"#f8dcc8\" stroke=\"black\" points=\"2629,-4892 2494,-4892 2494,-4824 2629,-4824 2629,-4892\"/>\n<text text-anchor=\"middle\" x=\"2561.5\" y=\"-4876.8\" font-family=\"Helvetica,sans-Serif\" font-size=\"14.00\">gini = 0.487</text>\n<text text-anchor=\"middle\" x=\"2561.5\" y=\"-4861.8\" font-family=\"Helvetica,sans-Serif\" font-size=\"14.00\">samples = 0.7%</text>\n<text text-anchor=\"middle\" x=\"2561.5\" y=\"-4846.8\" font-family=\"Helvetica,sans-Serif\" font-size=\"14.00\">value = [0.58, 0.42]</text>\n<text text-anchor=\"middle\" x=\"2561.5\" y=\"-4831.8\" font-family=\"Helvetica,sans-Serif\" font-size=\"14.00\">class = Not infected</text>\n</g>\n<!-- 107&#45;&gt;109 -->\n<g id=\"edge109\" class=\"edge\">\n<title>107&#45;&gt;109</title>\n<path fill=\"none\" stroke=\"black\" d=\"M2365.18,-4888.1C2404.52,-4882.04 2447.99,-4875.34 2483.92,-4869.8\"/>\n<polygon fill=\"black\" stroke=\"black\" points=\"2484.5,-4873.25 2493.85,-4868.27 2483.43,-4866.34 2484.5,-4873.25\"/>\n</g>\n<!-- 111 -->\n<g id=\"node112\" class=\"node\">\n<title>111</title>\n<polygon fill=\"#fcf0e8\" stroke=\"black\" points=\"2635,-4806 2488,-4806 2488,-4738 2635,-4738 2635,-4806\"/>\n<text text-anchor=\"middle\" x=\"2561.5\" y=\"-4790.8\" font-family=\"Helvetica,sans-Serif\" font-size=\"14.00\">gini = 0.498</text>\n<text text-anchor=\"middle\" x=\"2561.5\" y=\"-4775.8\" font-family=\"Helvetica,sans-Serif\" font-size=\"14.00\">samples = 0.9%</text>\n<text text-anchor=\"middle\" x=\"2561.5\" y=\"-4760.8\" font-family=\"Helvetica,sans-Serif\" font-size=\"14.00\">value = [0.531, 0.469]</text>\n<text text-anchor=\"middle\" x=\"2561.5\" y=\"-4745.8\" font-family=\"Helvetica,sans-Serif\" font-size=\"14.00\">class = Not infected</text>\n</g>\n<!-- 110&#45;&gt;111 -->\n<g id=\"edge111\" class=\"edge\">\n<title>110&#45;&gt;111</title>\n<path fill=\"none\" stroke=\"black\" d=\"M2344.54,-4772C2386.61,-4772 2436.52,-4772 2477.76,-4772\"/>\n<polygon fill=\"black\" stroke=\"black\" points=\"2477.78,-4775.5 2487.78,-4772 2477.78,-4768.5 2477.78,-4775.5\"/>\n</g>\n<!-- 112 -->\n<g id=\"node113\" class=\"node\">\n<title>112</title>\n<polygon fill=\"#f1bc96\" stroke=\"black\" points=\"2635,-4720 2488,-4720 2488,-4652 2635,-4652 2635,-4720\"/>\n<text text-anchor=\"middle\" x=\"2561.5\" y=\"-4704.8\" font-family=\"Helvetica,sans-Serif\" font-size=\"14.00\">gini = 0.434</text>\n<text text-anchor=\"middle\" x=\"2561.5\" y=\"-4689.8\" font-family=\"Helvetica,sans-Serif\" font-size=\"14.00\">samples = 0.1%</text>\n<text text-anchor=\"middle\" x=\"2561.5\" y=\"-4674.8\" font-family=\"Helvetica,sans-Serif\" font-size=\"14.00\">value = [0.681, 0.319]</text>\n<text text-anchor=\"middle\" x=\"2561.5\" y=\"-4659.8\" font-family=\"Helvetica,sans-Serif\" font-size=\"14.00\">class = Not infected</text>\n</g>\n<!-- 110&#45;&gt;112 -->\n<g id=\"edge112\" class=\"edge\">\n<title>110&#45;&gt;112</title>\n<path fill=\"none\" stroke=\"black\" d=\"M2344.54,-4746.89C2386.7,-4735.01 2436.73,-4720.9 2478.02,-4709.26\"/>\n<polygon fill=\"black\" stroke=\"black\" points=\"2479.1,-4712.59 2487.78,-4706.51 2477.2,-4705.85 2479.1,-4712.59\"/>\n</g>\n<!-- 114 -->\n<g id=\"node115\" class=\"node\">\n<title>114</title>\n<polygon fill=\"#fbece0\" stroke=\"black\" points=\"1897,-4512.5 1750,-4512.5 1750,-4429.5 1897,-4429.5 1897,-4512.5\"/>\n<text text-anchor=\"middle\" x=\"1823.5\" y=\"-4497.3\" font-family=\"Helvetica,sans-Serif\" font-size=\"14.00\">IsProtected &lt;= 0.5</text>\n<text text-anchor=\"middle\" x=\"1823.5\" y=\"-4482.3\" font-family=\"Helvetica,sans-Serif\" font-size=\"14.00\">gini = 0.496</text>\n<text text-anchor=\"middle\" x=\"1823.5\" y=\"-4467.3\" font-family=\"Helvetica,sans-Serif\" font-size=\"14.00\">samples = 2.8%</text>\n<text text-anchor=\"middle\" x=\"1823.5\" y=\"-4452.3\" font-family=\"Helvetica,sans-Serif\" font-size=\"14.00\">value = [0.542, 0.458]</text>\n<text text-anchor=\"middle\" x=\"1823.5\" y=\"-4437.3\" font-family=\"Helvetica,sans-Serif\" font-size=\"14.00\">class = Not infected</text>\n</g>\n<!-- 113&#45;&gt;114 -->\n<g id=\"edge114\" class=\"edge\">\n<title>113&#45;&gt;114</title>\n<path fill=\"none\" stroke=\"black\" d=\"M1486.59,-4471C1561.22,-4471 1666.91,-4471 1739.71,-4471\"/>\n<polygon fill=\"black\" stroke=\"black\" points=\"1739.76,-4474.5 1749.76,-4471 1739.76,-4467.5 1739.76,-4474.5\"/>\n</g>\n<!-- 121 -->\n<g id=\"node122\" class=\"node\">\n<title>121</title>\n<polygon fill=\"#f1bc95\" stroke=\"black\" points=\"1985,-4261.5 1662,-4261.5 1662,-4178.5 1985,-4178.5 1985,-4261.5\"/>\n<text text-anchor=\"middle\" x=\"1823.5\" y=\"-4246.3\" font-family=\"Helvetica,sans-Serif\" font-size=\"14.00\">Census_SystemVolumeTotalCapacity &lt;= 429375.0</text>\n<text text-anchor=\"middle\" x=\"1823.5\" y=\"-4231.3\" font-family=\"Helvetica,sans-Serif\" font-size=\"14.00\">gini = 0.434</text>\n<text text-anchor=\"middle\" x=\"1823.5\" y=\"-4216.3\" font-family=\"Helvetica,sans-Serif\" font-size=\"14.00\">samples = 0.3%</text>\n<text text-anchor=\"middle\" x=\"1823.5\" y=\"-4201.3\" font-family=\"Helvetica,sans-Serif\" font-size=\"14.00\">value = [0.682, 0.318]</text>\n<text text-anchor=\"middle\" x=\"1823.5\" y=\"-4186.3\" font-family=\"Helvetica,sans-Serif\" font-size=\"14.00\">class = Not infected</text>\n</g>\n<!-- 113&#45;&gt;121 -->\n<g id=\"edge121\" class=\"edge\">\n<title>113&#45;&gt;121</title>\n<path fill=\"none\" stroke=\"black\" d=\"M1468.16,-4429.27C1543.95,-4384.51 1664.06,-4313.57 1743.08,-4266.9\"/>\n<polygon fill=\"black\" stroke=\"black\" points=\"1745.2,-4269.72 1752.03,-4261.62 1741.64,-4263.69 1745.2,-4269.72\"/>\n</g>\n<!-- 115 -->\n<g id=\"node116\" class=\"node\">\n<title>115</title>\n<polygon fill=\"#f2bf9a\" stroke=\"black\" points=\"2330.5,-4563.5 2178.5,-4563.5 2178.5,-4480.5 2330.5,-4480.5 2330.5,-4563.5\"/>\n<text text-anchor=\"middle\" x=\"2254.5\" y=\"-4548.3\" font-family=\"Helvetica,sans-Serif\" font-size=\"14.00\">RtpStateBitfield &lt;= 7.5</text>\n<text text-anchor=\"middle\" x=\"2254.5\" y=\"-4533.3\" font-family=\"Helvetica,sans-Serif\" font-size=\"14.00\">gini = 0.441</text>\n<text text-anchor=\"middle\" x=\"2254.5\" y=\"-4518.3\" font-family=\"Helvetica,sans-Serif\" font-size=\"14.00\">samples = 0.2%</text>\n<text text-anchor=\"middle\" x=\"2254.5\" y=\"-4503.3\" font-family=\"Helvetica,sans-Serif\" font-size=\"14.00\">value = [0.672, 0.328]</text>\n<text text-anchor=\"middle\" x=\"2254.5\" y=\"-4488.3\" font-family=\"Helvetica,sans-Serif\" font-size=\"14.00\">class = Not infected</text>\n</g>\n<!-- 114&#45;&gt;115 -->\n<g id=\"edge115\" class=\"edge\">\n<title>114&#45;&gt;115</title>\n<path fill=\"none\" stroke=\"black\" d=\"M1897.27,-4479.65C1972.24,-4488.56 2089.01,-4502.44 2168.25,-4511.87\"/>\n<polygon fill=\"black\" stroke=\"black\" points=\"2167.86,-4515.34 2178.2,-4513.05 2168.69,-4508.39 2167.86,-4515.34\"/>\n</g>\n<!-- 118 -->\n<g id=\"node119\" class=\"node\">\n<title>118</title>\n<polygon fill=\"#fcefe6\" stroke=\"black\" points=\"2330.5,-4462.5 2178.5,-4462.5 2178.5,-4379.5 2330.5,-4379.5 2330.5,-4462.5\"/>\n<text text-anchor=\"middle\" x=\"2254.5\" y=\"-4447.3\" font-family=\"Helvetica,sans-Serif\" font-size=\"14.00\">RtpStateBitfield &lt;= 6.0</text>\n<text text-anchor=\"middle\" x=\"2254.5\" y=\"-4432.3\" font-family=\"Helvetica,sans-Serif\" font-size=\"14.00\">gini = 0.498</text>\n<text text-anchor=\"middle\" x=\"2254.5\" y=\"-4417.3\" font-family=\"Helvetica,sans-Serif\" font-size=\"14.00\">samples = 2.6%</text>\n<text text-anchor=\"middle\" x=\"2254.5\" y=\"-4402.3\" font-family=\"Helvetica,sans-Serif\" font-size=\"14.00\">value = [0.534, 0.466]</text>\n<text text-anchor=\"middle\" x=\"2254.5\" y=\"-4387.3\" font-family=\"Helvetica,sans-Serif\" font-size=\"14.00\">class = Not infected</text>\n</g>\n<!-- 114&#45;&gt;118 -->\n<g id=\"edge118\" class=\"edge\">\n<title>114&#45;&gt;118</title>\n<path fill=\"none\" stroke=\"black\" d=\"M1897.27,-4462.52C1972.24,-4453.78 2089.01,-4440.17 2168.25,-4430.94\"/>\n<polygon fill=\"black\" stroke=\"black\" points=\"2168.67,-4434.41 2178.2,-4429.78 2167.86,-4427.46 2168.67,-4434.41\"/>\n</g>\n<!-- 116 -->\n<g id=\"node117\" class=\"node\">\n<title>116</title>\n<polygon fill=\"#f1bc95\" stroke=\"black\" points=\"2635,-4634 2488,-4634 2488,-4566 2635,-4566 2635,-4634\"/>\n<text text-anchor=\"middle\" x=\"2561.5\" y=\"-4618.8\" font-family=\"Helvetica,sans-Serif\" font-size=\"14.00\">gini = 0.434</text>\n<text text-anchor=\"middle\" x=\"2561.5\" y=\"-4603.8\" font-family=\"Helvetica,sans-Serif\" font-size=\"14.00\">samples = 0.1%</text>\n<text text-anchor=\"middle\" x=\"2561.5\" y=\"-4588.8\" font-family=\"Helvetica,sans-Serif\" font-size=\"14.00\">value = [0.682, 0.318]</text>\n<text text-anchor=\"middle\" x=\"2561.5\" y=\"-4573.8\" font-family=\"Helvetica,sans-Serif\" font-size=\"14.00\">class = Not infected</text>\n</g>\n<!-- 115&#45;&gt;116 -->\n<g id=\"edge116\" class=\"edge\">\n<title>115&#45;&gt;116</title>\n<path fill=\"none\" stroke=\"black\" d=\"M2330.5,-4541.18C2375.2,-4552.61 2431.99,-4567.14 2477.96,-4578.89\"/>\n<polygon fill=\"black\" stroke=\"black\" points=\"2477.34,-4582.34 2487.89,-4581.43 2479.07,-4575.56 2477.34,-4582.34\"/>\n</g>\n<!-- 117 -->\n<g id=\"node118\" class=\"node\">\n<title>117</title>\n<polygon fill=\"#88c4ef\" stroke=\"black\" points=\"2635,-4548 2488,-4548 2488,-4480 2635,-4480 2635,-4548\"/>\n<text text-anchor=\"middle\" x=\"2561.5\" y=\"-4532.8\" font-family=\"Helvetica,sans-Serif\" font-size=\"14.00\">gini = 0.408</text>\n<text text-anchor=\"middle\" x=\"2561.5\" y=\"-4517.8\" font-family=\"Helvetica,sans-Serif\" font-size=\"14.00\">samples = 0.0%</text>\n<text text-anchor=\"middle\" x=\"2561.5\" y=\"-4502.8\" font-family=\"Helvetica,sans-Serif\" font-size=\"14.00\">value = [0.286, 0.714]</text>\n<text text-anchor=\"middle\" x=\"2561.5\" y=\"-4487.8\" font-family=\"Helvetica,sans-Serif\" font-size=\"14.00\">class = Infected</text>\n</g>\n<!-- 115&#45;&gt;117 -->\n<g id=\"edge117\" class=\"edge\">\n<title>115&#45;&gt;117</title>\n<path fill=\"none\" stroke=\"black\" d=\"M2330.5,-4520.03C2375.1,-4518.86 2431.75,-4517.38 2477.67,-4516.17\"/>\n<polygon fill=\"black\" stroke=\"black\" points=\"2477.99,-4519.67 2487.89,-4515.9 2477.8,-4512.67 2477.99,-4519.67\"/>\n</g>\n<!-- 119 -->\n<g id=\"node120\" class=\"node\">\n<title>119</title>\n<polygon fill=\"#f2bf9b\" stroke=\"black\" points=\"2635,-4462 2488,-4462 2488,-4394 2635,-4394 2635,-4462\"/>\n<text text-anchor=\"middle\" x=\"2561.5\" y=\"-4446.8\" font-family=\"Helvetica,sans-Serif\" font-size=\"14.00\">gini = 0.443</text>\n<text text-anchor=\"middle\" x=\"2561.5\" y=\"-4431.8\" font-family=\"Helvetica,sans-Serif\" font-size=\"14.00\">samples = 0.1%</text>\n<text text-anchor=\"middle\" x=\"2561.5\" y=\"-4416.8\" font-family=\"Helvetica,sans-Serif\" font-size=\"14.00\">value = [0.669, 0.331]</text>\n<text text-anchor=\"middle\" x=\"2561.5\" y=\"-4401.8\" font-family=\"Helvetica,sans-Serif\" font-size=\"14.00\">class = Not infected</text>\n</g>\n<!-- 118&#45;&gt;119 -->\n<g id=\"edge119\" class=\"edge\">\n<title>118&#45;&gt;119</title>\n<path fill=\"none\" stroke=\"black\" d=\"M2330.5,-4422.72C2375.1,-4423.75 2431.75,-4425.05 2477.67,-4426.1\"/>\n<polygon fill=\"black\" stroke=\"black\" points=\"2477.82,-4429.6 2487.89,-4426.33 2477.98,-4422.6 2477.82,-4429.6\"/>\n</g>\n<!-- 120 -->\n<g id=\"node121\" class=\"node\">\n<title>120</title>\n<polygon fill=\"#fcf2ea\" stroke=\"black\" points=\"2635,-4376 2488,-4376 2488,-4308 2635,-4308 2635,-4376\"/>\n<text text-anchor=\"middle\" x=\"2561.5\" y=\"-4360.8\" font-family=\"Helvetica,sans-Serif\" font-size=\"14.00\">gini = 0.498</text>\n<text text-anchor=\"middle\" x=\"2561.5\" y=\"-4345.8\" font-family=\"Helvetica,sans-Serif\" font-size=\"14.00\">samples = 2.5%</text>\n<text text-anchor=\"middle\" x=\"2561.5\" y=\"-4330.8\" font-family=\"Helvetica,sans-Serif\" font-size=\"14.00\">value = [0.527, 0.473]</text>\n<text text-anchor=\"middle\" x=\"2561.5\" y=\"-4315.8\" font-family=\"Helvetica,sans-Serif\" font-size=\"14.00\">class = Not infected</text>\n</g>\n<!-- 118&#45;&gt;120 -->\n<g id=\"edge120\" class=\"edge\">\n<title>118&#45;&gt;120</title>\n<path fill=\"none\" stroke=\"black\" d=\"M2330.5,-4401.57C2375.2,-4390 2431.99,-4375.29 2477.96,-4363.38\"/>\n<polygon fill=\"black\" stroke=\"black\" points=\"2479.09,-4366.7 2487.89,-4360.81 2477.33,-4359.93 2479.09,-4366.7\"/>\n</g>\n<!-- 122 -->\n<g id=\"node123\" class=\"node\">\n<title>122</title>\n<polygon fill=\"#f9e0cf\" stroke=\"black\" points=\"2377,-4261.5 2132,-4261.5 2132,-4178.5 2377,-4178.5 2377,-4261.5\"/>\n<text text-anchor=\"middle\" x=\"2254.5\" y=\"-4246.3\" font-family=\"Helvetica,sans-Serif\" font-size=\"14.00\">Census_TotalPhysicalRAM &lt;= 3072.0</text>\n<text text-anchor=\"middle\" x=\"2254.5\" y=\"-4231.3\" font-family=\"Helvetica,sans-Serif\" font-size=\"14.00\">gini = 0.49</text>\n<text text-anchor=\"middle\" x=\"2254.5\" y=\"-4216.3\" font-family=\"Helvetica,sans-Serif\" font-size=\"14.00\">samples = 0.1%</text>\n<text text-anchor=\"middle\" x=\"2254.5\" y=\"-4201.3\" font-family=\"Helvetica,sans-Serif\" font-size=\"14.00\">value = [0.569, 0.431]</text>\n<text text-anchor=\"middle\" x=\"2254.5\" y=\"-4186.3\" font-family=\"Helvetica,sans-Serif\" font-size=\"14.00\">class = Not infected</text>\n</g>\n<!-- 121&#45;&gt;122 -->\n<g id=\"edge122\" class=\"edge\">\n<title>121&#45;&gt;122</title>\n<path fill=\"none\" stroke=\"black\" d=\"M1985.16,-4220C2030.08,-4220 2078.38,-4220 2121.44,-4220\"/>\n<polygon fill=\"black\" stroke=\"black\" points=\"2121.69,-4223.5 2131.69,-4220 2121.69,-4216.5 2121.69,-4223.5\"/>\n</g>\n<!-- 125 -->\n<g id=\"node126\" class=\"node\">\n<title>125</title>\n<polygon fill=\"#f0b58a\" stroke=\"black\" points=\"2374,-4125.5 2135,-4125.5 2135,-4042.5 2374,-4042.5 2374,-4125.5\"/>\n<text text-anchor=\"middle\" x=\"2254.5\" y=\"-4110.3\" font-family=\"Helvetica,sans-Serif\" font-size=\"14.00\">Census_ProcessorCoreCount &lt;= 3.5</text>\n<text text-anchor=\"middle\" x=\"2254.5\" y=\"-4095.3\" font-family=\"Helvetica,sans-Serif\" font-size=\"14.00\">gini = 0.412</text>\n<text text-anchor=\"middle\" x=\"2254.5\" y=\"-4080.3\" font-family=\"Helvetica,sans-Serif\" font-size=\"14.00\">samples = 0.2%</text>\n<text text-anchor=\"middle\" x=\"2254.5\" y=\"-4065.3\" font-family=\"Helvetica,sans-Serif\" font-size=\"14.00\">value = [0.709, 0.291]</text>\n<text text-anchor=\"middle\" x=\"2254.5\" y=\"-4050.3\" font-family=\"Helvetica,sans-Serif\" font-size=\"14.00\">class = Not infected</text>\n</g>\n<!-- 121&#45;&gt;125 -->\n<g id=\"edge125\" class=\"edge\">\n<title>121&#45;&gt;125</title>\n<path fill=\"none\" stroke=\"black\" d=\"M1955.55,-4178.46C2009.47,-4161.36 2071.74,-4141.62 2125.36,-4124.62\"/>\n<polygon fill=\"black\" stroke=\"black\" points=\"2126.45,-4127.95 2134.92,-4121.59 2124.33,-4121.28 2126.45,-4127.95\"/>\n</g>\n<!-- 123 -->\n<g id=\"node124\" class=\"node\">\n<title>123</title>\n<polygon fill=\"#eb9e66\" stroke=\"black\" points=\"2635,-4290 2488,-4290 2488,-4222 2635,-4222 2635,-4290\"/>\n<text text-anchor=\"middle\" x=\"2561.5\" y=\"-4274.8\" font-family=\"Helvetica,sans-Serif\" font-size=\"14.00\">gini = 0.302</text>\n<text text-anchor=\"middle\" x=\"2561.5\" y=\"-4259.8\" font-family=\"Helvetica,sans-Serif\" font-size=\"14.00\">samples = 0.0%</text>\n<text text-anchor=\"middle\" x=\"2561.5\" y=\"-4244.8\" font-family=\"Helvetica,sans-Serif\" font-size=\"14.00\">value = [0.815, 0.185]</text>\n<text text-anchor=\"middle\" x=\"2561.5\" y=\"-4229.8\" font-family=\"Helvetica,sans-Serif\" font-size=\"14.00\">class = Not infected</text>\n</g>\n<!-- 122&#45;&gt;123 -->\n<g id=\"edge123\" class=\"edge\">\n<title>122&#45;&gt;123</title>\n<path fill=\"none\" stroke=\"black\" d=\"M2377.36,-4234.38C2410.9,-4238.34 2446.51,-4242.54 2477.32,-4246.18\"/>\n<polygon fill=\"black\" stroke=\"black\" points=\"2477.23,-4249.7 2487.57,-4247.39 2478.05,-4242.74 2477.23,-4249.7\"/>\n</g>\n<!-- 124 -->\n<g id=\"node125\" class=\"node\">\n<title>124</title>\n<polygon fill=\"#fcf2ea\" stroke=\"black\" points=\"2635,-4204 2488,-4204 2488,-4136 2635,-4136 2635,-4204\"/>\n<text text-anchor=\"middle\" x=\"2561.5\" y=\"-4188.8\" font-family=\"Helvetica,sans-Serif\" font-size=\"14.00\">gini = 0.498</text>\n<text text-anchor=\"middle\" x=\"2561.5\" y=\"-4173.8\" font-family=\"Helvetica,sans-Serif\" font-size=\"14.00\">samples = 0.0%</text>\n<text text-anchor=\"middle\" x=\"2561.5\" y=\"-4158.8\" font-family=\"Helvetica,sans-Serif\" font-size=\"14.00\">value = [0.528, 0.472]</text>\n<text text-anchor=\"middle\" x=\"2561.5\" y=\"-4143.8\" font-family=\"Helvetica,sans-Serif\" font-size=\"14.00\">class = Not infected</text>\n</g>\n<!-- 122&#45;&gt;124 -->\n<g id=\"edge124\" class=\"edge\">\n<title>122&#45;&gt;124</title>\n<path fill=\"none\" stroke=\"black\" d=\"M2377.36,-4200.02C2410.9,-4194.52 2446.51,-4188.69 2477.32,-4183.64\"/>\n<polygon fill=\"black\" stroke=\"black\" points=\"2478.27,-4187.03 2487.57,-4181.96 2477.14,-4180.12 2478.27,-4187.03\"/>\n</g>\n<!-- 126 -->\n<g id=\"node127\" class=\"node\">\n<title>126</title>\n<polygon fill=\"#eca470\" stroke=\"black\" points=\"2635,-4118 2488,-4118 2488,-4050 2635,-4050 2635,-4118\"/>\n<text text-anchor=\"middle\" x=\"2561.5\" y=\"-4102.8\" font-family=\"Helvetica,sans-Serif\" font-size=\"14.00\">gini = 0.34</text>\n<text text-anchor=\"middle\" x=\"2561.5\" y=\"-4087.8\" font-family=\"Helvetica,sans-Serif\" font-size=\"14.00\">samples = 0.1%</text>\n<text text-anchor=\"middle\" x=\"2561.5\" y=\"-4072.8\" font-family=\"Helvetica,sans-Serif\" font-size=\"14.00\">value = [0.783, 0.217]</text>\n<text text-anchor=\"middle\" x=\"2561.5\" y=\"-4057.8\" font-family=\"Helvetica,sans-Serif\" font-size=\"14.00\">class = Not infected</text>\n</g>\n<!-- 125&#45;&gt;126 -->\n<g id=\"edge126\" class=\"edge\">\n<title>125&#45;&gt;126</title>\n<path fill=\"none\" stroke=\"black\" d=\"M2374.29,-4084C2408.86,-4084 2445.85,-4084 2477.68,-4084\"/>\n<polygon fill=\"black\" stroke=\"black\" points=\"2477.83,-4087.5 2487.83,-4084 2477.83,-4080.5 2477.83,-4087.5\"/>\n</g>\n<!-- 127 -->\n<g id=\"node128\" class=\"node\">\n<title>127</title>\n<polygon fill=\"#f2bf9b\" stroke=\"black\" points=\"2629,-4032 2494,-4032 2494,-3964 2629,-3964 2629,-4032\"/>\n<text text-anchor=\"middle\" x=\"2561.5\" y=\"-4016.8\" font-family=\"Helvetica,sans-Serif\" font-size=\"14.00\">gini = 0.442</text>\n<text text-anchor=\"middle\" x=\"2561.5\" y=\"-4001.8\" font-family=\"Helvetica,sans-Serif\" font-size=\"14.00\">samples = 0.1%</text>\n<text text-anchor=\"middle\" x=\"2561.5\" y=\"-3986.8\" font-family=\"Helvetica,sans-Serif\" font-size=\"14.00\">value = [0.67, 0.33]</text>\n<text text-anchor=\"middle\" x=\"2561.5\" y=\"-3971.8\" font-family=\"Helvetica,sans-Serif\" font-size=\"14.00\">class = Not infected</text>\n</g>\n<!-- 125&#45;&gt;127 -->\n<g id=\"edge127\" class=\"edge\">\n<title>125&#45;&gt;127</title>\n<path fill=\"none\" stroke=\"black\" d=\"M2374.29,-4050.5C2411.29,-4040.07 2451.07,-4028.86 2484.32,-4019.48\"/>\n<polygon fill=\"black\" stroke=\"black\" points=\"2485.29,-4022.84 2493.97,-4016.76 2483.4,-4016.1 2485.29,-4022.84\"/>\n</g>\n<!-- 129 -->\n<g id=\"node130\" class=\"node\">\n<title>129</title>\n<polygon fill=\"#b8dcf6\" stroke=\"black\" points=\"687,-3218.5 540,-3218.5 540,-3135.5 687,-3135.5 687,-3218.5\"/>\n<text text-anchor=\"middle\" x=\"613.5\" y=\"-3203.3\" font-family=\"Helvetica,sans-Serif\" font-size=\"14.00\">IsProtected &lt;= 0.5</text>\n<text text-anchor=\"middle\" x=\"613.5\" y=\"-3188.3\" font-family=\"Helvetica,sans-Serif\" font-size=\"14.00\">gini = 0.476</text>\n<text text-anchor=\"middle\" x=\"613.5\" y=\"-3173.3\" font-family=\"Helvetica,sans-Serif\" font-size=\"14.00\">samples = 1.4%</text>\n<text text-anchor=\"middle\" x=\"613.5\" y=\"-3158.3\" font-family=\"Helvetica,sans-Serif\" font-size=\"14.00\">value = [0.391, 0.609]</text>\n<text text-anchor=\"middle\" x=\"613.5\" y=\"-3143.3\" font-family=\"Helvetica,sans-Serif\" font-size=\"14.00\">class = Infected</text>\n</g>\n<!-- 128&#45;&gt;129 -->\n<g id=\"edge129\" class=\"edge\">\n<title>128&#45;&gt;129</title>\n<path fill=\"none\" stroke=\"black\" d=\"M455.25,-3177C479.79,-3177 505.92,-3177 529.69,-3177\"/>\n<polygon fill=\"black\" stroke=\"black\" points=\"529.72,-3180.5 539.72,-3177 529.72,-3173.5 529.72,-3180.5\"/>\n</g>\n<!-- 178 -->\n<g id=\"node179\" class=\"node\">\n<title>178</title>\n<polygon fill=\"#61b1ea\" stroke=\"black\" points=\"703.5,-1671.5 523.5,-1671.5 523.5,-1588.5 703.5,-1588.5 703.5,-1671.5\"/>\n<text text-anchor=\"middle\" x=\"613.5\" y=\"-1656.3\" font-family=\"Helvetica,sans-Serif\" font-size=\"14.00\">AVProductsInstalled &lt;= 1.5</text>\n<text text-anchor=\"middle\" x=\"613.5\" y=\"-1641.3\" font-family=\"Helvetica,sans-Serif\" font-size=\"14.00\">gini = 0.28</text>\n<text text-anchor=\"middle\" x=\"613.5\" y=\"-1626.3\" font-family=\"Helvetica,sans-Serif\" font-size=\"14.00\">samples = 10.4%</text>\n<text text-anchor=\"middle\" x=\"613.5\" y=\"-1611.3\" font-family=\"Helvetica,sans-Serif\" font-size=\"14.00\">value = [0.168, 0.832]</text>\n<text text-anchor=\"middle\" x=\"613.5\" y=\"-1596.3\" font-family=\"Helvetica,sans-Serif\" font-size=\"14.00\">class = Infected</text>\n</g>\n<!-- 128&#45;&gt;178 -->\n<g id=\"edge178\" class=\"edge\">\n<title>128&#45;&gt;178</title>\n<path fill=\"none\" stroke=\"black\" d=\"M365.36,-3135.22C400.97,-2918.36 564.59,-1921.82 603.96,-1682.01\"/>\n<polygon fill=\"black\" stroke=\"black\" points=\"607.47,-1682.26 605.63,-1671.82 600.56,-1681.13 607.47,-1682.26\"/>\n</g>\n<!-- 130 -->\n<g id=\"node131\" class=\"node\">\n<title>130</title>\n<polygon fill=\"#f8fbfe\" stroke=\"black\" points=\"1080,-3487.5 859,-3487.5 859,-3404.5 1080,-3404.5 1080,-3487.5\"/>\n<text text-anchor=\"middle\" x=\"969.5\" y=\"-3472.3\" font-family=\"Helvetica,sans-Serif\" font-size=\"14.00\">CountryIdentifier_count &lt;= 1397.0</text>\n<text text-anchor=\"middle\" x=\"969.5\" y=\"-3457.3\" font-family=\"Helvetica,sans-Serif\" font-size=\"14.00\">gini = 0.5</text>\n<text text-anchor=\"middle\" x=\"969.5\" y=\"-3442.3\" font-family=\"Helvetica,sans-Serif\" font-size=\"14.00\">samples = 0.4%</text>\n<text text-anchor=\"middle\" x=\"969.5\" y=\"-3427.3\" font-family=\"Helvetica,sans-Serif\" font-size=\"14.00\">value = [0.49, 0.51]</text>\n<text text-anchor=\"middle\" x=\"969.5\" y=\"-3412.3\" font-family=\"Helvetica,sans-Serif\" font-size=\"14.00\">class = Infected</text>\n</g>\n<!-- 129&#45;&gt;130 -->\n<g id=\"edge130\" class=\"edge\">\n<title>129&#45;&gt;130</title>\n<path fill=\"none\" stroke=\"black\" d=\"M669.42,-3218.74C733.34,-3267.31 838.67,-3347.34 905.75,-3398.32\"/>\n<polygon fill=\"black\" stroke=\"black\" points=\"903.66,-3401.12 913.74,-3404.39 907.89,-3395.55 903.66,-3401.12\"/>\n</g>\n<!-- 153 -->\n<g id=\"node154\" class=\"node\">\n<title>153</title>\n<polygon fill=\"#a5d2f3\" stroke=\"black\" points=\"1059.5,-2925.5 879.5,-2925.5 879.5,-2842.5 1059.5,-2842.5 1059.5,-2925.5\"/>\n<text text-anchor=\"middle\" x=\"969.5\" y=\"-2910.3\" font-family=\"Helvetica,sans-Serif\" font-size=\"14.00\">AVProductsInstalled &lt;= 1.5</text>\n<text text-anchor=\"middle\" x=\"969.5\" y=\"-2895.3\" font-family=\"Helvetica,sans-Serif\" font-size=\"14.00\">gini = 0.457</text>\n<text text-anchor=\"middle\" x=\"969.5\" y=\"-2880.3\" font-family=\"Helvetica,sans-Serif\" font-size=\"14.00\">samples = 1.0%</text>\n<text text-anchor=\"middle\" x=\"969.5\" y=\"-2865.3\" font-family=\"Helvetica,sans-Serif\" font-size=\"14.00\">value = [0.353, 0.647]</text>\n<text text-anchor=\"middle\" x=\"969.5\" y=\"-2850.3\" font-family=\"Helvetica,sans-Serif\" font-size=\"14.00\">class = Infected</text>\n</g>\n<!-- 129&#45;&gt;153 -->\n<g id=\"edge153\" class=\"edge\">\n<title>129&#45;&gt;153</title>\n<path fill=\"none\" stroke=\"black\" d=\"M664.84,-3135.33C729.59,-3081.74 841.83,-2988.84 910.21,-2932.24\"/>\n<polygon fill=\"black\" stroke=\"black\" points=\"912.86,-2934.6 918.33,-2925.52 908.39,-2929.2 912.86,-2934.6\"/>\n</g>\n<!-- 131 -->\n<g id=\"node132\" class=\"node\">\n<title>131</title>\n<polygon fill=\"#f2c29f\" stroke=\"black\" points=\"1558,-3785.5 1235,-3785.5 1235,-3702.5 1558,-3702.5 1558,-3785.5\"/>\n<text text-anchor=\"middle\" x=\"1396.5\" y=\"-3770.3\" font-family=\"Helvetica,sans-Serif\" font-size=\"14.00\">Census_SystemVolumeTotalCapacity &lt;= 336467.0</text>\n<text text-anchor=\"middle\" x=\"1396.5\" y=\"-3755.3\" font-family=\"Helvetica,sans-Serif\" font-size=\"14.00\">gini = 0.448</text>\n<text text-anchor=\"middle\" x=\"1396.5\" y=\"-3740.3\" font-family=\"Helvetica,sans-Serif\" font-size=\"14.00\">samples = 0.1%</text>\n<text text-anchor=\"middle\" x=\"1396.5\" y=\"-3725.3\" font-family=\"Helvetica,sans-Serif\" font-size=\"14.00\">value = [0.661, 0.339]</text>\n<text text-anchor=\"middle\" x=\"1396.5\" y=\"-3710.3\" font-family=\"Helvetica,sans-Serif\" font-size=\"14.00\">class = Not infected</text>\n</g>\n<!-- 130&#45;&gt;131 -->\n<g id=\"edge131\" class=\"edge\">\n<title>130&#45;&gt;131</title>\n<path fill=\"none\" stroke=\"black\" d=\"M1030.04,-3487.75C1108.34,-3542.65 1245.57,-3638.87 1327.75,-3696.5\"/>\n<polygon fill=\"black\" stroke=\"black\" points=\"1325.82,-3699.42 1336.02,-3702.29 1329.84,-3693.69 1325.82,-3699.42\"/>\n</g>\n<!-- 140 -->\n<g id=\"node141\" class=\"node\">\n<title>140</title>\n<polygon fill=\"#e0effb\" stroke=\"black\" points=\"1515,-3487.5 1278,-3487.5 1278,-3404.5 1515,-3404.5 1515,-3487.5\"/>\n<text text-anchor=\"middle\" x=\"1396.5\" y=\"-3472.3\" font-family=\"Helvetica,sans-Serif\" font-size=\"14.00\">Census_OSBuildRevision &lt;= 2157.0</text>\n<text text-anchor=\"middle\" x=\"1396.5\" y=\"-3457.3\" font-family=\"Helvetica,sans-Serif\" font-size=\"14.00\">gini = 0.496</text>\n<text text-anchor=\"middle\" x=\"1396.5\" y=\"-3442.3\" font-family=\"Helvetica,sans-Serif\" font-size=\"14.00\">samples = 0.3%</text>\n<text text-anchor=\"middle\" x=\"1396.5\" y=\"-3427.3\" font-family=\"Helvetica,sans-Serif\" font-size=\"14.00\">value = [0.457, 0.543]</text>\n<text text-anchor=\"middle\" x=\"1396.5\" y=\"-3412.3\" font-family=\"Helvetica,sans-Serif\" font-size=\"14.00\">class = Infected</text>\n</g>\n<!-- 130&#45;&gt;140 -->\n<g id=\"edge140\" class=\"edge\">\n<title>130&#45;&gt;140</title>\n<path fill=\"none\" stroke=\"black\" d=\"M1080.22,-3446C1137.53,-3446 1207.98,-3446 1267.74,-3446\"/>\n<polygon fill=\"black\" stroke=\"black\" points=\"1268,-3449.5 1278,-3446 1268,-3442.5 1268,-3449.5\"/>\n</g>\n<!-- 132 -->\n<g id=\"node133\" class=\"node\">\n<title>132</title>\n<polygon fill=\"#eeab7c\" stroke=\"black\" points=\"1919,-3925.5 1728,-3925.5 1728,-3842.5 1919,-3842.5 1919,-3925.5\"/>\n<text text-anchor=\"middle\" x=\"1823.5\" y=\"-3910.3\" font-family=\"Helvetica,sans-Serif\" font-size=\"14.00\">AppVersion_count &lt;= 3633.0</text>\n<text text-anchor=\"middle\" x=\"1823.5\" y=\"-3895.3\" font-family=\"Helvetica,sans-Serif\" font-size=\"14.00\">gini = 0.377</text>\n<text text-anchor=\"middle\" x=\"1823.5\" y=\"-3880.3\" font-family=\"Helvetica,sans-Serif\" font-size=\"14.00\">samples = 0.0%</text>\n<text text-anchor=\"middle\" x=\"1823.5\" y=\"-3865.3\" font-family=\"Helvetica,sans-Serif\" font-size=\"14.00\">value = [0.748, 0.252]</text>\n<text text-anchor=\"middle\" x=\"1823.5\" y=\"-3850.3\" font-family=\"Helvetica,sans-Serif\" font-size=\"14.00\">class = Not infected</text>\n</g>\n<!-- 131&#45;&gt;132 -->\n<g id=\"edge132\" class=\"edge\">\n<title>131&#45;&gt;132</title>\n<path fill=\"none\" stroke=\"black\" d=\"M1523.58,-3785.53C1585.59,-3805.96 1659.44,-3830.29 1718.22,-3849.65\"/>\n<polygon fill=\"black\" stroke=\"black\" points=\"1717.3,-3853.03 1727.89,-3852.83 1719.49,-3846.38 1717.3,-3853.03\"/>\n</g>\n<!-- 137 -->\n<g id=\"node138\" class=\"node\">\n<title>137</title>\n<polygon fill=\"#fbece1\" stroke=\"black\" points=\"1929,-3785.5 1718,-3785.5 1718,-3702.5 1929,-3702.5 1929,-3785.5\"/>\n<text text-anchor=\"middle\" x=\"1823.5\" y=\"-3770.3\" font-family=\"Helvetica,sans-Serif\" font-size=\"14.00\">Census_OSEdition_Core &lt;= 0.5</text>\n<text text-anchor=\"middle\" x=\"1823.5\" y=\"-3755.3\" font-family=\"Helvetica,sans-Serif\" font-size=\"14.00\">gini = 0.497</text>\n<text text-anchor=\"middle\" x=\"1823.5\" y=\"-3740.3\" font-family=\"Helvetica,sans-Serif\" font-size=\"14.00\">samples = 0.0%</text>\n<text text-anchor=\"middle\" x=\"1823.5\" y=\"-3725.3\" font-family=\"Helvetica,sans-Serif\" font-size=\"14.00\">value = [0.541, 0.459]</text>\n<text text-anchor=\"middle\" x=\"1823.5\" y=\"-3710.3\" font-family=\"Helvetica,sans-Serif\" font-size=\"14.00\">class = Not infected</text>\n</g>\n<!-- 131&#45;&gt;137 -->\n<g id=\"edge137\" class=\"edge\">\n<title>131&#45;&gt;137</title>\n<path fill=\"none\" stroke=\"black\" d=\"M1558.17,-3744C1608,-3744 1661.86,-3744 1707.89,-3744\"/>\n<polygon fill=\"black\" stroke=\"black\" points=\"1707.89,-3747.5 1717.89,-3744 1707.89,-3740.5 1707.89,-3747.5\"/>\n</g>\n<!-- 133 -->\n<g id=\"node134\" class=\"node\">\n<title>133</title>\n<polygon fill=\"#ffffff\" stroke=\"black\" points=\"2322,-4012 2187,-4012 2187,-3944 2322,-3944 2322,-4012\"/>\n<text text-anchor=\"middle\" x=\"2254.5\" y=\"-3996.8\" font-family=\"Helvetica,sans-Serif\" font-size=\"14.00\">gini = 0.5</text>\n<text text-anchor=\"middle\" x=\"2254.5\" y=\"-3981.8\" font-family=\"Helvetica,sans-Serif\" font-size=\"14.00\">samples = 0.0%</text>\n<text text-anchor=\"middle\" x=\"2254.5\" y=\"-3966.8\" font-family=\"Helvetica,sans-Serif\" font-size=\"14.00\">value = [0.5, 0.5]</text>\n<text text-anchor=\"middle\" x=\"2254.5\" y=\"-3951.8\" font-family=\"Helvetica,sans-Serif\" font-size=\"14.00\">class = Not infected</text>\n</g>\n<!-- 132&#45;&gt;133 -->\n<g id=\"edge133\" class=\"edge\">\n<title>132&#45;&gt;133</title>\n<path fill=\"none\" stroke=\"black\" d=\"M1919.24,-3904.79C1961.41,-3914.05 2011.69,-3925.07 2057,-3935 2096.44,-3943.64 2140.34,-3953.25 2176.63,-3961.19\"/>\n<polygon fill=\"black\" stroke=\"black\" points=\"2176.13,-3964.66 2186.65,-3963.38 2177.63,-3957.82 2176.13,-3964.66\"/>\n</g>\n<!-- 134 -->\n<g id=\"node135\" class=\"node\">\n<title>134</title>\n<polygon fill=\"#eca16c\" stroke=\"black\" points=\"2378.5,-3925.5 2130.5,-3925.5 2130.5,-3842.5 2378.5,-3842.5 2378.5,-3925.5\"/>\n<text text-anchor=\"middle\" x=\"2254.5\" y=\"-3910.3\" font-family=\"Helvetica,sans-Serif\" font-size=\"14.00\">Census_OSVersion_count &lt;= 11757.0</text>\n<text text-anchor=\"middle\" x=\"2254.5\" y=\"-3895.3\" font-family=\"Helvetica,sans-Serif\" font-size=\"14.00\">gini = 0.324</text>\n<text text-anchor=\"middle\" x=\"2254.5\" y=\"-3880.3\" font-family=\"Helvetica,sans-Serif\" font-size=\"14.00\">samples = 0.0%</text>\n<text text-anchor=\"middle\" x=\"2254.5\" y=\"-3865.3\" font-family=\"Helvetica,sans-Serif\" font-size=\"14.00\">value = [0.796, 0.204]</text>\n<text text-anchor=\"middle\" x=\"2254.5\" y=\"-3850.3\" font-family=\"Helvetica,sans-Serif\" font-size=\"14.00\">class = Not infected</text>\n</g>\n<!-- 132&#45;&gt;134 -->\n<g id=\"edge134\" class=\"edge\">\n<title>132&#45;&gt;134</title>\n<path fill=\"none\" stroke=\"black\" d=\"M1919.18,-3884C1978.08,-3884 2054.74,-3884 2119.79,-3884\"/>\n<polygon fill=\"black\" stroke=\"black\" points=\"2120.13,-3887.5 2130.13,-3884 2120.13,-3880.5 2120.13,-3887.5\"/>\n</g>\n<!-- 135 -->\n<g id=\"node136\" class=\"node\">\n<title>135</title>\n<polygon fill=\"#ea985d\" stroke=\"black\" points=\"2635,-3946 2488,-3946 2488,-3878 2635,-3878 2635,-3946\"/>\n<text text-anchor=\"middle\" x=\"2561.5\" y=\"-3930.8\" font-family=\"Helvetica,sans-Serif\" font-size=\"14.00\">gini = 0.258</text>\n<text text-anchor=\"middle\" x=\"2561.5\" y=\"-3915.8\" font-family=\"Helvetica,sans-Serif\" font-size=\"14.00\">samples = 0.0%</text>\n<text text-anchor=\"middle\" x=\"2561.5\" y=\"-3900.8\" font-family=\"Helvetica,sans-Serif\" font-size=\"14.00\">value = [0.848, 0.152]</text>\n<text text-anchor=\"middle\" x=\"2561.5\" y=\"-3885.8\" font-family=\"Helvetica,sans-Serif\" font-size=\"14.00\">class = Not infected</text>\n</g>\n<!-- 134&#45;&gt;135 -->\n<g id=\"edge135\" class=\"edge\">\n<title>134&#45;&gt;135</title>\n<path fill=\"none\" stroke=\"black\" d=\"M2378.68,-3895.31C2411.95,-3898.36 2447.16,-3901.59 2477.64,-3904.39\"/>\n<polygon fill=\"black\" stroke=\"black\" points=\"2477.51,-3907.9 2487.78,-3905.32 2478.15,-3900.92 2477.51,-3907.9\"/>\n</g>\n<!-- 136 -->\n<g id=\"node137\" class=\"node\">\n<title>136</title>\n<polygon fill=\"#f8e0ce\" stroke=\"black\" points=\"2635,-3860 2488,-3860 2488,-3792 2635,-3792 2635,-3860\"/>\n<text text-anchor=\"middle\" x=\"2561.5\" y=\"-3844.8\" font-family=\"Helvetica,sans-Serif\" font-size=\"14.00\">gini = 0.49</text>\n<text text-anchor=\"middle\" x=\"2561.5\" y=\"-3829.8\" font-family=\"Helvetica,sans-Serif\" font-size=\"14.00\">samples = 0.0%</text>\n<text text-anchor=\"middle\" x=\"2561.5\" y=\"-3814.8\" font-family=\"Helvetica,sans-Serif\" font-size=\"14.00\">value = [0.571, 0.429]</text>\n<text text-anchor=\"middle\" x=\"2561.5\" y=\"-3799.8\" font-family=\"Helvetica,sans-Serif\" font-size=\"14.00\">class = Not infected</text>\n</g>\n<!-- 134&#45;&gt;136 -->\n<g id=\"edge136\" class=\"edge\">\n<title>134&#45;&gt;136</title>\n<path fill=\"none\" stroke=\"black\" d=\"M2378.68,-3860.58C2411.95,-3854.25 2447.16,-3847.55 2477.64,-3841.76\"/>\n<polygon fill=\"black\" stroke=\"black\" points=\"2478.61,-3845.13 2487.78,-3839.83 2477.31,-3838.26 2478.61,-3845.13\"/>\n</g>\n<!-- 138 -->\n<g id=\"node139\" class=\"node\">\n<title>138</title>\n<polygon fill=\"#cee6f8\" stroke=\"black\" points=\"2328,-3824 2181,-3824 2181,-3756 2328,-3756 2328,-3824\"/>\n<text text-anchor=\"middle\" x=\"2254.5\" y=\"-3808.8\" font-family=\"Helvetica,sans-Serif\" font-size=\"14.00\">gini = 0.49</text>\n<text text-anchor=\"middle\" x=\"2254.5\" y=\"-3793.8\" font-family=\"Helvetica,sans-Serif\" font-size=\"14.00\">samples = 0.0%</text>\n<text text-anchor=\"middle\" x=\"2254.5\" y=\"-3778.8\" font-family=\"Helvetica,sans-Serif\" font-size=\"14.00\">value = [0.429, 0.571]</text>\n<text text-anchor=\"middle\" x=\"2254.5\" y=\"-3763.8\" font-family=\"Helvetica,sans-Serif\" font-size=\"14.00\">class = Infected</text>\n</g>\n<!-- 137&#45;&gt;138 -->\n<g id=\"edge138\" class=\"edge\">\n<title>137&#45;&gt;138</title>\n<path fill=\"none\" stroke=\"black\" d=\"M1929.17,-3755.22C2003.37,-3763.18 2101.58,-3773.71 2170.41,-3781.09\"/>\n<polygon fill=\"black\" stroke=\"black\" points=\"2170.46,-3784.62 2180.78,-3782.2 2171.21,-3777.66 2170.46,-3784.62\"/>\n</g>\n<!-- 139 -->\n<g id=\"node140\" class=\"node\">\n<title>139</title>\n<polygon fill=\"#f3c4a2\" stroke=\"black\" points=\"2328,-3738 2181,-3738 2181,-3670 2328,-3670 2328,-3738\"/>\n<text text-anchor=\"middle\" x=\"2254.5\" y=\"-3722.8\" font-family=\"Helvetica,sans-Serif\" font-size=\"14.00\">gini = 0.453</text>\n<text text-anchor=\"middle\" x=\"2254.5\" y=\"-3707.8\" font-family=\"Helvetica,sans-Serif\" font-size=\"14.00\">samples = 0.0%</text>\n<text text-anchor=\"middle\" x=\"2254.5\" y=\"-3692.8\" font-family=\"Helvetica,sans-Serif\" font-size=\"14.00\">value = [0.653, 0.347]</text>\n<text text-anchor=\"middle\" x=\"2254.5\" y=\"-3677.8\" font-family=\"Helvetica,sans-Serif\" font-size=\"14.00\">class = Not infected</text>\n</g>\n<!-- 137&#45;&gt;139 -->\n<g id=\"edge139\" class=\"edge\">\n<title>137&#45;&gt;139</title>\n<path fill=\"none\" stroke=\"black\" d=\"M1929.17,-3734.24C2003.37,-3727.32 2101.58,-3718.17 2170.41,-3711.75\"/>\n<polygon fill=\"black\" stroke=\"black\" points=\"2171.14,-3715.19 2180.78,-3710.78 2170.49,-3708.22 2171.14,-3715.19\"/>\n</g>\n<!-- 141 -->\n<g id=\"node142\" class=\"node\">\n<title>141</title>\n<polygon fill=\"#d0e8f9\" stroke=\"black\" points=\"1985,-3544.5 1662,-3544.5 1662,-3461.5 1985,-3461.5 1985,-3544.5\"/>\n<text text-anchor=\"middle\" x=\"1823.5\" y=\"-3529.3\" font-family=\"Helvetica,sans-Serif\" font-size=\"14.00\">Census_GenuineStateName_IS_GENUINE &lt;= 0.5</text>\n<text text-anchor=\"middle\" x=\"1823.5\" y=\"-3514.3\" font-family=\"Helvetica,sans-Serif\" font-size=\"14.00\">gini = 0.491</text>\n<text text-anchor=\"middle\" x=\"1823.5\" y=\"-3499.3\" font-family=\"Helvetica,sans-Serif\" font-size=\"14.00\">samples = 0.3%</text>\n<text text-anchor=\"middle\" x=\"1823.5\" y=\"-3484.3\" font-family=\"Helvetica,sans-Serif\" font-size=\"14.00\">value = [0.433, 0.567]</text>\n<text text-anchor=\"middle\" x=\"1823.5\" y=\"-3469.3\" font-family=\"Helvetica,sans-Serif\" font-size=\"14.00\">class = Infected</text>\n</g>\n<!-- 140&#45;&gt;141 -->\n<g id=\"edge141\" class=\"edge\">\n<title>140&#45;&gt;141</title>\n<path fill=\"none\" stroke=\"black\" d=\"M1515.04,-3461.76C1557.27,-3467.43 1605.8,-3473.94 1651.63,-3480.08\"/>\n<polygon fill=\"black\" stroke=\"black\" points=\"1651.3,-3483.57 1661.68,-3481.43 1652.23,-3476.63 1651.3,-3483.57\"/>\n</g>\n<!-- 148 -->\n<g id=\"node149\" class=\"node\">\n<title>148</title>\n<polygon fill=\"#f8decb\" stroke=\"black\" points=\"1936,-3437.5 1711,-3437.5 1711,-3354.5 1936,-3354.5 1936,-3437.5\"/>\n<text text-anchor=\"middle\" x=\"1823.5\" y=\"-3422.3\" font-family=\"Helvetica,sans-Serif\" font-size=\"14.00\">EngineVersion_1.1.15100.1 &lt;= 0.5</text>\n<text text-anchor=\"middle\" x=\"1823.5\" y=\"-3407.3\" font-family=\"Helvetica,sans-Serif\" font-size=\"14.00\">gini = 0.489</text>\n<text text-anchor=\"middle\" x=\"1823.5\" y=\"-3392.3\" font-family=\"Helvetica,sans-Serif\" font-size=\"14.00\">samples = 0.1%</text>\n<text text-anchor=\"middle\" x=\"1823.5\" y=\"-3377.3\" font-family=\"Helvetica,sans-Serif\" font-size=\"14.00\">value = [0.575, 0.425]</text>\n<text text-anchor=\"middle\" x=\"1823.5\" y=\"-3362.3\" font-family=\"Helvetica,sans-Serif\" font-size=\"14.00\">class = Not infected</text>\n</g>\n<!-- 140&#45;&gt;148 -->\n<g id=\"edge148\" class=\"edge\">\n<title>140&#45;&gt;148</title>\n<path fill=\"none\" stroke=\"black\" d=\"M1515.04,-3432.17C1572.87,-3425.37 1642.51,-3417.18 1700.88,-3410.31\"/>\n<polygon fill=\"black\" stroke=\"black\" points=\"1701.37,-3413.78 1710.89,-3409.13 1700.55,-3406.82 1701.37,-3413.78\"/>\n</g>\n<!-- 142 -->\n<g id=\"node143\" class=\"node\">\n<title>142</title>\n<polygon fill=\"#f8dbc6\" stroke=\"black\" points=\"2407,-3651.5 2102,-3651.5 2102,-3568.5 2407,-3568.5 2407,-3651.5\"/>\n<text text-anchor=\"middle\" x=\"2254.5\" y=\"-3636.3\" font-family=\"Helvetica,sans-Serif\" font-size=\"14.00\">Census_PrimaryDiskTotalCapacity &lt;= 476939.0</text>\n<text text-anchor=\"middle\" x=\"2254.5\" y=\"-3621.3\" font-family=\"Helvetica,sans-Serif\" font-size=\"14.00\">gini = 0.486</text>\n<text text-anchor=\"middle\" x=\"2254.5\" y=\"-3606.3\" font-family=\"Helvetica,sans-Serif\" font-size=\"14.00\">samples = 0.0%</text>\n<text text-anchor=\"middle\" x=\"2254.5\" y=\"-3591.3\" font-family=\"Helvetica,sans-Serif\" font-size=\"14.00\">value = [0.583, 0.417]</text>\n<text text-anchor=\"middle\" x=\"2254.5\" y=\"-3576.3\" font-family=\"Helvetica,sans-Serif\" font-size=\"14.00\">class = Not infected</text>\n</g>\n<!-- 141&#45;&gt;142 -->\n<g id=\"edge142\" class=\"edge\">\n<title>141&#45;&gt;142</title>\n<path fill=\"none\" stroke=\"black\" d=\"M1985.16,-3543.07C2020.06,-3551.78 2056.99,-3560.99 2091.92,-3569.7\"/>\n<polygon fill=\"black\" stroke=\"black\" points=\"2091.17,-3573.12 2101.72,-3572.14 2092.86,-3566.33 2091.17,-3573.12\"/>\n</g>\n<!-- 145 -->\n<g id=\"node146\" class=\"node\">\n<title>145</title>\n<polygon fill=\"#c5e2f7\" stroke=\"black\" points=\"2344.5,-3544.5 2164.5,-3544.5 2164.5,-3461.5 2344.5,-3461.5 2344.5,-3544.5\"/>\n<text text-anchor=\"middle\" x=\"2254.5\" y=\"-3529.3\" font-family=\"Helvetica,sans-Serif\" font-size=\"14.00\">AVProductsInstalled &lt;= 1.5</text>\n<text text-anchor=\"middle\" x=\"2254.5\" y=\"-3514.3\" font-family=\"Helvetica,sans-Serif\" font-size=\"14.00\">gini = 0.485</text>\n<text text-anchor=\"middle\" x=\"2254.5\" y=\"-3499.3\" font-family=\"Helvetica,sans-Serif\" font-size=\"14.00\">samples = 0.2%</text>\n<text text-anchor=\"middle\" x=\"2254.5\" y=\"-3484.3\" font-family=\"Helvetica,sans-Serif\" font-size=\"14.00\">value = [0.415, 0.585]</text>\n<text text-anchor=\"middle\" x=\"2254.5\" y=\"-3469.3\" font-family=\"Helvetica,sans-Serif\" font-size=\"14.00\">class = Infected</text>\n</g>\n<!-- 141&#45;&gt;145 -->\n<g id=\"edge145\" class=\"edge\">\n<title>141&#45;&gt;145</title>\n<path fill=\"none\" stroke=\"black\" d=\"M1985.16,-3503C2041.91,-3503 2104.03,-3503 2154.2,-3503\"/>\n<polygon fill=\"black\" stroke=\"black\" points=\"2154.39,-3506.5 2164.39,-3503 2154.39,-3499.5 2154.39,-3506.5\"/>\n</g>\n<!-- 143 -->\n<g id=\"node144\" class=\"node\">\n<title>143</title>\n<polygon fill=\"#eb9c64\" stroke=\"black\" points=\"2635,-3774 2488,-3774 2488,-3706 2635,-3706 2635,-3774\"/>\n<text text-anchor=\"middle\" x=\"2561.5\" y=\"-3758.8\" font-family=\"Helvetica,sans-Serif\" font-size=\"14.00\">gini = 0.293</text>\n<text text-anchor=\"middle\" x=\"2561.5\" y=\"-3743.8\" font-family=\"Helvetica,sans-Serif\" font-size=\"14.00\">samples = 0.0%</text>\n<text text-anchor=\"middle\" x=\"2561.5\" y=\"-3728.8\" font-family=\"Helvetica,sans-Serif\" font-size=\"14.00\">value = [0.821, 0.179]</text>\n<text text-anchor=\"middle\" x=\"2561.5\" y=\"-3713.8\" font-family=\"Helvetica,sans-Serif\" font-size=\"14.00\">class = Not infected</text>\n</g>\n<!-- 142&#45;&gt;143 -->\n<g id=\"edge143\" class=\"edge\">\n<title>142&#45;&gt;143</title>\n<path fill=\"none\" stroke=\"black\" d=\"M2407.09,-3640.49C2422.74,-3646.22 2438,-3652.99 2452,-3661 2471.64,-3672.24 2470.13,-3683.12 2488,-3697 2489.35,-3698.05 2490.73,-3699.09 2492.13,-3700.13\"/>\n<polygon fill=\"black\" stroke=\"black\" points=\"2490.18,-3703.03 2500.36,-3705.96 2494.23,-3697.32 2490.18,-3703.03\"/>\n</g>\n<!-- 144 -->\n<g id=\"node145\" class=\"node\">\n<title>144</title>\n<polygon fill=\"#ffffff\" stroke=\"black\" points=\"2629,-3688 2494,-3688 2494,-3620 2629,-3620 2629,-3688\"/>\n<text text-anchor=\"middle\" x=\"2561.5\" y=\"-3672.8\" font-family=\"Helvetica,sans-Serif\" font-size=\"14.00\">gini = 0.5</text>\n<text text-anchor=\"middle\" x=\"2561.5\" y=\"-3657.8\" font-family=\"Helvetica,sans-Serif\" font-size=\"14.00\">samples = 0.0%</text>\n<text text-anchor=\"middle\" x=\"2561.5\" y=\"-3642.8\" font-family=\"Helvetica,sans-Serif\" font-size=\"14.00\">value = [0.5, 0.5]</text>\n<text text-anchor=\"middle\" x=\"2561.5\" y=\"-3627.8\" font-family=\"Helvetica,sans-Serif\" font-size=\"14.00\">class = Not infected</text>\n</g>\n<!-- 142&#45;&gt;144 -->\n<g id=\"edge144\" class=\"edge\">\n<title>142&#45;&gt;144</title>\n<path fill=\"none\" stroke=\"black\" d=\"M2407.11,-3631.87C2433.67,-3635.7 2460.28,-3639.54 2483.69,-3642.92\"/>\n<polygon fill=\"black\" stroke=\"black\" points=\"2483.47,-3646.42 2493.87,-3644.39 2484.47,-3639.5 2483.47,-3646.42\"/>\n</g>\n<!-- 146 -->\n<g id=\"node147\" class=\"node\">\n<title>146</title>\n<polygon fill=\"#b0d8f5\" stroke=\"black\" points=\"2635,-3602 2488,-3602 2488,-3534 2635,-3534 2635,-3602\"/>\n<text text-anchor=\"middle\" x=\"2561.5\" y=\"-3586.8\" font-family=\"Helvetica,sans-Serif\" font-size=\"14.00\">gini = 0.469</text>\n<text text-anchor=\"middle\" x=\"2561.5\" y=\"-3571.8\" font-family=\"Helvetica,sans-Serif\" font-size=\"14.00\">samples = 0.2%</text>\n<text text-anchor=\"middle\" x=\"2561.5\" y=\"-3556.8\" font-family=\"Helvetica,sans-Serif\" font-size=\"14.00\">value = [0.376, 0.624]</text>\n<text text-anchor=\"middle\" x=\"2561.5\" y=\"-3541.8\" font-family=\"Helvetica,sans-Serif\" font-size=\"14.00\">class = Infected</text>\n</g>\n<!-- 145&#45;&gt;146 -->\n<g id=\"edge146\" class=\"edge\">\n<title>145&#45;&gt;146</title>\n<path fill=\"none\" stroke=\"black\" d=\"M2344.54,-3521.98C2386.61,-3530.94 2436.52,-3541.58 2477.76,-3550.37\"/>\n<polygon fill=\"black\" stroke=\"black\" points=\"2477.27,-3553.84 2487.78,-3552.5 2478.73,-3546.99 2477.27,-3553.84\"/>\n</g>\n<!-- 147 -->\n<g id=\"node148\" class=\"node\">\n<title>147</title>\n<polygon fill=\"#f8fcfe\" stroke=\"black\" points=\"2635,-3516 2488,-3516 2488,-3448 2635,-3448 2635,-3516\"/>\n<text text-anchor=\"middle\" x=\"2561.5\" y=\"-3500.8\" font-family=\"Helvetica,sans-Serif\" font-size=\"14.00\">gini = 0.5</text>\n<text text-anchor=\"middle\" x=\"2561.5\" y=\"-3485.8\" font-family=\"Helvetica,sans-Serif\" font-size=\"14.00\">samples = 0.1%</text>\n<text text-anchor=\"middle\" x=\"2561.5\" y=\"-3470.8\" font-family=\"Helvetica,sans-Serif\" font-size=\"14.00\">value = [0.492, 0.508]</text>\n<text text-anchor=\"middle\" x=\"2561.5\" y=\"-3455.8\" font-family=\"Helvetica,sans-Serif\" font-size=\"14.00\">class = Infected</text>\n</g>\n<!-- 145&#45;&gt;147 -->\n<g id=\"edge147\" class=\"edge\">\n<title>145&#45;&gt;147</title>\n<path fill=\"none\" stroke=\"black\" d=\"M2344.54,-3496.87C2386.61,-3493.97 2436.52,-3490.54 2477.76,-3487.7\"/>\n<polygon fill=\"black\" stroke=\"black\" points=\"2478.04,-3491.19 2487.78,-3487.01 2477.56,-3484.2 2478.04,-3491.19\"/>\n</g>\n<!-- 149 -->\n<g id=\"node150\" class=\"node\">\n<title>149</title>\n<polygon fill=\"#f7d9c3\" stroke=\"black\" points=\"2377,-3437.5 2132,-3437.5 2132,-3354.5 2377,-3354.5 2377,-3437.5\"/>\n<text text-anchor=\"middle\" x=\"2254.5\" y=\"-3422.3\" font-family=\"Helvetica,sans-Serif\" font-size=\"14.00\">Census_OSBuildRevision &lt;= 16466.0</text>\n<text text-anchor=\"middle\" x=\"2254.5\" y=\"-3407.3\" font-family=\"Helvetica,sans-Serif\" font-size=\"14.00\">gini = 0.484</text>\n<text text-anchor=\"middle\" x=\"2254.5\" y=\"-3392.3\" font-family=\"Helvetica,sans-Serif\" font-size=\"14.00\">samples = 0.1%</text>\n<text text-anchor=\"middle\" x=\"2254.5\" y=\"-3377.3\" font-family=\"Helvetica,sans-Serif\" font-size=\"14.00\">value = [0.59, 0.41]</text>\n<text text-anchor=\"middle\" x=\"2254.5\" y=\"-3362.3\" font-family=\"Helvetica,sans-Serif\" font-size=\"14.00\">class = Not infected</text>\n</g>\n<!-- 148&#45;&gt;149 -->\n<g id=\"edge149\" class=\"edge\">\n<title>148&#45;&gt;149</title>\n<path fill=\"none\" stroke=\"black\" d=\"M1936.09,-3396C1992.89,-3396 2062.3,-3396 2121.71,-3396\"/>\n<polygon fill=\"black\" stroke=\"black\" points=\"2121.91,-3399.5 2131.91,-3396 2121.91,-3392.5 2121.91,-3399.5\"/>\n</g>\n<!-- 152 -->\n<g id=\"node153\" class=\"node\">\n<title>152</title>\n<polygon fill=\"#399de5\" stroke=\"black\" points=\"2313,-3336 2196,-3336 2196,-3268 2313,-3268 2313,-3336\"/>\n<text text-anchor=\"middle\" x=\"2254.5\" y=\"-3320.8\" font-family=\"Helvetica,sans-Serif\" font-size=\"14.00\">gini = 0.0</text>\n<text text-anchor=\"middle\" x=\"2254.5\" y=\"-3305.8\" font-family=\"Helvetica,sans-Serif\" font-size=\"14.00\">samples = 0.0%</text>\n<text text-anchor=\"middle\" x=\"2254.5\" y=\"-3290.8\" font-family=\"Helvetica,sans-Serif\" font-size=\"14.00\">value = [0.0, 1.0]</text>\n<text text-anchor=\"middle\" x=\"2254.5\" y=\"-3275.8\" font-family=\"Helvetica,sans-Serif\" font-size=\"14.00\">class = Infected</text>\n</g>\n<!-- 148&#45;&gt;152 -->\n<g id=\"edge152\" class=\"edge\">\n<title>148&#45;&gt;152</title>\n<path fill=\"none\" stroke=\"black\" d=\"M1936.09,-3371.55C2015.2,-3354.21 2118.78,-3331.52 2185.73,-3316.85\"/>\n<polygon fill=\"black\" stroke=\"black\" points=\"2186.73,-3320.21 2195.75,-3314.65 2185.23,-3313.38 2186.73,-3320.21\"/>\n</g>\n<!-- 150 -->\n<g id=\"node151\" class=\"node\">\n<title>150</title>\n<polygon fill=\"#efb286\" stroke=\"black\" points=\"2635,-3430 2488,-3430 2488,-3362 2635,-3362 2635,-3430\"/>\n<text text-anchor=\"middle\" x=\"2561.5\" y=\"-3414.8\" font-family=\"Helvetica,sans-Serif\" font-size=\"14.00\">gini = 0.403</text>\n<text text-anchor=\"middle\" x=\"2561.5\" y=\"-3399.8\" font-family=\"Helvetica,sans-Serif\" font-size=\"14.00\">samples = 0.0%</text>\n<text text-anchor=\"middle\" x=\"2561.5\" y=\"-3384.8\" font-family=\"Helvetica,sans-Serif\" font-size=\"14.00\">value = [0.721, 0.279]</text>\n<text text-anchor=\"middle\" x=\"2561.5\" y=\"-3369.8\" font-family=\"Helvetica,sans-Serif\" font-size=\"14.00\">class = Not infected</text>\n</g>\n<!-- 149&#45;&gt;150 -->\n<g id=\"edge150\" class=\"edge\">\n<title>149&#45;&gt;150</title>\n<path fill=\"none\" stroke=\"black\" d=\"M2377.36,-3396C2410.9,-3396 2446.51,-3396 2477.32,-3396\"/>\n<polygon fill=\"black\" stroke=\"black\" points=\"2477.57,-3399.5 2487.57,-3396 2477.57,-3392.5 2477.57,-3399.5\"/>\n</g>\n<!-- 151 -->\n<g id=\"node152\" class=\"node\">\n<title>151</title>\n<polygon fill=\"#fdf5f0\" stroke=\"black\" points=\"2629,-3344 2494,-3344 2494,-3276 2629,-3276 2629,-3344\"/>\n<text text-anchor=\"middle\" x=\"2561.5\" y=\"-3328.8\" font-family=\"Helvetica,sans-Serif\" font-size=\"14.00\">gini = 0.499</text>\n<text text-anchor=\"middle\" x=\"2561.5\" y=\"-3313.8\" font-family=\"Helvetica,sans-Serif\" font-size=\"14.00\">samples = 0.0%</text>\n<text text-anchor=\"middle\" x=\"2561.5\" y=\"-3298.8\" font-family=\"Helvetica,sans-Serif\" font-size=\"14.00\">value = [0.52, 0.48]</text>\n<text text-anchor=\"middle\" x=\"2561.5\" y=\"-3283.8\" font-family=\"Helvetica,sans-Serif\" font-size=\"14.00\">class = Not infected</text>\n</g>\n<!-- 149&#45;&gt;151 -->\n<g id=\"edge151\" class=\"edge\">\n<title>149&#45;&gt;151</title>\n<path fill=\"none\" stroke=\"black\" d=\"M2377.13,-3365.61C2401.97,-3359.07 2427.89,-3352.01 2452,-3345 2462.4,-3341.97 2473.32,-3338.64 2484.05,-3335.27\"/>\n<polygon fill=\"black\" stroke=\"black\" points=\"2485.36,-3338.53 2493.84,-3332.18 2483.25,-3331.86 2485.36,-3338.53\"/>\n</g>\n<!-- 154 -->\n<g id=\"node155\" class=\"node\">\n<title>154</title>\n<polygon fill=\"#8dc6f0\" stroke=\"black\" points=\"1507,-2925.5 1286,-2925.5 1286,-2842.5 1507,-2842.5 1507,-2925.5\"/>\n<text text-anchor=\"middle\" x=\"1396.5\" y=\"-2910.3\" font-family=\"Helvetica,sans-Serif\" font-size=\"14.00\">CountryIdentifier_count &lt;= 3215.0</text>\n<text text-anchor=\"middle\" x=\"1396.5\" y=\"-2895.3\" font-family=\"Helvetica,sans-Serif\" font-size=\"14.00\">gini = 0.418</text>\n<text text-anchor=\"middle\" x=\"1396.5\" y=\"-2880.3\" font-family=\"Helvetica,sans-Serif\" font-size=\"14.00\">samples = 0.6%</text>\n<text text-anchor=\"middle\" x=\"1396.5\" y=\"-2865.3\" font-family=\"Helvetica,sans-Serif\" font-size=\"14.00\">value = [0.297, 0.703]</text>\n<text text-anchor=\"middle\" x=\"1396.5\" y=\"-2850.3\" font-family=\"Helvetica,sans-Serif\" font-size=\"14.00\">class = Infected</text>\n</g>\n<!-- 153&#45;&gt;154 -->\n<g id=\"edge154\" class=\"edge\">\n<title>153&#45;&gt;154</title>\n<path fill=\"none\" stroke=\"black\" d=\"M1059.59,-2884C1122.35,-2884 1207.08,-2884 1275.74,-2884\"/>\n<polygon fill=\"black\" stroke=\"black\" points=\"1275.75,-2887.5 1285.75,-2884 1275.75,-2880.5 1275.75,-2887.5\"/>\n</g>\n<!-- 169 -->\n<g id=\"node170\" class=\"node\">\n<title>169</title>\n<polygon fill=\"#cde6f8\" stroke=\"black\" points=\"1475,-2750.5 1318,-2750.5 1318,-2667.5 1475,-2667.5 1475,-2750.5\"/>\n<text text-anchor=\"middle\" x=\"1396.5\" y=\"-2735.3\" font-family=\"Helvetica,sans-Serif\" font-size=\"14.00\">RtpStateBitfield &lt;= &#45;0.5</text>\n<text text-anchor=\"middle\" x=\"1396.5\" y=\"-2720.3\" font-family=\"Helvetica,sans-Serif\" font-size=\"14.00\">gini = 0.49</text>\n<text text-anchor=\"middle\" x=\"1396.5\" y=\"-2705.3\" font-family=\"Helvetica,sans-Serif\" font-size=\"14.00\">samples = 0.4%</text>\n<text text-anchor=\"middle\" x=\"1396.5\" y=\"-2690.3\" font-family=\"Helvetica,sans-Serif\" font-size=\"14.00\">value = [0.428, 0.572]</text>\n<text text-anchor=\"middle\" x=\"1396.5\" y=\"-2675.3\" font-family=\"Helvetica,sans-Serif\" font-size=\"14.00\">class = Infected</text>\n</g>\n<!-- 153&#45;&gt;169 -->\n<g id=\"edge169\" class=\"edge\">\n<title>153&#45;&gt;169</title>\n<path fill=\"none\" stroke=\"black\" d=\"M1059.59,-2847.31C1132.74,-2817.2 1235.74,-2774.78 1308.35,-2744.89\"/>\n<polygon fill=\"black\" stroke=\"black\" points=\"1310.02,-2747.98 1317.94,-2740.94 1307.36,-2741.51 1310.02,-2747.98\"/>\n</g>\n<!-- 155 -->\n<g id=\"node156\" class=\"node\">\n<title>155</title>\n<polygon fill=\"#c5e2f7\" stroke=\"black\" points=\"1946,-3043.5 1701,-3043.5 1701,-2960.5 1946,-2960.5 1946,-3043.5\"/>\n<text text-anchor=\"middle\" x=\"1823.5\" y=\"-3028.3\" font-family=\"Helvetica,sans-Serif\" font-size=\"14.00\">Census_TotalPhysicalRAM &lt;= 2560.0</text>\n<text text-anchor=\"middle\" x=\"1823.5\" y=\"-3013.3\" font-family=\"Helvetica,sans-Serif\" font-size=\"14.00\">gini = 0.485</text>\n<text text-anchor=\"middle\" x=\"1823.5\" y=\"-2998.3\" font-family=\"Helvetica,sans-Serif\" font-size=\"14.00\">samples = 0.1%</text>\n<text text-anchor=\"middle\" x=\"1823.5\" y=\"-2983.3\" font-family=\"Helvetica,sans-Serif\" font-size=\"14.00\">value = [0.414, 0.586]</text>\n<text text-anchor=\"middle\" x=\"1823.5\" y=\"-2968.3\" font-family=\"Helvetica,sans-Serif\" font-size=\"14.00\">class = Infected</text>\n</g>\n<!-- 154&#45;&gt;155 -->\n<g id=\"edge155\" class=\"edge\">\n<title>154&#45;&gt;155</title>\n<path fill=\"none\" stroke=\"black\" d=\"M1507.22,-2914.46C1563.37,-2930.05 1632.13,-2949.14 1691.09,-2965.51\"/>\n<polygon fill=\"black\" stroke=\"black\" points=\"1690.27,-2968.92 1700.84,-2968.22 1692.14,-2962.17 1690.27,-2968.92\"/>\n</g>\n<!-- 162 -->\n<g id=\"node163\" class=\"node\">\n<title>162</title>\n<polygon fill=\"#7fc0ee\" stroke=\"black\" points=\"1945,-2885.5 1702,-2885.5 1702,-2802.5 1945,-2802.5 1945,-2885.5\"/>\n<text text-anchor=\"middle\" x=\"1823.5\" y=\"-2870.3\" font-family=\"Helvetica,sans-Serif\" font-size=\"14.00\">Census_IsSecureBootEnabled &lt;= 0.5</text>\n<text text-anchor=\"middle\" x=\"1823.5\" y=\"-2855.3\" font-family=\"Helvetica,sans-Serif\" font-size=\"14.00\">gini = 0.387</text>\n<text text-anchor=\"middle\" x=\"1823.5\" y=\"-2840.3\" font-family=\"Helvetica,sans-Serif\" font-size=\"14.00\">samples = 0.4%</text>\n<text text-anchor=\"middle\" x=\"1823.5\" y=\"-2825.3\" font-family=\"Helvetica,sans-Serif\" font-size=\"14.00\">value = [0.262, 0.738]</text>\n<text text-anchor=\"middle\" x=\"1823.5\" y=\"-2810.3\" font-family=\"Helvetica,sans-Serif\" font-size=\"14.00\">class = Infected</text>\n</g>\n<!-- 154&#45;&gt;162 -->\n<g id=\"edge162\" class=\"edge\">\n<title>154&#45;&gt;162</title>\n<path fill=\"none\" stroke=\"black\" d=\"M1507.22,-2873.67C1563.61,-2868.37 1632.7,-2861.86 1691.82,-2856.3\"/>\n<polygon fill=\"black\" stroke=\"black\" points=\"1692.35,-2859.76 1701.98,-2855.34 1691.69,-2852.8 1692.35,-2859.76\"/>\n</g>\n<!-- 156 -->\n<g id=\"node157\" class=\"node\">\n<title>156</title>\n<polygon fill=\"#f9e0ce\" stroke=\"black\" points=\"2344.5,-3179.5 2164.5,-3179.5 2164.5,-3096.5 2344.5,-3096.5 2344.5,-3179.5\"/>\n<text text-anchor=\"middle\" x=\"2254.5\" y=\"-3164.3\" font-family=\"Helvetica,sans-Serif\" font-size=\"14.00\">AvSigVersion_count &lt;= 3.5</text>\n<text text-anchor=\"middle\" x=\"2254.5\" y=\"-3149.3\" font-family=\"Helvetica,sans-Serif\" font-size=\"14.00\">gini = 0.49</text>\n<text text-anchor=\"middle\" x=\"2254.5\" y=\"-3134.3\" font-family=\"Helvetica,sans-Serif\" font-size=\"14.00\">samples = 0.0%</text>\n<text text-anchor=\"middle\" x=\"2254.5\" y=\"-3119.3\" font-family=\"Helvetica,sans-Serif\" font-size=\"14.00\">value = [0.57, 0.43]</text>\n<text text-anchor=\"middle\" x=\"2254.5\" y=\"-3104.3\" font-family=\"Helvetica,sans-Serif\" font-size=\"14.00\">class = Not infected</text>\n</g>\n<!-- 155&#45;&gt;156 -->\n<g id=\"edge156\" class=\"edge\">\n<title>155&#45;&gt;156</title>\n<path fill=\"none\" stroke=\"black\" d=\"M1946,-3040.52C2011.96,-3061.43 2092.48,-3086.95 2154.57,-3106.64\"/>\n<polygon fill=\"black\" stroke=\"black\" points=\"2153.78,-3110.06 2164.38,-3109.75 2155.9,-3103.39 2153.78,-3110.06\"/>\n</g>\n<!-- 159 -->\n<g id=\"node160\" class=\"node\">\n<title>159</title>\n<polygon fill=\"#acd6f4\" stroke=\"black\" points=\"2444.5,-3043.5 2064.5,-3043.5 2064.5,-2960.5 2444.5,-2960.5 2444.5,-3043.5\"/>\n<text text-anchor=\"middle\" x=\"2254.5\" y=\"-3028.3\" font-family=\"Helvetica,sans-Serif\" font-size=\"14.00\">Census_InternalPrimaryDisplayResolutionVertical &lt;= 1180.0</text>\n<text text-anchor=\"middle\" x=\"2254.5\" y=\"-3013.3\" font-family=\"Helvetica,sans-Serif\" font-size=\"14.00\">gini = 0.465</text>\n<text text-anchor=\"middle\" x=\"2254.5\" y=\"-2998.3\" font-family=\"Helvetica,sans-Serif\" font-size=\"14.00\">samples = 0.1%</text>\n<text text-anchor=\"middle\" x=\"2254.5\" y=\"-2983.3\" font-family=\"Helvetica,sans-Serif\" font-size=\"14.00\">value = [0.367, 0.633]</text>\n<text text-anchor=\"middle\" x=\"2254.5\" y=\"-2968.3\" font-family=\"Helvetica,sans-Serif\" font-size=\"14.00\">class = Infected</text>\n</g>\n<!-- 155&#45;&gt;159 -->\n<g id=\"edge159\" class=\"edge\">\n<title>155&#45;&gt;159</title>\n<path fill=\"none\" stroke=\"black\" d=\"M1946,-3002C1979.63,-3002 2017.04,-3002 2053.86,-3002\"/>\n<polygon fill=\"black\" stroke=\"black\" points=\"2054.23,-3005.5 2064.23,-3002 2054.23,-2998.5 2054.23,-3005.5\"/>\n</g>\n<!-- 157 -->\n<g id=\"node158\" class=\"node\">\n<title>157</title>\n<polygon fill=\"#399de5\" stroke=\"black\" points=\"2620,-3258 2503,-3258 2503,-3190 2620,-3190 2620,-3258\"/>\n<text text-anchor=\"middle\" x=\"2561.5\" y=\"-3242.8\" font-family=\"Helvetica,sans-Serif\" font-size=\"14.00\">gini = 0.0</text>\n<text text-anchor=\"middle\" x=\"2561.5\" y=\"-3227.8\" font-family=\"Helvetica,sans-Serif\" font-size=\"14.00\">samples = 0.0%</text>\n<text text-anchor=\"middle\" x=\"2561.5\" y=\"-3212.8\" font-family=\"Helvetica,sans-Serif\" font-size=\"14.00\">value = [0.0, 1.0]</text>\n<text text-anchor=\"middle\" x=\"2561.5\" y=\"-3197.8\" font-family=\"Helvetica,sans-Serif\" font-size=\"14.00\">class = Infected</text>\n</g>\n<!-- 156&#45;&gt;157 -->\n<g id=\"edge157\" class=\"edge\">\n<title>156&#45;&gt;157</title>\n<path fill=\"none\" stroke=\"black\" d=\"M2344.54,-3163.11C2391.94,-3176.47 2449.31,-3192.65 2493,-3204.97\"/>\n<polygon fill=\"black\" stroke=\"black\" points=\"2492.09,-3208.35 2502.66,-3207.69 2493.99,-3201.61 2492.09,-3208.35\"/>\n</g>\n<!-- 158 -->\n<g id=\"node159\" class=\"node\">\n<title>158</title>\n<polygon fill=\"#f5cfb3\" stroke=\"black\" points=\"2635,-3172 2488,-3172 2488,-3104 2635,-3104 2635,-3172\"/>\n<text text-anchor=\"middle\" x=\"2561.5\" y=\"-3156.8\" font-family=\"Helvetica,sans-Serif\" font-size=\"14.00\">gini = 0.472</text>\n<text text-anchor=\"middle\" x=\"2561.5\" y=\"-3141.8\" font-family=\"Helvetica,sans-Serif\" font-size=\"14.00\">samples = 0.0%</text>\n<text text-anchor=\"middle\" x=\"2561.5\" y=\"-3126.8\" font-family=\"Helvetica,sans-Serif\" font-size=\"14.00\">value = [0.619, 0.381]</text>\n<text text-anchor=\"middle\" x=\"2561.5\" y=\"-3111.8\" font-family=\"Helvetica,sans-Serif\" font-size=\"14.00\">class = Not infected</text>\n</g>\n<!-- 156&#45;&gt;158 -->\n<g id=\"edge158\" class=\"edge\">\n<title>156&#45;&gt;158</title>\n<path fill=\"none\" stroke=\"black\" d=\"M2344.54,-3138C2386.61,-3138 2436.52,-3138 2477.76,-3138\"/>\n<polygon fill=\"black\" stroke=\"black\" points=\"2477.78,-3141.5 2487.78,-3138 2477.78,-3134.5 2477.78,-3141.5\"/>\n</g>\n<!-- 160 -->\n<g id=\"node161\" class=\"node\">\n<title>160</title>\n<polygon fill=\"#a6d3f3\" stroke=\"black\" points=\"2635,-3086 2488,-3086 2488,-3018 2635,-3018 2635,-3086\"/>\n<text text-anchor=\"middle\" x=\"2561.5\" y=\"-3070.8\" font-family=\"Helvetica,sans-Serif\" font-size=\"14.00\">gini = 0.458</text>\n<text text-anchor=\"middle\" x=\"2561.5\" y=\"-3055.8\" font-family=\"Helvetica,sans-Serif\" font-size=\"14.00\">samples = 0.1%</text>\n<text text-anchor=\"middle\" x=\"2561.5\" y=\"-3040.8\" font-family=\"Helvetica,sans-Serif\" font-size=\"14.00\">value = [0.355, 0.645]</text>\n<text text-anchor=\"middle\" x=\"2561.5\" y=\"-3025.8\" font-family=\"Helvetica,sans-Serif\" font-size=\"14.00\">class = Infected</text>\n</g>\n<!-- 159&#45;&gt;160 -->\n<g id=\"edge160\" class=\"edge\">\n<title>159&#45;&gt;160</title>\n<path fill=\"none\" stroke=\"black\" d=\"M2444.76,-3033.03C2456.18,-3034.9 2467.3,-3036.72 2477.86,-3038.45\"/>\n<polygon fill=\"black\" stroke=\"black\" points=\"2477.36,-3041.92 2487.79,-3040.08 2478.49,-3035.01 2477.36,-3041.92\"/>\n</g>\n<!-- 161 -->\n<g id=\"node162\" class=\"node\">\n<title>161</title>\n<polygon fill=\"#e58139\" stroke=\"black\" points=\"2629,-3000 2494,-3000 2494,-2932 2629,-2932 2629,-3000\"/>\n<text text-anchor=\"middle\" x=\"2561.5\" y=\"-2984.8\" font-family=\"Helvetica,sans-Serif\" font-size=\"14.00\">gini = 0.0</text>\n<text text-anchor=\"middle\" x=\"2561.5\" y=\"-2969.8\" font-family=\"Helvetica,sans-Serif\" font-size=\"14.00\">samples = 0.0%</text>\n<text text-anchor=\"middle\" x=\"2561.5\" y=\"-2954.8\" font-family=\"Helvetica,sans-Serif\" font-size=\"14.00\">value = [1.0, 0.0]</text>\n<text text-anchor=\"middle\" x=\"2561.5\" y=\"-2939.8\" font-family=\"Helvetica,sans-Serif\" font-size=\"14.00\">class = Not infected</text>\n</g>\n<!-- 159&#45;&gt;161 -->\n<g id=\"edge161\" class=\"edge\">\n<title>159&#45;&gt;161</title>\n<path fill=\"none\" stroke=\"black\" d=\"M2444.76,-2979.66C2458.33,-2978.06 2471.49,-2976.51 2483.78,-2975.06\"/>\n<polygon fill=\"black\" stroke=\"black\" points=\"2484.35,-2978.51 2493.87,-2973.86 2483.53,-2971.56 2484.35,-2978.51\"/>\n</g>\n<!-- 163 -->\n<g id=\"node164\" class=\"node\">\n<title>163</title>\n<polygon fill=\"#93caf1\" stroke=\"black\" points=\"2354.5,-2885.5 2154.5,-2885.5 2154.5,-2802.5 2354.5,-2802.5 2354.5,-2885.5\"/>\n<text text-anchor=\"middle\" x=\"2254.5\" y=\"-2870.3\" font-family=\"Helvetica,sans-Serif\" font-size=\"14.00\">OsBuildLab_count &lt;= 27121.0</text>\n<text text-anchor=\"middle\" x=\"2254.5\" y=\"-2855.3\" font-family=\"Helvetica,sans-Serif\" font-size=\"14.00\">gini = 0.43</text>\n<text text-anchor=\"middle\" x=\"2254.5\" y=\"-2840.3\" font-family=\"Helvetica,sans-Serif\" font-size=\"14.00\">samples = 0.2%</text>\n<text text-anchor=\"middle\" x=\"2254.5\" y=\"-2825.3\" font-family=\"Helvetica,sans-Serif\" font-size=\"14.00\">value = [0.314, 0.686]</text>\n<text text-anchor=\"middle\" x=\"2254.5\" y=\"-2810.3\" font-family=\"Helvetica,sans-Serif\" font-size=\"14.00\">class = Infected</text>\n</g>\n<!-- 162&#45;&gt;163 -->\n<g id=\"edge163\" class=\"edge\">\n<title>162&#45;&gt;163</title>\n<path fill=\"none\" stroke=\"black\" d=\"M1945.14,-2844C2007.71,-2844 2083.54,-2844 2144.34,-2844\"/>\n<polygon fill=\"black\" stroke=\"black\" points=\"2144.36,-2847.5 2154.36,-2844 2144.36,-2840.5 2144.36,-2847.5\"/>\n</g>\n<!-- 166 -->\n<g id=\"node167\" class=\"node\">\n<title>166</title>\n<polygon fill=\"#6cb6ec\" stroke=\"black\" points=\"2399,-2749.5 2110,-2749.5 2110,-2666.5 2399,-2666.5 2399,-2749.5\"/>\n<text text-anchor=\"middle\" x=\"2254.5\" y=\"-2734.3\" font-family=\"Helvetica,sans-Serif\" font-size=\"14.00\">Census_OSInstallTypeName_Refresh &lt;= 0.5</text>\n<text text-anchor=\"middle\" x=\"2254.5\" y=\"-2719.3\" font-family=\"Helvetica,sans-Serif\" font-size=\"14.00\">gini = 0.326</text>\n<text text-anchor=\"middle\" x=\"2254.5\" y=\"-2704.3\" font-family=\"Helvetica,sans-Serif\" font-size=\"14.00\">samples = 0.2%</text>\n<text text-anchor=\"middle\" x=\"2254.5\" y=\"-2689.3\" font-family=\"Helvetica,sans-Serif\" font-size=\"14.00\">value = [0.205, 0.795]</text>\n<text text-anchor=\"middle\" x=\"2254.5\" y=\"-2674.3\" font-family=\"Helvetica,sans-Serif\" font-size=\"14.00\">class = Infected</text>\n</g>\n<!-- 162&#45;&gt;166 -->\n<g id=\"edge166\" class=\"edge\">\n<title>162&#45;&gt;166</title>\n<path fill=\"none\" stroke=\"black\" d=\"M1945.14,-2805.75C1997.28,-2789.23 2058.63,-2769.78 2112.82,-2752.6\"/>\n<polygon fill=\"black\" stroke=\"black\" points=\"2114.02,-2755.89 2122.5,-2749.53 2111.91,-2749.22 2114.02,-2755.89\"/>\n</g>\n<!-- 164 -->\n<g id=\"node165\" class=\"node\">\n<title>164</title>\n<polygon fill=\"#b6dbf5\" stroke=\"black\" points=\"2635,-2914 2488,-2914 2488,-2846 2635,-2846 2635,-2914\"/>\n<text text-anchor=\"middle\" x=\"2561.5\" y=\"-2898.8\" font-family=\"Helvetica,sans-Serif\" font-size=\"14.00\">gini = 0.474</text>\n<text text-anchor=\"middle\" x=\"2561.5\" y=\"-2883.8\" font-family=\"Helvetica,sans-Serif\" font-size=\"14.00\">samples = 0.1%</text>\n<text text-anchor=\"middle\" x=\"2561.5\" y=\"-2868.8\" font-family=\"Helvetica,sans-Serif\" font-size=\"14.00\">value = [0.387, 0.613]</text>\n<text text-anchor=\"middle\" x=\"2561.5\" y=\"-2853.8\" font-family=\"Helvetica,sans-Serif\" font-size=\"14.00\">class = Infected</text>\n</g>\n<!-- 163&#45;&gt;164 -->\n<g id=\"edge164\" class=\"edge\">\n<title>163&#45;&gt;164</title>\n<path fill=\"none\" stroke=\"black\" d=\"M2354.52,-2855.69C2394.28,-2860.38 2439.59,-2865.73 2477.58,-2870.21\"/>\n<polygon fill=\"black\" stroke=\"black\" points=\"2477.23,-2873.7 2487.57,-2871.39 2478.05,-2866.74 2477.23,-2873.7\"/>\n</g>\n<!-- 165 -->\n<g id=\"node166\" class=\"node\">\n<title>165</title>\n<polygon fill=\"#7dbfee\" stroke=\"black\" points=\"2635,-2828 2488,-2828 2488,-2760 2635,-2760 2635,-2828\"/>\n<text text-anchor=\"middle\" x=\"2561.5\" y=\"-2812.8\" font-family=\"Helvetica,sans-Serif\" font-size=\"14.00\">gini = 0.38</text>\n<text text-anchor=\"middle\" x=\"2561.5\" y=\"-2797.8\" font-family=\"Helvetica,sans-Serif\" font-size=\"14.00\">samples = 0.1%</text>\n<text text-anchor=\"middle\" x=\"2561.5\" y=\"-2782.8\" font-family=\"Helvetica,sans-Serif\" font-size=\"14.00\">value = [0.255, 0.745]</text>\n<text text-anchor=\"middle\" x=\"2561.5\" y=\"-2767.8\" font-family=\"Helvetica,sans-Serif\" font-size=\"14.00\">class = Infected</text>\n</g>\n<!-- 163&#45;&gt;165 -->\n<g id=\"edge165\" class=\"edge\">\n<title>163&#45;&gt;165</title>\n<path fill=\"none\" stroke=\"black\" d=\"M2354.52,-2827.77C2394.28,-2821.25 2439.59,-2813.82 2477.58,-2807.59\"/>\n<polygon fill=\"black\" stroke=\"black\" points=\"2478.27,-2811.03 2487.57,-2805.96 2477.14,-2804.12 2478.27,-2811.03\"/>\n</g>\n<!-- 167 -->\n<g id=\"node168\" class=\"node\">\n<title>167</title>\n<polygon fill=\"#6ab5eb\" stroke=\"black\" points=\"2635,-2742 2488,-2742 2488,-2674 2635,-2674 2635,-2742\"/>\n<text text-anchor=\"middle\" x=\"2561.5\" y=\"-2726.8\" font-family=\"Helvetica,sans-Serif\" font-size=\"14.00\">gini = 0.316</text>\n<text text-anchor=\"middle\" x=\"2561.5\" y=\"-2711.8\" font-family=\"Helvetica,sans-Serif\" font-size=\"14.00\">samples = 0.2%</text>\n<text text-anchor=\"middle\" x=\"2561.5\" y=\"-2696.8\" font-family=\"Helvetica,sans-Serif\" font-size=\"14.00\">value = [0.197, 0.803]</text>\n<text text-anchor=\"middle\" x=\"2561.5\" y=\"-2681.8\" font-family=\"Helvetica,sans-Serif\" font-size=\"14.00\">class = Infected</text>\n</g>\n<!-- 166&#45;&gt;167 -->\n<g id=\"edge167\" class=\"edge\">\n<title>166&#45;&gt;167</title>\n<path fill=\"none\" stroke=\"black\" d=\"M2399.07,-2708C2425.97,-2708 2453.25,-2708 2477.53,-2708\"/>\n<polygon fill=\"black\" stroke=\"black\" points=\"2477.74,-2711.5 2487.74,-2708 2477.74,-2704.5 2477.74,-2711.5\"/>\n</g>\n<!-- 168 -->\n<g id=\"node169\" class=\"node\">\n<title>168</title>\n<polygon fill=\"#f3c7a7\" stroke=\"black\" points=\"2635,-2656 2488,-2656 2488,-2588 2635,-2588 2635,-2656\"/>\n<text text-anchor=\"middle\" x=\"2561.5\" y=\"-2640.8\" font-family=\"Helvetica,sans-Serif\" font-size=\"14.00\">gini = 0.459</text>\n<text text-anchor=\"middle\" x=\"2561.5\" y=\"-2625.8\" font-family=\"Helvetica,sans-Serif\" font-size=\"14.00\">samples = 0.0%</text>\n<text text-anchor=\"middle\" x=\"2561.5\" y=\"-2610.8\" font-family=\"Helvetica,sans-Serif\" font-size=\"14.00\">value = [0.643, 0.357]</text>\n<text text-anchor=\"middle\" x=\"2561.5\" y=\"-2595.8\" font-family=\"Helvetica,sans-Serif\" font-size=\"14.00\">class = Not infected</text>\n</g>\n<!-- 166&#45;&gt;168 -->\n<g id=\"edge168\" class=\"edge\">\n<title>166&#45;&gt;168</title>\n<path fill=\"none\" stroke=\"black\" d=\"M2399.07,-2667.52C2426.09,-2659.9 2453.49,-2652.17 2477.86,-2645.3\"/>\n<polygon fill=\"black\" stroke=\"black\" points=\"2479.07,-2648.6 2487.74,-2642.51 2477.17,-2641.86 2479.07,-2648.6\"/>\n</g>\n<!-- 170 -->\n<g id=\"node171\" class=\"node\">\n<title>170</title>\n<polygon fill=\"#eca26d\" stroke=\"black\" points=\"1897,-2743 1750,-2743 1750,-2675 1897,-2675 1897,-2743\"/>\n<text text-anchor=\"middle\" x=\"1823.5\" y=\"-2727.8\" font-family=\"Helvetica,sans-Serif\" font-size=\"14.00\">gini = 0.328</text>\n<text text-anchor=\"middle\" x=\"1823.5\" y=\"-2712.8\" font-family=\"Helvetica,sans-Serif\" font-size=\"14.00\">samples = 0.0%</text>\n<text text-anchor=\"middle\" x=\"1823.5\" y=\"-2697.8\" font-family=\"Helvetica,sans-Serif\" font-size=\"14.00\">value = [0.793, 0.207]</text>\n<text text-anchor=\"middle\" x=\"1823.5\" y=\"-2682.8\" font-family=\"Helvetica,sans-Serif\" font-size=\"14.00\">class = Not infected</text>\n</g>\n<!-- 169&#45;&gt;170 -->\n<g id=\"edge170\" class=\"edge\">\n<title>169&#45;&gt;170</title>\n<path fill=\"none\" stroke=\"black\" d=\"M1475.45,-2709C1550.33,-2709 1663.07,-2709 1739.58,-2709\"/>\n<polygon fill=\"black\" stroke=\"black\" points=\"1739.66,-2712.5 1749.66,-2709 1739.66,-2705.5 1739.66,-2712.5\"/>\n</g>\n<!-- 171 -->\n<g id=\"node172\" class=\"node\">\n<title>171</title>\n<polygon fill=\"#c9e4f8\" stroke=\"black\" points=\"1946,-2541.5 1701,-2541.5 1701,-2458.5 1946,-2458.5 1946,-2541.5\"/>\n<text text-anchor=\"middle\" x=\"1823.5\" y=\"-2526.3\" font-family=\"Helvetica,sans-Serif\" font-size=\"14.00\">Census_TotalPhysicalRAM &lt;= 2816.0</text>\n<text text-anchor=\"middle\" x=\"1823.5\" y=\"-2511.3\" font-family=\"Helvetica,sans-Serif\" font-size=\"14.00\">gini = 0.488</text>\n<text text-anchor=\"middle\" x=\"1823.5\" y=\"-2496.3\" font-family=\"Helvetica,sans-Serif\" font-size=\"14.00\">samples = 0.4%</text>\n<text text-anchor=\"middle\" x=\"1823.5\" y=\"-2481.3\" font-family=\"Helvetica,sans-Serif\" font-size=\"14.00\">value = [0.421, 0.579]</text>\n<text text-anchor=\"middle\" x=\"1823.5\" y=\"-2466.3\" font-family=\"Helvetica,sans-Serif\" font-size=\"14.00\">class = Infected</text>\n</g>\n<!-- 169&#45;&gt;171 -->\n<g id=\"edge171\" class=\"edge\">\n<title>169&#45;&gt;171</title>\n<path fill=\"none\" stroke=\"black\" d=\"M1475.45,-2670.67C1546.84,-2635.56 1652.64,-2583.53 1728.64,-2546.16\"/>\n<polygon fill=\"black\" stroke=\"black\" points=\"1730.33,-2549.23 1737.76,-2541.67 1727.24,-2542.95 1730.33,-2549.23\"/>\n</g>\n<!-- 172 -->\n<g id=\"node173\" class=\"node\">\n<title>172</title>\n<polygon fill=\"#fcf1e9\" stroke=\"black\" points=\"2408,-2541.5 2101,-2541.5 2101,-2458.5 2408,-2458.5 2408,-2541.5\"/>\n<text text-anchor=\"middle\" x=\"2254.5\" y=\"-2526.3\" font-family=\"Helvetica,sans-Serif\" font-size=\"14.00\">Census_OSSkuName_PROFESSIONAL &lt;= 0.5</text>\n<text text-anchor=\"middle\" x=\"2254.5\" y=\"-2511.3\" font-family=\"Helvetica,sans-Serif\" font-size=\"14.00\">gini = 0.498</text>\n<text text-anchor=\"middle\" x=\"2254.5\" y=\"-2496.3\" font-family=\"Helvetica,sans-Serif\" font-size=\"14.00\">samples = 0.1%</text>\n<text text-anchor=\"middle\" x=\"2254.5\" y=\"-2481.3\" font-family=\"Helvetica,sans-Serif\" font-size=\"14.00\">value = [0.53, 0.47]</text>\n<text text-anchor=\"middle\" x=\"2254.5\" y=\"-2466.3\" font-family=\"Helvetica,sans-Serif\" font-size=\"14.00\">class = Not infected</text>\n</g>\n<!-- 171&#45;&gt;172 -->\n<g id=\"edge172\" class=\"edge\">\n<title>171&#45;&gt;172</title>\n<path fill=\"none\" stroke=\"black\" d=\"M1946,-2500C1990.87,-2500 2042.48,-2500 2090.43,-2500\"/>\n<polygon fill=\"black\" stroke=\"black\" points=\"2090.61,-2503.5 2100.61,-2500 2090.61,-2496.5 2090.61,-2503.5\"/>\n</g>\n<!-- 175 -->\n<g id=\"node176\" class=\"node\">\n<title>175</title>\n<polygon fill=\"#bddef6\" stroke=\"black\" points=\"2375.5,-2405.5 2133.5,-2405.5 2133.5,-2322.5 2375.5,-2322.5 2375.5,-2405.5\"/>\n<text text-anchor=\"middle\" x=\"2254.5\" y=\"-2390.3\" font-family=\"Helvetica,sans-Serif\" font-size=\"14.00\">Census_OSBuildNumber &lt;= 15681.0</text>\n<text text-anchor=\"middle\" x=\"2254.5\" y=\"-2375.3\" font-family=\"Helvetica,sans-Serif\" font-size=\"14.00\">gini = 0.48</text>\n<text text-anchor=\"middle\" x=\"2254.5\" y=\"-2360.3\" font-family=\"Helvetica,sans-Serif\" font-size=\"14.00\">samples = 0.3%</text>\n<text text-anchor=\"middle\" x=\"2254.5\" y=\"-2345.3\" font-family=\"Helvetica,sans-Serif\" font-size=\"14.00\">value = [0.4, 0.6]</text>\n<text text-anchor=\"middle\" x=\"2254.5\" y=\"-2330.3\" font-family=\"Helvetica,sans-Serif\" font-size=\"14.00\">class = Infected</text>\n</g>\n<!-- 171&#45;&gt;175 -->\n<g id=\"edge175\" class=\"edge\">\n<title>171&#45;&gt;175</title>\n<path fill=\"none\" stroke=\"black\" d=\"M1946,-2461.48C2001.5,-2443.89 2067.31,-2423.02 2123.78,-2405.12\"/>\n<polygon fill=\"black\" stroke=\"black\" points=\"2125.01,-2408.41 2133.48,-2402.05 2122.89,-2401.73 2125.01,-2408.41\"/>\n</g>\n<!-- 173 -->\n<g id=\"node174\" class=\"node\">\n<title>173</title>\n<polygon fill=\"#e7f3fc\" stroke=\"black\" points=\"2635,-2570 2488,-2570 2488,-2502 2635,-2502 2635,-2570\"/>\n<text text-anchor=\"middle\" x=\"2561.5\" y=\"-2554.8\" font-family=\"Helvetica,sans-Serif\" font-size=\"14.00\">gini = 0.498</text>\n<text text-anchor=\"middle\" x=\"2561.5\" y=\"-2539.8\" font-family=\"Helvetica,sans-Serif\" font-size=\"14.00\">samples = 0.0%</text>\n<text text-anchor=\"middle\" x=\"2561.5\" y=\"-2524.8\" font-family=\"Helvetica,sans-Serif\" font-size=\"14.00\">value = [0.467, 0.533]</text>\n<text text-anchor=\"middle\" x=\"2561.5\" y=\"-2509.8\" font-family=\"Helvetica,sans-Serif\" font-size=\"14.00\">class = Infected</text>\n</g>\n<!-- 172&#45;&gt;173 -->\n<g id=\"edge173\" class=\"edge\">\n<title>172&#45;&gt;173</title>\n<path fill=\"none\" stroke=\"black\" d=\"M2408,-2518C2432.04,-2520.84 2456.08,-2523.68 2477.73,-2526.23\"/>\n<polygon fill=\"black\" stroke=\"black\" points=\"2477.49,-2529.73 2487.83,-2527.42 2478.31,-2522.77 2477.49,-2529.73\"/>\n</g>\n<!-- 174 -->\n<g id=\"node175\" class=\"node\">\n<title>174</title>\n<polygon fill=\"#f3c3a1\" stroke=\"black\" points=\"2635,-2484 2488,-2484 2488,-2416 2635,-2416 2635,-2484\"/>\n<text text-anchor=\"middle\" x=\"2561.5\" y=\"-2468.8\" font-family=\"Helvetica,sans-Serif\" font-size=\"14.00\">gini = 0.452</text>\n<text text-anchor=\"middle\" x=\"2561.5\" y=\"-2453.8\" font-family=\"Helvetica,sans-Serif\" font-size=\"14.00\">samples = 0.0%</text>\n<text text-anchor=\"middle\" x=\"2561.5\" y=\"-2438.8\" font-family=\"Helvetica,sans-Serif\" font-size=\"14.00\">value = [0.655, 0.345]</text>\n<text text-anchor=\"middle\" x=\"2561.5\" y=\"-2423.8\" font-family=\"Helvetica,sans-Serif\" font-size=\"14.00\">class = Not infected</text>\n</g>\n<!-- 172&#45;&gt;174 -->\n<g id=\"edge174\" class=\"edge\">\n<title>172&#45;&gt;174</title>\n<path fill=\"none\" stroke=\"black\" d=\"M2408,-2475C2432.04,-2471.06 2456.08,-2467.12 2477.73,-2463.57\"/>\n<polygon fill=\"black\" stroke=\"black\" points=\"2478.53,-2466.98 2487.83,-2461.91 2477.4,-2460.08 2478.53,-2466.98\"/>\n</g>\n<!-- 176 -->\n<g id=\"node177\" class=\"node\">\n<title>176</title>\n<polygon fill=\"#a6d3f3\" stroke=\"black\" points=\"2635,-2398 2488,-2398 2488,-2330 2635,-2330 2635,-2398\"/>\n<text text-anchor=\"middle\" x=\"2561.5\" y=\"-2382.8\" font-family=\"Helvetica,sans-Serif\" font-size=\"14.00\">gini = 0.458</text>\n<text text-anchor=\"middle\" x=\"2561.5\" y=\"-2367.8\" font-family=\"Helvetica,sans-Serif\" font-size=\"14.00\">samples = 0.1%</text>\n<text text-anchor=\"middle\" x=\"2561.5\" y=\"-2352.8\" font-family=\"Helvetica,sans-Serif\" font-size=\"14.00\">value = [0.355, 0.645]</text>\n<text text-anchor=\"middle\" x=\"2561.5\" y=\"-2337.8\" font-family=\"Helvetica,sans-Serif\" font-size=\"14.00\">class = Infected</text>\n</g>\n<!-- 175&#45;&gt;176 -->\n<g id=\"edge176\" class=\"edge\">\n<title>175&#45;&gt;176</title>\n<path fill=\"none\" stroke=\"black\" d=\"M2375.61,-2364C2409.75,-2364 2446.17,-2364 2477.58,-2364\"/>\n<polygon fill=\"black\" stroke=\"black\" points=\"2477.59,-2367.5 2487.59,-2364 2477.59,-2360.5 2477.59,-2367.5\"/>\n</g>\n<!-- 177 -->\n<g id=\"node178\" class=\"node\">\n<title>177</title>\n<polygon fill=\"#cfe7f9\" stroke=\"black\" points=\"2635,-2312 2488,-2312 2488,-2244 2635,-2244 2635,-2312\"/>\n<text text-anchor=\"middle\" x=\"2561.5\" y=\"-2296.8\" font-family=\"Helvetica,sans-Serif\" font-size=\"14.00\">gini = 0.491</text>\n<text text-anchor=\"middle\" x=\"2561.5\" y=\"-2281.8\" font-family=\"Helvetica,sans-Serif\" font-size=\"14.00\">samples = 0.2%</text>\n<text text-anchor=\"middle\" x=\"2561.5\" y=\"-2266.8\" font-family=\"Helvetica,sans-Serif\" font-size=\"14.00\">value = [0.431, 0.569]</text>\n<text text-anchor=\"middle\" x=\"2561.5\" y=\"-2251.8\" font-family=\"Helvetica,sans-Serif\" font-size=\"14.00\">class = Infected</text>\n</g>\n<!-- 175&#45;&gt;177 -->\n<g id=\"edge177\" class=\"edge\">\n<title>175&#45;&gt;177</title>\n<path fill=\"none\" stroke=\"black\" d=\"M2375.61,-2330.13C2409.75,-2320.51 2446.17,-2310.24 2477.58,-2301.38\"/>\n<polygon fill=\"black\" stroke=\"black\" points=\"2478.91,-2304.64 2487.59,-2298.56 2477.01,-2297.9 2478.91,-2304.64\"/>\n</g>\n<!-- 179 -->\n<g id=\"node180\" class=\"node\">\n<title>179</title>\n<polygon fill=\"#59ade9\" stroke=\"black\" points=\"1064.5,-1671.5 874.5,-1671.5 874.5,-1588.5 1064.5,-1588.5 1064.5,-1671.5\"/>\n<text text-anchor=\"middle\" x=\"969.5\" y=\"-1656.3\" font-family=\"Helvetica,sans-Serif\" font-size=\"14.00\">Processor_x64_False &lt;= 0.5</text>\n<text text-anchor=\"middle\" x=\"969.5\" y=\"-1641.3\" font-family=\"Helvetica,sans-Serif\" font-size=\"14.00\">gini = 0.239</text>\n<text text-anchor=\"middle\" x=\"969.5\" y=\"-1626.3\" font-family=\"Helvetica,sans-Serif\" font-size=\"14.00\">samples = 7.7%</text>\n<text text-anchor=\"middle\" x=\"969.5\" y=\"-1611.3\" font-family=\"Helvetica,sans-Serif\" font-size=\"14.00\">value = [0.139, 0.861]</text>\n<text text-anchor=\"middle\" x=\"969.5\" y=\"-1596.3\" font-family=\"Helvetica,sans-Serif\" font-size=\"14.00\">class = Infected</text>\n</g>\n<!-- 178&#45;&gt;179 -->\n<g id=\"edge179\" class=\"edge\">\n<title>178&#45;&gt;179</title>\n<path fill=\"none\" stroke=\"black\" d=\"M703.83,-1630C752.6,-1630 813.26,-1630 864.19,-1630\"/>\n<polygon fill=\"black\" stroke=\"black\" points=\"864.24,-1633.5 874.24,-1630 864.24,-1626.5 864.24,-1633.5\"/>\n</g>\n<!-- 206 -->\n<g id=\"node207\" class=\"node\">\n<title>206</title>\n<polygon fill=\"#7cbeee\" stroke=\"black\" points=\"1059.5,-901.5 879.5,-901.5 879.5,-818.5 1059.5,-818.5 1059.5,-901.5\"/>\n<text text-anchor=\"middle\" x=\"969.5\" y=\"-886.3\" font-family=\"Helvetica,sans-Serif\" font-size=\"14.00\">AVProductsInstalled &lt;= 2.5</text>\n<text text-anchor=\"middle\" x=\"969.5\" y=\"-871.3\" font-family=\"Helvetica,sans-Serif\" font-size=\"14.00\">gini = 0.379</text>\n<text text-anchor=\"middle\" x=\"969.5\" y=\"-856.3\" font-family=\"Helvetica,sans-Serif\" font-size=\"14.00\">samples = 2.7%</text>\n<text text-anchor=\"middle\" x=\"969.5\" y=\"-841.3\" font-family=\"Helvetica,sans-Serif\" font-size=\"14.00\">value = [0.254, 0.746]</text>\n<text text-anchor=\"middle\" x=\"969.5\" y=\"-826.3\" font-family=\"Helvetica,sans-Serif\" font-size=\"14.00\">class = Infected</text>\n</g>\n<!-- 178&#45;&gt;206 -->\n<g id=\"edge206\" class=\"edge\">\n<title>178&#45;&gt;206</title>\n<path fill=\"none\" stroke=\"black\" d=\"M633.66,-1588.33C693.88,-1457.33 879.27,-1054.08 945.05,-911\"/>\n<polygon fill=\"black\" stroke=\"black\" points=\"948.4,-912.11 949.39,-901.56 942.04,-909.18 948.4,-912.11\"/>\n</g>\n<!-- 180 -->\n<g id=\"node181\" class=\"node\">\n<title>180</title>\n<polygon fill=\"#56abe9\" stroke=\"black\" points=\"1499.5,-1768.5 1293.5,-1768.5 1293.5,-1685.5 1499.5,-1685.5 1499.5,-1768.5\"/>\n<text text-anchor=\"middle\" x=\"1396.5\" y=\"-1753.3\" font-family=\"Helvetica,sans-Serif\" font-size=\"14.00\">AppVersion_count &lt;= 168224.0</text>\n<text text-anchor=\"middle\" x=\"1396.5\" y=\"-1738.3\" font-family=\"Helvetica,sans-Serif\" font-size=\"14.00\">gini = 0.224</text>\n<text text-anchor=\"middle\" x=\"1396.5\" y=\"-1723.3\" font-family=\"Helvetica,sans-Serif\" font-size=\"14.00\">samples = 7.3%</text>\n<text text-anchor=\"middle\" x=\"1396.5\" y=\"-1708.3\" font-family=\"Helvetica,sans-Serif\" font-size=\"14.00\">value = [0.128, 0.872]</text>\n<text text-anchor=\"middle\" x=\"1396.5\" y=\"-1693.3\" font-family=\"Helvetica,sans-Serif\" font-size=\"14.00\">class = Infected</text>\n</g>\n<!-- 179&#45;&gt;180 -->\n<g id=\"edge180\" class=\"edge\">\n<title>179&#45;&gt;180</title>\n<path fill=\"none\" stroke=\"black\" d=\"M1064.56,-1651.47C1129.11,-1666.2 1215.09,-1685.82 1283.23,-1701.38\"/>\n<polygon fill=\"black\" stroke=\"black\" points=\"1282.62,-1704.83 1293.15,-1703.64 1284.18,-1698 1282.62,-1704.83\"/>\n</g>\n<!-- 195 -->\n<g id=\"node196\" class=\"node\">\n<title>195</title>\n<polygon fill=\"#a5d2f3\" stroke=\"black\" points=\"1492,-1580.5 1301,-1580.5 1301,-1497.5 1492,-1497.5 1492,-1580.5\"/>\n<text text-anchor=\"middle\" x=\"1396.5\" y=\"-1565.3\" font-family=\"Helvetica,sans-Serif\" font-size=\"14.00\">AppVersion_count &lt;= 8570.0</text>\n<text text-anchor=\"middle\" x=\"1396.5\" y=\"-1550.3\" font-family=\"Helvetica,sans-Serif\" font-size=\"14.00\">gini = 0.456</text>\n<text text-anchor=\"middle\" x=\"1396.5\" y=\"-1535.3\" font-family=\"Helvetica,sans-Serif\" font-size=\"14.00\">samples = 0.4%</text>\n<text text-anchor=\"middle\" x=\"1396.5\" y=\"-1520.3\" font-family=\"Helvetica,sans-Serif\" font-size=\"14.00\">value = [0.352, 0.648]</text>\n<text text-anchor=\"middle\" x=\"1396.5\" y=\"-1505.3\" font-family=\"Helvetica,sans-Serif\" font-size=\"14.00\">class = Infected</text>\n</g>\n<!-- 179&#45;&gt;195 -->\n<g id=\"edge195\" class=\"edge\">\n<title>179&#45;&gt;195</title>\n<path fill=\"none\" stroke=\"black\" d=\"M1064.56,-1609.86C1131.56,-1595.52 1221.63,-1576.23 1290.9,-1561.4\"/>\n<polygon fill=\"black\" stroke=\"black\" points=\"1291.91,-1564.76 1300.96,-1559.24 1290.45,-1557.91 1291.91,-1564.76\"/>\n</g>\n<!-- 181 -->\n<g id=\"node182\" class=\"node\">\n<title>181</title>\n<polygon fill=\"#67b4eb\" stroke=\"black\" points=\"1936,-2010.5 1711,-2010.5 1711,-1927.5 1936,-1927.5 1936,-2010.5\"/>\n<text text-anchor=\"middle\" x=\"1823.5\" y=\"-1995.3\" font-family=\"Helvetica,sans-Serif\" font-size=\"14.00\">EngineVersion_1.1.14901.4 &lt;= 0.5</text>\n<text text-anchor=\"middle\" x=\"1823.5\" y=\"-1980.3\" font-family=\"Helvetica,sans-Serif\" font-size=\"14.00\">gini = 0.305</text>\n<text text-anchor=\"middle\" x=\"1823.5\" y=\"-1965.3\" font-family=\"Helvetica,sans-Serif\" font-size=\"14.00\">samples = 2.3%</text>\n<text text-anchor=\"middle\" x=\"1823.5\" y=\"-1950.3\" font-family=\"Helvetica,sans-Serif\" font-size=\"14.00\">value = [0.188, 0.812]</text>\n<text text-anchor=\"middle\" x=\"1823.5\" y=\"-1935.3\" font-family=\"Helvetica,sans-Serif\" font-size=\"14.00\">class = Infected</text>\n</g>\n<!-- 180&#45;&gt;181 -->\n<g id=\"edge181\" class=\"edge\">\n<title>180&#45;&gt;181</title>\n<path fill=\"none\" stroke=\"black\" d=\"M1470.56,-1768.6C1545.63,-1811.35 1662.27,-1877.76 1740.46,-1922.29\"/>\n<polygon fill=\"black\" stroke=\"black\" points=\"1738.91,-1925.43 1749.33,-1927.33 1742.37,-1919.34 1738.91,-1925.43\"/>\n</g>\n<!-- 188 -->\n<g id=\"node189\" class=\"node\">\n<title>188</title>\n<polygon fill=\"#4fa8e8\" stroke=\"black\" points=\"1968,-1768.5 1679,-1768.5 1679,-1685.5 1968,-1685.5 1968,-1768.5\"/>\n<text text-anchor=\"middle\" x=\"1823.5\" y=\"-1753.3\" font-family=\"Helvetica,sans-Serif\" font-size=\"14.00\">Census_OSInstallTypeName_Refresh &lt;= 0.5</text>\n<text text-anchor=\"middle\" x=\"1823.5\" y=\"-1738.3\" font-family=\"Helvetica,sans-Serif\" font-size=\"14.00\">gini = 0.182</text>\n<text text-anchor=\"middle\" x=\"1823.5\" y=\"-1723.3\" font-family=\"Helvetica,sans-Serif\" font-size=\"14.00\">samples = 5.0%</text>\n<text text-anchor=\"middle\" x=\"1823.5\" y=\"-1708.3\" font-family=\"Helvetica,sans-Serif\" font-size=\"14.00\">value = [0.101, 0.899]</text>\n<text text-anchor=\"middle\" x=\"1823.5\" y=\"-1693.3\" font-family=\"Helvetica,sans-Serif\" font-size=\"14.00\">class = Infected</text>\n</g>\n<!-- 180&#45;&gt;188 -->\n<g id=\"edge188\" class=\"edge\">\n<title>180&#45;&gt;188</title>\n<path fill=\"none\" stroke=\"black\" d=\"M1499.57,-1727C1550.19,-1727 1612.39,-1727 1668.65,-1727\"/>\n<polygon fill=\"black\" stroke=\"black\" points=\"1668.71,-1730.5 1678.71,-1727 1668.71,-1723.5 1668.71,-1730.5\"/>\n</g>\n<!-- 182 -->\n<g id=\"node183\" class=\"node\">\n<title>182</title>\n<polygon fill=\"#66b3eb\" stroke=\"black\" points=\"2373,-2147.5 2136,-2147.5 2136,-2064.5 2373,-2064.5 2373,-2147.5\"/>\n<text text-anchor=\"middle\" x=\"2254.5\" y=\"-2132.3\" font-family=\"Helvetica,sans-Serif\" font-size=\"14.00\">Census_OSBuildRevision &lt;= 2288.5</text>\n<text text-anchor=\"middle\" x=\"2254.5\" y=\"-2117.3\" font-family=\"Helvetica,sans-Serif\" font-size=\"14.00\">gini = 0.301</text>\n<text text-anchor=\"middle\" x=\"2254.5\" y=\"-2102.3\" font-family=\"Helvetica,sans-Serif\" font-size=\"14.00\">samples = 2.3%</text>\n<text text-anchor=\"middle\" x=\"2254.5\" y=\"-2087.3\" font-family=\"Helvetica,sans-Serif\" font-size=\"14.00\">value = [0.184, 0.816]</text>\n<text text-anchor=\"middle\" x=\"2254.5\" y=\"-2072.3\" font-family=\"Helvetica,sans-Serif\" font-size=\"14.00\">class = Infected</text>\n</g>\n<!-- 181&#45;&gt;182 -->\n<g id=\"edge182\" class=\"edge\">\n<title>181&#45;&gt;182</title>\n<path fill=\"none\" stroke=\"black\" d=\"M1936.09,-2004.64C1994.3,-2023.23 2065.76,-2046.05 2126.12,-2065.32\"/>\n<polygon fill=\"black\" stroke=\"black\" points=\"2125.12,-2068.68 2135.71,-2068.39 2127.25,-2062.01 2125.12,-2068.68\"/>\n</g>\n<!-- 185 -->\n<g id=\"node186\" class=\"node\">\n<title>185</title>\n<polygon fill=\"#d8ecfa\" stroke=\"black\" points=\"2407,-2010.5 2102,-2010.5 2102,-1927.5 2407,-1927.5 2407,-2010.5\"/>\n<text text-anchor=\"middle\" x=\"2254.5\" y=\"-1995.3\" font-family=\"Helvetica,sans-Serif\" font-size=\"14.00\">Census_PrimaryDiskTotalCapacity &lt;= 476938.5</text>\n<text text-anchor=\"middle\" x=\"2254.5\" y=\"-1980.3\" font-family=\"Helvetica,sans-Serif\" font-size=\"14.00\">gini = 0.494</text>\n<text text-anchor=\"middle\" x=\"2254.5\" y=\"-1965.3\" font-family=\"Helvetica,sans-Serif\" font-size=\"14.00\">samples = 0.0%</text>\n<text text-anchor=\"middle\" x=\"2254.5\" y=\"-1950.3\" font-family=\"Helvetica,sans-Serif\" font-size=\"14.00\">value = [0.445, 0.555]</text>\n<text text-anchor=\"middle\" x=\"2254.5\" y=\"-1935.3\" font-family=\"Helvetica,sans-Serif\" font-size=\"14.00\">class = Infected</text>\n</g>\n<!-- 181&#45;&gt;185 -->\n<g id=\"edge185\" class=\"edge\">\n<title>181&#45;&gt;185</title>\n<path fill=\"none\" stroke=\"black\" d=\"M1936.09,-1969C1983.46,-1969 2039.6,-1969 2091.39,-1969\"/>\n<polygon fill=\"black\" stroke=\"black\" points=\"2091.69,-1972.5 2101.69,-1969 2091.69,-1965.5 2091.69,-1972.5\"/>\n</g>\n<!-- 183 -->\n<g id=\"node184\" class=\"node\">\n<title>183</title>\n<polygon fill=\"#62b1ea\" stroke=\"black\" points=\"2635,-2226 2488,-2226 2488,-2158 2635,-2158 2635,-2226\"/>\n<text text-anchor=\"middle\" x=\"2561.5\" y=\"-2210.8\" font-family=\"Helvetica,sans-Serif\" font-size=\"14.00\">gini = 0.285</text>\n<text text-anchor=\"middle\" x=\"2561.5\" y=\"-2195.8\" font-family=\"Helvetica,sans-Serif\" font-size=\"14.00\">samples = 1.9%</text>\n<text text-anchor=\"middle\" x=\"2561.5\" y=\"-2180.8\" font-family=\"Helvetica,sans-Serif\" font-size=\"14.00\">value = [0.172, 0.828]</text>\n<text text-anchor=\"middle\" x=\"2561.5\" y=\"-2165.8\" font-family=\"Helvetica,sans-Serif\" font-size=\"14.00\">class = Infected</text>\n</g>\n<!-- 182&#45;&gt;183 -->\n<g id=\"edge183\" class=\"edge\">\n<title>182&#45;&gt;183</title>\n<path fill=\"none\" stroke=\"black\" d=\"M2373.42,-2139.25C2408.36,-2149.1 2445.86,-2159.67 2478.04,-2168.75\"/>\n<polygon fill=\"black\" stroke=\"black\" points=\"2477.27,-2172.17 2487.85,-2171.51 2479.17,-2165.43 2477.27,-2172.17\"/>\n</g>\n<!-- 184 -->\n<g id=\"node185\" class=\"node\">\n<title>184</title>\n<polygon fill=\"#7bbdee\" stroke=\"black\" points=\"2635,-2140 2488,-2140 2488,-2072 2635,-2072 2635,-2140\"/>\n<text text-anchor=\"middle\" x=\"2561.5\" y=\"-2124.8\" font-family=\"Helvetica,sans-Serif\" font-size=\"14.00\">gini = 0.374</text>\n<text text-anchor=\"middle\" x=\"2561.5\" y=\"-2109.8\" font-family=\"Helvetica,sans-Serif\" font-size=\"14.00\">samples = 0.4%</text>\n<text text-anchor=\"middle\" x=\"2561.5\" y=\"-2094.8\" font-family=\"Helvetica,sans-Serif\" font-size=\"14.00\">value = [0.249, 0.751]</text>\n<text text-anchor=\"middle\" x=\"2561.5\" y=\"-2079.8\" font-family=\"Helvetica,sans-Serif\" font-size=\"14.00\">class = Infected</text>\n</g>\n<!-- 182&#45;&gt;184 -->\n<g id=\"edge184\" class=\"edge\">\n<title>182&#45;&gt;184</title>\n<path fill=\"none\" stroke=\"black\" d=\"M2373.42,-2106C2408.21,-2106 2445.54,-2106 2477.62,-2106\"/>\n<polygon fill=\"black\" stroke=\"black\" points=\"2477.85,-2109.5 2487.85,-2106 2477.85,-2102.5 2477.85,-2109.5\"/>\n</g>\n<!-- 186 -->\n<g id=\"node187\" class=\"node\">\n<title>186</title>\n<polygon fill=\"#f2c09c\" stroke=\"black\" points=\"2635,-2054 2488,-2054 2488,-1986 2635,-1986 2635,-2054\"/>\n<text text-anchor=\"middle\" x=\"2561.5\" y=\"-2038.8\" font-family=\"Helvetica,sans-Serif\" font-size=\"14.00\">gini = 0.444</text>\n<text text-anchor=\"middle\" x=\"2561.5\" y=\"-2023.8\" font-family=\"Helvetica,sans-Serif\" font-size=\"14.00\">samples = 0.0%</text>\n<text text-anchor=\"middle\" x=\"2561.5\" y=\"-2008.8\" font-family=\"Helvetica,sans-Serif\" font-size=\"14.00\">value = [0.667, 0.333]</text>\n<text text-anchor=\"middle\" x=\"2561.5\" y=\"-1993.8\" font-family=\"Helvetica,sans-Serif\" font-size=\"14.00\">class = Not infected</text>\n</g>\n<!-- 185&#45;&gt;186 -->\n<g id=\"edge186\" class=\"edge\">\n<title>185&#45;&gt;186</title>\n<path fill=\"none\" stroke=\"black\" d=\"M2407.11,-1994.35C2431.48,-1998.43 2455.88,-2002.51 2477.83,-2006.18\"/>\n<polygon fill=\"black\" stroke=\"black\" points=\"2477.29,-2009.63 2487.73,-2007.83 2478.44,-2002.73 2477.29,-2009.63\"/>\n</g>\n<!-- 187 -->\n<g id=\"node188\" class=\"node\">\n<title>187</title>\n<polygon fill=\"#aed7f4\" stroke=\"black\" points=\"2635,-1968 2488,-1968 2488,-1900 2635,-1900 2635,-1968\"/>\n<text text-anchor=\"middle\" x=\"2561.5\" y=\"-1952.8\" font-family=\"Helvetica,sans-Serif\" font-size=\"14.00\">gini = 0.467</text>\n<text text-anchor=\"middle\" x=\"2561.5\" y=\"-1937.8\" font-family=\"Helvetica,sans-Serif\" font-size=\"14.00\">samples = 0.0%</text>\n<text text-anchor=\"middle\" x=\"2561.5\" y=\"-1922.8\" font-family=\"Helvetica,sans-Serif\" font-size=\"14.00\">value = [0.371, 0.629]</text>\n<text text-anchor=\"middle\" x=\"2561.5\" y=\"-1907.8\" font-family=\"Helvetica,sans-Serif\" font-size=\"14.00\">class = Infected</text>\n</g>\n<!-- 185&#45;&gt;187 -->\n<g id=\"edge187\" class=\"edge\">\n<title>185&#45;&gt;187</title>\n<path fill=\"none\" stroke=\"black\" d=\"M2407.11,-1951.6C2431.37,-1948.82 2455.67,-1946.03 2477.53,-1943.52\"/>\n<polygon fill=\"black\" stroke=\"black\" points=\"2478.19,-1946.97 2487.73,-1942.35 2477.4,-1940.01 2478.19,-1946.97\"/>\n</g>\n<!-- 189 -->\n<g id=\"node190\" class=\"node\">\n<title>189</title>\n<polygon fill=\"#4ea8e8\" stroke=\"black\" points=\"2415.5,-1818.5 2093.5,-1818.5 2093.5,-1735.5 2415.5,-1735.5 2415.5,-1818.5\"/>\n<text text-anchor=\"middle\" x=\"2254.5\" y=\"-1803.3\" font-family=\"Helvetica,sans-Serif\" font-size=\"14.00\">Census_OSInstallTypeName_UUPUpgrade &lt;= 0.5</text>\n<text text-anchor=\"middle\" x=\"2254.5\" y=\"-1788.3\" font-family=\"Helvetica,sans-Serif\" font-size=\"14.00\">gini = 0.175</text>\n<text text-anchor=\"middle\" x=\"2254.5\" y=\"-1773.3\" font-family=\"Helvetica,sans-Serif\" font-size=\"14.00\">samples = 5.0%</text>\n<text text-anchor=\"middle\" x=\"2254.5\" y=\"-1758.3\" font-family=\"Helvetica,sans-Serif\" font-size=\"14.00\">value = [0.097, 0.903]</text>\n<text text-anchor=\"middle\" x=\"2254.5\" y=\"-1743.3\" font-family=\"Helvetica,sans-Serif\" font-size=\"14.00\">class = Infected</text>\n</g>\n<!-- 188&#45;&gt;189 -->\n<g id=\"edge189\" class=\"edge\">\n<title>188&#45;&gt;189</title>\n<path fill=\"none\" stroke=\"black\" d=\"M1968.25,-1743.75C2005.13,-1748.05 2045.15,-1752.72 2083.23,-1757.16\"/>\n<polygon fill=\"black\" stroke=\"black\" points=\"2083.05,-1760.66 2093.39,-1758.34 2083.86,-1753.7 2083.05,-1760.66\"/>\n</g>\n<!-- 192 -->\n<g id=\"node193\" class=\"node\">\n<title>192</title>\n<polygon fill=\"#91c8f1\" stroke=\"black\" points=\"2452,-1717.5 2057,-1717.5 2057,-1634.5 2452,-1634.5 2452,-1717.5\"/>\n<text text-anchor=\"middle\" x=\"2254.5\" y=\"-1702.3\" font-family=\"Helvetica,sans-Serif\" font-size=\"14.00\">Census_InternalPrimaryDiagonalDisplaySizeInInches &lt;= 11.95</text>\n<text text-anchor=\"middle\" x=\"2254.5\" y=\"-1687.3\" font-family=\"Helvetica,sans-Serif\" font-size=\"14.00\">gini = 0.426</text>\n<text text-anchor=\"middle\" x=\"2254.5\" y=\"-1672.3\" font-family=\"Helvetica,sans-Serif\" font-size=\"14.00\">samples = 0.1%</text>\n<text text-anchor=\"middle\" x=\"2254.5\" y=\"-1657.3\" font-family=\"Helvetica,sans-Serif\" font-size=\"14.00\">value = [0.307, 0.693]</text>\n<text text-anchor=\"middle\" x=\"2254.5\" y=\"-1642.3\" font-family=\"Helvetica,sans-Serif\" font-size=\"14.00\">class = Infected</text>\n</g>\n<!-- 188&#45;&gt;192 -->\n<g id=\"edge192\" class=\"edge\">\n<title>188&#45;&gt;192</title>\n<path fill=\"none\" stroke=\"black\" d=\"M1968.25,-1709.91C1993.51,-1706.91 2020.24,-1703.73 2046.82,-1700.57\"/>\n<polygon fill=\"black\" stroke=\"black\" points=\"2047.48,-1704.02 2056.99,-1699.36 2046.65,-1697.07 2047.48,-1704.02\"/>\n</g>\n<!-- 190 -->\n<g id=\"node191\" class=\"node\">\n<title>190</title>\n<polygon fill=\"#54aae9\" stroke=\"black\" points=\"2635,-1882 2488,-1882 2488,-1814 2635,-1814 2635,-1882\"/>\n<text text-anchor=\"middle\" x=\"2561.5\" y=\"-1866.8\" font-family=\"Helvetica,sans-Serif\" font-size=\"14.00\">gini = 0.213</text>\n<text text-anchor=\"middle\" x=\"2561.5\" y=\"-1851.8\" font-family=\"Helvetica,sans-Serif\" font-size=\"14.00\">samples = 2.3%</text>\n<text text-anchor=\"middle\" x=\"2561.5\" y=\"-1836.8\" font-family=\"Helvetica,sans-Serif\" font-size=\"14.00\">value = [0.121, 0.879]</text>\n<text text-anchor=\"middle\" x=\"2561.5\" y=\"-1821.8\" font-family=\"Helvetica,sans-Serif\" font-size=\"14.00\">class = Infected</text>\n</g>\n<!-- 189&#45;&gt;190 -->\n<g id=\"edge190\" class=\"edge\">\n<title>189&#45;&gt;190</title>\n<path fill=\"none\" stroke=\"black\" d=\"M2415.59,-1814.27C2437.15,-1819.29 2458.5,-1824.26 2477.92,-1828.78\"/>\n<polygon fill=\"black\" stroke=\"black\" points=\"2477.36,-1832.24 2487.89,-1831.1 2478.95,-1825.42 2477.36,-1832.24\"/>\n</g>\n<!-- 191 -->\n<g id=\"node192\" class=\"node\">\n<title>191</title>\n<polygon fill=\"#49a5e7\" stroke=\"black\" points=\"2635,-1796 2488,-1796 2488,-1728 2635,-1728 2635,-1796\"/>\n<text text-anchor=\"middle\" x=\"2561.5\" y=\"-1780.8\" font-family=\"Helvetica,sans-Serif\" font-size=\"14.00\">gini = 0.141</text>\n<text text-anchor=\"middle\" x=\"2561.5\" y=\"-1765.8\" font-family=\"Helvetica,sans-Serif\" font-size=\"14.00\">samples = 2.6%</text>\n<text text-anchor=\"middle\" x=\"2561.5\" y=\"-1750.8\" font-family=\"Helvetica,sans-Serif\" font-size=\"14.00\">value = [0.076, 0.924]</text>\n<text text-anchor=\"middle\" x=\"2561.5\" y=\"-1735.8\" font-family=\"Helvetica,sans-Serif\" font-size=\"14.00\">class = Infected</text>\n</g>\n<!-- 189&#45;&gt;191 -->\n<g id=\"edge191\" class=\"edge\">\n<title>189&#45;&gt;191</title>\n<path fill=\"none\" stroke=\"black\" d=\"M2415.59,-1769.13C2437.05,-1768.07 2458.3,-1767.03 2477.65,-1766.07\"/>\n<polygon fill=\"black\" stroke=\"black\" points=\"2478.08,-1769.56 2487.89,-1765.57 2477.73,-1762.57 2478.08,-1769.56\"/>\n</g>\n<!-- 193 -->\n<g id=\"node194\" class=\"node\">\n<title>193</title>\n<polygon fill=\"#f6d2b8\" stroke=\"black\" points=\"2635,-1710 2488,-1710 2488,-1642 2635,-1642 2635,-1710\"/>\n<text text-anchor=\"middle\" x=\"2561.5\" y=\"-1694.8\" font-family=\"Helvetica,sans-Serif\" font-size=\"14.00\">gini = 0.476</text>\n<text text-anchor=\"middle\" x=\"2561.5\" y=\"-1679.8\" font-family=\"Helvetica,sans-Serif\" font-size=\"14.00\">samples = 0.0%</text>\n<text text-anchor=\"middle\" x=\"2561.5\" y=\"-1664.8\" font-family=\"Helvetica,sans-Serif\" font-size=\"14.00\">value = [0.609, 0.391]</text>\n<text text-anchor=\"middle\" x=\"2561.5\" y=\"-1649.8\" font-family=\"Helvetica,sans-Serif\" font-size=\"14.00\">class = Not infected</text>\n</g>\n<!-- 192&#45;&gt;193 -->\n<g id=\"edge193\" class=\"edge\">\n<title>192&#45;&gt;193</title>\n<path fill=\"none\" stroke=\"black\" d=\"M2452.11,-1676C2460.86,-1676 2469.4,-1676 2477.6,-1676\"/>\n<polygon fill=\"black\" stroke=\"black\" points=\"2477.8,-1679.5 2487.8,-1676 2477.8,-1672.5 2477.8,-1679.5\"/>\n</g>\n<!-- 194 -->\n<g id=\"node195\" class=\"node\">\n<title>194</title>\n<polygon fill=\"#88c4ef\" stroke=\"black\" points=\"2635,-1624 2488,-1624 2488,-1556 2635,-1556 2635,-1624\"/>\n<text text-anchor=\"middle\" x=\"2561.5\" y=\"-1608.8\" font-family=\"Helvetica,sans-Serif\" font-size=\"14.00\">gini = 0.409</text>\n<text text-anchor=\"middle\" x=\"2561.5\" y=\"-1593.8\" font-family=\"Helvetica,sans-Serif\" font-size=\"14.00\">samples = 0.1%</text>\n<text text-anchor=\"middle\" x=\"2561.5\" y=\"-1578.8\" font-family=\"Helvetica,sans-Serif\" font-size=\"14.00\">value = [0.286, 0.714]</text>\n<text text-anchor=\"middle\" x=\"2561.5\" y=\"-1563.8\" font-family=\"Helvetica,sans-Serif\" font-size=\"14.00\">class = Infected</text>\n</g>\n<!-- 192&#45;&gt;194 -->\n<g id=\"edge194\" class=\"edge\">\n<title>192&#45;&gt;194</title>\n<path fill=\"none\" stroke=\"black\" d=\"M2418.42,-1634.5C2429.8,-1631.36 2441.09,-1628.17 2452,-1625 2460.42,-1622.55 2469.18,-1619.9 2477.91,-1617.19\"/>\n<polygon fill=\"black\" stroke=\"black\" points=\"2479.23,-1620.45 2487.73,-1614.12 2477.14,-1613.77 2479.23,-1620.45\"/>\n</g>\n<!-- 196 -->\n<g id=\"node197\" class=\"node\">\n<title>196</title>\n<polygon fill=\"#6cb6ec\" stroke=\"black\" points=\"1897,-1580.5 1750,-1580.5 1750,-1497.5 1897,-1497.5 1897,-1580.5\"/>\n<text text-anchor=\"middle\" x=\"1823.5\" y=\"-1565.3\" font-family=\"Helvetica,sans-Serif\" font-size=\"14.00\">OsBuild &lt;= 10413.0</text>\n<text text-anchor=\"middle\" x=\"1823.5\" y=\"-1550.3\" font-family=\"Helvetica,sans-Serif\" font-size=\"14.00\">gini = 0.326</text>\n<text text-anchor=\"middle\" x=\"1823.5\" y=\"-1535.3\" font-family=\"Helvetica,sans-Serif\" font-size=\"14.00\">samples = 0.1%</text>\n<text text-anchor=\"middle\" x=\"1823.5\" y=\"-1520.3\" font-family=\"Helvetica,sans-Serif\" font-size=\"14.00\">value = [0.205, 0.795]</text>\n<text text-anchor=\"middle\" x=\"1823.5\" y=\"-1505.3\" font-family=\"Helvetica,sans-Serif\" font-size=\"14.00\">class = Infected</text>\n</g>\n<!-- 195&#45;&gt;196 -->\n<g id=\"edge196\" class=\"edge\">\n<title>195&#45;&gt;196</title>\n<path fill=\"none\" stroke=\"black\" d=\"M1492.09,-1539C1566.34,-1539 1668.69,-1539 1739.73,-1539\"/>\n<polygon fill=\"black\" stroke=\"black\" points=\"1739.97,-1542.5 1749.97,-1539 1739.97,-1535.5 1739.97,-1542.5\"/>\n</g>\n<!-- 201 -->\n<g id=\"node202\" class=\"node\">\n<title>201</title>\n<polygon fill=\"#b2d9f5\" stroke=\"black\" points=\"1981,-1435.5 1666,-1435.5 1666,-1352.5 1981,-1352.5 1981,-1435.5\"/>\n<text text-anchor=\"middle\" x=\"1823.5\" y=\"-1420.3\" font-family=\"Helvetica,sans-Serif\" font-size=\"14.00\">Census_SystemVolumeTotalCapacity &lt;= 24949.0</text>\n<text text-anchor=\"middle\" x=\"1823.5\" y=\"-1405.3\" font-family=\"Helvetica,sans-Serif\" font-size=\"14.00\">gini = 0.471</text>\n<text text-anchor=\"middle\" x=\"1823.5\" y=\"-1390.3\" font-family=\"Helvetica,sans-Serif\" font-size=\"14.00\">samples = 0.3%</text>\n<text text-anchor=\"middle\" x=\"1823.5\" y=\"-1375.3\" font-family=\"Helvetica,sans-Serif\" font-size=\"14.00\">value = [0.379, 0.621]</text>\n<text text-anchor=\"middle\" x=\"1823.5\" y=\"-1360.3\" font-family=\"Helvetica,sans-Serif\" font-size=\"14.00\">class = Infected</text>\n</g>\n<!-- 195&#45;&gt;201 -->\n<g id=\"edge201\" class=\"edge\">\n<title>195&#45;&gt;201</title>\n<path fill=\"none\" stroke=\"black\" d=\"M1492.09,-1506.73C1550.6,-1486.77 1626.56,-1460.85 1690.9,-1438.9\"/>\n<polygon fill=\"black\" stroke=\"black\" points=\"1692.38,-1442.09 1700.71,-1435.55 1690.12,-1435.47 1692.38,-1442.09\"/>\n</g>\n<!-- 197 -->\n<g id=\"node198\" class=\"node\">\n<title>197</title>\n<polygon fill=\"#bddef6\" stroke=\"black\" points=\"2313,-1616 2196,-1616 2196,-1548 2313,-1548 2313,-1616\"/>\n<text text-anchor=\"middle\" x=\"2254.5\" y=\"-1600.8\" font-family=\"Helvetica,sans-Serif\" font-size=\"14.00\">gini = 0.48</text>\n<text text-anchor=\"middle\" x=\"2254.5\" y=\"-1585.8\" font-family=\"Helvetica,sans-Serif\" font-size=\"14.00\">samples = 0.0%</text>\n<text text-anchor=\"middle\" x=\"2254.5\" y=\"-1570.8\" font-family=\"Helvetica,sans-Serif\" font-size=\"14.00\">value = [0.4, 0.6]</text>\n<text text-anchor=\"middle\" x=\"2254.5\" y=\"-1555.8\" font-family=\"Helvetica,sans-Serif\" font-size=\"14.00\">class = Infected</text>\n</g>\n<!-- 196&#45;&gt;197 -->\n<g id=\"edge197\" class=\"edge\">\n<title>196&#45;&gt;197</title>\n<path fill=\"none\" stroke=\"black\" d=\"M1897.27,-1546.29C1977.92,-1554.38 2106.94,-1567.31 2185.58,-1575.19\"/>\n<polygon fill=\"black\" stroke=\"black\" points=\"2185.56,-1578.71 2195.86,-1576.22 2186.26,-1571.74 2185.56,-1578.71\"/>\n</g>\n<!-- 198 -->\n<g id=\"node199\" class=\"node\">\n<title>198</title>\n<polygon fill=\"#62b1ea\" stroke=\"black\" points=\"2365,-1529.5 2144,-1529.5 2144,-1446.5 2365,-1446.5 2365,-1529.5\"/>\n<text text-anchor=\"middle\" x=\"2254.5\" y=\"-1514.3\" font-family=\"Helvetica,sans-Serif\" font-size=\"14.00\">CountryIdentifier_count &lt;= 2252.0</text>\n<text text-anchor=\"middle\" x=\"2254.5\" y=\"-1499.3\" font-family=\"Helvetica,sans-Serif\" font-size=\"14.00\">gini = 0.284</text>\n<text text-anchor=\"middle\" x=\"2254.5\" y=\"-1484.3\" font-family=\"Helvetica,sans-Serif\" font-size=\"14.00\">samples = 0.0%</text>\n<text text-anchor=\"middle\" x=\"2254.5\" y=\"-1469.3\" font-family=\"Helvetica,sans-Serif\" font-size=\"14.00\">value = [0.171, 0.829]</text>\n<text text-anchor=\"middle\" x=\"2254.5\" y=\"-1454.3\" font-family=\"Helvetica,sans-Serif\" font-size=\"14.00\">class = Infected</text>\n</g>\n<!-- 196&#45;&gt;198 -->\n<g id=\"edge198\" class=\"edge\">\n<title>196&#45;&gt;198</title>\n<path fill=\"none\" stroke=\"black\" d=\"M1897.27,-1530.35C1961.9,-1522.67 2057.61,-1511.29 2133.55,-1502.26\"/>\n<polygon fill=\"black\" stroke=\"black\" points=\"2134.13,-1505.72 2143.65,-1501.06 2133.31,-1498.76 2134.13,-1505.72\"/>\n</g>\n<!-- 199 -->\n<g id=\"node200\" class=\"node\">\n<title>199</title>\n<polygon fill=\"#b2d9f5\" stroke=\"black\" points=\"2635,-1538 2488,-1538 2488,-1470 2635,-1470 2635,-1538\"/>\n<text text-anchor=\"middle\" x=\"2561.5\" y=\"-1522.8\" font-family=\"Helvetica,sans-Serif\" font-size=\"14.00\">gini = 0.471</text>\n<text text-anchor=\"middle\" x=\"2561.5\" y=\"-1507.8\" font-family=\"Helvetica,sans-Serif\" font-size=\"14.00\">samples = 0.0%</text>\n<text text-anchor=\"middle\" x=\"2561.5\" y=\"-1492.8\" font-family=\"Helvetica,sans-Serif\" font-size=\"14.00\">value = [0.379, 0.621]</text>\n<text text-anchor=\"middle\" x=\"2561.5\" y=\"-1477.8\" font-family=\"Helvetica,sans-Serif\" font-size=\"14.00\">class = Infected</text>\n</g>\n<!-- 198&#45;&gt;199 -->\n<g id=\"edge199\" class=\"edge\">\n<title>198&#45;&gt;199</title>\n<path fill=\"none\" stroke=\"black\" d=\"M2365.18,-1493.75C2402.33,-1495.7 2443.17,-1497.84 2477.86,-1499.66\"/>\n<polygon fill=\"black\" stroke=\"black\" points=\"2477.77,-1503.16 2487.94,-1500.19 2478.14,-1496.17 2477.77,-1503.16\"/>\n</g>\n<!-- 200 -->\n<g id=\"node201\" class=\"node\">\n<title>200</title>\n<polygon fill=\"#57ace9\" stroke=\"black\" points=\"2627.5,-1452 2495.5,-1452 2495.5,-1384 2627.5,-1384 2627.5,-1452\"/>\n<text text-anchor=\"middle\" x=\"2561.5\" y=\"-1436.8\" font-family=\"Helvetica,sans-Serif\" font-size=\"14.00\">gini = 0.226</text>\n<text text-anchor=\"middle\" x=\"2561.5\" y=\"-1421.8\" font-family=\"Helvetica,sans-Serif\" font-size=\"14.00\">samples = 0.0%</text>\n<text text-anchor=\"middle\" x=\"2561.5\" y=\"-1406.8\" font-family=\"Helvetica,sans-Serif\" font-size=\"14.00\">value = [0.13, 0.87]</text>\n<text text-anchor=\"middle\" x=\"2561.5\" y=\"-1391.8\" font-family=\"Helvetica,sans-Serif\" font-size=\"14.00\">class = Infected</text>\n</g>\n<!-- 198&#45;&gt;200 -->\n<g id=\"edge200\" class=\"edge\">\n<title>198&#45;&gt;200</title>\n<path fill=\"none\" stroke=\"black\" d=\"M2365.18,-1462.83C2404.99,-1453.69 2449.03,-1443.58 2485.2,-1435.28\"/>\n<polygon fill=\"black\" stroke=\"black\" points=\"2486.22,-1438.64 2495.19,-1432.99 2484.66,-1431.82 2486.22,-1438.64\"/>\n</g>\n<!-- 202 -->\n<g id=\"node203\" class=\"node\">\n<title>202</title>\n<polygon fill=\"#ea985d\" stroke=\"black\" points=\"2328,-1428 2181,-1428 2181,-1360 2328,-1360 2328,-1428\"/>\n<text text-anchor=\"middle\" x=\"2254.5\" y=\"-1412.8\" font-family=\"Helvetica,sans-Serif\" font-size=\"14.00\">gini = 0.26</text>\n<text text-anchor=\"middle\" x=\"2254.5\" y=\"-1397.8\" font-family=\"Helvetica,sans-Serif\" font-size=\"14.00\">samples = 0.0%</text>\n<text text-anchor=\"middle\" x=\"2254.5\" y=\"-1382.8\" font-family=\"Helvetica,sans-Serif\" font-size=\"14.00\">value = [0.846, 0.154]</text>\n<text text-anchor=\"middle\" x=\"2254.5\" y=\"-1367.8\" font-family=\"Helvetica,sans-Serif\" font-size=\"14.00\">class = Not infected</text>\n</g>\n<!-- 201&#45;&gt;202 -->\n<g id=\"edge202\" class=\"edge\">\n<title>201&#45;&gt;202</title>\n<path fill=\"none\" stroke=\"black\" d=\"M1981.2,-1394C2045.4,-1394 2117.06,-1394 2170.75,-1394\"/>\n<polygon fill=\"black\" stroke=\"black\" points=\"2170.9,-1397.5 2180.9,-1394 2170.9,-1390.5 2170.9,-1397.5\"/>\n</g>\n<!-- 203 -->\n<g id=\"node204\" class=\"node\">\n<title>203</title>\n<polygon fill=\"#afd7f5\" stroke=\"black\" points=\"2396,-1341.5 2113,-1341.5 2113,-1258.5 2396,-1258.5 2396,-1341.5\"/>\n<text text-anchor=\"middle\" x=\"2254.5\" y=\"-1326.3\" font-family=\"Helvetica,sans-Serif\" font-size=\"14.00\">Census_MDC2FormFactor_PCOther &lt;= 0.5</text>\n<text text-anchor=\"middle\" x=\"2254.5\" y=\"-1311.3\" font-family=\"Helvetica,sans-Serif\" font-size=\"14.00\">gini = 0.468</text>\n<text text-anchor=\"middle\" x=\"2254.5\" y=\"-1296.3\" font-family=\"Helvetica,sans-Serif\" font-size=\"14.00\">samples = 0.3%</text>\n<text text-anchor=\"middle\" x=\"2254.5\" y=\"-1281.3\" font-family=\"Helvetica,sans-Serif\" font-size=\"14.00\">value = [0.374, 0.626]</text>\n<text text-anchor=\"middle\" x=\"2254.5\" y=\"-1266.3\" font-family=\"Helvetica,sans-Serif\" font-size=\"14.00\">class = Infected</text>\n</g>\n<!-- 201&#45;&gt;203 -->\n<g id=\"edge203\" class=\"edge\">\n<title>201&#45;&gt;203</title>\n<path fill=\"none\" stroke=\"black\" d=\"M1981.2,-1359.66C2020.92,-1350.96 2063.49,-1341.63 2102.9,-1333\"/>\n<polygon fill=\"black\" stroke=\"black\" points=\"2103.83,-1336.38 2112.85,-1330.82 2102.33,-1329.54 2103.83,-1336.38\"/>\n</g>\n<!-- 204 -->\n<g id=\"node205\" class=\"node\">\n<title>204</title>\n<polygon fill=\"#b5daf5\" stroke=\"black\" points=\"2635,-1366 2488,-1366 2488,-1298 2635,-1298 2635,-1366\"/>\n<text text-anchor=\"middle\" x=\"2561.5\" y=\"-1350.8\" font-family=\"Helvetica,sans-Serif\" font-size=\"14.00\">gini = 0.474</text>\n<text text-anchor=\"middle\" x=\"2561.5\" y=\"-1335.8\" font-family=\"Helvetica,sans-Serif\" font-size=\"14.00\">samples = 0.3%</text>\n<text text-anchor=\"middle\" x=\"2561.5\" y=\"-1320.8\" font-family=\"Helvetica,sans-Serif\" font-size=\"14.00\">value = [0.385, 0.615]</text>\n<text text-anchor=\"middle\" x=\"2561.5\" y=\"-1305.8\" font-family=\"Helvetica,sans-Serif\" font-size=\"14.00\">class = Infected</text>\n</g>\n<!-- 203&#45;&gt;204 -->\n<g id=\"edge204\" class=\"edge\">\n<title>203&#45;&gt;204</title>\n<path fill=\"none\" stroke=\"black\" d=\"M2396.39,-1314.78C2424.24,-1317.7 2452.61,-1320.68 2477.75,-1323.32\"/>\n<polygon fill=\"black\" stroke=\"black\" points=\"2477.64,-1326.83 2487.95,-1324.39 2478.37,-1319.86 2477.64,-1326.83\"/>\n</g>\n<!-- 205 -->\n<g id=\"node206\" class=\"node\">\n<title>205</title>\n<polygon fill=\"#58ade9\" stroke=\"black\" points=\"2635,-1280 2488,-1280 2488,-1212 2635,-1212 2635,-1280\"/>\n<text text-anchor=\"middle\" x=\"2561.5\" y=\"-1264.8\" font-family=\"Helvetica,sans-Serif\" font-size=\"14.00\">gini = 0.237</text>\n<text text-anchor=\"middle\" x=\"2561.5\" y=\"-1249.8\" font-family=\"Helvetica,sans-Serif\" font-size=\"14.00\">samples = 0.0%</text>\n<text text-anchor=\"middle\" x=\"2561.5\" y=\"-1234.8\" font-family=\"Helvetica,sans-Serif\" font-size=\"14.00\">value = [0.137, 0.863]</text>\n<text text-anchor=\"middle\" x=\"2561.5\" y=\"-1219.8\" font-family=\"Helvetica,sans-Serif\" font-size=\"14.00\">class = Infected</text>\n</g>\n<!-- 203&#45;&gt;205 -->\n<g id=\"edge205\" class=\"edge\">\n<title>203&#45;&gt;205</title>\n<path fill=\"none\" stroke=\"black\" d=\"M2396.39,-1275.05C2424.37,-1270.1 2452.86,-1265.06 2478.09,-1260.59\"/>\n<polygon fill=\"black\" stroke=\"black\" points=\"2478.72,-1264.03 2487.95,-1258.84 2477.49,-1257.14 2478.72,-1264.03\"/>\n</g>\n<!-- 207 -->\n<g id=\"node208\" class=\"node\">\n<title>207</title>\n<polygon fill=\"#79bded\" stroke=\"black\" points=\"1541,-901.5 1252,-901.5 1252,-818.5 1541,-818.5 1541,-901.5\"/>\n<text text-anchor=\"middle\" x=\"1396.5\" y=\"-886.3\" font-family=\"Helvetica,sans-Serif\" font-size=\"14.00\">Census_OSInstallTypeName_Refresh &lt;= 0.5</text>\n<text text-anchor=\"middle\" x=\"1396.5\" y=\"-871.3\" font-family=\"Helvetica,sans-Serif\" font-size=\"14.00\">gini = 0.369</text>\n<text text-anchor=\"middle\" x=\"1396.5\" y=\"-856.3\" font-family=\"Helvetica,sans-Serif\" font-size=\"14.00\">samples = 2.5%</text>\n<text text-anchor=\"middle\" x=\"1396.5\" y=\"-841.3\" font-family=\"Helvetica,sans-Serif\" font-size=\"14.00\">value = [0.244, 0.756]</text>\n<text text-anchor=\"middle\" x=\"1396.5\" y=\"-826.3\" font-family=\"Helvetica,sans-Serif\" font-size=\"14.00\">class = Infected</text>\n</g>\n<!-- 206&#45;&gt;207 -->\n<g id=\"edge207\" class=\"edge\">\n<title>206&#45;&gt;207</title>\n<path fill=\"none\" stroke=\"black\" d=\"M1059.59,-860C1112.28,-860 1180.45,-860 1241.6,-860\"/>\n<polygon fill=\"black\" stroke=\"black\" points=\"1241.75,-863.5 1251.75,-860 1241.75,-856.5 1241.75,-863.5\"/>\n</g>\n<!-- 222 -->\n<g id=\"node223\" class=\"node\">\n<title>222</title>\n<polygon fill=\"#cbe5f8\" stroke=\"black\" points=\"1590,-384.5 1203,-384.5 1203,-301.5 1590,-301.5 1590,-384.5\"/>\n<text text-anchor=\"middle\" x=\"1396.5\" y=\"-369.3\" font-family=\"Helvetica,sans-Serif\" font-size=\"14.00\">Census_InternalPrimaryDiagonalDisplaySizeInInches &lt;= 17.1</text>\n<text text-anchor=\"middle\" x=\"1396.5\" y=\"-354.3\" font-family=\"Helvetica,sans-Serif\" font-size=\"14.00\">gini = 0.488</text>\n<text text-anchor=\"middle\" x=\"1396.5\" y=\"-339.3\" font-family=\"Helvetica,sans-Serif\" font-size=\"14.00\">samples = 0.1%</text>\n<text text-anchor=\"middle\" x=\"1396.5\" y=\"-324.3\" font-family=\"Helvetica,sans-Serif\" font-size=\"14.00\">value = [0.424, 0.576]</text>\n<text text-anchor=\"middle\" x=\"1396.5\" y=\"-309.3\" font-family=\"Helvetica,sans-Serif\" font-size=\"14.00\">class = Infected</text>\n</g>\n<!-- 206&#45;&gt;222 -->\n<g id=\"edge222\" class=\"edge\">\n<title>206&#45;&gt;222</title>\n<path fill=\"none\" stroke=\"black\" d=\"M1004.92,-818.13C1082.65,-723.57 1271.47,-493.87 1354.82,-392.49\"/>\n<polygon fill=\"black\" stroke=\"black\" points=\"1357.71,-394.49 1361.35,-384.54 1352.3,-390.04 1357.71,-394.49\"/>\n</g>\n<!-- 208 -->\n<g id=\"node209\" class=\"node\">\n<title>208</title>\n<polygon fill=\"#77bced\" stroke=\"black\" points=\"1967,-979.5 1680,-979.5 1680,-896.5 1967,-896.5 1967,-979.5\"/>\n<text text-anchor=\"middle\" x=\"1823.5\" y=\"-964.3\" font-family=\"Helvetica,sans-Serif\" font-size=\"14.00\">Census_ActivationChannel_OEM:DM &lt;= 0.5</text>\n<text text-anchor=\"middle\" x=\"1823.5\" y=\"-949.3\" font-family=\"Helvetica,sans-Serif\" font-size=\"14.00\">gini = 0.364</text>\n<text text-anchor=\"middle\" x=\"1823.5\" y=\"-934.3\" font-family=\"Helvetica,sans-Serif\" font-size=\"14.00\">samples = 2.5%</text>\n<text text-anchor=\"middle\" x=\"1823.5\" y=\"-919.3\" font-family=\"Helvetica,sans-Serif\" font-size=\"14.00\">value = [0.239, 0.761]</text>\n<text text-anchor=\"middle\" x=\"1823.5\" y=\"-904.3\" font-family=\"Helvetica,sans-Serif\" font-size=\"14.00\">class = Infected</text>\n</g>\n<!-- 207&#45;&gt;208 -->\n<g id=\"edge208\" class=\"edge\">\n<title>207&#45;&gt;208</title>\n<path fill=\"none\" stroke=\"black\" d=\"M1541.09,-886.35C1582.46,-893.95 1627.74,-902.26 1669.65,-909.95\"/>\n<polygon fill=\"black\" stroke=\"black\" points=\"1669.19,-913.42 1679.66,-911.78 1670.45,-906.54 1669.19,-913.42\"/>\n</g>\n<!-- 215 -->\n<g id=\"node216\" class=\"node\">\n<title>215</title>\n<polygon fill=\"#fdf4ed\" stroke=\"black\" points=\"2021,-822.5 1626,-822.5 1626,-739.5 2021,-739.5 2021,-822.5\"/>\n<text text-anchor=\"middle\" x=\"1823.5\" y=\"-807.3\" font-family=\"Helvetica,sans-Serif\" font-size=\"14.00\">Census_InternalPrimaryDiagonalDisplaySizeInInches &lt;= 14.35</text>\n<text text-anchor=\"middle\" x=\"1823.5\" y=\"-792.3\" font-family=\"Helvetica,sans-Serif\" font-size=\"14.00\">gini = 0.499</text>\n<text text-anchor=\"middle\" x=\"1823.5\" y=\"-777.3\" font-family=\"Helvetica,sans-Serif\" font-size=\"14.00\">samples = 0.0%</text>\n<text text-anchor=\"middle\" x=\"1823.5\" y=\"-762.3\" font-family=\"Helvetica,sans-Serif\" font-size=\"14.00\">value = [0.524, 0.476]</text>\n<text text-anchor=\"middle\" x=\"1823.5\" y=\"-747.3\" font-family=\"Helvetica,sans-Serif\" font-size=\"14.00\">class = Not infected</text>\n</g>\n<!-- 207&#45;&gt;215 -->\n<g id=\"edge215\" class=\"edge\">\n<title>207&#45;&gt;215</title>\n<path fill=\"none\" stroke=\"black\" d=\"M1541.09,-833.31C1565.12,-828.84 1590.47,-824.13 1615.71,-819.44\"/>\n<polygon fill=\"black\" stroke=\"black\" points=\"1616.56,-822.84 1625.76,-817.57 1615.28,-815.96 1616.56,-822.84\"/>\n</g>\n<!-- 209 -->\n<g id=\"node210\" class=\"node\">\n<title>209</title>\n<polygon fill=\"#84c2ef\" stroke=\"black\" points=\"2347,-1115.5 2162,-1115.5 2162,-1032.5 2347,-1032.5 2347,-1115.5\"/>\n<text text-anchor=\"middle\" x=\"2254.5\" y=\"-1100.3\" font-family=\"Helvetica,sans-Serif\" font-size=\"14.00\">Processor_x64_True &lt;= 0.5</text>\n<text text-anchor=\"middle\" x=\"2254.5\" y=\"-1085.3\" font-family=\"Helvetica,sans-Serif\" font-size=\"14.00\">gini = 0.399</text>\n<text text-anchor=\"middle\" x=\"2254.5\" y=\"-1070.3\" font-family=\"Helvetica,sans-Serif\" font-size=\"14.00\">samples = 1.3%</text>\n<text text-anchor=\"middle\" x=\"2254.5\" y=\"-1055.3\" font-family=\"Helvetica,sans-Serif\" font-size=\"14.00\">value = [0.275, 0.725]</text>\n<text text-anchor=\"middle\" x=\"2254.5\" y=\"-1040.3\" font-family=\"Helvetica,sans-Serif\" font-size=\"14.00\">class = Infected</text>\n</g>\n<!-- 208&#45;&gt;209 -->\n<g id=\"edge209\" class=\"edge\">\n<title>208&#45;&gt;209</title>\n<path fill=\"none\" stroke=\"black\" d=\"M1955.55,-979.54C2018.8,-999.6 2093.53,-1023.29 2152.32,-1041.92\"/>\n<polygon fill=\"black\" stroke=\"black\" points=\"2151.4,-1045.3 2161.99,-1044.99 2153.51,-1038.63 2151.4,-1045.3\"/>\n</g>\n<!-- 212 -->\n<g id=\"node213\" class=\"node\">\n<title>212</title>\n<polygon fill=\"#6bb6ec\" stroke=\"black\" points=\"2367,-979.5 2142,-979.5 2142,-896.5 2367,-896.5 2367,-979.5\"/>\n<text text-anchor=\"middle\" x=\"2254.5\" y=\"-964.3\" font-family=\"Helvetica,sans-Serif\" font-size=\"14.00\">EngineVersion_1.1.14600.4 &lt;= 0.5</text>\n<text text-anchor=\"middle\" x=\"2254.5\" y=\"-949.3\" font-family=\"Helvetica,sans-Serif\" font-size=\"14.00\">gini = 0.321</text>\n<text text-anchor=\"middle\" x=\"2254.5\" y=\"-934.3\" font-family=\"Helvetica,sans-Serif\" font-size=\"14.00\">samples = 1.2%</text>\n<text text-anchor=\"middle\" x=\"2254.5\" y=\"-919.3\" font-family=\"Helvetica,sans-Serif\" font-size=\"14.00\">value = [0.201, 0.799]</text>\n<text text-anchor=\"middle\" x=\"2254.5\" y=\"-904.3\" font-family=\"Helvetica,sans-Serif\" font-size=\"14.00\">class = Infected</text>\n</g>\n<!-- 208&#45;&gt;212 -->\n<g id=\"edge212\" class=\"edge\">\n<title>208&#45;&gt;212</title>\n<path fill=\"none\" stroke=\"black\" d=\"M1967.05,-938C2020.43,-938 2080.52,-938 2131.84,-938\"/>\n<polygon fill=\"black\" stroke=\"black\" points=\"2131.98,-941.5 2141.98,-938 2131.98,-934.5 2131.98,-941.5\"/>\n</g>\n<!-- 210 -->\n<g id=\"node211\" class=\"node\">\n<title>210</title>\n<polygon fill=\"#bfdff7\" stroke=\"black\" points=\"2635,-1194 2488,-1194 2488,-1126 2635,-1126 2635,-1194\"/>\n<text text-anchor=\"middle\" x=\"2561.5\" y=\"-1178.8\" font-family=\"Helvetica,sans-Serif\" font-size=\"14.00\">gini = 0.481</text>\n<text text-anchor=\"middle\" x=\"2561.5\" y=\"-1163.8\" font-family=\"Helvetica,sans-Serif\" font-size=\"14.00\">samples = 0.1%</text>\n<text text-anchor=\"middle\" x=\"2561.5\" y=\"-1148.8\" font-family=\"Helvetica,sans-Serif\" font-size=\"14.00\">value = [0.404, 0.596]</text>\n<text text-anchor=\"middle\" x=\"2561.5\" y=\"-1133.8\" font-family=\"Helvetica,sans-Serif\" font-size=\"14.00\">class = Infected</text>\n</g>\n<!-- 209&#45;&gt;210 -->\n<g id=\"edge210\" class=\"edge\">\n<title>209&#45;&gt;210</title>\n<path fill=\"none\" stroke=\"black\" d=\"M2347.01,-1099.8C2388.67,-1111.55 2437.6,-1125.35 2478.1,-1136.77\"/>\n<polygon fill=\"black\" stroke=\"black\" points=\"2477.36,-1140.19 2487.94,-1139.54 2479.26,-1133.46 2477.36,-1140.19\"/>\n</g>\n<!-- 211 -->\n<g id=\"node212\" class=\"node\">\n<title>211</title>\n<polygon fill=\"#81c0ee\" stroke=\"black\" points=\"2635,-1108 2488,-1108 2488,-1040 2635,-1040 2635,-1108\"/>\n<text text-anchor=\"middle\" x=\"2561.5\" y=\"-1092.8\" font-family=\"Helvetica,sans-Serif\" font-size=\"14.00\">gini = 0.39</text>\n<text text-anchor=\"middle\" x=\"2561.5\" y=\"-1077.8\" font-family=\"Helvetica,sans-Serif\" font-size=\"14.00\">samples = 1.2%</text>\n<text text-anchor=\"middle\" x=\"2561.5\" y=\"-1062.8\" font-family=\"Helvetica,sans-Serif\" font-size=\"14.00\">value = [0.266, 0.734]</text>\n<text text-anchor=\"middle\" x=\"2561.5\" y=\"-1047.8\" font-family=\"Helvetica,sans-Serif\" font-size=\"14.00\">class = Infected</text>\n</g>\n<!-- 209&#45;&gt;211 -->\n<g id=\"edge211\" class=\"edge\">\n<title>209&#45;&gt;211</title>\n<path fill=\"none\" stroke=\"black\" d=\"M2347.01,-1074C2388.58,-1074 2437.39,-1074 2477.84,-1074\"/>\n<polygon fill=\"black\" stroke=\"black\" points=\"2477.94,-1077.5 2487.94,-1074 2477.94,-1070.5 2477.94,-1077.5\"/>\n</g>\n<!-- 213 -->\n<g id=\"node214\" class=\"node\">\n<title>213</title>\n<polygon fill=\"#69b5eb\" stroke=\"black\" points=\"2635,-1022 2488,-1022 2488,-954 2635,-954 2635,-1022\"/>\n<text text-anchor=\"middle\" x=\"2561.5\" y=\"-1006.8\" font-family=\"Helvetica,sans-Serif\" font-size=\"14.00\">gini = 0.316</text>\n<text text-anchor=\"middle\" x=\"2561.5\" y=\"-991.8\" font-family=\"Helvetica,sans-Serif\" font-size=\"14.00\">samples = 1.2%</text>\n<text text-anchor=\"middle\" x=\"2561.5\" y=\"-976.8\" font-family=\"Helvetica,sans-Serif\" font-size=\"14.00\">value = [0.196, 0.804]</text>\n<text text-anchor=\"middle\" x=\"2561.5\" y=\"-961.8\" font-family=\"Helvetica,sans-Serif\" font-size=\"14.00\">class = Infected</text>\n</g>\n<!-- 212&#45;&gt;213 -->\n<g id=\"edge213\" class=\"edge\">\n<title>212&#45;&gt;213</title>\n<path fill=\"none\" stroke=\"black\" d=\"M2367.34,-956.33C2403.86,-962.32 2443.73,-968.86 2477.72,-974.43\"/>\n<polygon fill=\"black\" stroke=\"black\" points=\"2477.17,-977.89 2487.6,-976.05 2478.3,-970.98 2477.17,-977.89\"/>\n</g>\n<!-- 214 -->\n<g id=\"node215\" class=\"node\">\n<title>214</title>\n<polygon fill=\"#fbede3\" stroke=\"black\" points=\"2635,-936 2488,-936 2488,-868 2635,-868 2635,-936\"/>\n<text text-anchor=\"middle\" x=\"2561.5\" y=\"-920.8\" font-family=\"Helvetica,sans-Serif\" font-size=\"14.00\">gini = 0.497</text>\n<text text-anchor=\"middle\" x=\"2561.5\" y=\"-905.8\" font-family=\"Helvetica,sans-Serif\" font-size=\"14.00\">samples = 0.0%</text>\n<text text-anchor=\"middle\" x=\"2561.5\" y=\"-890.8\" font-family=\"Helvetica,sans-Serif\" font-size=\"14.00\">value = [0.538, 0.462]</text>\n<text text-anchor=\"middle\" x=\"2561.5\" y=\"-875.8\" font-family=\"Helvetica,sans-Serif\" font-size=\"14.00\">class = Not infected</text>\n</g>\n<!-- 212&#45;&gt;214 -->\n<g id=\"edge214\" class=\"edge\">\n<title>212&#45;&gt;214</title>\n<path fill=\"none\" stroke=\"black\" d=\"M2367.34,-924.8C2403.7,-920.51 2443.39,-915.82 2477.28,-911.82\"/>\n<polygon fill=\"black\" stroke=\"black\" points=\"2478.08,-915.25 2487.6,-910.6 2477.26,-908.3 2478.08,-915.25\"/>\n</g>\n<!-- 216 -->\n<g id=\"node217\" class=\"node\">\n<title>216</title>\n<polygon fill=\"#f2be99\" stroke=\"black\" points=\"2368.5,-822.5 2140.5,-822.5 2140.5,-739.5 2368.5,-739.5 2368.5,-822.5\"/>\n<text text-anchor=\"middle\" x=\"2254.5\" y=\"-807.3\" font-family=\"Helvetica,sans-Serif\" font-size=\"14.00\">OsPlatformSubRelease_rs3 &lt;= 0.5</text>\n<text text-anchor=\"middle\" x=\"2254.5\" y=\"-792.3\" font-family=\"Helvetica,sans-Serif\" font-size=\"14.00\">gini = 0.44</text>\n<text text-anchor=\"middle\" x=\"2254.5\" y=\"-777.3\" font-family=\"Helvetica,sans-Serif\" font-size=\"14.00\">samples = 0.0%</text>\n<text text-anchor=\"middle\" x=\"2254.5\" y=\"-762.3\" font-family=\"Helvetica,sans-Serif\" font-size=\"14.00\">value = [0.673, 0.327]</text>\n<text text-anchor=\"middle\" x=\"2254.5\" y=\"-747.3\" font-family=\"Helvetica,sans-Serif\" font-size=\"14.00\">class = Not infected</text>\n</g>\n<!-- 215&#45;&gt;216 -->\n<g id=\"edge216\" class=\"edge\">\n<title>215&#45;&gt;216</title>\n<path fill=\"none\" stroke=\"black\" d=\"M2021.11,-781C2058.17,-781 2095.94,-781 2129.97,-781\"/>\n<polygon fill=\"black\" stroke=\"black\" points=\"2130.41,-784.5 2140.41,-781 2130.41,-777.5 2130.41,-784.5\"/>\n</g>\n<!-- 219 -->\n<g id=\"node220\" class=\"node\">\n<title>219</title>\n<polygon fill=\"#dceefa\" stroke=\"black\" points=\"2352,-685.5 2157,-685.5 2157,-602.5 2352,-602.5 2352,-685.5\"/>\n<text text-anchor=\"middle\" x=\"2254.5\" y=\"-670.3\" font-family=\"Helvetica,sans-Serif\" font-size=\"14.00\">AvSigVersion_count &lt;= 214.0</text>\n<text text-anchor=\"middle\" x=\"2254.5\" y=\"-655.3\" font-family=\"Helvetica,sans-Serif\" font-size=\"14.00\">gini = 0.495</text>\n<text text-anchor=\"middle\" x=\"2254.5\" y=\"-640.3\" font-family=\"Helvetica,sans-Serif\" font-size=\"14.00\">samples = 0.0%</text>\n<text text-anchor=\"middle\" x=\"2254.5\" y=\"-625.3\" font-family=\"Helvetica,sans-Serif\" font-size=\"14.00\">value = [0.452, 0.548]</text>\n<text text-anchor=\"middle\" x=\"2254.5\" y=\"-610.3\" font-family=\"Helvetica,sans-Serif\" font-size=\"14.00\">class = Infected</text>\n</g>\n<!-- 215&#45;&gt;219 -->\n<g id=\"edge219\" class=\"edge\">\n<title>215&#45;&gt;219</title>\n<path fill=\"none\" stroke=\"black\" d=\"M1954.67,-739.43C2016.33,-719.74 2089.05,-696.52 2147.31,-677.91\"/>\n<polygon fill=\"black\" stroke=\"black\" points=\"2148.44,-681.22 2156.9,-674.85 2146.31,-674.56 2148.44,-681.22\"/>\n</g>\n<!-- 217 -->\n<g id=\"node218\" class=\"node\">\n<title>217</title>\n<polygon fill=\"#f9e2d2\" stroke=\"black\" points=\"2635,-850 2488,-850 2488,-782 2635,-782 2635,-850\"/>\n<text text-anchor=\"middle\" x=\"2561.5\" y=\"-834.8\" font-family=\"Helvetica,sans-Serif\" font-size=\"14.00\">gini = 0.492</text>\n<text text-anchor=\"middle\" x=\"2561.5\" y=\"-819.8\" font-family=\"Helvetica,sans-Serif\" font-size=\"14.00\">samples = 0.0%</text>\n<text text-anchor=\"middle\" x=\"2561.5\" y=\"-804.8\" font-family=\"Helvetica,sans-Serif\" font-size=\"14.00\">value = [0.564, 0.436]</text>\n<text text-anchor=\"middle\" x=\"2561.5\" y=\"-789.8\" font-family=\"Helvetica,sans-Serif\" font-size=\"14.00\">class = Not infected</text>\n</g>\n<!-- 216&#45;&gt;217 -->\n<g id=\"edge217\" class=\"edge\">\n<title>216&#45;&gt;217</title>\n<path fill=\"none\" stroke=\"black\" d=\"M2368.64,-793.98C2404.74,-798.13 2444.01,-802.63 2477.56,-806.48\"/>\n<polygon fill=\"black\" stroke=\"black\" points=\"2477.44,-809.99 2487.77,-807.65 2478.24,-803.04 2477.44,-809.99\"/>\n</g>\n<!-- 218 -->\n<g id=\"node219\" class=\"node\">\n<title>218</title>\n<polygon fill=\"#e78946\" stroke=\"black\" points=\"2635,-764 2488,-764 2488,-696 2635,-696 2635,-764\"/>\n<text text-anchor=\"middle\" x=\"2561.5\" y=\"-748.8\" font-family=\"Helvetica,sans-Serif\" font-size=\"14.00\">gini = 0.117</text>\n<text text-anchor=\"middle\" x=\"2561.5\" y=\"-733.8\" font-family=\"Helvetica,sans-Serif\" font-size=\"14.00\">samples = 0.0%</text>\n<text text-anchor=\"middle\" x=\"2561.5\" y=\"-718.8\" font-family=\"Helvetica,sans-Serif\" font-size=\"14.00\">value = [0.938, 0.062]</text>\n<text text-anchor=\"middle\" x=\"2561.5\" y=\"-703.8\" font-family=\"Helvetica,sans-Serif\" font-size=\"14.00\">class = Not infected</text>\n</g>\n<!-- 216&#45;&gt;218 -->\n<g id=\"edge218\" class=\"edge\">\n<title>216&#45;&gt;218</title>\n<path fill=\"none\" stroke=\"black\" d=\"M2368.64,-762.08C2404.74,-756.04 2444.01,-749.48 2477.56,-743.87\"/>\n<polygon fill=\"black\" stroke=\"black\" points=\"2478.49,-747.26 2487.77,-742.16 2477.33,-740.36 2478.49,-747.26\"/>\n</g>\n<!-- 220 -->\n<g id=\"node221\" class=\"node\">\n<title>220</title>\n<polygon fill=\"#e58139\" stroke=\"black\" points=\"2629,-678 2494,-678 2494,-610 2629,-610 2629,-678\"/>\n<text text-anchor=\"middle\" x=\"2561.5\" y=\"-662.8\" font-family=\"Helvetica,sans-Serif\" font-size=\"14.00\">gini = 0.0</text>\n<text text-anchor=\"middle\" x=\"2561.5\" y=\"-647.8\" font-family=\"Helvetica,sans-Serif\" font-size=\"14.00\">samples = 0.0%</text>\n<text text-anchor=\"middle\" x=\"2561.5\" y=\"-632.8\" font-family=\"Helvetica,sans-Serif\" font-size=\"14.00\">value = [1.0, 0.0]</text>\n<text text-anchor=\"middle\" x=\"2561.5\" y=\"-617.8\" font-family=\"Helvetica,sans-Serif\" font-size=\"14.00\">class = Not infected</text>\n</g>\n<!-- 219&#45;&gt;220 -->\n<g id=\"edge220\" class=\"edge\">\n<title>219&#45;&gt;220</title>\n<path fill=\"none\" stroke=\"black\" d=\"M2352,-644C2394.39,-644 2443.47,-644 2483.37,-644\"/>\n<polygon fill=\"black\" stroke=\"black\" points=\"2483.57,-647.5 2493.57,-644 2483.57,-640.5 2483.57,-647.5\"/>\n</g>\n<!-- 221 -->\n<g id=\"node222\" class=\"node\">\n<title>221</title>\n<polygon fill=\"#d0e8f9\" stroke=\"black\" points=\"2635,-592 2488,-592 2488,-524 2635,-524 2635,-592\"/>\n<text text-anchor=\"middle\" x=\"2561.5\" y=\"-576.8\" font-family=\"Helvetica,sans-Serif\" font-size=\"14.00\">gini = 0.491</text>\n<text text-anchor=\"middle\" x=\"2561.5\" y=\"-561.8\" font-family=\"Helvetica,sans-Serif\" font-size=\"14.00\">samples = 0.0%</text>\n<text text-anchor=\"middle\" x=\"2561.5\" y=\"-546.8\" font-family=\"Helvetica,sans-Serif\" font-size=\"14.00\">value = [0.432, 0.568]</text>\n<text text-anchor=\"middle\" x=\"2561.5\" y=\"-531.8\" font-family=\"Helvetica,sans-Serif\" font-size=\"14.00\">class = Infected</text>\n</g>\n<!-- 219&#45;&gt;221 -->\n<g id=\"edge221\" class=\"edge\">\n<title>219&#45;&gt;221</title>\n<path fill=\"none\" stroke=\"black\" d=\"M2352,-616.79C2392.55,-605.36 2439.22,-592.2 2478.12,-581.23\"/>\n<polygon fill=\"black\" stroke=\"black\" points=\"2479.16,-584.57 2487.83,-578.49 2477.26,-577.84 2479.16,-584.57\"/>\n</g>\n<!-- 223 -->\n<g id=\"node224\" class=\"node\">\n<title>223</title>\n<polygon fill=\"#e6f2fc\" stroke=\"black\" points=\"1944,-384.5 1703,-384.5 1703,-301.5 1944,-301.5 1944,-384.5\"/>\n<text text-anchor=\"middle\" x=\"1823.5\" y=\"-369.3\" font-family=\"Helvetica,sans-Serif\" font-size=\"14.00\">Census_OSVersion_count &lt;= 8066.5</text>\n<text text-anchor=\"middle\" x=\"1823.5\" y=\"-354.3\" font-family=\"Helvetica,sans-Serif\" font-size=\"14.00\">gini = 0.498</text>\n<text text-anchor=\"middle\" x=\"1823.5\" y=\"-339.3\" font-family=\"Helvetica,sans-Serif\" font-size=\"14.00\">samples = 0.1%</text>\n<text text-anchor=\"middle\" x=\"1823.5\" y=\"-324.3\" font-family=\"Helvetica,sans-Serif\" font-size=\"14.00\">value = [0.466, 0.534]</text>\n<text text-anchor=\"middle\" x=\"1823.5\" y=\"-309.3\" font-family=\"Helvetica,sans-Serif\" font-size=\"14.00\">class = Infected</text>\n</g>\n<!-- 222&#45;&gt;223 -->\n<g id=\"edge223\" class=\"edge\">\n<title>222&#45;&gt;223</title>\n<path fill=\"none\" stroke=\"black\" d=\"M1590.1,-343C1624.79,-343 1660.18,-343 1692.55,-343\"/>\n<polygon fill=\"black\" stroke=\"black\" points=\"1692.95,-346.5 1702.95,-343 1692.95,-339.5 1692.95,-346.5\"/>\n</g>\n<!-- 230 -->\n<g id=\"node231\" class=\"node\">\n<title>230</title>\n<polygon fill=\"#7fc0ee\" stroke=\"black\" points=\"1925,-169.5 1722,-169.5 1722,-86.5 1925,-86.5 1925,-169.5\"/>\n<text text-anchor=\"middle\" x=\"1823.5\" y=\"-154.3\" font-family=\"Helvetica,sans-Serif\" font-size=\"14.00\">AvSigVersion_count &lt;= 5426.0</text>\n<text text-anchor=\"middle\" x=\"1823.5\" y=\"-139.3\" font-family=\"Helvetica,sans-Serif\" font-size=\"14.00\">gini = 0.386</text>\n<text text-anchor=\"middle\" x=\"1823.5\" y=\"-124.3\" font-family=\"Helvetica,sans-Serif\" font-size=\"14.00\">samples = 0.0%</text>\n<text text-anchor=\"middle\" x=\"1823.5\" y=\"-109.3\" font-family=\"Helvetica,sans-Serif\" font-size=\"14.00\">value = [0.262, 0.738]</text>\n<text text-anchor=\"middle\" x=\"1823.5\" y=\"-94.3\" font-family=\"Helvetica,sans-Serif\" font-size=\"14.00\">class = Infected</text>\n</g>\n<!-- 222&#45;&gt;230 -->\n<g id=\"edge230\" class=\"edge\">\n<title>222&#45;&gt;230</title>\n<path fill=\"none\" stroke=\"black\" d=\"M1479.7,-301.42C1551.81,-264.94 1656.53,-211.96 1731.23,-174.17\"/>\n<polygon fill=\"black\" stroke=\"black\" points=\"1732.84,-177.28 1740.18,-169.64 1729.68,-171.03 1732.84,-177.28\"/>\n</g>\n<!-- 224 -->\n<g id=\"node225\" class=\"node\">\n<title>224</title>\n<polygon fill=\"#8dc7f0\" stroke=\"black\" points=\"2403.5,-435.5 2105.5,-435.5 2105.5,-352.5 2403.5,-352.5 2403.5,-435.5\"/>\n<text text-anchor=\"middle\" x=\"2254.5\" y=\"-420.3\" font-family=\"Helvetica,sans-Serif\" font-size=\"14.00\">Census_MDC2FormFactor_Convertible &lt;= 0.5</text>\n<text text-anchor=\"middle\" x=\"2254.5\" y=\"-405.3\" font-family=\"Helvetica,sans-Serif\" font-size=\"14.00\">gini = 0.419</text>\n<text text-anchor=\"middle\" x=\"2254.5\" y=\"-390.3\" font-family=\"Helvetica,sans-Serif\" font-size=\"14.00\">samples = 0.0%</text>\n<text text-anchor=\"middle\" x=\"2254.5\" y=\"-375.3\" font-family=\"Helvetica,sans-Serif\" font-size=\"14.00\">value = [0.299, 0.701]</text>\n<text text-anchor=\"middle\" x=\"2254.5\" y=\"-360.3\" font-family=\"Helvetica,sans-Serif\" font-size=\"14.00\">class = Infected</text>\n</g>\n<!-- 223&#45;&gt;224 -->\n<g id=\"edge224\" class=\"edge\">\n<title>223&#45;&gt;224</title>\n<path fill=\"none\" stroke=\"black\" d=\"M1944,-357.21C1990.84,-362.77 2045.24,-369.24 2095.26,-375.19\"/>\n<polygon fill=\"black\" stroke=\"black\" points=\"2094.86,-378.66 2105.2,-376.37 2095.68,-371.71 2094.86,-378.66\"/>\n</g>\n<!-- 227 -->\n<g id=\"node228\" class=\"node\">\n<title>227</title>\n<polygon fill=\"#fdf3ec\" stroke=\"black\" points=\"2369.5,-334.5 2139.5,-334.5 2139.5,-251.5 2369.5,-251.5 2369.5,-334.5\"/>\n<text text-anchor=\"middle\" x=\"2254.5\" y=\"-319.3\" font-family=\"Helvetica,sans-Serif\" font-size=\"14.00\">Census_OSBuildRevision &lt;= 579.0</text>\n<text text-anchor=\"middle\" x=\"2254.5\" y=\"-304.3\" font-family=\"Helvetica,sans-Serif\" font-size=\"14.00\">gini = 0.499</text>\n<text text-anchor=\"middle\" x=\"2254.5\" y=\"-289.3\" font-family=\"Helvetica,sans-Serif\" font-size=\"14.00\">samples = 0.1%</text>\n<text text-anchor=\"middle\" x=\"2254.5\" y=\"-274.3\" font-family=\"Helvetica,sans-Serif\" font-size=\"14.00\">value = [0.525, 0.475]</text>\n<text text-anchor=\"middle\" x=\"2254.5\" y=\"-259.3\" font-family=\"Helvetica,sans-Serif\" font-size=\"14.00\">class = Not infected</text>\n</g>\n<!-- 223&#45;&gt;227 -->\n<g id=\"edge227\" class=\"edge\">\n<title>223&#45;&gt;227</title>\n<path fill=\"none\" stroke=\"black\" d=\"M1944,-329.07C2001.77,-322.34 2071.06,-314.26 2129.43,-307.46\"/>\n<polygon fill=\"black\" stroke=\"black\" points=\"2129.91,-310.93 2139.44,-306.29 2129.1,-303.97 2129.91,-310.93\"/>\n</g>\n<!-- 225 -->\n<g id=\"node226\" class=\"node\">\n<title>225</title>\n<polygon fill=\"#7fbfee\" stroke=\"black\" points=\"2627.5,-506 2495.5,-506 2495.5,-438 2627.5,-438 2627.5,-506\"/>\n<text text-anchor=\"middle\" x=\"2561.5\" y=\"-490.8\" font-family=\"Helvetica,sans-Serif\" font-size=\"14.00\">gini = 0.385</text>\n<text text-anchor=\"middle\" x=\"2561.5\" y=\"-475.8\" font-family=\"Helvetica,sans-Serif\" font-size=\"14.00\">samples = 0.0%</text>\n<text text-anchor=\"middle\" x=\"2561.5\" y=\"-460.8\" font-family=\"Helvetica,sans-Serif\" font-size=\"14.00\">value = [0.26, 0.74]</text>\n<text text-anchor=\"middle\" x=\"2561.5\" y=\"-445.8\" font-family=\"Helvetica,sans-Serif\" font-size=\"14.00\">class = Infected</text>\n</g>\n<!-- 224&#45;&gt;225 -->\n<g id=\"edge225\" class=\"edge\">\n<title>224&#45;&gt;225</title>\n<path fill=\"none\" stroke=\"black\" d=\"M2403.53,-431.86C2431.94,-439.12 2460.55,-446.44 2485.42,-452.8\"/>\n<polygon fill=\"black\" stroke=\"black\" points=\"2484.57,-456.19 2495.12,-455.28 2486.3,-449.41 2484.57,-456.19\"/>\n</g>\n<!-- 226 -->\n<g id=\"node227\" class=\"node\">\n<title>226</title>\n<polygon fill=\"#e9965a\" stroke=\"black\" points=\"2635,-420 2488,-420 2488,-352 2635,-352 2635,-420\"/>\n<text text-anchor=\"middle\" x=\"2561.5\" y=\"-404.8\" font-family=\"Helvetica,sans-Serif\" font-size=\"14.00\">gini = 0.245</text>\n<text text-anchor=\"middle\" x=\"2561.5\" y=\"-389.8\" font-family=\"Helvetica,sans-Serif\" font-size=\"14.00\">samples = 0.0%</text>\n<text text-anchor=\"middle\" x=\"2561.5\" y=\"-374.8\" font-family=\"Helvetica,sans-Serif\" font-size=\"14.00\">value = [0.857, 0.143]</text>\n<text text-anchor=\"middle\" x=\"2561.5\" y=\"-359.8\" font-family=\"Helvetica,sans-Serif\" font-size=\"14.00\">class = Not infected</text>\n</g>\n<!-- 224&#45;&gt;226 -->\n<g id=\"edge226\" class=\"edge\">\n<title>224&#45;&gt;226</title>\n<path fill=\"none\" stroke=\"black\" d=\"M2403.53,-390.12C2429.05,-389.45 2454.73,-388.77 2477.72,-388.17\"/>\n<polygon fill=\"black\" stroke=\"black\" points=\"2477.84,-391.67 2487.74,-387.91 2477.65,-384.67 2477.84,-391.67\"/>\n</g>\n<!-- 228 -->\n<g id=\"node229\" class=\"node\">\n<title>228</title>\n<polygon fill=\"#fae7da\" stroke=\"black\" points=\"2635,-334 2488,-334 2488,-266 2635,-266 2635,-334\"/>\n<text text-anchor=\"middle\" x=\"2561.5\" y=\"-318.8\" font-family=\"Helvetica,sans-Serif\" font-size=\"14.00\">gini = 0.495</text>\n<text text-anchor=\"middle\" x=\"2561.5\" y=\"-303.8\" font-family=\"Helvetica,sans-Serif\" font-size=\"14.00\">samples = 0.1%</text>\n<text text-anchor=\"middle\" x=\"2561.5\" y=\"-288.8\" font-family=\"Helvetica,sans-Serif\" font-size=\"14.00\">value = [0.552, 0.448]</text>\n<text text-anchor=\"middle\" x=\"2561.5\" y=\"-273.8\" font-family=\"Helvetica,sans-Serif\" font-size=\"14.00\">class = Not infected</text>\n</g>\n<!-- 227&#45;&gt;228 -->\n<g id=\"edge228\" class=\"edge\">\n<title>227&#45;&gt;228</title>\n<path fill=\"none\" stroke=\"black\" d=\"M2369.5,-295.62C2405.39,-296.44 2444.31,-297.33 2477.6,-298.1\"/>\n<polygon fill=\"black\" stroke=\"black\" points=\"2477.66,-301.6 2487.74,-298.33 2477.82,-294.6 2477.66,-301.6\"/>\n</g>\n<!-- 229 -->\n<g id=\"node230\" class=\"node\">\n<title>229</title>\n<polygon fill=\"#a7d3f3\" stroke=\"black\" points=\"2635,-248 2488,-248 2488,-180 2635,-180 2635,-248\"/>\n<text text-anchor=\"middle\" x=\"2561.5\" y=\"-232.8\" font-family=\"Helvetica,sans-Serif\" font-size=\"14.00\">gini = 0.459</text>\n<text text-anchor=\"middle\" x=\"2561.5\" y=\"-217.8\" font-family=\"Helvetica,sans-Serif\" font-size=\"14.00\">samples = 0.0%</text>\n<text text-anchor=\"middle\" x=\"2561.5\" y=\"-202.8\" font-family=\"Helvetica,sans-Serif\" font-size=\"14.00\">value = [0.357, 0.643]</text>\n<text text-anchor=\"middle\" x=\"2561.5\" y=\"-187.8\" font-family=\"Helvetica,sans-Serif\" font-size=\"14.00\">class = Infected</text>\n</g>\n<!-- 227&#45;&gt;229 -->\n<g id=\"edge229\" class=\"edge\">\n<title>227&#45;&gt;229</title>\n<path fill=\"none\" stroke=\"black\" d=\"M2369.5,-263.47C2405.54,-254.14 2444.64,-244.01 2478.03,-235.36\"/>\n<polygon fill=\"black\" stroke=\"black\" points=\"2478.94,-238.74 2487.74,-232.85 2477.18,-231.97 2478.94,-238.74\"/>\n</g>\n<!-- 231 -->\n<g id=\"node232\" class=\"node\">\n<title>231</title>\n<polygon fill=\"#72b9ec\" stroke=\"black\" points=\"2410.5,-169.5 2098.5,-169.5 2098.5,-86.5 2410.5,-86.5 2410.5,-169.5\"/>\n<text text-anchor=\"middle\" x=\"2254.5\" y=\"-154.3\" font-family=\"Helvetica,sans-Serif\" font-size=\"14.00\">Census_PrimaryDiskTotalCapacity &lt;= 1430799.0</text>\n<text text-anchor=\"middle\" x=\"2254.5\" y=\"-139.3\" font-family=\"Helvetica,sans-Serif\" font-size=\"14.00\">gini = 0.346</text>\n<text text-anchor=\"middle\" x=\"2254.5\" y=\"-124.3\" font-family=\"Helvetica,sans-Serif\" font-size=\"14.00\">samples = 0.0%</text>\n<text text-anchor=\"middle\" x=\"2254.5\" y=\"-109.3\" font-family=\"Helvetica,sans-Serif\" font-size=\"14.00\">value = [0.222, 0.778]</text>\n<text text-anchor=\"middle\" x=\"2254.5\" y=\"-94.3\" font-family=\"Helvetica,sans-Serif\" font-size=\"14.00\">class = Infected</text>\n</g>\n<!-- 230&#45;&gt;231 -->\n<g id=\"edge231\" class=\"edge\">\n<title>230&#45;&gt;231</title>\n<path fill=\"none\" stroke=\"black\" d=\"M1925.08,-128C1973.58,-128 2033.01,-128 2087.93,-128\"/>\n<polygon fill=\"black\" stroke=\"black\" points=\"2088.13,-131.5 2098.13,-128 2088.13,-124.5 2088.13,-131.5\"/>\n</g>\n<!-- 234 -->\n<g id=\"node235\" class=\"node\">\n<title>234</title>\n<polygon fill=\"#eeab7b\" stroke=\"black\" points=\"2322,-68 2187,-68 2187,0 2322,0 2322,-68\"/>\n<text text-anchor=\"middle\" x=\"2254.5\" y=\"-52.8\" font-family=\"Helvetica,sans-Serif\" font-size=\"14.00\">gini = 0.375</text>\n<text text-anchor=\"middle\" x=\"2254.5\" y=\"-37.8\" font-family=\"Helvetica,sans-Serif\" font-size=\"14.00\">samples = 0.0%</text>\n<text text-anchor=\"middle\" x=\"2254.5\" y=\"-22.8\" font-family=\"Helvetica,sans-Serif\" font-size=\"14.00\">value = [0.75, 0.25]</text>\n<text text-anchor=\"middle\" x=\"2254.5\" y=\"-7.8\" font-family=\"Helvetica,sans-Serif\" font-size=\"14.00\">class = Not infected</text>\n</g>\n<!-- 230&#45;&gt;234 -->\n<g id=\"edge234\" class=\"edge\">\n<title>230&#45;&gt;234</title>\n<path fill=\"none\" stroke=\"black\" d=\"M1925.21,-105.9C1966.1,-96.93 2013.81,-86.46 2057,-77 2096.44,-68.36 2140.34,-58.75 2176.63,-50.81\"/>\n<polygon fill=\"black\" stroke=\"black\" points=\"2177.63,-54.18 2186.65,-48.62 2176.13,-47.34 2177.63,-54.18\"/>\n</g>\n<!-- 232 -->\n<g id=\"node233\" class=\"node\">\n<title>232</title>\n<polygon fill=\"#6ab5eb\" stroke=\"black\" points=\"2635,-162 2488,-162 2488,-94 2635,-94 2635,-162\"/>\n<text text-anchor=\"middle\" x=\"2561.5\" y=\"-146.8\" font-family=\"Helvetica,sans-Serif\" font-size=\"14.00\">gini = 0.317</text>\n<text text-anchor=\"middle\" x=\"2561.5\" y=\"-131.8\" font-family=\"Helvetica,sans-Serif\" font-size=\"14.00\">samples = 0.0%</text>\n<text text-anchor=\"middle\" x=\"2561.5\" y=\"-116.8\" font-family=\"Helvetica,sans-Serif\" font-size=\"14.00\">value = [0.198, 0.802]</text>\n<text text-anchor=\"middle\" x=\"2561.5\" y=\"-101.8\" font-family=\"Helvetica,sans-Serif\" font-size=\"14.00\">class = Infected</text>\n</g>\n<!-- 231&#45;&gt;232 -->\n<g id=\"edge232\" class=\"edge\">\n<title>231&#45;&gt;232</title>\n<path fill=\"none\" stroke=\"black\" d=\"M2410.68,-128C2433.82,-128 2456.88,-128 2477.73,-128\"/>\n<polygon fill=\"black\" stroke=\"black\" points=\"2477.78,-131.5 2487.78,-128 2477.78,-124.5 2477.78,-131.5\"/>\n</g>\n<!-- 233 -->\n<g id=\"node234\" class=\"node\">\n<title>233</title>\n<polygon fill=\"#e58139\" stroke=\"black\" points=\"2629,-76 2494,-76 2494,-8 2629,-8 2629,-76\"/>\n<text text-anchor=\"middle\" x=\"2561.5\" y=\"-60.8\" font-family=\"Helvetica,sans-Serif\" font-size=\"14.00\">gini = 0.0</text>\n<text text-anchor=\"middle\" x=\"2561.5\" y=\"-45.8\" font-family=\"Helvetica,sans-Serif\" font-size=\"14.00\">samples = 0.0%</text>\n<text text-anchor=\"middle\" x=\"2561.5\" y=\"-30.8\" font-family=\"Helvetica,sans-Serif\" font-size=\"14.00\">value = [1.0, 0.0]</text>\n<text text-anchor=\"middle\" x=\"2561.5\" y=\"-15.8\" font-family=\"Helvetica,sans-Serif\" font-size=\"14.00\">class = Not infected</text>\n</g>\n<!-- 231&#45;&gt;233 -->\n<g id=\"edge233\" class=\"edge\">\n<title>231&#45;&gt;233</title>\n<path fill=\"none\" stroke=\"black\" d=\"M2410.73,-88.61C2424.71,-84.79 2438.63,-80.89 2452,-77 2462.4,-73.97 2473.32,-70.64 2484.05,-67.27\"/>\n<polygon fill=\"black\" stroke=\"black\" points=\"2485.36,-70.53 2493.84,-64.18 2483.25,-63.86 2485.36,-70.53\"/>\n</g>\n</g>\n</svg>\n"
          },
          "metadata": {},
          "execution_count": 109
        }
      ],
      "source": [
        "graphviz.Source(test_tree)"
      ]
    },
    {
      "cell_type": "markdown",
      "metadata": {
        "id": "_PB2tk5OVsln"
      },
      "source": [
        "##Evaluacion del modelo"
      ]
    },
    {
      "cell_type": "code",
      "execution_count": null,
      "metadata": {
        "colab": {
          "base_uri": "https://localhost:8080/",
          "height": 424
        },
        "id": "5xmZDrPdV5Tb",
        "outputId": "8d05c29c-b92f-499f-ceae-0efa5b827ef4"
      },
      "outputs": [
        {
          "output_type": "execute_result",
          "data": {
            "text/plain": [
              "        Infected_predict\n",
              "266696                 0\n",
              "75308                  1\n",
              "152839                 1\n",
              "494397                 1\n",
              "33877                  1\n",
              "...                  ...\n",
              "345561                 0\n",
              "97202                  1\n",
              "238214                 1\n",
              "448955                 0\n",
              "368150                 1\n",
              "\n",
              "[124818 rows x 1 columns]"
            ],
            "text/html": [
              "\n",
              "  <div id=\"df-502b2264-27ca-4e66-a127-5addeda57eea\">\n",
              "    <div class=\"colab-df-container\">\n",
              "      <div>\n",
              "<style scoped>\n",
              "    .dataframe tbody tr th:only-of-type {\n",
              "        vertical-align: middle;\n",
              "    }\n",
              "\n",
              "    .dataframe tbody tr th {\n",
              "        vertical-align: top;\n",
              "    }\n",
              "\n",
              "    .dataframe thead th {\n",
              "        text-align: right;\n",
              "    }\n",
              "</style>\n",
              "<table border=\"1\" class=\"dataframe\">\n",
              "  <thead>\n",
              "    <tr style=\"text-align: right;\">\n",
              "      <th></th>\n",
              "      <th>Infected_predict</th>\n",
              "    </tr>\n",
              "  </thead>\n",
              "  <tbody>\n",
              "    <tr>\n",
              "      <th>266696</th>\n",
              "      <td>0</td>\n",
              "    </tr>\n",
              "    <tr>\n",
              "      <th>75308</th>\n",
              "      <td>1</td>\n",
              "    </tr>\n",
              "    <tr>\n",
              "      <th>152839</th>\n",
              "      <td>1</td>\n",
              "    </tr>\n",
              "    <tr>\n",
              "      <th>494397</th>\n",
              "      <td>1</td>\n",
              "    </tr>\n",
              "    <tr>\n",
              "      <th>33877</th>\n",
              "      <td>1</td>\n",
              "    </tr>\n",
              "    <tr>\n",
              "      <th>...</th>\n",
              "      <td>...</td>\n",
              "    </tr>\n",
              "    <tr>\n",
              "      <th>345561</th>\n",
              "      <td>0</td>\n",
              "    </tr>\n",
              "    <tr>\n",
              "      <th>97202</th>\n",
              "      <td>1</td>\n",
              "    </tr>\n",
              "    <tr>\n",
              "      <th>238214</th>\n",
              "      <td>1</td>\n",
              "    </tr>\n",
              "    <tr>\n",
              "      <th>448955</th>\n",
              "      <td>0</td>\n",
              "    </tr>\n",
              "    <tr>\n",
              "      <th>368150</th>\n",
              "      <td>1</td>\n",
              "    </tr>\n",
              "  </tbody>\n",
              "</table>\n",
              "<p>124818 rows × 1 columns</p>\n",
              "</div>\n",
              "      <button class=\"colab-df-convert\" onclick=\"convertToInteractive('df-502b2264-27ca-4e66-a127-5addeda57eea')\"\n",
              "              title=\"Convert this dataframe to an interactive table.\"\n",
              "              style=\"display:none;\">\n",
              "        \n",
              "  <svg xmlns=\"http://www.w3.org/2000/svg\" height=\"24px\"viewBox=\"0 0 24 24\"\n",
              "       width=\"24px\">\n",
              "    <path d=\"M0 0h24v24H0V0z\" fill=\"none\"/>\n",
              "    <path d=\"M18.56 5.44l.94 2.06.94-2.06 2.06-.94-2.06-.94-.94-2.06-.94 2.06-2.06.94zm-11 1L8.5 8.5l.94-2.06 2.06-.94-2.06-.94L8.5 2.5l-.94 2.06-2.06.94zm10 10l.94 2.06.94-2.06 2.06-.94-2.06-.94-.94-2.06-.94 2.06-2.06.94z\"/><path d=\"M17.41 7.96l-1.37-1.37c-.4-.4-.92-.59-1.43-.59-.52 0-1.04.2-1.43.59L10.3 9.45l-7.72 7.72c-.78.78-.78 2.05 0 2.83L4 21.41c.39.39.9.59 1.41.59.51 0 1.02-.2 1.41-.59l7.78-7.78 2.81-2.81c.8-.78.8-2.07 0-2.86zM5.41 20L4 18.59l7.72-7.72 1.47 1.35L5.41 20z\"/>\n",
              "  </svg>\n",
              "      </button>\n",
              "      \n",
              "  <style>\n",
              "    .colab-df-container {\n",
              "      display:flex;\n",
              "      flex-wrap:wrap;\n",
              "      gap: 12px;\n",
              "    }\n",
              "\n",
              "    .colab-df-convert {\n",
              "      background-color: #E8F0FE;\n",
              "      border: none;\n",
              "      border-radius: 50%;\n",
              "      cursor: pointer;\n",
              "      display: none;\n",
              "      fill: #1967D2;\n",
              "      height: 32px;\n",
              "      padding: 0 0 0 0;\n",
              "      width: 32px;\n",
              "    }\n",
              "\n",
              "    .colab-df-convert:hover {\n",
              "      background-color: #E2EBFA;\n",
              "      box-shadow: 0px 1px 2px rgba(60, 64, 67, 0.3), 0px 1px 3px 1px rgba(60, 64, 67, 0.15);\n",
              "      fill: #174EA6;\n",
              "    }\n",
              "\n",
              "    [theme=dark] .colab-df-convert {\n",
              "      background-color: #3B4455;\n",
              "      fill: #D2E3FC;\n",
              "    }\n",
              "\n",
              "    [theme=dark] .colab-df-convert:hover {\n",
              "      background-color: #434B5C;\n",
              "      box-shadow: 0px 1px 3px 1px rgba(0, 0, 0, 0.15);\n",
              "      filter: drop-shadow(0px 1px 2px rgba(0, 0, 0, 0.3));\n",
              "      fill: #FFFFFF;\n",
              "    }\n",
              "  </style>\n",
              "\n",
              "      <script>\n",
              "        const buttonEl =\n",
              "          document.querySelector('#df-502b2264-27ca-4e66-a127-5addeda57eea button.colab-df-convert');\n",
              "        buttonEl.style.display =\n",
              "          google.colab.kernel.accessAllowed ? 'block' : 'none';\n",
              "\n",
              "        async function convertToInteractive(key) {\n",
              "          const element = document.querySelector('#df-502b2264-27ca-4e66-a127-5addeda57eea');\n",
              "          const dataTable =\n",
              "            await google.colab.kernel.invokeFunction('convertToInteractive',\n",
              "                                                     [key], {});\n",
              "          if (!dataTable) return;\n",
              "\n",
              "          const docLinkHtml = 'Like what you see? Visit the ' +\n",
              "            '<a target=\"_blank\" href=https://colab.research.google.com/notebooks/data_table.ipynb>data table notebook</a>'\n",
              "            + ' to learn more about interactive tables.';\n",
              "          element.innerHTML = '';\n",
              "          dataTable['output_type'] = 'display_data';\n",
              "          await google.colab.output.renderOutput(dataTable, element);\n",
              "          const docLink = document.createElement('div');\n",
              "          docLink.innerHTML = docLinkHtml;\n",
              "          element.appendChild(docLink);\n",
              "        }\n",
              "      </script>\n",
              "    </div>\n",
              "  </div>\n",
              "  "
            ]
          },
          "metadata": {},
          "execution_count": 110
        }
      ],
      "source": [
        "y_predict = pd.DataFrame(dt.predict(X_test), index= y_test.index, columns = ['Infected_predict'])\n",
        "y_predict"
      ]
    },
    {
      "cell_type": "code",
      "execution_count": null,
      "metadata": {
        "colab": {
          "base_uri": "https://localhost:8080/",
          "height": 424
        },
        "id": "SsSUiFYlWlpG",
        "outputId": "9a325f98-b423-437e-91a1-58752e1ecaa9"
      },
      "outputs": [
        {
          "output_type": "execute_result",
          "data": {
            "text/plain": [
              "        HasDetections  Infected_predict\n",
              "266696              1                 0\n",
              "75308               1                 1\n",
              "152839              1                 1\n",
              "494397              0                 1\n",
              "33877               1                 1\n",
              "...               ...               ...\n",
              "345561              0                 0\n",
              "97202               1                 1\n",
              "238214              0                 1\n",
              "448955              0                 0\n",
              "368150              0                 1\n",
              "\n",
              "[124818 rows x 2 columns]"
            ],
            "text/html": [
              "\n",
              "  <div id=\"df-29328261-8730-4f58-ae2c-30066c394050\">\n",
              "    <div class=\"colab-df-container\">\n",
              "      <div>\n",
              "<style scoped>\n",
              "    .dataframe tbody tr th:only-of-type {\n",
              "        vertical-align: middle;\n",
              "    }\n",
              "\n",
              "    .dataframe tbody tr th {\n",
              "        vertical-align: top;\n",
              "    }\n",
              "\n",
              "    .dataframe thead th {\n",
              "        text-align: right;\n",
              "    }\n",
              "</style>\n",
              "<table border=\"1\" class=\"dataframe\">\n",
              "  <thead>\n",
              "    <tr style=\"text-align: right;\">\n",
              "      <th></th>\n",
              "      <th>HasDetections</th>\n",
              "      <th>Infected_predict</th>\n",
              "    </tr>\n",
              "  </thead>\n",
              "  <tbody>\n",
              "    <tr>\n",
              "      <th>266696</th>\n",
              "      <td>1</td>\n",
              "      <td>0</td>\n",
              "    </tr>\n",
              "    <tr>\n",
              "      <th>75308</th>\n",
              "      <td>1</td>\n",
              "      <td>1</td>\n",
              "    </tr>\n",
              "    <tr>\n",
              "      <th>152839</th>\n",
              "      <td>1</td>\n",
              "      <td>1</td>\n",
              "    </tr>\n",
              "    <tr>\n",
              "      <th>494397</th>\n",
              "      <td>0</td>\n",
              "      <td>1</td>\n",
              "    </tr>\n",
              "    <tr>\n",
              "      <th>33877</th>\n",
              "      <td>1</td>\n",
              "      <td>1</td>\n",
              "    </tr>\n",
              "    <tr>\n",
              "      <th>...</th>\n",
              "      <td>...</td>\n",
              "      <td>...</td>\n",
              "    </tr>\n",
              "    <tr>\n",
              "      <th>345561</th>\n",
              "      <td>0</td>\n",
              "      <td>0</td>\n",
              "    </tr>\n",
              "    <tr>\n",
              "      <th>97202</th>\n",
              "      <td>1</td>\n",
              "      <td>1</td>\n",
              "    </tr>\n",
              "    <tr>\n",
              "      <th>238214</th>\n",
              "      <td>0</td>\n",
              "      <td>1</td>\n",
              "    </tr>\n",
              "    <tr>\n",
              "      <th>448955</th>\n",
              "      <td>0</td>\n",
              "      <td>0</td>\n",
              "    </tr>\n",
              "    <tr>\n",
              "      <th>368150</th>\n",
              "      <td>0</td>\n",
              "      <td>1</td>\n",
              "    </tr>\n",
              "  </tbody>\n",
              "</table>\n",
              "<p>124818 rows × 2 columns</p>\n",
              "</div>\n",
              "      <button class=\"colab-df-convert\" onclick=\"convertToInteractive('df-29328261-8730-4f58-ae2c-30066c394050')\"\n",
              "              title=\"Convert this dataframe to an interactive table.\"\n",
              "              style=\"display:none;\">\n",
              "        \n",
              "  <svg xmlns=\"http://www.w3.org/2000/svg\" height=\"24px\"viewBox=\"0 0 24 24\"\n",
              "       width=\"24px\">\n",
              "    <path d=\"M0 0h24v24H0V0z\" fill=\"none\"/>\n",
              "    <path d=\"M18.56 5.44l.94 2.06.94-2.06 2.06-.94-2.06-.94-.94-2.06-.94 2.06-2.06.94zm-11 1L8.5 8.5l.94-2.06 2.06-.94-2.06-.94L8.5 2.5l-.94 2.06-2.06.94zm10 10l.94 2.06.94-2.06 2.06-.94-2.06-.94-.94-2.06-.94 2.06-2.06.94z\"/><path d=\"M17.41 7.96l-1.37-1.37c-.4-.4-.92-.59-1.43-.59-.52 0-1.04.2-1.43.59L10.3 9.45l-7.72 7.72c-.78.78-.78 2.05 0 2.83L4 21.41c.39.39.9.59 1.41.59.51 0 1.02-.2 1.41-.59l7.78-7.78 2.81-2.81c.8-.78.8-2.07 0-2.86zM5.41 20L4 18.59l7.72-7.72 1.47 1.35L5.41 20z\"/>\n",
              "  </svg>\n",
              "      </button>\n",
              "      \n",
              "  <style>\n",
              "    .colab-df-container {\n",
              "      display:flex;\n",
              "      flex-wrap:wrap;\n",
              "      gap: 12px;\n",
              "    }\n",
              "\n",
              "    .colab-df-convert {\n",
              "      background-color: #E8F0FE;\n",
              "      border: none;\n",
              "      border-radius: 50%;\n",
              "      cursor: pointer;\n",
              "      display: none;\n",
              "      fill: #1967D2;\n",
              "      height: 32px;\n",
              "      padding: 0 0 0 0;\n",
              "      width: 32px;\n",
              "    }\n",
              "\n",
              "    .colab-df-convert:hover {\n",
              "      background-color: #E2EBFA;\n",
              "      box-shadow: 0px 1px 2px rgba(60, 64, 67, 0.3), 0px 1px 3px 1px rgba(60, 64, 67, 0.15);\n",
              "      fill: #174EA6;\n",
              "    }\n",
              "\n",
              "    [theme=dark] .colab-df-convert {\n",
              "      background-color: #3B4455;\n",
              "      fill: #D2E3FC;\n",
              "    }\n",
              "\n",
              "    [theme=dark] .colab-df-convert:hover {\n",
              "      background-color: #434B5C;\n",
              "      box-shadow: 0px 1px 3px 1px rgba(0, 0, 0, 0.15);\n",
              "      filter: drop-shadow(0px 1px 2px rgba(0, 0, 0, 0.3));\n",
              "      fill: #FFFFFF;\n",
              "    }\n",
              "  </style>\n",
              "\n",
              "      <script>\n",
              "        const buttonEl =\n",
              "          document.querySelector('#df-29328261-8730-4f58-ae2c-30066c394050 button.colab-df-convert');\n",
              "        buttonEl.style.display =\n",
              "          google.colab.kernel.accessAllowed ? 'block' : 'none';\n",
              "\n",
              "        async function convertToInteractive(key) {\n",
              "          const element = document.querySelector('#df-29328261-8730-4f58-ae2c-30066c394050');\n",
              "          const dataTable =\n",
              "            await google.colab.kernel.invokeFunction('convertToInteractive',\n",
              "                                                     [key], {});\n",
              "          if (!dataTable) return;\n",
              "\n",
              "          const docLinkHtml = 'Like what you see? Visit the ' +\n",
              "            '<a target=\"_blank\" href=https://colab.research.google.com/notebooks/data_table.ipynb>data table notebook</a>'\n",
              "            + ' to learn more about interactive tables.';\n",
              "          element.innerHTML = '';\n",
              "          dataTable['output_type'] = 'display_data';\n",
              "          await google.colab.output.renderOutput(dataTable, element);\n",
              "          const docLink = document.createElement('div');\n",
              "          docLink.innerHTML = docLinkHtml;\n",
              "          element.appendChild(docLink);\n",
              "        }\n",
              "      </script>\n",
              "    </div>\n",
              "  </div>\n",
              "  "
            ]
          },
          "metadata": {},
          "execution_count": 111
        }
      ],
      "source": [
        "results = y_test.join(y_predict)\n",
        "results"
      ]
    },
    {
      "cell_type": "code",
      "execution_count": null,
      "metadata": {
        "id": "4Ai621EyWxpW"
      },
      "outputs": [],
      "source": [
        "results['Success'] = (results['HasDetections'] == results['Infected_predict']).astype(int)"
      ]
    },
    {
      "cell_type": "code",
      "execution_count": null,
      "metadata": {
        "colab": {
          "base_uri": "https://localhost:8080/"
        },
        "id": "IvLsi-2bW8iz",
        "outputId": "65f7bde5-4901-4f6b-ebd5-0171ecc2d6db"
      },
      "outputs": [
        {
          "output_type": "execute_result",
          "data": {
            "text/plain": [
              "0.6134852345014341"
            ]
          },
          "metadata": {},
          "execution_count": 113
        }
      ],
      "source": [
        "results['Success'].mean()"
      ]
    },
    {
      "cell_type": "code",
      "execution_count": null,
      "metadata": {
        "colab": {
          "base_uri": "https://localhost:8080/"
        },
        "id": "v934rQximSm1",
        "outputId": "0ab88423-591c-4761-e06f-08de8d5587ca"
      },
      "outputs": [
        {
          "output_type": "execute_result",
          "data": {
            "text/plain": [
              "0.6134852345014341"
            ]
          },
          "metadata": {},
          "execution_count": 114
        }
      ],
      "source": [
        " #Precission\n",
        "\n",
        " dt.score(X_test, y_test)"
      ]
    },
    {
      "cell_type": "code",
      "execution_count": null,
      "metadata": {
        "colab": {
          "base_uri": "https://localhost:8080/"
        },
        "id": "AGbVbC0njcqC",
        "outputId": "bb10dee1-20a9-4414-fca8-cd39f2fe3e8c"
      },
      "outputs": [
        {
          "output_type": "execute_result",
          "data": {
            "text/plain": [
              "0.5783530563372897"
            ]
          },
          "metadata": {},
          "execution_count": 115
        }
      ],
      "source": [
        "#f_1score\n",
        "metrics.f1_score(y_test, y_predict)"
      ]
    },
    {
      "cell_type": "code",
      "execution_count": null,
      "metadata": {
        "id": "PUkRFdeXke3f"
      },
      "outputs": [],
      "source": [
        "y_score = pd.DataFrame(dt.predict_proba(X_test)[:, 1], index= X_test.index, columns= ['Infected_score'])\n",
        "results = results.join(y_score)"
      ]
    },
    {
      "cell_type": "code",
      "execution_count": null,
      "metadata": {
        "id": "Ln-JITFnlPAG",
        "colab": {
          "base_uri": "https://localhost:8080/",
          "height": 424
        },
        "outputId": "293c1228-b948-4d45-8a97-3c0fe6638053"
      },
      "outputs": [
        {
          "output_type": "execute_result",
          "data": {
            "text/plain": [
              "        HasDetections  Infected_predict  Success  Infected_score\n",
              "266696              1                 0        0        0.499384\n",
              "75308               1                 1        1        0.879049\n",
              "152839              1                 1        1        0.803663\n",
              "494397              0                 1        0        0.554687\n",
              "33877               1                 1        1        0.665601\n",
              "...               ...               ...      ...             ...\n",
              "345561              0                 0        1        0.363311\n",
              "97202               1                 1        1        0.608384\n",
              "238214              0                 1        0        0.923842\n",
              "448955              0                 0        1        0.226937\n",
              "368150              0                 1        0        0.543044\n",
              "\n",
              "[124818 rows x 4 columns]"
            ],
            "text/html": [
              "\n",
              "  <div id=\"df-4e5144e9-22d5-4313-b842-e948e6454884\">\n",
              "    <div class=\"colab-df-container\">\n",
              "      <div>\n",
              "<style scoped>\n",
              "    .dataframe tbody tr th:only-of-type {\n",
              "        vertical-align: middle;\n",
              "    }\n",
              "\n",
              "    .dataframe tbody tr th {\n",
              "        vertical-align: top;\n",
              "    }\n",
              "\n",
              "    .dataframe thead th {\n",
              "        text-align: right;\n",
              "    }\n",
              "</style>\n",
              "<table border=\"1\" class=\"dataframe\">\n",
              "  <thead>\n",
              "    <tr style=\"text-align: right;\">\n",
              "      <th></th>\n",
              "      <th>HasDetections</th>\n",
              "      <th>Infected_predict</th>\n",
              "      <th>Success</th>\n",
              "      <th>Infected_score</th>\n",
              "    </tr>\n",
              "  </thead>\n",
              "  <tbody>\n",
              "    <tr>\n",
              "      <th>266696</th>\n",
              "      <td>1</td>\n",
              "      <td>0</td>\n",
              "      <td>0</td>\n",
              "      <td>0.499384</td>\n",
              "    </tr>\n",
              "    <tr>\n",
              "      <th>75308</th>\n",
              "      <td>1</td>\n",
              "      <td>1</td>\n",
              "      <td>1</td>\n",
              "      <td>0.879049</td>\n",
              "    </tr>\n",
              "    <tr>\n",
              "      <th>152839</th>\n",
              "      <td>1</td>\n",
              "      <td>1</td>\n",
              "      <td>1</td>\n",
              "      <td>0.803663</td>\n",
              "    </tr>\n",
              "    <tr>\n",
              "      <th>494397</th>\n",
              "      <td>0</td>\n",
              "      <td>1</td>\n",
              "      <td>0</td>\n",
              "      <td>0.554687</td>\n",
              "    </tr>\n",
              "    <tr>\n",
              "      <th>33877</th>\n",
              "      <td>1</td>\n",
              "      <td>1</td>\n",
              "      <td>1</td>\n",
              "      <td>0.665601</td>\n",
              "    </tr>\n",
              "    <tr>\n",
              "      <th>...</th>\n",
              "      <td>...</td>\n",
              "      <td>...</td>\n",
              "      <td>...</td>\n",
              "      <td>...</td>\n",
              "    </tr>\n",
              "    <tr>\n",
              "      <th>345561</th>\n",
              "      <td>0</td>\n",
              "      <td>0</td>\n",
              "      <td>1</td>\n",
              "      <td>0.363311</td>\n",
              "    </tr>\n",
              "    <tr>\n",
              "      <th>97202</th>\n",
              "      <td>1</td>\n",
              "      <td>1</td>\n",
              "      <td>1</td>\n",
              "      <td>0.608384</td>\n",
              "    </tr>\n",
              "    <tr>\n",
              "      <th>238214</th>\n",
              "      <td>0</td>\n",
              "      <td>1</td>\n",
              "      <td>0</td>\n",
              "      <td>0.923842</td>\n",
              "    </tr>\n",
              "    <tr>\n",
              "      <th>448955</th>\n",
              "      <td>0</td>\n",
              "      <td>0</td>\n",
              "      <td>1</td>\n",
              "      <td>0.226937</td>\n",
              "    </tr>\n",
              "    <tr>\n",
              "      <th>368150</th>\n",
              "      <td>0</td>\n",
              "      <td>1</td>\n",
              "      <td>0</td>\n",
              "      <td>0.543044</td>\n",
              "    </tr>\n",
              "  </tbody>\n",
              "</table>\n",
              "<p>124818 rows × 4 columns</p>\n",
              "</div>\n",
              "      <button class=\"colab-df-convert\" onclick=\"convertToInteractive('df-4e5144e9-22d5-4313-b842-e948e6454884')\"\n",
              "              title=\"Convert this dataframe to an interactive table.\"\n",
              "              style=\"display:none;\">\n",
              "        \n",
              "  <svg xmlns=\"http://www.w3.org/2000/svg\" height=\"24px\"viewBox=\"0 0 24 24\"\n",
              "       width=\"24px\">\n",
              "    <path d=\"M0 0h24v24H0V0z\" fill=\"none\"/>\n",
              "    <path d=\"M18.56 5.44l.94 2.06.94-2.06 2.06-.94-2.06-.94-.94-2.06-.94 2.06-2.06.94zm-11 1L8.5 8.5l.94-2.06 2.06-.94-2.06-.94L8.5 2.5l-.94 2.06-2.06.94zm10 10l.94 2.06.94-2.06 2.06-.94-2.06-.94-.94-2.06-.94 2.06-2.06.94z\"/><path d=\"M17.41 7.96l-1.37-1.37c-.4-.4-.92-.59-1.43-.59-.52 0-1.04.2-1.43.59L10.3 9.45l-7.72 7.72c-.78.78-.78 2.05 0 2.83L4 21.41c.39.39.9.59 1.41.59.51 0 1.02-.2 1.41-.59l7.78-7.78 2.81-2.81c.8-.78.8-2.07 0-2.86zM5.41 20L4 18.59l7.72-7.72 1.47 1.35L5.41 20z\"/>\n",
              "  </svg>\n",
              "      </button>\n",
              "      \n",
              "  <style>\n",
              "    .colab-df-container {\n",
              "      display:flex;\n",
              "      flex-wrap:wrap;\n",
              "      gap: 12px;\n",
              "    }\n",
              "\n",
              "    .colab-df-convert {\n",
              "      background-color: #E8F0FE;\n",
              "      border: none;\n",
              "      border-radius: 50%;\n",
              "      cursor: pointer;\n",
              "      display: none;\n",
              "      fill: #1967D2;\n",
              "      height: 32px;\n",
              "      padding: 0 0 0 0;\n",
              "      width: 32px;\n",
              "    }\n",
              "\n",
              "    .colab-df-convert:hover {\n",
              "      background-color: #E2EBFA;\n",
              "      box-shadow: 0px 1px 2px rgba(60, 64, 67, 0.3), 0px 1px 3px 1px rgba(60, 64, 67, 0.15);\n",
              "      fill: #174EA6;\n",
              "    }\n",
              "\n",
              "    [theme=dark] .colab-df-convert {\n",
              "      background-color: #3B4455;\n",
              "      fill: #D2E3FC;\n",
              "    }\n",
              "\n",
              "    [theme=dark] .colab-df-convert:hover {\n",
              "      background-color: #434B5C;\n",
              "      box-shadow: 0px 1px 3px 1px rgba(0, 0, 0, 0.15);\n",
              "      filter: drop-shadow(0px 1px 2px rgba(0, 0, 0, 0.3));\n",
              "      fill: #FFFFFF;\n",
              "    }\n",
              "  </style>\n",
              "\n",
              "      <script>\n",
              "        const buttonEl =\n",
              "          document.querySelector('#df-4e5144e9-22d5-4313-b842-e948e6454884 button.colab-df-convert');\n",
              "        buttonEl.style.display =\n",
              "          google.colab.kernel.accessAllowed ? 'block' : 'none';\n",
              "\n",
              "        async function convertToInteractive(key) {\n",
              "          const element = document.querySelector('#df-4e5144e9-22d5-4313-b842-e948e6454884');\n",
              "          const dataTable =\n",
              "            await google.colab.kernel.invokeFunction('convertToInteractive',\n",
              "                                                     [key], {});\n",
              "          if (!dataTable) return;\n",
              "\n",
              "          const docLinkHtml = 'Like what you see? Visit the ' +\n",
              "            '<a target=\"_blank\" href=https://colab.research.google.com/notebooks/data_table.ipynb>data table notebook</a>'\n",
              "            + ' to learn more about interactive tables.';\n",
              "          element.innerHTML = '';\n",
              "          dataTable['output_type'] = 'display_data';\n",
              "          await google.colab.output.renderOutput(dataTable, element);\n",
              "          const docLink = document.createElement('div');\n",
              "          docLink.innerHTML = docLinkHtml;\n",
              "          element.appendChild(docLink);\n",
              "        }\n",
              "      </script>\n",
              "    </div>\n",
              "  </div>\n",
              "  "
            ]
          },
          "metadata": {},
          "execution_count": 117
        }
      ],
      "source": [
        "results"
      ]
    },
    {
      "cell_type": "code",
      "execution_count": null,
      "metadata": {
        "colab": {
          "base_uri": "https://localhost:8080/"
        },
        "id": "gbUEwbxejkeM",
        "outputId": "5f22c910-5d34-4bba-e895-d28028dd7e33"
      },
      "outputs": [
        {
          "output_type": "execute_result",
          "data": {
            "text/plain": [
              "0.6696274884583049"
            ]
          },
          "metadata": {},
          "execution_count": 118
        }
      ],
      "source": [
        "metrics.roc_auc_score(results['HasDetections'], results['Infected_score'])"
      ]
    },
    {
      "cell_type": "code",
      "execution_count": null,
      "metadata": {
        "id": "pRYTBrUQlY0Y"
      },
      "outputs": [],
      "source": [
        "fpr, tpr, th = metrics.roc_curve(results['HasDetections'], results['Infected_score'])"
      ]
    },
    {
      "cell_type": "code",
      "execution_count": null,
      "metadata": {
        "id": "YCw1sXGbm4pc",
        "colab": {
          "base_uri": "https://localhost:8080/",
          "height": 367
        },
        "outputId": "aa79a482-0614-4ec1-917d-47ebd38a27da"
      },
      "outputs": [
        {
          "output_type": "execute_result",
          "data": {
            "text/plain": [
              "Text(0.5, 0, 'FPR')"
            ]
          },
          "metadata": {},
          "execution_count": 120
        },
        {
          "output_type": "display_data",
          "data": {
            "text/plain": [
              "<Figure size 720x360 with 1 Axes>"
            ],
            "image/png": "[encoded data removed]"
          },
          "metadata": {
            "needs_background": "light"
          }
        }
      ],
      "source": [
        "plt.figure(figsize= (10,5))\n",
        "plt.plot(fpr, tpr)\n",
        "plt.plot([0,1],[0,1], color= 'black', linestyle = '--')\n",
        "plt.title('ROC Curve')\n",
        "plt.ylabel('TPR')\n",
        "plt.xlabel('FPR')"
      ]
    },
    {
      "cell_type": "code",
      "execution_count": null,
      "metadata": {
        "id": "a59LNsm1m4mS",
        "colab": {
          "base_uri": "https://localhost:8080/"
        },
        "outputId": "bd5c2df8-1dd1-4548-b840-1e56e02de5b2"
      },
      "outputs": [
        {
          "output_type": "stream",
          "name": "stdout",
          "text": [
            "profundidad del arbol: 1, accuracy en train: 0.5715617180260273, accuracy en test: 0.5716963899437582, overfit: -0.0001346719177308664\n",
            "profundidad del arbol: 2, accuracy en train: 0.5803612202332469, accuracy en test: 0.5786905734749795, overfit: 0.0016706467582673357\n",
            "profundidad del arbol: 3, accuracy en train: 0.6032960077766769, accuracy en test: 0.6027576150875675, overfit: 0.0005383926891093793\n",
            "profundidad del arbol: 4, accuracy en train: 0.6034962999361736, accuracy en test: 0.6027576150875675, overfit: 0.0007386848486060638\n",
            "profundidad del arbol: 5, accuracy en train: 0.6121195450430361, accuracy en test: 0.6110577000112163, overfit: 0.0010618450318198303\n",
            "profundidad del arbol: 6, accuracy en train: 0.6157034394169629, accuracy en test: 0.6148552292137351, overfit: 0.0008482102032277838\n",
            "profundidad del arbol: 7, accuracy en train: 0.6166514889719137, accuracy en test: 0.6134852345014341, overfit: 0.003166254470479579\n",
            "profundidad del arbol: 8, accuracy en train: 0.6208709771319765, accuracy en test: 0.6171625887291897, overfit: 0.0037083884027867553\n",
            "profundidad del arbol: 9, accuracy en train: 0.6243106611510657, accuracy en test: 0.6174750436635742, overfit: 0.006835617487491508\n",
            "profundidad del arbol: 10, accuracy en train: 0.6299108299305921, accuracy en test: 0.6215770161354933, overfit: 0.008333813795098788\n",
            "profundidad del arbol: 11, accuracy en train: 0.634384021492684, accuracy en test: 0.6229950808376997, overfit: 0.011388940654984303\n",
            "profundidad del arbol: 12, accuracy en train: 0.6384379348008963, accuracy en test: 0.6212084795462193, overfit: 0.017229455254677006\n",
            "profundidad del arbol: 13, accuracy en train: 0.6449941648217533, accuracy en test: 0.6222019260042622, overfit: 0.02279223881749115\n",
            "profundidad del arbol: 14, accuracy en train: 0.6510803759083249, accuracy en test: 0.620239068083129, overfit: 0.030841307825195896\n",
            "profundidad del arbol: 15, accuracy en train: 0.6579036621418443, accuracy en test: 0.618684805076191, overfit: 0.03921885706565331\n",
            "profundidad del arbol: 16, accuracy en train: 0.665154238315623, accuracy en test: 0.6148792642086879, overfit: 0.050274974106935155\n",
            "profundidad del arbol: 17, accuracy en train: 0.672276627507324, accuracy en test: 0.6115544232402378, overfit: 0.06072220426708619\n"
          ]
        }
      ],
      "source": [
        "# Controlar el overfitting\n",
        "for i in range(1, 18):\n",
        "  dt = DecisionTreeClassifier(max_depth= i, min_samples_split= 50, random_state=42)\n",
        "  dt.fit(X_train, y_train)\n",
        "  train_acc = dt.score(X_train, y_train)\n",
        "  test_acc = dt.score(X_test, y_test)\n",
        "\n",
        "  print(f'profundidad del arbol: {i}, accuracy en train: {train_acc}, accuracy en test: {test_acc}, overfit: {train_acc- test_acc}')\n"
      ]
    },
    {
      "cell_type": "markdown",
      "metadata": {
        "id": "P3ghGzFtuqDy"
      },
      "source": [
        "It can be seen how the values ​​to choose would be between depth 6 and 10, since at depth 10 the accuracy of the test stops growing and at depth 6 there is an increase in overfitting"
      ]
    },
    {
      "cell_type": "code",
      "execution_count": null,
      "metadata": {
        "id": "wH-W_GZrvf6W"
      },
      "outputs": [],
      "source": [
        "###Random Forest"
      ]
    },
    {
      "cell_type": "code",
      "execution_count": null,
      "metadata": {
        "id": "e_xGDn9jviGS"
      },
      "outputs": [],
      "source": [
        "dt_rf = RandomForestClassifier(n_estimators = 3, max_depth = 4, random_state = 42)"
      ]
    },
    {
      "cell_type": "code",
      "execution_count": null,
      "metadata": {
        "colab": {
          "base_uri": "https://localhost:8080/"
        },
        "id": "5VJSAJYv2iOf",
        "outputId": "4ba31529-2df8-4149-f183-c10de0eaf608"
      },
      "outputs": [
        {
          "output_type": "execute_result",
          "data": {
            "text/plain": [
              "RandomForestClassifier(max_depth=4, n_estimators=3, random_state=42)"
            ]
          },
          "metadata": {},
          "execution_count": 124
        }
      ],
      "source": [
        "dt_rf.fit(X_train, np.ravel(y_train))"
      ]
    },
    {
      "cell_type": "code",
      "execution_count": null,
      "metadata": {
        "id": "kspMcmP2GBNg"
      },
      "outputs": [],
      "source": [
        "dt_estimators = dt_rf.estimators_\n"
      ]
    },
    {
      "cell_type": "code",
      "execution_count": null,
      "metadata": {
        "id": "fi1tzcw-GmsE"
      },
      "outputs": [],
      "source": [
        " test_tree_0 = export_graphviz(dt_estimators[0], \n",
        "                            out_file=None,\n",
        "                            max_depth=None,\n",
        "                            feature_names= X_test.columns,\n",
        "                            class_names=['Not infected', 'Infected'],\n",
        "                            label='all', \n",
        "                            filled=True, \n",
        "                            leaves_parallel=False, \n",
        "                            impurity=True, \n",
        "                            node_ids=False,\n",
        "                            proportion=True,\n",
        "                            rotate=True, \n",
        "                            rounded=False, \n",
        "                            special_characters=False, \n",
        "                            precision=3, \n",
        "                            fontname='helvetica')"
      ]
    },
    {
      "cell_type": "code",
      "execution_count": null,
      "metadata": {
        "id": "us-Nj3wrGqU7",
        "colab": {
          "base_uri": "https://localhost:8080/"
        },
        "outputId": "6ab4feb2-d1e0-4a71-b561-f89c849d2cd5"
      },
      "outputs": [
        {
          "output_type": "execute_result",
          "data": {
            "text/plain": [
              "<graphviz.files.Source at 0x7f6c453bbb50>"
            ],
            "image/svg+xml": "<?xml version=\"1.0\" encoding=\"UTF-8\" standalone=\"no\"?>\n<!DOCTYPE svg PUBLIC \"-//W3C//DTD SVG 1.1//EN\"\n \"http://www.w3.org/Graphics/SVG/1.1/DTD/svg11.dtd\">\n<!-- Generated by graphviz version 2.43.0 (0)\n -->\n<!-- Title: Tree Pages: 1 -->\n<svg width=\"1365pt\" height=\"1366pt\"\n viewBox=\"0.00 0.00 1365.00 1366.00\" xmlns=\"http://www.w3.org/2000/svg\" xmlns:xlink=\"http://www.w3.org/1999/xlink\">\n<g id=\"graph0\" class=\"graph\" transform=\"scale(1 1) rotate(0) translate(4 1362)\">\n<title>Tree</title>\n<polygon fill=\"white\" stroke=\"transparent\" points=\"-4,4 -4,-1362 1361,-1362 1361,4 -4,4\"/>\n<!-- 0 -->\n<g id=\"node1\" class=\"node\">\n<title>0</title>\n<polygon fill=\"#fffffe\" stroke=\"black\" points=\"224,-770.5 0,-770.5 0,-687.5 224,-687.5 224,-770.5\"/>\n<text text-anchor=\"middle\" x=\"112\" y=\"-755.3\" font-family=\"Helvetica,sans-Serif\" font-size=\"14.00\">SmartScreen_ExistsNotSet &lt;= 0.5</text>\n<text text-anchor=\"middle\" x=\"112\" y=\"-740.3\" font-family=\"Helvetica,sans-Serif\" font-size=\"14.00\">gini = 0.5</text>\n<text text-anchor=\"middle\" x=\"112\" y=\"-725.3\" font-family=\"Helvetica,sans-Serif\" font-size=\"14.00\">samples = 100.0%</text>\n<text text-anchor=\"middle\" x=\"112\" y=\"-710.3\" font-family=\"Helvetica,sans-Serif\" font-size=\"14.00\">value = [0.501, 0.499]</text>\n<text text-anchor=\"middle\" x=\"112\" y=\"-695.3\" font-family=\"Helvetica,sans-Serif\" font-size=\"14.00\">class = Not infected</text>\n</g>\n<!-- 1 -->\n<g id=\"node2\" class=\"node\">\n<title>1</title>\n<polygon fill=\"#fbece1\" stroke=\"black\" points=\"494.5,-893.5 314.5,-893.5 314.5,-810.5 494.5,-810.5 494.5,-893.5\"/>\n<text text-anchor=\"middle\" x=\"404.5\" y=\"-878.3\" font-family=\"Helvetica,sans-Serif\" font-size=\"14.00\">AVProductsInstalled &lt;= 1.5</text>\n<text text-anchor=\"middle\" x=\"404.5\" y=\"-863.3\" font-family=\"Helvetica,sans-Serif\" font-size=\"14.00\">gini = 0.497</text>\n<text text-anchor=\"middle\" x=\"404.5\" y=\"-848.3\" font-family=\"Helvetica,sans-Serif\" font-size=\"14.00\">samples = 88.2%</text>\n<text text-anchor=\"middle\" x=\"404.5\" y=\"-833.3\" font-family=\"Helvetica,sans-Serif\" font-size=\"14.00\">value = [0.542, 0.458]</text>\n<text text-anchor=\"middle\" x=\"404.5\" y=\"-818.3\" font-family=\"Helvetica,sans-Serif\" font-size=\"14.00\">class = Not infected</text>\n</g>\n<!-- 0&#45;&gt;1 -->\n<g id=\"edge1\" class=\"edge\">\n<title>0&#45;&gt;1</title>\n<path fill=\"none\" stroke=\"black\" d=\"M211.35,-770.64C241.48,-783.4 274.63,-797.44 304.79,-810.2\"/>\n<polygon fill=\"black\" stroke=\"black\" points=\"303.47,-813.45 314.04,-814.12 306.2,-807 303.47,-813.45\"/>\n<text text-anchor=\"middle\" x=\"290.87\" y=\"-819.81\" font-family=\"Helvetica,sans-Serif\" font-size=\"14.00\">True</text>\n</g>\n<!-- 16 -->\n<g id=\"node17\" class=\"node\">\n<title>16</title>\n<polygon fill=\"#69b5eb\" stroke=\"black\" points=\"549,-548.5 260,-548.5 260,-465.5 549,-465.5 549,-548.5\"/>\n<text text-anchor=\"middle\" x=\"404.5\" y=\"-533.3\" font-family=\"Helvetica,sans-Serif\" font-size=\"14.00\">Census_OSInstallTypeName_Refresh &lt;= 0.5</text>\n<text text-anchor=\"middle\" x=\"404.5\" y=\"-518.3\" font-family=\"Helvetica,sans-Serif\" font-size=\"14.00\">gini = 0.312</text>\n<text text-anchor=\"middle\" x=\"404.5\" y=\"-503.3\" font-family=\"Helvetica,sans-Serif\" font-size=\"14.00\">samples = 11.8%</text>\n<text text-anchor=\"middle\" x=\"404.5\" y=\"-488.3\" font-family=\"Helvetica,sans-Serif\" font-size=\"14.00\">value = [0.194, 0.806]</text>\n<text text-anchor=\"middle\" x=\"404.5\" y=\"-473.3\" font-family=\"Helvetica,sans-Serif\" font-size=\"14.00\">class = Infected</text>\n</g>\n<!-- 0&#45;&gt;16 -->\n<g id=\"edge16\" class=\"edge\">\n<title>0&#45;&gt;16</title>\n<path fill=\"none\" stroke=\"black\" d=\"M167.64,-687.24C216.94,-649.57 289.43,-594.17 341.01,-554.75\"/>\n<polygon fill=\"black\" stroke=\"black\" points=\"343.28,-557.42 349.1,-548.57 339.03,-551.86 343.28,-557.42\"/>\n<text text-anchor=\"middle\" x=\"324.32\" y=\"-541.56\" font-family=\"Helvetica,sans-Serif\" font-size=\"14.00\">False</text>\n</g>\n<!-- 2 -->\n<g id=\"node3\" class=\"node\">\n<title>2</title>\n<polygon fill=\"#fafdfe\" stroke=\"black\" points=\"799.5,-1143.5 600.5,-1143.5 600.5,-1060.5 799.5,-1060.5 799.5,-1143.5\"/>\n<text text-anchor=\"middle\" x=\"700\" y=\"-1128.3\" font-family=\"Helvetica,sans-Serif\" font-size=\"14.00\">AppVersion_count &lt;= 13799.5</text>\n<text text-anchor=\"middle\" x=\"700\" y=\"-1113.3\" font-family=\"Helvetica,sans-Serif\" font-size=\"14.00\">gini = 0.5</text>\n<text text-anchor=\"middle\" x=\"700\" y=\"-1098.3\" font-family=\"Helvetica,sans-Serif\" font-size=\"14.00\">samples = 61.4%</text>\n<text text-anchor=\"middle\" x=\"700\" y=\"-1083.3\" font-family=\"Helvetica,sans-Serif\" font-size=\"14.00\">value = [0.494, 0.506]</text>\n<text text-anchor=\"middle\" x=\"700\" y=\"-1068.3\" font-family=\"Helvetica,sans-Serif\" font-size=\"14.00\">class = Infected</text>\n</g>\n<!-- 1&#45;&gt;2 -->\n<g id=\"edge2\" class=\"edge\">\n<title>1&#45;&gt;2</title>\n<path fill=\"none\" stroke=\"black\" d=\"M454.3,-893.56C506.03,-937.63 587.66,-1007.16 642.24,-1053.65\"/>\n<polygon fill=\"black\" stroke=\"black\" points=\"640.21,-1056.52 650.09,-1060.34 644.75,-1051.19 640.21,-1056.52\"/>\n</g>\n<!-- 9 -->\n<g id=\"node10\" class=\"node\">\n<title>9</title>\n<polygon fill=\"#f3c4a3\" stroke=\"black\" points=\"795,-893.5 605,-893.5 605,-810.5 795,-810.5 795,-893.5\"/>\n<text text-anchor=\"middle\" x=\"700\" y=\"-878.3\" font-family=\"Helvetica,sans-Serif\" font-size=\"14.00\">Processor_x64_False &lt;= 0.5</text>\n<text text-anchor=\"middle\" x=\"700\" y=\"-863.3\" font-family=\"Helvetica,sans-Serif\" font-size=\"14.00\">gini = 0.454</text>\n<text text-anchor=\"middle\" x=\"700\" y=\"-848.3\" font-family=\"Helvetica,sans-Serif\" font-size=\"14.00\">samples = 26.9%</text>\n<text text-anchor=\"middle\" x=\"700\" y=\"-833.3\" font-family=\"Helvetica,sans-Serif\" font-size=\"14.00\">value = [0.651, 0.349]</text>\n<text text-anchor=\"middle\" x=\"700\" y=\"-818.3\" font-family=\"Helvetica,sans-Serif\" font-size=\"14.00\">class = Not infected</text>\n</g>\n<!-- 1&#45;&gt;9 -->\n<g id=\"edge9\" class=\"edge\">\n<title>1&#45;&gt;9</title>\n<path fill=\"none\" stroke=\"black\" d=\"M494.76,-852C526.32,-852 562.09,-852 594.79,-852\"/>\n<polygon fill=\"black\" stroke=\"black\" points=\"594.82,-855.5 604.82,-852 594.82,-848.5 594.82,-855.5\"/>\n</g>\n<!-- 3 -->\n<g id=\"node4\" class=\"node\">\n<title>3</title>\n<polygon fill=\"#f9e1d0\" stroke=\"black\" points=\"1157.5,-1279.5 867.5,-1279.5 867.5,-1196.5 1157.5,-1196.5 1157.5,-1279.5\"/>\n<text text-anchor=\"middle\" x=\"1012.5\" y=\"-1264.3\" font-family=\"Helvetica,sans-Serif\" font-size=\"14.00\">Census_OSArchitecture_amd64_True &lt;= 0.5</text>\n<text text-anchor=\"middle\" x=\"1012.5\" y=\"-1249.3\" font-family=\"Helvetica,sans-Serif\" font-size=\"14.00\">gini = 0.491</text>\n<text text-anchor=\"middle\" x=\"1012.5\" y=\"-1234.3\" font-family=\"Helvetica,sans-Serif\" font-size=\"14.00\">samples = 12.1%</text>\n<text text-anchor=\"middle\" x=\"1012.5\" y=\"-1219.3\" font-family=\"Helvetica,sans-Serif\" font-size=\"14.00\">value = [0.568, 0.432]</text>\n<text text-anchor=\"middle\" x=\"1012.5\" y=\"-1204.3\" font-family=\"Helvetica,sans-Serif\" font-size=\"14.00\">class = Not infected</text>\n</g>\n<!-- 2&#45;&gt;3 -->\n<g id=\"edge3\" class=\"edge\">\n<title>2&#45;&gt;3</title>\n<path fill=\"none\" stroke=\"black\" d=\"M795.85,-1143.54C831.05,-1158.96 871.15,-1176.53 907.15,-1192.3\"/>\n<polygon fill=\"black\" stroke=\"black\" points=\"906.13,-1195.67 916.7,-1196.48 908.94,-1189.26 906.13,-1195.67\"/>\n</g>\n<!-- 6 -->\n<g id=\"node7\" class=\"node\">\n<title>6</title>\n<polygon fill=\"#ecf6fd\" stroke=\"black\" points=\"1087,-1143.5 938,-1143.5 938,-1060.5 1087,-1060.5 1087,-1143.5\"/>\n<text text-anchor=\"middle\" x=\"1012.5\" y=\"-1128.3\" font-family=\"Helvetica,sans-Serif\" font-size=\"14.00\">Wdft_IsGamer &lt;= 0.5</text>\n<text text-anchor=\"middle\" x=\"1012.5\" y=\"-1113.3\" font-family=\"Helvetica,sans-Serif\" font-size=\"14.00\">gini = 0.499</text>\n<text text-anchor=\"middle\" x=\"1012.5\" y=\"-1098.3\" font-family=\"Helvetica,sans-Serif\" font-size=\"14.00\">samples = 49.3%</text>\n<text text-anchor=\"middle\" x=\"1012.5\" y=\"-1083.3\" font-family=\"Helvetica,sans-Serif\" font-size=\"14.00\">value = [0.475, 0.525]</text>\n<text text-anchor=\"middle\" x=\"1012.5\" y=\"-1068.3\" font-family=\"Helvetica,sans-Serif\" font-size=\"14.00\">class = Infected</text>\n</g>\n<!-- 2&#45;&gt;6 -->\n<g id=\"edge6\" class=\"edge\">\n<title>2&#45;&gt;6</title>\n<path fill=\"none\" stroke=\"black\" d=\"M799.67,-1102C840.84,-1102 888.15,-1102 927.61,-1102\"/>\n<polygon fill=\"black\" stroke=\"black\" points=\"927.72,-1105.5 937.72,-1102 927.72,-1098.5 927.72,-1105.5\"/>\n</g>\n<!-- 4 -->\n<g id=\"node5\" class=\"node\">\n<title>4</title>\n<polygon fill=\"#f4cbad\" stroke=\"black\" points=\"1351,-1358 1216,-1358 1216,-1290 1351,-1290 1351,-1358\"/>\n<text text-anchor=\"middle\" x=\"1283.5\" y=\"-1342.8\" font-family=\"Helvetica,sans-Serif\" font-size=\"14.00\">gini = 0.466</text>\n<text text-anchor=\"middle\" x=\"1283.5\" y=\"-1327.8\" font-family=\"Helvetica,sans-Serif\" font-size=\"14.00\">samples = 2.0%</text>\n<text text-anchor=\"middle\" x=\"1283.5\" y=\"-1312.8\" font-family=\"Helvetica,sans-Serif\" font-size=\"14.00\">value = [0.63, 0.37]</text>\n<text text-anchor=\"middle\" x=\"1283.5\" y=\"-1297.8\" font-family=\"Helvetica,sans-Serif\" font-size=\"14.00\">class = Not infected</text>\n</g>\n<!-- 3&#45;&gt;4 -->\n<g id=\"edge4\" class=\"edge\">\n<title>3&#45;&gt;4</title>\n<path fill=\"none\" stroke=\"black\" d=\"M1143.67,-1279.61C1165.01,-1286.44 1186.49,-1293.31 1205.97,-1299.53\"/>\n<polygon fill=\"black\" stroke=\"black\" points=\"1205.07,-1302.92 1215.66,-1302.63 1207.2,-1296.25 1205.07,-1302.92\"/>\n</g>\n<!-- 5 -->\n<g id=\"node6\" class=\"node\">\n<title>5</title>\n<polygon fill=\"#fae6d7\" stroke=\"black\" points=\"1357,-1272 1210,-1272 1210,-1204 1357,-1204 1357,-1272\"/>\n<text text-anchor=\"middle\" x=\"1283.5\" y=\"-1256.8\" font-family=\"Helvetica,sans-Serif\" font-size=\"14.00\">gini = 0.494</text>\n<text text-anchor=\"middle\" x=\"1283.5\" y=\"-1241.8\" font-family=\"Helvetica,sans-Serif\" font-size=\"14.00\">samples = 10.1%</text>\n<text text-anchor=\"middle\" x=\"1283.5\" y=\"-1226.8\" font-family=\"Helvetica,sans-Serif\" font-size=\"14.00\">value = [0.556, 0.444]</text>\n<text text-anchor=\"middle\" x=\"1283.5\" y=\"-1211.8\" font-family=\"Helvetica,sans-Serif\" font-size=\"14.00\">class = Not infected</text>\n</g>\n<!-- 3&#45;&gt;5 -->\n<g id=\"edge5\" class=\"edge\">\n<title>3&#45;&gt;5</title>\n<path fill=\"none\" stroke=\"black\" d=\"M1157.84,-1238C1172.15,-1238 1186.3,-1238 1199.65,-1238\"/>\n<polygon fill=\"black\" stroke=\"black\" points=\"1199.69,-1241.5 1209.69,-1238 1199.69,-1234.5 1199.69,-1241.5\"/>\n</g>\n<!-- 7 -->\n<g id=\"node8\" class=\"node\">\n<title>7</title>\n<polygon fill=\"#fefcfa\" stroke=\"black\" points=\"1357,-1186 1210,-1186 1210,-1118 1357,-1118 1357,-1186\"/>\n<text text-anchor=\"middle\" x=\"1283.5\" y=\"-1170.8\" font-family=\"Helvetica,sans-Serif\" font-size=\"14.00\">gini = 0.5</text>\n<text text-anchor=\"middle\" x=\"1283.5\" y=\"-1155.8\" font-family=\"Helvetica,sans-Serif\" font-size=\"14.00\">samples = 34.3%</text>\n<text text-anchor=\"middle\" x=\"1283.5\" y=\"-1140.8\" font-family=\"Helvetica,sans-Serif\" font-size=\"14.00\">value = [0.506, 0.494]</text>\n<text text-anchor=\"middle\" x=\"1283.5\" y=\"-1125.8\" font-family=\"Helvetica,sans-Serif\" font-size=\"14.00\">class = Not infected</text>\n</g>\n<!-- 6&#45;&gt;7 -->\n<g id=\"edge7\" class=\"edge\">\n<title>6&#45;&gt;7</title>\n<path fill=\"none\" stroke=\"black\" d=\"M1087.01,-1115.66C1121.84,-1122.14 1163.6,-1129.9 1199.57,-1136.59\"/>\n<polygon fill=\"black\" stroke=\"black\" points=\"1199.08,-1140.05 1209.55,-1138.44 1200.36,-1133.17 1199.08,-1140.05\"/>\n</g>\n<!-- 8 -->\n<g id=\"node9\" class=\"node\">\n<title>8</title>\n<polygon fill=\"#bfe0f7\" stroke=\"black\" points=\"1357,-1100 1210,-1100 1210,-1032 1357,-1032 1357,-1100\"/>\n<text text-anchor=\"middle\" x=\"1283.5\" y=\"-1084.8\" font-family=\"Helvetica,sans-Serif\" font-size=\"14.00\">gini = 0.482</text>\n<text text-anchor=\"middle\" x=\"1283.5\" y=\"-1069.8\" font-family=\"Helvetica,sans-Serif\" font-size=\"14.00\">samples = 15.0%</text>\n<text text-anchor=\"middle\" x=\"1283.5\" y=\"-1054.8\" font-family=\"Helvetica,sans-Serif\" font-size=\"14.00\">value = [0.404, 0.596]</text>\n<text text-anchor=\"middle\" x=\"1283.5\" y=\"-1039.8\" font-family=\"Helvetica,sans-Serif\" font-size=\"14.00\">class = Infected</text>\n</g>\n<!-- 6&#45;&gt;8 -->\n<g id=\"edge8\" class=\"edge\">\n<title>6&#45;&gt;8</title>\n<path fill=\"none\" stroke=\"black\" d=\"M1087.01,-1092.16C1121.84,-1087.5 1163.6,-1081.91 1199.57,-1077.1\"/>\n<polygon fill=\"black\" stroke=\"black\" points=\"1200.1,-1080.56 1209.55,-1075.76 1199.17,-1073.62 1200.1,-1080.56\"/>\n</g>\n<!-- 10 -->\n<g id=\"node11\" class=\"node\">\n<title>10</title>\n<polygon fill=\"#f3c6a5\" stroke=\"black\" points=\"1102.5,-943.5 922.5,-943.5 922.5,-860.5 1102.5,-860.5 1102.5,-943.5\"/>\n<text text-anchor=\"middle\" x=\"1012.5\" y=\"-928.3\" font-family=\"Helvetica,sans-Serif\" font-size=\"14.00\">AVProductsInstalled &lt;= 2.5</text>\n<text text-anchor=\"middle\" x=\"1012.5\" y=\"-913.3\" font-family=\"Helvetica,sans-Serif\" font-size=\"14.00\">gini = 0.457</text>\n<text text-anchor=\"middle\" x=\"1012.5\" y=\"-898.3\" font-family=\"Helvetica,sans-Serif\" font-size=\"14.00\">samples = 24.9%</text>\n<text text-anchor=\"middle\" x=\"1012.5\" y=\"-883.3\" font-family=\"Helvetica,sans-Serif\" font-size=\"14.00\">value = [0.647, 0.353]</text>\n<text text-anchor=\"middle\" x=\"1012.5\" y=\"-868.3\" font-family=\"Helvetica,sans-Serif\" font-size=\"14.00\">class = Not infected</text>\n</g>\n<!-- 9&#45;&gt;10 -->\n<g id=\"edge10\" class=\"edge\">\n<title>9&#45;&gt;10</title>\n<path fill=\"none\" stroke=\"black\" d=\"M795,-867.14C832.12,-873.11 874.79,-879.99 912.39,-886.04\"/>\n<polygon fill=\"black\" stroke=\"black\" points=\"911.91,-889.51 922.34,-887.64 913.02,-882.6 911.91,-889.51\"/>\n</g>\n<!-- 13 -->\n<g id=\"node14\" class=\"node\">\n<title>13</title>\n<polygon fill=\"#f0b68d\" stroke=\"black\" points=\"1173,-842.5 852,-842.5 852,-759.5 1173,-759.5 1173,-842.5\"/>\n<text text-anchor=\"middle\" x=\"1012.5\" y=\"-827.3\" font-family=\"Helvetica,sans-Serif\" font-size=\"14.00\">Census_ActivationChannel_OEM:NONSLP &lt;= 0.5</text>\n<text text-anchor=\"middle\" x=\"1012.5\" y=\"-812.3\" font-family=\"Helvetica,sans-Serif\" font-size=\"14.00\">gini = 0.418</text>\n<text text-anchor=\"middle\" x=\"1012.5\" y=\"-797.3\" font-family=\"Helvetica,sans-Serif\" font-size=\"14.00\">samples = 1.9%</text>\n<text text-anchor=\"middle\" x=\"1012.5\" y=\"-782.3\" font-family=\"Helvetica,sans-Serif\" font-size=\"14.00\">value = [0.702, 0.298]</text>\n<text text-anchor=\"middle\" x=\"1012.5\" y=\"-767.3\" font-family=\"Helvetica,sans-Serif\" font-size=\"14.00\">class = Not infected</text>\n</g>\n<!-- 9&#45;&gt;13 -->\n<g id=\"edge13\" class=\"edge\">\n<title>9&#45;&gt;13</title>\n<path fill=\"none\" stroke=\"black\" d=\"M795,-836.56C809.93,-834.11 825.76,-831.51 841.8,-828.87\"/>\n<polygon fill=\"black\" stroke=\"black\" points=\"842.5,-832.3 851.8,-827.23 841.37,-825.4 842.5,-832.3\"/>\n</g>\n<!-- 11 -->\n<g id=\"node12\" class=\"node\">\n<title>11</title>\n<polygon fill=\"#f4c9aa\" stroke=\"black\" points=\"1357,-1014 1210,-1014 1210,-946 1357,-946 1357,-1014\"/>\n<text text-anchor=\"middle\" x=\"1283.5\" y=\"-998.8\" font-family=\"Helvetica,sans-Serif\" font-size=\"14.00\">gini = 0.462</text>\n<text text-anchor=\"middle\" x=\"1283.5\" y=\"-983.8\" font-family=\"Helvetica,sans-Serif\" font-size=\"14.00\">samples = 22.8%</text>\n<text text-anchor=\"middle\" x=\"1283.5\" y=\"-968.8\" font-family=\"Helvetica,sans-Serif\" font-size=\"14.00\">value = [0.637, 0.363]</text>\n<text text-anchor=\"middle\" x=\"1283.5\" y=\"-953.8\" font-family=\"Helvetica,sans-Serif\" font-size=\"14.00\">class = Not infected</text>\n</g>\n<!-- 10&#45;&gt;11 -->\n<g id=\"edge11\" class=\"edge\">\n<title>10&#45;&gt;11</title>\n<path fill=\"none\" stroke=\"black\" d=\"M1102.7,-927.86C1134.03,-936.95 1169.06,-947.11 1199.83,-956.03\"/>\n<polygon fill=\"black\" stroke=\"black\" points=\"1199.08,-959.46 1209.66,-958.88 1201.03,-952.73 1199.08,-959.46\"/>\n</g>\n<!-- 12 -->\n<g id=\"node13\" class=\"node\">\n<title>12</title>\n<polygon fill=\"#eeaa7a\" stroke=\"black\" points=\"1357,-928 1210,-928 1210,-860 1357,-860 1357,-928\"/>\n<text text-anchor=\"middle\" x=\"1283.5\" y=\"-912.8\" font-family=\"Helvetica,sans-Serif\" font-size=\"14.00\">gini = 0.372</text>\n<text text-anchor=\"middle\" x=\"1283.5\" y=\"-897.8\" font-family=\"Helvetica,sans-Serif\" font-size=\"14.00\">samples = 2.2%</text>\n<text text-anchor=\"middle\" x=\"1283.5\" y=\"-882.8\" font-family=\"Helvetica,sans-Serif\" font-size=\"14.00\">value = [0.753, 0.247]</text>\n<text text-anchor=\"middle\" x=\"1283.5\" y=\"-867.8\" font-family=\"Helvetica,sans-Serif\" font-size=\"14.00\">class = Not infected</text>\n</g>\n<!-- 10&#45;&gt;12 -->\n<g id=\"edge12\" class=\"edge\">\n<title>10&#45;&gt;12</title>\n<path fill=\"none\" stroke=\"black\" d=\"M1102.7,-899.35C1133.89,-898.42 1168.76,-897.38 1199.43,-896.47\"/>\n<polygon fill=\"black\" stroke=\"black\" points=\"1199.77,-899.96 1209.66,-896.17 1199.56,-892.97 1199.77,-899.96\"/>\n</g>\n<!-- 14 -->\n<g id=\"node15\" class=\"node\">\n<title>14</title>\n<polygon fill=\"#f0b78d\" stroke=\"black\" points=\"1357,-842 1210,-842 1210,-774 1357,-774 1357,-842\"/>\n<text text-anchor=\"middle\" x=\"1283.5\" y=\"-826.8\" font-family=\"Helvetica,sans-Serif\" font-size=\"14.00\">gini = 0.419</text>\n<text text-anchor=\"middle\" x=\"1283.5\" y=\"-811.8\" font-family=\"Helvetica,sans-Serif\" font-size=\"14.00\">samples = 1.9%</text>\n<text text-anchor=\"middle\" x=\"1283.5\" y=\"-796.8\" font-family=\"Helvetica,sans-Serif\" font-size=\"14.00\">value = [0.701, 0.299]</text>\n<text text-anchor=\"middle\" x=\"1283.5\" y=\"-781.8\" font-family=\"Helvetica,sans-Serif\" font-size=\"14.00\">class = Not infected</text>\n</g>\n<!-- 13&#45;&gt;14 -->\n<g id=\"edge14\" class=\"edge\">\n<title>13&#45;&gt;14</title>\n<path fill=\"none\" stroke=\"black\" d=\"M1173.09,-805.15C1182.1,-805.39 1190.95,-805.62 1199.48,-805.84\"/>\n<polygon fill=\"black\" stroke=\"black\" points=\"1199.62,-809.34 1209.7,-806.11 1199.8,-802.35 1199.62,-809.34\"/>\n</g>\n<!-- 15 -->\n<g id=\"node16\" class=\"node\">\n<title>15</title>\n<polygon fill=\"#e58139\" stroke=\"black\" points=\"1351,-756 1216,-756 1216,-688 1351,-688 1351,-756\"/>\n<text text-anchor=\"middle\" x=\"1283.5\" y=\"-740.8\" font-family=\"Helvetica,sans-Serif\" font-size=\"14.00\">gini = 0.0</text>\n<text text-anchor=\"middle\" x=\"1283.5\" y=\"-725.8\" font-family=\"Helvetica,sans-Serif\" font-size=\"14.00\">samples = 0.0%</text>\n<text text-anchor=\"middle\" x=\"1283.5\" y=\"-710.8\" font-family=\"Helvetica,sans-Serif\" font-size=\"14.00\">value = [1.0, 0.0]</text>\n<text text-anchor=\"middle\" x=\"1283.5\" y=\"-695.8\" font-family=\"Helvetica,sans-Serif\" font-size=\"14.00\">class = Not infected</text>\n</g>\n<!-- 13&#45;&gt;15 -->\n<g id=\"edge15\" class=\"edge\">\n<title>13&#45;&gt;15</title>\n<path fill=\"none\" stroke=\"black\" d=\"M1155.09,-759.42C1172.59,-754.28 1189.94,-749.18 1205.93,-744.49\"/>\n<polygon fill=\"black\" stroke=\"black\" points=\"1207.1,-747.79 1215.7,-741.62 1205.12,-741.08 1207.1,-747.79\"/>\n</g>\n<!-- 17 -->\n<g id=\"node18\" class=\"node\">\n<title>17</title>\n<polygon fill=\"#68b4eb\" stroke=\"black\" points=\"797.5,-548.5 602.5,-548.5 602.5,-465.5 797.5,-465.5 797.5,-548.5\"/>\n<text text-anchor=\"middle\" x=\"700\" y=\"-533.3\" font-family=\"Helvetica,sans-Serif\" font-size=\"14.00\">AvSigVersion_count &lt;= 158.5</text>\n<text text-anchor=\"middle\" x=\"700\" y=\"-518.3\" font-family=\"Helvetica,sans-Serif\" font-size=\"14.00\">gini = 0.309</text>\n<text text-anchor=\"middle\" x=\"700\" y=\"-503.3\" font-family=\"Helvetica,sans-Serif\" font-size=\"14.00\">samples = 11.6%</text>\n<text text-anchor=\"middle\" x=\"700\" y=\"-488.3\" font-family=\"Helvetica,sans-Serif\" font-size=\"14.00\">value = [0.191, 0.809]</text>\n<text text-anchor=\"middle\" x=\"700\" y=\"-473.3\" font-family=\"Helvetica,sans-Serif\" font-size=\"14.00\">class = Infected</text>\n</g>\n<!-- 16&#45;&gt;17 -->\n<g id=\"edge17\" class=\"edge\">\n<title>16&#45;&gt;17</title>\n<path fill=\"none\" stroke=\"black\" d=\"M549.24,-507C563.73,-507 578.26,-507 592.27,-507\"/>\n<polygon fill=\"black\" stroke=\"black\" points=\"592.37,-510.5 602.37,-507 592.37,-503.5 592.37,-510.5\"/>\n</g>\n<!-- 24 -->\n<g id=\"node25\" class=\"node\">\n<title>24</title>\n<polygon fill=\"#b0d8f5\" stroke=\"black\" points=\"815,-298.5 585,-298.5 585,-215.5 815,-215.5 815,-298.5\"/>\n<text text-anchor=\"middle\" x=\"700\" y=\"-283.3\" font-family=\"Helvetica,sans-Serif\" font-size=\"14.00\">Census_OSBuildRevision &lt;= 252.5</text>\n<text text-anchor=\"middle\" x=\"700\" y=\"-268.3\" font-family=\"Helvetica,sans-Serif\" font-size=\"14.00\">gini = 0.469</text>\n<text text-anchor=\"middle\" x=\"700\" y=\"-253.3\" font-family=\"Helvetica,sans-Serif\" font-size=\"14.00\">samples = 0.2%</text>\n<text text-anchor=\"middle\" x=\"700\" y=\"-238.3\" font-family=\"Helvetica,sans-Serif\" font-size=\"14.00\">value = [0.376, 0.624]</text>\n<text text-anchor=\"middle\" x=\"700\" y=\"-223.3\" font-family=\"Helvetica,sans-Serif\" font-size=\"14.00\">class = Infected</text>\n</g>\n<!-- 16&#45;&gt;24 -->\n<g id=\"edge24\" class=\"edge\">\n<title>16&#45;&gt;24</title>\n<path fill=\"none\" stroke=\"black\" d=\"M454.3,-465.44C506.03,-421.37 587.66,-351.84 642.24,-305.35\"/>\n<polygon fill=\"black\" stroke=\"black\" points=\"644.75,-307.81 650.09,-298.66 640.21,-302.48 644.75,-307.81\"/>\n</g>\n<!-- 18 -->\n<g id=\"node19\" class=\"node\">\n<title>18</title>\n<polygon fill=\"#b5daf5\" stroke=\"black\" points=\"1138,-599.5 887,-599.5 887,-516.5 1138,-516.5 1138,-599.5\"/>\n<text text-anchor=\"middle\" x=\"1012.5\" y=\"-584.3\" font-family=\"Helvetica,sans-Serif\" font-size=\"14.00\">Census_FlightRing_Retail_True &lt;= 0.5</text>\n<text text-anchor=\"middle\" x=\"1012.5\" y=\"-569.3\" font-family=\"Helvetica,sans-Serif\" font-size=\"14.00\">gini = 0.474</text>\n<text text-anchor=\"middle\" x=\"1012.5\" y=\"-554.3\" font-family=\"Helvetica,sans-Serif\" font-size=\"14.00\">samples = 1.4%</text>\n<text text-anchor=\"middle\" x=\"1012.5\" y=\"-539.3\" font-family=\"Helvetica,sans-Serif\" font-size=\"14.00\">value = [0.385, 0.615]</text>\n<text text-anchor=\"middle\" x=\"1012.5\" y=\"-524.3\" font-family=\"Helvetica,sans-Serif\" font-size=\"14.00\">class = Infected</text>\n</g>\n<!-- 17&#45;&gt;18 -->\n<g id=\"edge18\" class=\"edge\">\n<title>17&#45;&gt;18</title>\n<path fill=\"none\" stroke=\"black\" d=\"M797.54,-522.86C822.64,-526.98 850.14,-531.5 876.82,-535.88\"/>\n<polygon fill=\"black\" stroke=\"black\" points=\"876.56,-539.38 886.99,-537.55 877.69,-532.48 876.56,-539.38\"/>\n</g>\n<!-- 21 -->\n<g id=\"node22\" class=\"node\">\n<title>21</title>\n<polygon fill=\"#60b0ea\" stroke=\"black\" points=\"1174,-498.5 851,-498.5 851,-415.5 1174,-415.5 1174,-498.5\"/>\n<text text-anchor=\"middle\" x=\"1012.5\" y=\"-483.3\" font-family=\"Helvetica,sans-Serif\" font-size=\"14.00\">Census_SystemVolumeTotalCapacity &lt;= 110927.0</text>\n<text text-anchor=\"middle\" x=\"1012.5\" y=\"-468.3\" font-family=\"Helvetica,sans-Serif\" font-size=\"14.00\">gini = 0.274</text>\n<text text-anchor=\"middle\" x=\"1012.5\" y=\"-453.3\" font-family=\"Helvetica,sans-Serif\" font-size=\"14.00\">samples = 10.1%</text>\n<text text-anchor=\"middle\" x=\"1012.5\" y=\"-438.3\" font-family=\"Helvetica,sans-Serif\" font-size=\"14.00\">value = [0.164, 0.836]</text>\n<text text-anchor=\"middle\" x=\"1012.5\" y=\"-423.3\" font-family=\"Helvetica,sans-Serif\" font-size=\"14.00\">class = Infected</text>\n</g>\n<!-- 17&#45;&gt;21 -->\n<g id=\"edge21\" class=\"edge\">\n<title>17&#45;&gt;21</title>\n<path fill=\"none\" stroke=\"black\" d=\"M797.54,-491.45C811.36,-489.23 825.9,-486.89 840.63,-484.52\"/>\n<polygon fill=\"black\" stroke=\"black\" points=\"841.53,-487.92 850.85,-482.87 840.42,-481 841.53,-487.92\"/>\n</g>\n<!-- 19 -->\n<g id=\"node20\" class=\"node\">\n<title>19</title>\n<polygon fill=\"#eaf5fc\" stroke=\"black\" points=\"1357,-670 1210,-670 1210,-602 1357,-602 1357,-670\"/>\n<text text-anchor=\"middle\" x=\"1283.5\" y=\"-654.8\" font-family=\"Helvetica,sans-Serif\" font-size=\"14.00\">gini = 0.498</text>\n<text text-anchor=\"middle\" x=\"1283.5\" y=\"-639.8\" font-family=\"Helvetica,sans-Serif\" font-size=\"14.00\">samples = 0.2%</text>\n<text text-anchor=\"middle\" x=\"1283.5\" y=\"-624.8\" font-family=\"Helvetica,sans-Serif\" font-size=\"14.00\">value = [0.472, 0.528]</text>\n<text text-anchor=\"middle\" x=\"1283.5\" y=\"-609.8\" font-family=\"Helvetica,sans-Serif\" font-size=\"14.00\">class = Infected</text>\n</g>\n<!-- 18&#45;&gt;19 -->\n<g id=\"edge19\" class=\"edge\">\n<title>18&#45;&gt;19</title>\n<path fill=\"none\" stroke=\"black\" d=\"M1138.16,-594.15C1159.2,-600.25 1180.57,-606.44 1200.19,-612.13\"/>\n<polygon fill=\"black\" stroke=\"black\" points=\"1199.39,-615.54 1209.97,-614.97 1201.34,-608.82 1199.39,-615.54\"/>\n</g>\n<!-- 20 -->\n<g id=\"node21\" class=\"node\">\n<title>20</title>\n<polygon fill=\"#afd7f4\" stroke=\"black\" points=\"1357,-584 1210,-584 1210,-516 1357,-516 1357,-584\"/>\n<text text-anchor=\"middle\" x=\"1283.5\" y=\"-568.8\" font-family=\"Helvetica,sans-Serif\" font-size=\"14.00\">gini = 0.468</text>\n<text text-anchor=\"middle\" x=\"1283.5\" y=\"-553.8\" font-family=\"Helvetica,sans-Serif\" font-size=\"14.00\">samples = 1.2%</text>\n<text text-anchor=\"middle\" x=\"1283.5\" y=\"-538.8\" font-family=\"Helvetica,sans-Serif\" font-size=\"14.00\">value = [0.373, 0.627]</text>\n<text text-anchor=\"middle\" x=\"1283.5\" y=\"-523.8\" font-family=\"Helvetica,sans-Serif\" font-size=\"14.00\">class = Infected</text>\n</g>\n<!-- 18&#45;&gt;20 -->\n<g id=\"edge20\" class=\"edge\">\n<title>18&#45;&gt;20</title>\n<path fill=\"none\" stroke=\"black\" d=\"M1138.16,-554.29C1159.11,-553.67 1180.37,-553.04 1199.92,-552.46\"/>\n<polygon fill=\"black\" stroke=\"black\" points=\"1200.08,-555.95 1209.97,-552.16 1199.87,-548.96 1200.08,-555.95\"/>\n</g>\n<!-- 22 -->\n<g id=\"node23\" class=\"node\">\n<title>22</title>\n<polygon fill=\"#69b5eb\" stroke=\"black\" points=\"1357,-498 1210,-498 1210,-430 1357,-430 1357,-498\"/>\n<text text-anchor=\"middle\" x=\"1283.5\" y=\"-482.8\" font-family=\"Helvetica,sans-Serif\" font-size=\"14.00\">gini = 0.313</text>\n<text text-anchor=\"middle\" x=\"1283.5\" y=\"-467.8\" font-family=\"Helvetica,sans-Serif\" font-size=\"14.00\">samples = 1.7%</text>\n<text text-anchor=\"middle\" x=\"1283.5\" y=\"-452.8\" font-family=\"Helvetica,sans-Serif\" font-size=\"14.00\">value = [0.194, 0.806]</text>\n<text text-anchor=\"middle\" x=\"1283.5\" y=\"-437.8\" font-family=\"Helvetica,sans-Serif\" font-size=\"14.00\">class = Infected</text>\n</g>\n<!-- 21&#45;&gt;22 -->\n<g id=\"edge22\" class=\"edge\">\n<title>21&#45;&gt;22</title>\n<path fill=\"none\" stroke=\"black\" d=\"M1174.25,-461.18C1182.93,-461.41 1191.46,-461.63 1199.68,-461.84\"/>\n<polygon fill=\"black\" stroke=\"black\" points=\"1199.83,-465.35 1209.92,-462.11 1200.01,-458.35 1199.83,-465.35\"/>\n</g>\n<!-- 23 -->\n<g id=\"node24\" class=\"node\">\n<title>23</title>\n<polygon fill=\"#5eafea\" stroke=\"black\" points=\"1357,-412 1210,-412 1210,-344 1357,-344 1357,-412\"/>\n<text text-anchor=\"middle\" x=\"1283.5\" y=\"-396.8\" font-family=\"Helvetica,sans-Serif\" font-size=\"14.00\">gini = 0.266</text>\n<text text-anchor=\"middle\" x=\"1283.5\" y=\"-381.8\" font-family=\"Helvetica,sans-Serif\" font-size=\"14.00\">samples = 8.5%</text>\n<text text-anchor=\"middle\" x=\"1283.5\" y=\"-366.8\" font-family=\"Helvetica,sans-Serif\" font-size=\"14.00\">value = [0.158, 0.842]</text>\n<text text-anchor=\"middle\" x=\"1283.5\" y=\"-351.8\" font-family=\"Helvetica,sans-Serif\" font-size=\"14.00\">class = Infected</text>\n</g>\n<!-- 21&#45;&gt;23 -->\n<g id=\"edge23\" class=\"edge\">\n<title>21&#45;&gt;23</title>\n<path fill=\"none\" stroke=\"black\" d=\"M1155.09,-415.42C1170.52,-410.89 1185.82,-406.39 1200.18,-402.18\"/>\n<polygon fill=\"black\" stroke=\"black\" points=\"1201.35,-405.48 1209.96,-399.3 1199.38,-398.76 1201.35,-405.48\"/>\n</g>\n<!-- 25 -->\n<g id=\"node26\" class=\"node\">\n<title>25</title>\n<polygon fill=\"#92c9f1\" stroke=\"black\" points=\"1125,-298.5 900,-298.5 900,-215.5 1125,-215.5 1125,-298.5\"/>\n<text text-anchor=\"middle\" x=\"1012.5\" y=\"-283.3\" font-family=\"Helvetica,sans-Serif\" font-size=\"14.00\">EngineVersion_1.1.15100.1 &lt;= 0.5</text>\n<text text-anchor=\"middle\" x=\"1012.5\" y=\"-268.3\" font-family=\"Helvetica,sans-Serif\" font-size=\"14.00\">gini = 0.429</text>\n<text text-anchor=\"middle\" x=\"1012.5\" y=\"-253.3\" font-family=\"Helvetica,sans-Serif\" font-size=\"14.00\">samples = 0.1%</text>\n<text text-anchor=\"middle\" x=\"1012.5\" y=\"-238.3\" font-family=\"Helvetica,sans-Serif\" font-size=\"14.00\">value = [0.311, 0.689]</text>\n<text text-anchor=\"middle\" x=\"1012.5\" y=\"-223.3\" font-family=\"Helvetica,sans-Serif\" font-size=\"14.00\">class = Infected</text>\n</g>\n<!-- 24&#45;&gt;25 -->\n<g id=\"edge25\" class=\"edge\">\n<title>24&#45;&gt;25</title>\n<path fill=\"none\" stroke=\"black\" d=\"M815.3,-257C839.54,-257 865.21,-257 889.72,-257\"/>\n<polygon fill=\"black\" stroke=\"black\" points=\"889.77,-260.5 899.77,-257 889.77,-253.5 889.77,-260.5\"/>\n</g>\n<!-- 28 -->\n<g id=\"node29\" class=\"node\">\n<title>28</title>\n<polygon fill=\"#eef7fd\" stroke=\"black\" points=\"1086,-161.5 939,-161.5 939,-78.5 1086,-78.5 1086,-161.5\"/>\n<text text-anchor=\"middle\" x=\"1012.5\" y=\"-146.3\" font-family=\"Helvetica,sans-Serif\" font-size=\"14.00\">OsBuild &lt;= 15346.0</text>\n<text text-anchor=\"middle\" x=\"1012.5\" y=\"-131.3\" font-family=\"Helvetica,sans-Serif\" font-size=\"14.00\">gini = 0.499</text>\n<text text-anchor=\"middle\" x=\"1012.5\" y=\"-116.3\" font-family=\"Helvetica,sans-Serif\" font-size=\"14.00\">samples = 0.1%</text>\n<text text-anchor=\"middle\" x=\"1012.5\" y=\"-101.3\" font-family=\"Helvetica,sans-Serif\" font-size=\"14.00\">value = [0.478, 0.522]</text>\n<text text-anchor=\"middle\" x=\"1012.5\" y=\"-86.3\" font-family=\"Helvetica,sans-Serif\" font-size=\"14.00\">class = Infected</text>\n</g>\n<!-- 24&#45;&gt;28 -->\n<g id=\"edge28\" class=\"edge\">\n<title>24&#45;&gt;28</title>\n<path fill=\"none\" stroke=\"black\" d=\"M795.42,-215.34C838.22,-196.46 888.34,-174.34 929.53,-156.17\"/>\n<polygon fill=\"black\" stroke=\"black\" points=\"930.98,-159.35 938.72,-152.11 928.15,-152.95 930.98,-159.35\"/>\n</g>\n<!-- 26 -->\n<g id=\"node27\" class=\"node\">\n<title>26</title>\n<polygon fill=\"#b1d8f5\" stroke=\"black\" points=\"1357,-326 1210,-326 1210,-258 1357,-258 1357,-326\"/>\n<text text-anchor=\"middle\" x=\"1283.5\" y=\"-310.8\" font-family=\"Helvetica,sans-Serif\" font-size=\"14.00\">gini = 0.47</text>\n<text text-anchor=\"middle\" x=\"1283.5\" y=\"-295.8\" font-family=\"Helvetica,sans-Serif\" font-size=\"14.00\">samples = 0.1%</text>\n<text text-anchor=\"middle\" x=\"1283.5\" y=\"-280.8\" font-family=\"Helvetica,sans-Serif\" font-size=\"14.00\">value = [0.378, 0.622]</text>\n<text text-anchor=\"middle\" x=\"1283.5\" y=\"-265.8\" font-family=\"Helvetica,sans-Serif\" font-size=\"14.00\">class = Infected</text>\n</g>\n<!-- 25&#45;&gt;26 -->\n<g id=\"edge26\" class=\"edge\">\n<title>25&#45;&gt;26</title>\n<path fill=\"none\" stroke=\"black\" d=\"M1125.24,-271.54C1150.25,-274.79 1176.34,-278.19 1199.92,-281.26\"/>\n<polygon fill=\"black\" stroke=\"black\" points=\"1199.49,-284.73 1209.86,-282.55 1200.39,-277.79 1199.49,-284.73\"/>\n</g>\n<!-- 27 -->\n<g id=\"node28\" class=\"node\">\n<title>27</title>\n<polygon fill=\"#78bced\" stroke=\"black\" points=\"1357,-240 1210,-240 1210,-172 1357,-172 1357,-240\"/>\n<text text-anchor=\"middle\" x=\"1283.5\" y=\"-224.8\" font-family=\"Helvetica,sans-Serif\" font-size=\"14.00\">gini = 0.365</text>\n<text text-anchor=\"middle\" x=\"1283.5\" y=\"-209.8\" font-family=\"Helvetica,sans-Serif\" font-size=\"14.00\">samples = 0.1%</text>\n<text text-anchor=\"middle\" x=\"1283.5\" y=\"-194.8\" font-family=\"Helvetica,sans-Serif\" font-size=\"14.00\">value = [0.241, 0.759]</text>\n<text text-anchor=\"middle\" x=\"1283.5\" y=\"-179.8\" font-family=\"Helvetica,sans-Serif\" font-size=\"14.00\">class = Infected</text>\n</g>\n<!-- 25&#45;&gt;27 -->\n<g id=\"edge27\" class=\"edge\">\n<title>25&#45;&gt;27</title>\n<path fill=\"none\" stroke=\"black\" d=\"M1125.24,-235.81C1150.25,-231.07 1176.34,-226.13 1199.92,-221.66\"/>\n<polygon fill=\"black\" stroke=\"black\" points=\"1200.68,-225.07 1209.86,-219.77 1199.38,-218.2 1200.68,-225.07\"/>\n</g>\n<!-- 29 -->\n<g id=\"node30\" class=\"node\">\n<title>29</title>\n<polygon fill=\"#9acdf2\" stroke=\"black\" points=\"1357,-154 1210,-154 1210,-86 1357,-86 1357,-154\"/>\n<text text-anchor=\"middle\" x=\"1283.5\" y=\"-138.8\" font-family=\"Helvetica,sans-Serif\" font-size=\"14.00\">gini = 0.441</text>\n<text text-anchor=\"middle\" x=\"1283.5\" y=\"-123.8\" font-family=\"Helvetica,sans-Serif\" font-size=\"14.00\">samples = 0.0%</text>\n<text text-anchor=\"middle\" x=\"1283.5\" y=\"-108.8\" font-family=\"Helvetica,sans-Serif\" font-size=\"14.00\">value = [0.329, 0.671]</text>\n<text text-anchor=\"middle\" x=\"1283.5\" y=\"-93.8\" font-family=\"Helvetica,sans-Serif\" font-size=\"14.00\">class = Infected</text>\n</g>\n<!-- 28&#45;&gt;29 -->\n<g id=\"edge29\" class=\"edge\">\n<title>28&#45;&gt;29</title>\n<path fill=\"none\" stroke=\"black\" d=\"M1086.3,-120C1121.28,-120 1163.38,-120 1199.6,-120\"/>\n<polygon fill=\"black\" stroke=\"black\" points=\"1199.65,-123.5 1209.65,-120 1199.65,-116.5 1199.65,-123.5\"/>\n</g>\n<!-- 30 -->\n<g id=\"node31\" class=\"node\">\n<title>30</title>\n<polygon fill=\"#fceee5\" stroke=\"black\" points=\"1357,-68 1210,-68 1210,0 1357,0 1357,-68\"/>\n<text text-anchor=\"middle\" x=\"1283.5\" y=\"-52.8\" font-family=\"Helvetica,sans-Serif\" font-size=\"14.00\">gini = 0.498</text>\n<text text-anchor=\"middle\" x=\"1283.5\" y=\"-37.8\" font-family=\"Helvetica,sans-Serif\" font-size=\"14.00\">samples = 0.1%</text>\n<text text-anchor=\"middle\" x=\"1283.5\" y=\"-22.8\" font-family=\"Helvetica,sans-Serif\" font-size=\"14.00\">value = [0.535, 0.465]</text>\n<text text-anchor=\"middle\" x=\"1283.5\" y=\"-7.8\" font-family=\"Helvetica,sans-Serif\" font-size=\"14.00\">class = Not infected</text>\n</g>\n<!-- 28&#45;&gt;30 -->\n<g id=\"edge30\" class=\"edge\">\n<title>28&#45;&gt;30</title>\n<path fill=\"none\" stroke=\"black\" d=\"M1086.3,-96.73C1121.43,-85.49 1163.74,-71.97 1200.06,-60.36\"/>\n<polygon fill=\"black\" stroke=\"black\" points=\"1201.19,-63.67 1209.65,-57.29 1199.06,-57 1201.19,-63.67\"/>\n</g>\n</g>\n</svg>\n"
          },
          "metadata": {},
          "execution_count": 127
        }
      ],
      "source": [
        "graphviz.Source(test_tree_0)"
      ]
    },
    {
      "cell_type": "code",
      "execution_count": null,
      "metadata": {
        "colab": {
          "base_uri": "https://localhost:8080/"
        },
        "id": "ITXSXsFDG3JT",
        "outputId": "78d678e7-d78b-429d-8a8b-c8b1a4970690"
      },
      "outputs": [
        {
          "output_type": "execute_result",
          "data": {
            "text/plain": [
              "0.6039753881651685"
            ]
          },
          "metadata": {},
          "execution_count": 128
        }
      ],
      "source": [
        "#Precission\n",
        "dt_rf.score(X_test, y_test)"
      ]
    },
    {
      "cell_type": "code",
      "execution_count": null,
      "metadata": {
        "colab": {
          "base_uri": "https://localhost:8080/"
        },
        "id": "4N_9AzELHKUw",
        "outputId": "c65c2077-8262-4db1-fd7a-db60a8942364"
      },
      "outputs": [
        {
          "output_type": "execute_result",
          "data": {
            "text/plain": [
              "0.6115544232402378"
            ]
          },
          "metadata": {},
          "execution_count": 129
        }
      ],
      "source": [
        "y_predict = pd.DataFrame(dt.predict(X_test), index= y_test.index, columns = ['Infected_predict'])\n",
        "resulatdo = y_test.join(y_predict)\n",
        "resulatdo['Success'] = (resulatdo['HasDetections'] == resulatdo['Infected_predict']).astype(int)\n",
        "resulatdo['Success'].mean()\n"
      ]
    },
    {
      "cell_type": "code",
      "execution_count": null,
      "metadata": {
        "id": "ejFk-glRKSw9",
        "colab": {
          "base_uri": "https://localhost:8080/"
        },
        "outputId": "5ada6816-4f13-4efd-c436-ce1eeb88bd82"
      },
      "outputs": [
        {
          "output_type": "execute_result",
          "data": {
            "text/plain": [
              "        HasDetections  Infected_predict  Success\n",
              "266696              1                 1        1\n",
              "75308               1                 1        1\n",
              "152839              1                 1        1\n",
              "494397              0                 0        1\n",
              "33877               1                 1        1\n",
              "...               ...               ...      ...\n",
              "345561              0                 0        1\n",
              "97202               1                 1        1\n",
              "238214              0                 1        0\n",
              "448955              0                 0        1\n",
              "368150              0                 1        0\n",
              "\n",
              "[124818 rows x 3 columns]"
            ],
            "text/html": [
              "\n",
              "  <div id=\"df-8b0f1966-13e3-4ea1-9544-e34629d5dff2\">\n",
              "    <div class=\"colab-df-container\">\n",
              "      <div>\n",
              "<style scoped>\n",
              "    .dataframe tbody tr th:only-of-type {\n",
              "        vertical-align: middle;\n",
              "    }\n",
              "\n",
              "    .dataframe tbody tr th {\n",
              "        vertical-align: top;\n",
              "    }\n",
              "\n",
              "    .dataframe thead th {\n",
              "        text-align: right;\n",
              "    }\n",
              "</style>\n",
              "<table border=\"1\" class=\"dataframe\">\n",
              "  <thead>\n",
              "    <tr style=\"text-align: right;\">\n",
              "      <th></th>\n",
              "      <th>HasDetections</th>\n",
              "      <th>Infected_predict</th>\n",
              "      <th>Success</th>\n",
              "    </tr>\n",
              "  </thead>\n",
              "  <tbody>\n",
              "    <tr>\n",
              "      <th>266696</th>\n",
              "      <td>1</td>\n",
              "      <td>1</td>\n",
              "      <td>1</td>\n",
              "    </tr>\n",
              "    <tr>\n",
              "      <th>75308</th>\n",
              "      <td>1</td>\n",
              "      <td>1</td>\n",
              "      <td>1</td>\n",
              "    </tr>\n",
              "    <tr>\n",
              "      <th>152839</th>\n",
              "      <td>1</td>\n",
              "      <td>1</td>\n",
              "      <td>1</td>\n",
              "    </tr>\n",
              "    <tr>\n",
              "      <th>494397</th>\n",
              "      <td>0</td>\n",
              "      <td>0</td>\n",
              "      <td>1</td>\n",
              "    </tr>\n",
              "    <tr>\n",
              "      <th>33877</th>\n",
              "      <td>1</td>\n",
              "      <td>1</td>\n",
              "      <td>1</td>\n",
              "    </tr>\n",
              "    <tr>\n",
              "      <th>...</th>\n",
              "      <td>...</td>\n",
              "      <td>...</td>\n",
              "      <td>...</td>\n",
              "    </tr>\n",
              "    <tr>\n",
              "      <th>345561</th>\n",
              "      <td>0</td>\n",
              "      <td>0</td>\n",
              "      <td>1</td>\n",
              "    </tr>\n",
              "    <tr>\n",
              "      <th>97202</th>\n",
              "      <td>1</td>\n",
              "      <td>1</td>\n",
              "      <td>1</td>\n",
              "    </tr>\n",
              "    <tr>\n",
              "      <th>238214</th>\n",
              "      <td>0</td>\n",
              "      <td>1</td>\n",
              "      <td>0</td>\n",
              "    </tr>\n",
              "    <tr>\n",
              "      <th>448955</th>\n",
              "      <td>0</td>\n",
              "      <td>0</td>\n",
              "      <td>1</td>\n",
              "    </tr>\n",
              "    <tr>\n",
              "      <th>368150</th>\n",
              "      <td>0</td>\n",
              "      <td>1</td>\n",
              "      <td>0</td>\n",
              "    </tr>\n",
              "  </tbody>\n",
              "</table>\n",
              "<p>124818 rows × 3 columns</p>\n",
              "</div>\n",
              "      <button class=\"colab-df-convert\" onclick=\"convertToInteractive('df-8b0f1966-13e3-4ea1-9544-e34629d5dff2')\"\n",
              "              title=\"Convert this dataframe to an interactive table.\"\n",
              "              style=\"display:none;\">\n",
              "        \n",
              "  <svg xmlns=\"http://www.w3.org/2000/svg\" height=\"24px\"viewBox=\"0 0 24 24\"\n",
              "       width=\"24px\">\n",
              "    <path d=\"M0 0h24v24H0V0z\" fill=\"none\"/>\n",
              "    <path d=\"M18.56 5.44l.94 2.06.94-2.06 2.06-.94-2.06-.94-.94-2.06-.94 2.06-2.06.94zm-11 1L8.5 8.5l.94-2.06 2.06-.94-2.06-.94L8.5 2.5l-.94 2.06-2.06.94zm10 10l.94 2.06.94-2.06 2.06-.94-2.06-.94-.94-2.06-.94 2.06-2.06.94z\"/><path d=\"M17.41 7.96l-1.37-1.37c-.4-.4-.92-.59-1.43-.59-.52 0-1.04.2-1.43.59L10.3 9.45l-7.72 7.72c-.78.78-.78 2.05 0 2.83L4 21.41c.39.39.9.59 1.41.59.51 0 1.02-.2 1.41-.59l7.78-7.78 2.81-2.81c.8-.78.8-2.07 0-2.86zM5.41 20L4 18.59l7.72-7.72 1.47 1.35L5.41 20z\"/>\n",
              "  </svg>\n",
              "      </button>\n",
              "      \n",
              "  <style>\n",
              "    .colab-df-container {\n",
              "      display:flex;\n",
              "      flex-wrap:wrap;\n",
              "      gap: 12px;\n",
              "    }\n",
              "\n",
              "    .colab-df-convert {\n",
              "      background-color: #E8F0FE;\n",
              "      border: none;\n",
              "      border-radius: 50%;\n",
              "      cursor: pointer;\n",
              "      display: none;\n",
              "      fill: #1967D2;\n",
              "      height: 32px;\n",
              "      padding: 0 0 0 0;\n",
              "      width: 32px;\n",
              "    }\n",
              "\n",
              "    .colab-df-convert:hover {\n",
              "      background-color: #E2EBFA;\n",
              "      box-shadow: 0px 1px 2px rgba(60, 64, 67, 0.3), 0px 1px 3px 1px rgba(60, 64, 67, 0.15);\n",
              "      fill: #174EA6;\n",
              "    }\n",
              "\n",
              "    [theme=dark] .colab-df-convert {\n",
              "      background-color: #3B4455;\n",
              "      fill: #D2E3FC;\n",
              "    }\n",
              "\n",
              "    [theme=dark] .colab-df-convert:hover {\n",
              "      background-color: #434B5C;\n",
              "      box-shadow: 0px 1px 3px 1px rgba(0, 0, 0, 0.15);\n",
              "      filter: drop-shadow(0px 1px 2px rgba(0, 0, 0, 0.3));\n",
              "      fill: #FFFFFF;\n",
              "    }\n",
              "  </style>\n",
              "\n",
              "      <script>\n",
              "        const buttonEl =\n",
              "          document.querySelector('#df-8b0f1966-13e3-4ea1-9544-e34629d5dff2 button.colab-df-convert');\n",
              "        buttonEl.style.display =\n",
              "          google.colab.kernel.accessAllowed ? 'block' : 'none';\n",
              "\n",
              "        async function convertToInteractive(key) {\n",
              "          const element = document.querySelector('#df-8b0f1966-13e3-4ea1-9544-e34629d5dff2');\n",
              "          const dataTable =\n",
              "            await google.colab.kernel.invokeFunction('convertToInteractive',\n",
              "                                                     [key], {});\n",
              "          if (!dataTable) return;\n",
              "\n",
              "          const docLinkHtml = 'Like what you see? Visit the ' +\n",
              "            '<a target=\"_blank\" href=https://colab.research.google.com/notebooks/data_table.ipynb>data table notebook</a>'\n",
              "            + ' to learn more about interactive tables.';\n",
              "          element.innerHTML = '';\n",
              "          dataTable['output_type'] = 'display_data';\n",
              "          await google.colab.output.renderOutput(dataTable, element);\n",
              "          const docLink = document.createElement('div');\n",
              "          docLink.innerHTML = docLinkHtml;\n",
              "          element.appendChild(docLink);\n",
              "        }\n",
              "      </script>\n",
              "    </div>\n",
              "  </div>\n",
              "  "
            ]
          },
          "metadata": {},
          "execution_count": 130
        }
      ],
      "source": [
        "resulatdo"
      ]
    },
    {
      "cell_type": "code",
      "execution_count": null,
      "metadata": {
        "id": "tSO7GeXxG-JR",
        "colab": {
          "base_uri": "https://localhost:8080/",
          "height": 311
        },
        "outputId": "380a33ef-dd2c-4717-c32e-2feaa8408869"
      },
      "outputs": [
        {
          "output_type": "error",
          "ename": "ValueError",
          "evalue": "ignored",
          "traceback": [
            "\u001b[0;31m---------------------------------------------------------------------------\u001b[0m",
            "\u001b[0;31mValueError\u001b[0m                                Traceback (most recent call last)",
            "\u001b[0;32m<ipython-input-131-5e5501ef545d>\u001b[0m in \u001b[0;36m<module>\u001b[0;34m\u001b[0m\n\u001b[0;32m----> 1\u001b[0;31m \u001b[0mmetrics\u001b[0m\u001b[0;34m.\u001b[0m\u001b[0mf1_score\u001b[0m\u001b[0;34m(\u001b[0m\u001b[0mX_test\u001b[0m\u001b[0;34m,\u001b[0m \u001b[0my_predict\u001b[0m\u001b[0;34m)\u001b[0m\u001b[0;34m\u001b[0m\u001b[0;34m\u001b[0m\u001b[0m\n\u001b[0m",
            "\u001b[0;32m/usr/local/lib/python3.8/dist-packages/sklearn/metrics/_classification.py\u001b[0m in \u001b[0;36mf1_score\u001b[0;34m(y_true, y_pred, labels, pos_label, average, sample_weight, zero_division)\u001b[0m\n\u001b[1;32m   1121\u001b[0m     \u001b[0mmodified\u001b[0m \u001b[0;32mwith\u001b[0m\u001b[0;31m \u001b[0m\u001b[0;31m`\u001b[0m\u001b[0;31m`\u001b[0m\u001b[0mzero_division\u001b[0m\u001b[0;31m`\u001b[0m\u001b[0;31m`\u001b[0m\u001b[0;34m.\u001b[0m\u001b[0;34m\u001b[0m\u001b[0;34m\u001b[0m\u001b[0m\n\u001b[1;32m   1122\u001b[0m     \"\"\"\n\u001b[0;32m-> 1123\u001b[0;31m     return fbeta_score(\n\u001b[0m\u001b[1;32m   1124\u001b[0m         \u001b[0my_true\u001b[0m\u001b[0;34m,\u001b[0m\u001b[0;34m\u001b[0m\u001b[0;34m\u001b[0m\u001b[0m\n\u001b[1;32m   1125\u001b[0m         \u001b[0my_pred\u001b[0m\u001b[0;34m,\u001b[0m\u001b[0;34m\u001b[0m\u001b[0;34m\u001b[0m\u001b[0m\n",
            "\u001b[0;32m/usr/local/lib/python3.8/dist-packages/sklearn/metrics/_classification.py\u001b[0m in \u001b[0;36mfbeta_score\u001b[0;34m(y_true, y_pred, beta, labels, pos_label, average, sample_weight, zero_division)\u001b[0m\n\u001b[1;32m   1259\u001b[0m     \"\"\"\n\u001b[1;32m   1260\u001b[0m \u001b[0;34m\u001b[0m\u001b[0m\n\u001b[0;32m-> 1261\u001b[0;31m     _, _, f, _ = precision_recall_fscore_support(\n\u001b[0m\u001b[1;32m   1262\u001b[0m         \u001b[0my_true\u001b[0m\u001b[0;34m,\u001b[0m\u001b[0;34m\u001b[0m\u001b[0;34m\u001b[0m\u001b[0m\n\u001b[1;32m   1263\u001b[0m         \u001b[0my_pred\u001b[0m\u001b[0;34m,\u001b[0m\u001b[0;34m\u001b[0m\u001b[0;34m\u001b[0m\u001b[0m\n",
            "\u001b[0;32m/usr/local/lib/python3.8/dist-packages/sklearn/metrics/_classification.py\u001b[0m in \u001b[0;36mprecision_recall_fscore_support\u001b[0;34m(y_true, y_pred, beta, labels, pos_label, average, warn_for, sample_weight, zero_division)\u001b[0m\n\u001b[1;32m   1542\u001b[0m     \u001b[0;32mif\u001b[0m \u001b[0mbeta\u001b[0m \u001b[0;34m<\u001b[0m \u001b[0;36m0\u001b[0m\u001b[0;34m:\u001b[0m\u001b[0;34m\u001b[0m\u001b[0;34m\u001b[0m\u001b[0m\n\u001b[1;32m   1543\u001b[0m         \u001b[0;32mraise\u001b[0m \u001b[0mValueError\u001b[0m\u001b[0;34m(\u001b[0m\u001b[0;34m\"beta should be >=0 in the F-beta score\"\u001b[0m\u001b[0;34m)\u001b[0m\u001b[0;34m\u001b[0m\u001b[0;34m\u001b[0m\u001b[0m\n\u001b[0;32m-> 1544\u001b[0;31m     \u001b[0mlabels\u001b[0m \u001b[0;34m=\u001b[0m \u001b[0m_check_set_wise_labels\u001b[0m\u001b[0;34m(\u001b[0m\u001b[0my_true\u001b[0m\u001b[0;34m,\u001b[0m \u001b[0my_pred\u001b[0m\u001b[0;34m,\u001b[0m \u001b[0maverage\u001b[0m\u001b[0;34m,\u001b[0m \u001b[0mlabels\u001b[0m\u001b[0;34m,\u001b[0m \u001b[0mpos_label\u001b[0m\u001b[0;34m)\u001b[0m\u001b[0;34m\u001b[0m\u001b[0;34m\u001b[0m\u001b[0m\n\u001b[0m\u001b[1;32m   1545\u001b[0m \u001b[0;34m\u001b[0m\u001b[0m\n\u001b[1;32m   1546\u001b[0m     \u001b[0;31m# Calculate tp_sum, pred_sum, true_sum ###\u001b[0m\u001b[0;34m\u001b[0m\u001b[0;34m\u001b[0m\u001b[0;34m\u001b[0m\u001b[0m\n",
            "\u001b[0;32m/usr/local/lib/python3.8/dist-packages/sklearn/metrics/_classification.py\u001b[0m in \u001b[0;36m_check_set_wise_labels\u001b[0;34m(y_true, y_pred, average, labels, pos_label)\u001b[0m\n\u001b[1;32m   1346\u001b[0m         \u001b[0;32mraise\u001b[0m \u001b[0mValueError\u001b[0m\u001b[0;34m(\u001b[0m\u001b[0;34m\"average has to be one of \"\u001b[0m \u001b[0;34m+\u001b[0m \u001b[0mstr\u001b[0m\u001b[0;34m(\u001b[0m\u001b[0maverage_options\u001b[0m\u001b[0;34m)\u001b[0m\u001b[0;34m)\u001b[0m\u001b[0;34m\u001b[0m\u001b[0;34m\u001b[0m\u001b[0m\n\u001b[1;32m   1347\u001b[0m \u001b[0;34m\u001b[0m\u001b[0m\n\u001b[0;32m-> 1348\u001b[0;31m     \u001b[0my_type\u001b[0m\u001b[0;34m,\u001b[0m \u001b[0my_true\u001b[0m\u001b[0;34m,\u001b[0m \u001b[0my_pred\u001b[0m \u001b[0;34m=\u001b[0m \u001b[0m_check_targets\u001b[0m\u001b[0;34m(\u001b[0m\u001b[0my_true\u001b[0m\u001b[0;34m,\u001b[0m \u001b[0my_pred\u001b[0m\u001b[0;34m)\u001b[0m\u001b[0;34m\u001b[0m\u001b[0;34m\u001b[0m\u001b[0m\n\u001b[0m\u001b[1;32m   1349\u001b[0m     \u001b[0;31m# Convert to Python primitive type to avoid NumPy type / Python str\u001b[0m\u001b[0;34m\u001b[0m\u001b[0;34m\u001b[0m\u001b[0;34m\u001b[0m\u001b[0m\n\u001b[1;32m   1350\u001b[0m     \u001b[0;31m# comparison. See https://github.com/numpy/numpy/issues/6784\u001b[0m\u001b[0;34m\u001b[0m\u001b[0;34m\u001b[0m\u001b[0;34m\u001b[0m\u001b[0m\n",
            "\u001b[0;32m/usr/local/lib/python3.8/dist-packages/sklearn/metrics/_classification.py\u001b[0m in \u001b[0;36m_check_targets\u001b[0;34m(y_true, y_pred)\u001b[0m\n\u001b[1;32m     91\u001b[0m \u001b[0;34m\u001b[0m\u001b[0m\n\u001b[1;32m     92\u001b[0m     \u001b[0;32mif\u001b[0m \u001b[0mlen\u001b[0m\u001b[0;34m(\u001b[0m\u001b[0my_type\u001b[0m\u001b[0;34m)\u001b[0m \u001b[0;34m>\u001b[0m \u001b[0;36m1\u001b[0m\u001b[0;34m:\u001b[0m\u001b[0;34m\u001b[0m\u001b[0;34m\u001b[0m\u001b[0m\n\u001b[0;32m---> 93\u001b[0;31m         raise ValueError(\n\u001b[0m\u001b[1;32m     94\u001b[0m             \"Classification metrics can't handle a mix of {0} and {1} targets\".format(\n\u001b[1;32m     95\u001b[0m                 \u001b[0mtype_true\u001b[0m\u001b[0;34m,\u001b[0m \u001b[0mtype_pred\u001b[0m\u001b[0;34m\u001b[0m\u001b[0;34m\u001b[0m\u001b[0m\n",
            "\u001b[0;31mValueError\u001b[0m: Classification metrics can't handle a mix of continuous-multioutput and binary targets"
          ]
        }
      ],
      "source": [
        "metrics.f1_score(X_test, y_predict)"
      ]
    },
    {
      "cell_type": "code",
      "execution_count": null,
      "metadata": {
        "id": "VAkS5Eh-H0Sv"
      },
      "outputs": [],
      "source": [
        "y_score = pd.DataFrame(dt.predict_proba(X_test)[:, 1], index= X_test.index, columns= ['Infected_score'])\n",
        "resulatdo = resulatdo.join(y_score)"
      ]
    },
    {
      "cell_type": "code",
      "execution_count": null,
      "metadata": {
        "id": "EmoULClOIuJs"
      },
      "outputs": [],
      "source": [
        "metrics.roc_auc_score(resulatdo['HasDetections'], resulatdo['Infected_score'])"
      ]
    },
    {
      "cell_type": "markdown",
      "metadata": {
        "id": "IpTxDsHjVwcj"
      },
      "source": [
        "##CrossValidation"
      ]
    },
    {
      "cell_type": "code",
      "execution_count": null,
      "metadata": {
        "id": "3Wk_l-5YWA9_"
      },
      "outputs": [],
      "source": [
        "KFold??"
      ]
    },
    {
      "cell_type": "code",
      "execution_count": null,
      "metadata": {
        "id": "KmXXDf4kV5CY"
      },
      "outputs": [],
      "source": [
        "kfold = KFold(n_splits = 10, shuffle = True) \n",
        "\n",
        "LIST_SCORES = []\n",
        "\n",
        "for train_idx, val_idx in kfold.split(X_train, y_train):\n",
        "    \n",
        "    X_train_ = X_train.iloc[train_idx]\n",
        "    y_train_ = y_train.iloc[train_idx]\n",
        "    \n",
        "    X_val_ = X_train.iloc[val_idx]\n",
        "    y_val_ = y_train.iloc[val_idx]\n",
        "    \n",
        "    dt = DecisionTreeClassifier(max_depth= 7, min_samples_split= 50, random_state=42) # nuevo modelo en cada iteracción\n",
        "    dt.fit(X_train_, y_train_)\n",
        "    y_predict = pd.DataFrame(dt.predict(X_val_), index= y_val_.index, columns = ['Infected_predict'])\n",
        "    \n",
        "    score_ = accuracy_score(y_true = y_val_, y_pred = y_predict)\n",
        "    LIST_SCORES.append(score_)"
      ]
    },
    {
      "cell_type": "code",
      "execution_count": null,
      "metadata": {
        "id": "DJpFUULnauF7"
      },
      "outputs": [],
      "source": [
        "LIST_SCORES"
      ]
    },
    {
      "cell_type": "code",
      "execution_count": null,
      "metadata": {
        "id": "ILyMrWcfWk9p"
      },
      "outputs": [],
      "source": [
        "pd.DataFrame(LIST_SCORES).mean()"
      ]
    },
    {
      "cell_type": "markdown",
      "source": [
        "#Conclucion"
      ],
      "metadata": {
        "id": "gVU_MPWZDZl4"
      }
    },
    {
      "cell_type": "markdown",
      "source": [
        "The development of the solution to the problem of predicting Windows infection with malware consisted of importing, analyzing, preprocessing and transforming the data. For its subsequent implementation in a decision tree algorithm with the objective of generating a classification model (infected or not infected), and its subsequent evaluation.\n",
        "\n",
        "In the work carried out on the Netbook, the steps carried out were:\n",
        "The import of the data as already mentioned above. A first visualization, examination and analysis of these them, to achieve their understanding with clarity and depth, and thus be able to give a \"business look\" to the situation. Once this was done, the next thing was to perform the cleanup and preprocessing, along with the proper transformations, this part is essentially the selection of relevant attributes, the treatment of null values, and the processing of categorical variables. And already in the last stage, the generation of the model and its subsequent evaluation.\n",
        "These steps are explained in detail in the development of the project.\n",
        "\n",
        "Regarding the evaluation of the model. The algorithm used is sklearn's \"DecisionTreeClassifier\" and the metrics used for its evaluation were 'accuracy' and 'f1 score', as well as the ROC curve.\n",
        "The accuracy obtained by our model is 0.61, which is good since our target presents a 50/50 distribution. The f1_score also presents an acceptable result of 0.57. And the ROC curve shows a drawing far from the identity line (X=Y) which is a good indication, with a value of 0.669\n",
        "\n",
        "Then a Random Forest was used to test a more comprehensive solution and the evaluative results were very similar.\n",
        "\n",
        "Once having evaluated the model with these metrics and getting good results. The CrossValidation method was used to verify that the method is not memorizing and generalizes well. The average score of the CrossValidation is 0.61, which is within the expected values."
      ],
      "metadata": {
        "id": "IiIIXlbYDeVj"
      }
    }
  ],
  "metadata": {
    "colab": {
      "collapsed_sections": [
        "VspOi9sn8J2l",
        "tMaoexOV9G5A",
        "dhZCIz8798UI",
        "rYSL2wNufSJM",
        "ERIM33zfkn84",
        "XFyklDBr_Gnm",
        "1MIP4jhAwuuJ",
        "0_DWTtN5BUOf",
        "gthsVphRBfFy",
        "ALmDw95mDcXU",
        "lFXaiT9rKTuu",
        "COjMh60QWbVj"
      ],
      "provenance": []
    },
    "kernelspec": {
      "display_name": "Python 3",
      "name": "python3"
    },
    "language_info": {
      "name": "python"
    }
  },
  "nbformat": 4,
  "nbformat_minor": 0
}